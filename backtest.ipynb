{
 "cells": [
  {
   "cell_type": "code",
   "execution_count": 60,
   "metadata": {},
   "outputs": [],
   "source": [
    "from backtesting import Backtest, Strategy #引入回測和交易策略功能\n",
    "\n",
    "from backtesting.lib import crossover #從lib子模組引入判斷均線交會功能\n",
    "from backtesting.test import SMA #從test子模組引入繪製均線功能\n",
    "\n",
    "import pandas as pd\n",
    "\n",
    "class SmaCross(Strategy): #交易策略命名為SmaClass，使用backtesting.py的Strategy功能\n",
    "    n1 = 5 #設定第一條均線日數為5日(周線)\n",
    "    n2 = 20 #設定第二條均線日數為20日(月線)，這邊的日數可自由調整\n",
    "\n",
    "    \n",
    "    def init(self):\n",
    "        self.sma1 = self.I(SMA, self.data.Close, self.n1) #定義第一條均線為sma1，使用backtesting.py的SMA功能算繪\n",
    "        self.sma2 = self.I(SMA, self.data.Close, self.n2) #定義第二條均線為sma2，使用backtesting.py的SMA功能算繪\n",
    "\n",
    "    def next(self):\n",
    "        if self.model>0:\n",
    "            print(self.model)\n",
    "            self.buy()\n",
    "        if crossover(self.sma1, self.sma2): #如果周線衝上月線，表示近期是上漲的，則買入\n",
    "            self.buy()\n",
    "        elif crossover(self.sma2, self.sma1): #如果周線再與月線交叉，表示開始下跌了，則賣出\n",
    "            self.sell()"
   ]
  },
  {
   "cell_type": "code",
   "execution_count": 45,
   "metadata": {},
   "outputs": [
    {
     "name": "stdout",
     "output_type": "stream",
     "text": [
      "[*********************100%***********************]  1 of 1 completed\n"
     ]
    }
   ],
   "source": [
    "import yfinance as yf\n",
    "df = yf.download('AAPL', interval='15m', period='60d')"
   ]
  },
  {
   "cell_type": "code",
   "execution_count": 46,
   "metadata": {},
   "outputs": [
    {
     "data": {
      "text/html": [
       "<div>\n",
       "<style scoped>\n",
       "    .dataframe tbody tr th:only-of-type {\n",
       "        vertical-align: middle;\n",
       "    }\n",
       "\n",
       "    .dataframe tbody tr th {\n",
       "        vertical-align: top;\n",
       "    }\n",
       "\n",
       "    .dataframe thead th {\n",
       "        text-align: right;\n",
       "    }\n",
       "</style>\n",
       "<table border=\"1\" class=\"dataframe\">\n",
       "  <thead>\n",
       "    <tr style=\"text-align: right;\">\n",
       "      <th></th>\n",
       "      <th>Open</th>\n",
       "      <th>High</th>\n",
       "      <th>Low</th>\n",
       "      <th>Close</th>\n",
       "      <th>Adj Close</th>\n",
       "      <th>Volume</th>\n",
       "    </tr>\n",
       "    <tr>\n",
       "      <th>Datetime</th>\n",
       "      <th></th>\n",
       "      <th></th>\n",
       "      <th></th>\n",
       "      <th></th>\n",
       "      <th></th>\n",
       "      <th></th>\n",
       "    </tr>\n",
       "  </thead>\n",
       "  <tbody>\n",
       "    <tr>\n",
       "      <th>2022-09-01 09:30:00-04:00</th>\n",
       "      <td>156.639999</td>\n",
       "      <td>157.139999</td>\n",
       "      <td>155.990005</td>\n",
       "      <td>156.999100</td>\n",
       "      <td>156.999100</td>\n",
       "      <td>7297112</td>\n",
       "    </tr>\n",
       "    <tr>\n",
       "      <th>2022-09-01 09:45:00-04:00</th>\n",
       "      <td>157.000000</td>\n",
       "      <td>157.479996</td>\n",
       "      <td>156.589996</td>\n",
       "      <td>157.369995</td>\n",
       "      <td>157.369995</td>\n",
       "      <td>3814311</td>\n",
       "    </tr>\n",
       "    <tr>\n",
       "      <th>2022-09-01 10:00:00-04:00</th>\n",
       "      <td>157.369995</td>\n",
       "      <td>157.679993</td>\n",
       "      <td>156.270004</td>\n",
       "      <td>156.369995</td>\n",
       "      <td>156.369995</td>\n",
       "      <td>3974607</td>\n",
       "    </tr>\n",
       "    <tr>\n",
       "      <th>2022-09-01 10:15:00-04:00</th>\n",
       "      <td>156.369995</td>\n",
       "      <td>157.339996</td>\n",
       "      <td>156.190002</td>\n",
       "      <td>157.259995</td>\n",
       "      <td>157.259995</td>\n",
       "      <td>2627933</td>\n",
       "    </tr>\n",
       "    <tr>\n",
       "      <th>2022-09-01 10:30:00-04:00</th>\n",
       "      <td>157.270004</td>\n",
       "      <td>157.279999</td>\n",
       "      <td>156.145004</td>\n",
       "      <td>156.220001</td>\n",
       "      <td>156.220001</td>\n",
       "      <td>2354596</td>\n",
       "    </tr>\n",
       "    <tr>\n",
       "      <th>...</th>\n",
       "      <td>...</td>\n",
       "      <td>...</td>\n",
       "      <td>...</td>\n",
       "      <td>...</td>\n",
       "      <td>...</td>\n",
       "      <td>...</td>\n",
       "    </tr>\n",
       "    <tr>\n",
       "      <th>2022-11-25 12:00:00-05:00</th>\n",
       "      <td>148.289993</td>\n",
       "      <td>148.409897</td>\n",
       "      <td>148.000000</td>\n",
       "      <td>148.130005</td>\n",
       "      <td>148.130005</td>\n",
       "      <td>1494126</td>\n",
       "    </tr>\n",
       "    <tr>\n",
       "      <th>2022-11-25 12:15:00-05:00</th>\n",
       "      <td>148.130005</td>\n",
       "      <td>148.229996</td>\n",
       "      <td>147.875000</td>\n",
       "      <td>148.169998</td>\n",
       "      <td>148.169998</td>\n",
       "      <td>1460715</td>\n",
       "    </tr>\n",
       "    <tr>\n",
       "      <th>2022-11-25 12:30:00-05:00</th>\n",
       "      <td>148.179993</td>\n",
       "      <td>148.191193</td>\n",
       "      <td>147.800003</td>\n",
       "      <td>147.929596</td>\n",
       "      <td>147.929596</td>\n",
       "      <td>1435793</td>\n",
       "    </tr>\n",
       "    <tr>\n",
       "      <th>2022-11-25 12:45:00-05:00</th>\n",
       "      <td>147.929993</td>\n",
       "      <td>147.990005</td>\n",
       "      <td>147.880005</td>\n",
       "      <td>147.990005</td>\n",
       "      <td>147.990005</td>\n",
       "      <td>83876</td>\n",
       "    </tr>\n",
       "    <tr>\n",
       "      <th>2022-11-25 13:00:00-05:00</th>\n",
       "      <td>148.110001</td>\n",
       "      <td>148.156235</td>\n",
       "      <td>147.899994</td>\n",
       "      <td>148.000000</td>\n",
       "      <td>148.000000</td>\n",
       "      <td>0</td>\n",
       "    </tr>\n",
       "  </tbody>\n",
       "</table>\n",
       "<p>1549 rows × 6 columns</p>\n",
       "</div>"
      ],
      "text/plain": [
       "                                 Open        High         Low       Close  \\\n",
       "Datetime                                                                    \n",
       "2022-09-01 09:30:00-04:00  156.639999  157.139999  155.990005  156.999100   \n",
       "2022-09-01 09:45:00-04:00  157.000000  157.479996  156.589996  157.369995   \n",
       "2022-09-01 10:00:00-04:00  157.369995  157.679993  156.270004  156.369995   \n",
       "2022-09-01 10:15:00-04:00  156.369995  157.339996  156.190002  157.259995   \n",
       "2022-09-01 10:30:00-04:00  157.270004  157.279999  156.145004  156.220001   \n",
       "...                               ...         ...         ...         ...   \n",
       "2022-11-25 12:00:00-05:00  148.289993  148.409897  148.000000  148.130005   \n",
       "2022-11-25 12:15:00-05:00  148.130005  148.229996  147.875000  148.169998   \n",
       "2022-11-25 12:30:00-05:00  148.179993  148.191193  147.800003  147.929596   \n",
       "2022-11-25 12:45:00-05:00  147.929993  147.990005  147.880005  147.990005   \n",
       "2022-11-25 13:00:00-05:00  148.110001  148.156235  147.899994  148.000000   \n",
       "\n",
       "                            Adj Close   Volume  \n",
       "Datetime                                        \n",
       "2022-09-01 09:30:00-04:00  156.999100  7297112  \n",
       "2022-09-01 09:45:00-04:00  157.369995  3814311  \n",
       "2022-09-01 10:00:00-04:00  156.369995  3974607  \n",
       "2022-09-01 10:15:00-04:00  157.259995  2627933  \n",
       "2022-09-01 10:30:00-04:00  156.220001  2354596  \n",
       "...                               ...      ...  \n",
       "2022-11-25 12:00:00-05:00  148.130005  1494126  \n",
       "2022-11-25 12:15:00-05:00  148.169998  1460715  \n",
       "2022-11-25 12:30:00-05:00  147.929596  1435793  \n",
       "2022-11-25 12:45:00-05:00  147.990005    83876  \n",
       "2022-11-25 13:00:00-05:00  148.000000        0  \n",
       "\n",
       "[1549 rows x 6 columns]"
      ]
     },
     "execution_count": 46,
     "metadata": {},
     "output_type": "execute_result"
    }
   ],
   "source": [
    "df"
   ]
  },
  {
   "cell_type": "code",
   "execution_count": 32,
   "metadata": {},
   "outputs": [],
   "source": [
    "import backtesting"
   ]
  },
  {
   "cell_type": "code",
   "execution_count": null,
   "metadata": {},
   "outputs": [],
   "source": [
    "backtesting.set_bokeh_output(notebook=False)\n",
    "new_stra = SmaCross\n",
    "new_stra.model = 123\n",
    "bt = Backtest(df, new_stra,\n",
    "              cash=10000, commission=.002,\n",
    "              exclusive_orders=True)\n",
    "\n",
    "output = bt.run()\n",
    "#bt.plot()\n",
    "#執行回測程式並存到result中"
   ]
  },
  {
   "cell_type": "code",
   "execution_count": 62,
   "metadata": {},
   "outputs": [
    {
     "name": "stderr",
     "output_type": "stream",
     "text": [
      "BokehDeprecationWarning: Passing lists of formats for DatetimeTickFormatter scales was deprecated in Bokeh 3.0. Configure a single string format for each scale\n",
      "c:\\Users\\USER\\AppData\\Local\\Programs\\Python\\Python310\\lib\\site-packages\\bokeh\\models\\formatters.py:399: UserWarning: DatetimeFormatter scales now only accept a single format. Using the first prodvided: '%d %b' \n",
      "  warnings.warn(f\"DatetimeFormatter scales now only accept a single format. Using the first prodvided: {fmt[0]!r} \")\n",
      "BokehDeprecationWarning: Passing lists of formats for DatetimeTickFormatter scales was deprecated in Bokeh 3.0. Configure a single string format for each scale\n",
      "c:\\Users\\USER\\AppData\\Local\\Programs\\Python\\Python310\\lib\\site-packages\\bokeh\\models\\formatters.py:399: UserWarning: DatetimeFormatter scales now only accept a single format. Using the first prodvided: '%m/%Y' \n",
      "  warnings.warn(f\"DatetimeFormatter scales now only accept a single format. Using the first prodvided: {fmt[0]!r} \")\n"
     ]
    },
    {
     "data": {
      "text/html": [
       "<div style=\"display: table;\"><div style=\"display: table-row;\"><div style=\"display: table-cell;\"><b title=\"bokeh.models.plots.GridPlot\">GridPlot</b>(</div><div style=\"display: table-cell;\">id&nbsp;=&nbsp;'p31288', <span id=\"p32570\" style=\"cursor: pointer;\">&hellip;)</span></div></div><div class=\"p32569\" style=\"display: none;\"><div style=\"display: table-cell;\"></div><div style=\"display: table-cell;\">align&nbsp;=&nbsp;'auto',</div></div><div class=\"p32569\" style=\"display: none;\"><div style=\"display: table-cell;\"></div><div style=\"display: table-cell;\">aspect_ratio&nbsp;=&nbsp;None,</div></div><div class=\"p32569\" style=\"display: none;\"><div style=\"display: table-cell;\"></div><div style=\"display: table-cell;\">children&nbsp;=&nbsp;[(figure(id='p30619', ...), 0, 0), (figure(id='p30854', ...), 1, 0), (figure(id='p30560', ...), 2, 0), (figure(id='p30926', ...), 3, 0)],</div></div><div class=\"p32569\" style=\"display: none;\"><div style=\"display: table-cell;\"></div><div style=\"display: table-cell;\">classes&nbsp;=&nbsp;[],</div></div><div class=\"p32569\" style=\"display: none;\"><div style=\"display: table-cell;\"></div><div style=\"display: table-cell;\">cols&nbsp;=&nbsp;'max-content',</div></div><div class=\"p32569\" style=\"display: none;\"><div style=\"display: table-cell;\"></div><div style=\"display: table-cell;\">context_menu&nbsp;=&nbsp;None,</div></div><div class=\"p32569\" style=\"display: none;\"><div style=\"display: table-cell;\"></div><div style=\"display: table-cell;\">css_classes&nbsp;=&nbsp;[],</div></div><div class=\"p32569\" style=\"display: none;\"><div style=\"display: table-cell;\"></div><div style=\"display: table-cell;\">disabled&nbsp;=&nbsp;False,</div></div><div class=\"p32569\" style=\"display: none;\"><div style=\"display: table-cell;\"></div><div style=\"display: table-cell;\">flow_mode&nbsp;=&nbsp;'block',</div></div><div class=\"p32569\" style=\"display: none;\"><div style=\"display: table-cell;\"></div><div style=\"display: table-cell;\">height&nbsp;=&nbsp;None,</div></div><div class=\"p32569\" style=\"display: none;\"><div style=\"display: table-cell;\"></div><div style=\"display: table-cell;\">height_policy&nbsp;=&nbsp;'auto',</div></div><div class=\"p32569\" style=\"display: none;\"><div style=\"display: table-cell;\"></div><div style=\"display: table-cell;\">js_event_callbacks&nbsp;=&nbsp;{},</div></div><div class=\"p32569\" style=\"display: none;\"><div style=\"display: table-cell;\"></div><div style=\"display: table-cell;\">js_property_callbacks&nbsp;=&nbsp;{},</div></div><div class=\"p32569\" style=\"display: none;\"><div style=\"display: table-cell;\"></div><div style=\"display: table-cell;\">margin&nbsp;=&nbsp;None,</div></div><div class=\"p32569\" style=\"display: none;\"><div style=\"display: table-cell;\"></div><div style=\"display: table-cell;\">max_height&nbsp;=&nbsp;None,</div></div><div class=\"p32569\" style=\"display: none;\"><div style=\"display: table-cell;\"></div><div style=\"display: table-cell;\">max_width&nbsp;=&nbsp;None,</div></div><div class=\"p32569\" style=\"display: none;\"><div style=\"display: table-cell;\"></div><div style=\"display: table-cell;\">min_height&nbsp;=&nbsp;None,</div></div><div class=\"p32569\" style=\"display: none;\"><div style=\"display: table-cell;\"></div><div style=\"display: table-cell;\">min_width&nbsp;=&nbsp;None,</div></div><div class=\"p32569\" style=\"display: none;\"><div style=\"display: table-cell;\"></div><div style=\"display: table-cell;\">name&nbsp;=&nbsp;None,</div></div><div class=\"p32569\" style=\"display: none;\"><div style=\"display: table-cell;\"></div><div style=\"display: table-cell;\">resizable&nbsp;=&nbsp;False,</div></div><div class=\"p32569\" style=\"display: none;\"><div style=\"display: table-cell;\"></div><div style=\"display: table-cell;\">rows&nbsp;=&nbsp;'max-content',</div></div><div class=\"p32569\" style=\"display: none;\"><div style=\"display: table-cell;\"></div><div style=\"display: table-cell;\">sizing_mode&nbsp;=&nbsp;None,</div></div><div class=\"p32569\" style=\"display: none;\"><div style=\"display: table-cell;\"></div><div style=\"display: table-cell;\">spacing&nbsp;=&nbsp;0,</div></div><div class=\"p32569\" style=\"display: none;\"><div style=\"display: table-cell;\"></div><div style=\"display: table-cell;\">styles&nbsp;=&nbsp;{},</div></div><div class=\"p32569\" style=\"display: none;\"><div style=\"display: table-cell;\"></div><div style=\"display: table-cell;\">stylesheets&nbsp;=&nbsp;[],</div></div><div class=\"p32569\" style=\"display: none;\"><div style=\"display: table-cell;\"></div><div style=\"display: table-cell;\">subscribed_events&nbsp;=&nbsp;PropertyValueSet(),</div></div><div class=\"p32569\" style=\"display: none;\"><div style=\"display: table-cell;\"></div><div style=\"display: table-cell;\">syncable&nbsp;=&nbsp;True,</div></div><div class=\"p32569\" style=\"display: none;\"><div style=\"display: table-cell;\"></div><div style=\"display: table-cell;\">tags&nbsp;=&nbsp;[],</div></div><div class=\"p32569\" style=\"display: none;\"><div style=\"display: table-cell;\"></div><div style=\"display: table-cell;\">toolbar&nbsp;=&nbsp;Toolbar(id='p31287', ...),</div></div><div class=\"p32569\" style=\"display: none;\"><div style=\"display: table-cell;\"></div><div style=\"display: table-cell;\">toolbar_location&nbsp;=&nbsp;'right',</div></div><div class=\"p32569\" style=\"display: none;\"><div style=\"display: table-cell;\"></div><div style=\"display: table-cell;\">visible&nbsp;=&nbsp;True,</div></div><div class=\"p32569\" style=\"display: none;\"><div style=\"display: table-cell;\"></div><div style=\"display: table-cell;\">width&nbsp;=&nbsp;None,</div></div><div class=\"p32569\" style=\"display: none;\"><div style=\"display: table-cell;\"></div><div style=\"display: table-cell;\">width_policy&nbsp;=&nbsp;'auto')</div></div></div>\n",
       "<script>\n",
       "(function() {\n",
       "  let expanded = false;\n",
       "  const ellipsis = document.getElementById(\"p32570\");\n",
       "  ellipsis.addEventListener(\"click\", function() {\n",
       "    const rows = document.getElementsByClassName(\"p32569\");\n",
       "    for (let i = 0; i < rows.length; i++) {\n",
       "      const el = rows[i];\n",
       "      el.style.display = expanded ? \"none\" : \"table-row\";\n",
       "    }\n",
       "    ellipsis.innerHTML = expanded ? \"&hellip;)\" : \"&lsaquo;&lsaquo;&lsaquo;\";\n",
       "    expanded = !expanded;\n",
       "  });\n",
       "})();\n",
       "</script>\n"
      ],
      "text/plain": [
       "GridPlot(id='p31288', ...)"
      ]
     },
     "execution_count": 62,
     "metadata": {},
     "output_type": "execute_result"
    }
   ],
   "source": [
    "bt.plot(plot_width=1500)"
   ]
  },
  {
   "cell_type": "code",
   "execution_count": 63,
   "metadata": {},
   "outputs": [
    {
     "data": {
      "text/plain": [
       "Start                     2022-09-01 09:30...\n",
       "End                       2022-11-25 13:00...\n",
       "Duration                     85 days 04:30:00\n",
       "Exposure Time [%]                   98.644287\n",
       "Equity Final [$]                   488.566699\n",
       "Equity Peak [$]                  10038.066245\n",
       "Return [%]                         -95.114333\n",
       "Buy & Hold Return [%]               -5.731944\n",
       "Return (Ann.) [%]                  -99.999686\n",
       "Volatility (Ann.) [%]                0.000134\n",
       "Sharpe Ratio                              0.0\n",
       "Sortino Ratio                             0.0\n",
       "Calmar Ratio                              0.0\n",
       "Max. Drawdown [%]                   -95.13286\n",
       "Avg. Drawdown [%]                   -47.84533\n",
       "Max. Drawdown Duration       84 days 04:30:00\n",
       "Avg. Drawdown Duration       42 days 11:45:00\n",
       "# Trades                                 1528\n",
       "Win Rate [%]                         25.26178\n",
       "Best Trade [%]                       4.595474\n",
       "Worst Trade [%]                     -3.774685\n",
       "Avg. Trade [%]                      -0.208448\n",
       "Max. Trade Duration           3 days 17:45:00\n",
       "Avg. Trade Duration           0 days 01:21:00\n",
       "Profit Factor                        0.245011\n",
       "Expectancy [%]                      -0.207356\n",
       "SQN                                -14.235391\n",
       "_strategy                            SmaCross\n",
       "_equity_curve                             ...\n",
       "_trades                         Size  Entr...\n",
       "dtype: object"
      ]
     },
     "execution_count": 63,
     "metadata": {},
     "output_type": "execute_result"
    }
   ],
   "source": [
    "output"
   ]
  }
 ],
 "metadata": {
  "kernelspec": {
   "display_name": "Python 3.10.4 64-bit",
   "language": "python",
   "name": "python3"
  },
  "language_info": {
   "codemirror_mode": {
    "name": "ipython",
    "version": 3
   },
   "file_extension": ".py",
   "mimetype": "text/x-python",
   "name": "python",
   "nbconvert_exporter": "python",
   "pygments_lexer": "ipython3",
   "version": "3.10.4 (tags/v3.10.4:9d38120, Mar 23 2022, 23:13:41) [MSC v.1929 64 bit (AMD64)]"
  },
  "orig_nbformat": 4,
  "vscode": {
   "interpreter": {
    "hash": "df95319d8ce4e1d89f5365ae10992bc1f65da593082b1d264e8f529830ec2f02"
   }
  }
 },
 "nbformat": 4,
 "nbformat_minor": 2
}
