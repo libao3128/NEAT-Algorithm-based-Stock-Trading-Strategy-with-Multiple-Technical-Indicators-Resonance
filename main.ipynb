{
 "cells": [
  {
   "cell_type": "code",
   "execution_count": 1,
   "metadata": {},
   "outputs": [],
   "source": [
    "import os\n",
    "\n",
    "import neat\n",
    "import visualize\n",
    "\n",
    "from backtest import NEAT_strategy, backtest\n",
    "\n",
    "import yfinance as yf\n",
    "\n",
    "import pandas as pd\n",
    "\n"
   ]
  },
  {
   "cell_type": "code",
   "execution_count": 5,
   "metadata": {},
   "outputs": [
    {
     "name": "stdout",
     "output_type": "stream",
     "text": [
      "[*********************100%***********************]  1 of 1 completed\n"
     ]
    }
   ],
   "source": [
    "backtesting_data = yf.download('AAPL', interval='15m', period='60d')\n",
    "backtesting_data.index = pd.to_datetime(backtesting_data.index)"
   ]
  },
  {
   "cell_type": "code",
   "execution_count": 2,
   "metadata": {},
   "outputs": [],
   "source": [
    "from tool import run, test, evaluate"
   ]
  },
  {
   "cell_type": "code",
   "execution_count": 3,
   "metadata": {},
   "outputs": [
    {
     "name": "stdout",
     "output_type": "stream",
     "text": [
      "\n",
      " ****** Running generation 0 ****** \n",
      "\n"
     ]
    },
    {
     "ename": "KeyboardInterrupt",
     "evalue": "",
     "output_type": "error",
     "traceback": [
      "\u001b[1;31m---------------------------------------------------------------------------\u001b[0m",
      "\u001b[1;31mKeyboardInterrupt\u001b[0m                         Traceback (most recent call last)",
      "\u001b[1;32mc:\\Users\\USER\\OneDrive - 國立陽明交通大學\\文件\\academic\\大四上\\演化計算\\Project\\main.ipynb Cell 4\u001b[0m in \u001b[0;36m<cell line: 2>\u001b[1;34m()\u001b[0m\n\u001b[0;32m      <a href='vscode-notebook-cell:/c%3A/Users/USER/OneDrive%20-%20%E5%9C%8B%E7%AB%8B%E9%99%BD%E6%98%8E%E4%BA%A4%E9%80%9A%E5%A4%A7%E5%AD%B8/%E6%96%87%E4%BB%B6/academic/%E5%A4%A7%E5%9B%9B%E4%B8%8A/%E6%BC%94%E5%8C%96%E8%A8%88%E7%AE%97/Project/main.ipynb#W3sZmlsZQ%3D%3D?line=0'>1</a>\u001b[0m \u001b[39meval\u001b[39m \u001b[39m=\u001b[39m evaluate(\u001b[39mNone\u001b[39;00m)\n\u001b[1;32m----> <a href='vscode-notebook-cell:/c%3A/Users/USER/OneDrive%20-%20%E5%9C%8B%E7%AB%8B%E9%99%BD%E6%98%8E%E4%BA%A4%E9%80%9A%E5%A4%A7%E5%AD%B8/%E6%96%87%E4%BB%B6/academic/%E5%A4%A7%E5%9B%9B%E4%B8%8A/%E6%BC%94%E5%8C%96%E8%A8%88%E7%AE%97/Project/main.ipynb#W3sZmlsZQ%3D%3D?line=1'>2</a>\u001b[0m run(\u001b[39m'\u001b[39;49m\u001b[39mconfig-feedforward\u001b[39;49m\u001b[39m'\u001b[39;49m, \u001b[39meval\u001b[39;49m, max_generation\u001b[39m=\u001b[39;49m\u001b[39m200\u001b[39;49m)\n",
      "File \u001b[1;32mc:\\Users\\USER\\OneDrive - 國立陽明交通大學\\文件\\academic\\大四上\\演化計算\\Project\\tool.py:125\u001b[0m, in \u001b[0;36mrun\u001b[1;34m(config_file, evaluate, max_generation)\u001b[0m\n\u001b[0;32m    123\u001b[0m \u001b[39m# Run for up to 300 generations.\u001b[39;00m\n\u001b[0;32m    124\u001b[0m pe \u001b[39m=\u001b[39m neat\u001b[39m.\u001b[39mParallelEvaluator(\u001b[39m20\u001b[39m, evaluate\u001b[39m.\u001b[39meval_genome)\n\u001b[1;32m--> 125\u001b[0m winner \u001b[39m=\u001b[39m p\u001b[39m.\u001b[39;49mrun(pe\u001b[39m.\u001b[39;49mevaluate, max_generation)\n\u001b[0;32m    127\u001b[0m \u001b[39m# Display the winning genome.\u001b[39;00m\n\u001b[0;32m    128\u001b[0m \u001b[39mprint\u001b[39m(\u001b[39m'\u001b[39m\u001b[39m\\n\u001b[39;00m\u001b[39mBest genome:\u001b[39m\u001b[39m\\n\u001b[39;00m\u001b[39m{!s}\u001b[39;00m\u001b[39m'\u001b[39m\u001b[39m.\u001b[39mformat(winner))\n",
      "File \u001b[1;32mc:\\Users\\USER\\AppData\\Local\\Programs\\Python\\Python310\\lib\\site-packages\\neat\\population.py:89\u001b[0m, in \u001b[0;36mPopulation.run\u001b[1;34m(self, fitness_function, n)\u001b[0m\n\u001b[0;32m     86\u001b[0m \u001b[39mself\u001b[39m\u001b[39m.\u001b[39mreporters\u001b[39m.\u001b[39mstart_generation(\u001b[39mself\u001b[39m\u001b[39m.\u001b[39mgeneration)\n\u001b[0;32m     88\u001b[0m \u001b[39m# Evaluate all genomes using the user-provided function.\u001b[39;00m\n\u001b[1;32m---> 89\u001b[0m fitness_function(\u001b[39mlist\u001b[39;49m(iteritems(\u001b[39mself\u001b[39;49m\u001b[39m.\u001b[39;49mpopulation)), \u001b[39mself\u001b[39;49m\u001b[39m.\u001b[39;49mconfig)\n\u001b[0;32m     91\u001b[0m \u001b[39m# Gather and report statistics.\u001b[39;00m\n\u001b[0;32m     92\u001b[0m best \u001b[39m=\u001b[39m \u001b[39mNone\u001b[39;00m\n",
      "File \u001b[1;32mc:\\Users\\USER\\AppData\\Local\\Programs\\Python\\Python310\\lib\\site-packages\\neat\\parallel.py:30\u001b[0m, in \u001b[0;36mParallelEvaluator.evaluate\u001b[1;34m(self, genomes, config)\u001b[0m\n\u001b[0;32m     28\u001b[0m \u001b[39m# assign the fitness back to each genome\u001b[39;00m\n\u001b[0;32m     29\u001b[0m \u001b[39mfor\u001b[39;00m job, (ignored_genome_id, genome) \u001b[39min\u001b[39;00m \u001b[39mzip\u001b[39m(jobs, genomes):\n\u001b[1;32m---> 30\u001b[0m     genome\u001b[39m.\u001b[39mfitness \u001b[39m=\u001b[39m job\u001b[39m.\u001b[39;49mget(timeout\u001b[39m=\u001b[39;49m\u001b[39mself\u001b[39;49m\u001b[39m.\u001b[39;49mtimeout)\n",
      "File \u001b[1;32mc:\\Users\\USER\\AppData\\Local\\Programs\\Python\\Python310\\lib\\multiprocessing\\pool.py:765\u001b[0m, in \u001b[0;36mApplyResult.get\u001b[1;34m(self, timeout)\u001b[0m\n\u001b[0;32m    764\u001b[0m \u001b[39mdef\u001b[39;00m \u001b[39mget\u001b[39m(\u001b[39mself\u001b[39m, timeout\u001b[39m=\u001b[39m\u001b[39mNone\u001b[39;00m):\n\u001b[1;32m--> 765\u001b[0m     \u001b[39mself\u001b[39;49m\u001b[39m.\u001b[39;49mwait(timeout)\n\u001b[0;32m    766\u001b[0m     \u001b[39mif\u001b[39;00m \u001b[39mnot\u001b[39;00m \u001b[39mself\u001b[39m\u001b[39m.\u001b[39mready():\n\u001b[0;32m    767\u001b[0m         \u001b[39mraise\u001b[39;00m \u001b[39mTimeoutError\u001b[39;00m\n",
      "File \u001b[1;32mc:\\Users\\USER\\AppData\\Local\\Programs\\Python\\Python310\\lib\\multiprocessing\\pool.py:762\u001b[0m, in \u001b[0;36mApplyResult.wait\u001b[1;34m(self, timeout)\u001b[0m\n\u001b[0;32m    761\u001b[0m \u001b[39mdef\u001b[39;00m \u001b[39mwait\u001b[39m(\u001b[39mself\u001b[39m, timeout\u001b[39m=\u001b[39m\u001b[39mNone\u001b[39;00m):\n\u001b[1;32m--> 762\u001b[0m     \u001b[39mself\u001b[39;49m\u001b[39m.\u001b[39;49m_event\u001b[39m.\u001b[39;49mwait(timeout)\n",
      "File \u001b[1;32mc:\\Users\\USER\\AppData\\Local\\Programs\\Python\\Python310\\lib\\threading.py:600\u001b[0m, in \u001b[0;36mEvent.wait\u001b[1;34m(self, timeout)\u001b[0m\n\u001b[0;32m    598\u001b[0m signaled \u001b[39m=\u001b[39m \u001b[39mself\u001b[39m\u001b[39m.\u001b[39m_flag\n\u001b[0;32m    599\u001b[0m \u001b[39mif\u001b[39;00m \u001b[39mnot\u001b[39;00m signaled:\n\u001b[1;32m--> 600\u001b[0m     signaled \u001b[39m=\u001b[39m \u001b[39mself\u001b[39;49m\u001b[39m.\u001b[39;49m_cond\u001b[39m.\u001b[39;49mwait(timeout)\n\u001b[0;32m    601\u001b[0m \u001b[39mreturn\u001b[39;00m signaled\n",
      "File \u001b[1;32mc:\\Users\\USER\\AppData\\Local\\Programs\\Python\\Python310\\lib\\threading.py:320\u001b[0m, in \u001b[0;36mCondition.wait\u001b[1;34m(self, timeout)\u001b[0m\n\u001b[0;32m    318\u001b[0m \u001b[39mtry\u001b[39;00m:    \u001b[39m# restore state no matter what (e.g., KeyboardInterrupt)\u001b[39;00m\n\u001b[0;32m    319\u001b[0m     \u001b[39mif\u001b[39;00m timeout \u001b[39mis\u001b[39;00m \u001b[39mNone\u001b[39;00m:\n\u001b[1;32m--> 320\u001b[0m         waiter\u001b[39m.\u001b[39;49macquire()\n\u001b[0;32m    321\u001b[0m         gotit \u001b[39m=\u001b[39m \u001b[39mTrue\u001b[39;00m\n\u001b[0;32m    322\u001b[0m     \u001b[39melse\u001b[39;00m:\n",
      "\u001b[1;31mKeyboardInterrupt\u001b[0m: "
     ]
    }
   ],
   "source": [
    "eval = evaluate(None)\n",
    "run('config-feedforward', eval, max_generation=200)"
   ]
  },
  {
   "cell_type": "code",
   "execution_count": null,
   "metadata": {},
   "outputs": [
    {
     "data": {
      "text/html": [
       "<div>\n",
       "<style scoped>\n",
       "    .dataframe tbody tr th:only-of-type {\n",
       "        vertical-align: middle;\n",
       "    }\n",
       "\n",
       "    .dataframe tbody tr th {\n",
       "        vertical-align: top;\n",
       "    }\n",
       "\n",
       "    .dataframe thead th {\n",
       "        text-align: right;\n",
       "    }\n",
       "</style>\n",
       "<table border=\"1\" class=\"dataframe\">\n",
       "  <thead>\n",
       "    <tr style=\"text-align: right;\">\n",
       "      <th></th>\n",
       "      <th>Ticker</th>\n",
       "      <th>Datetime</th>\n",
       "      <th>Open</th>\n",
       "      <th>High</th>\n",
       "      <th>Low</th>\n",
       "      <th>Close</th>\n",
       "      <th>Adj_Close</th>\n",
       "      <th>Volume</th>\n",
       "    </tr>\n",
       "  </thead>\n",
       "  <tbody>\n",
       "    <tr>\n",
       "      <th>0</th>\n",
       "      <td>GRMN</td>\n",
       "      <td>2009-09-21 00:00:00</td>\n",
       "      <td>36.500000</td>\n",
       "      <td>37.130001</td>\n",
       "      <td>36.110001</td>\n",
       "      <td>36.799999</td>\n",
       "      <td>22.532045</td>\n",
       "      <td>1386300</td>\n",
       "    </tr>\n",
       "    <tr>\n",
       "      <th>1</th>\n",
       "      <td>GRMN</td>\n",
       "      <td>2009-09-22 00:00:00</td>\n",
       "      <td>36.860001</td>\n",
       "      <td>37.639999</td>\n",
       "      <td>36.799999</td>\n",
       "      <td>37.230000</td>\n",
       "      <td>22.795332</td>\n",
       "      <td>1684500</td>\n",
       "    </tr>\n",
       "    <tr>\n",
       "      <th>2</th>\n",
       "      <td>GRMN</td>\n",
       "      <td>2009-09-23 00:00:00</td>\n",
       "      <td>37.230000</td>\n",
       "      <td>37.360001</td>\n",
       "      <td>36.369999</td>\n",
       "      <td>36.389999</td>\n",
       "      <td>22.281006</td>\n",
       "      <td>1508500</td>\n",
       "    </tr>\n",
       "    <tr>\n",
       "      <th>3</th>\n",
       "      <td>GRMN</td>\n",
       "      <td>2009-09-24 00:00:00</td>\n",
       "      <td>36.509998</td>\n",
       "      <td>36.650002</td>\n",
       "      <td>35.080002</td>\n",
       "      <td>35.169998</td>\n",
       "      <td>21.534018</td>\n",
       "      <td>1770200</td>\n",
       "    </tr>\n",
       "    <tr>\n",
       "      <th>4</th>\n",
       "      <td>GRMN</td>\n",
       "      <td>2009-09-25 00:00:00</td>\n",
       "      <td>35.000000</td>\n",
       "      <td>35.490002</td>\n",
       "      <td>34.720001</td>\n",
       "      <td>35.270000</td>\n",
       "      <td>21.595249</td>\n",
       "      <td>1144800</td>\n",
       "    </tr>\n",
       "    <tr>\n",
       "      <th>...</th>\n",
       "      <td>...</td>\n",
       "      <td>...</td>\n",
       "      <td>...</td>\n",
       "      <td>...</td>\n",
       "      <td>...</td>\n",
       "      <td>...</td>\n",
       "      <td>...</td>\n",
       "      <td>...</td>\n",
       "    </tr>\n",
       "    <tr>\n",
       "      <th>374</th>\n",
       "      <td>GRMN</td>\n",
       "      <td>2011-03-16 00:00:00</td>\n",
       "      <td>34.209999</td>\n",
       "      <td>34.450001</td>\n",
       "      <td>33.529999</td>\n",
       "      <td>33.799999</td>\n",
       "      <td>22.075621</td>\n",
       "      <td>1343900</td>\n",
       "    </tr>\n",
       "    <tr>\n",
       "      <th>375</th>\n",
       "      <td>GRMN</td>\n",
       "      <td>2011-03-17 00:00:00</td>\n",
       "      <td>34.139999</td>\n",
       "      <td>34.279999</td>\n",
       "      <td>33.400002</td>\n",
       "      <td>33.490002</td>\n",
       "      <td>21.873158</td>\n",
       "      <td>775400</td>\n",
       "    </tr>\n",
       "    <tr>\n",
       "      <th>376</th>\n",
       "      <td>GRMN</td>\n",
       "      <td>2011-03-18 00:00:00</td>\n",
       "      <td>33.750000</td>\n",
       "      <td>34.000000</td>\n",
       "      <td>33.439999</td>\n",
       "      <td>33.820000</td>\n",
       "      <td>22.088686</td>\n",
       "      <td>1514800</td>\n",
       "    </tr>\n",
       "    <tr>\n",
       "      <th>377</th>\n",
       "      <td>GRMN</td>\n",
       "      <td>2011-03-21 00:00:00</td>\n",
       "      <td>34.150002</td>\n",
       "      <td>34.459999</td>\n",
       "      <td>33.669998</td>\n",
       "      <td>33.820000</td>\n",
       "      <td>22.088686</td>\n",
       "      <td>1317600</td>\n",
       "    </tr>\n",
       "    <tr>\n",
       "      <th>378</th>\n",
       "      <td>GRMN</td>\n",
       "      <td>2011-03-22 00:00:00</td>\n",
       "      <td>33.790001</td>\n",
       "      <td>33.910000</td>\n",
       "      <td>33.660000</td>\n",
       "      <td>33.759998</td>\n",
       "      <td>22.049500</td>\n",
       "      <td>656500</td>\n",
       "    </tr>\n",
       "  </tbody>\n",
       "</table>\n",
       "<p>379 rows × 8 columns</p>\n",
       "</div>"
      ],
      "text/plain": [
       "    Ticker             Datetime       Open       High        Low      Close  \\\n",
       "0     GRMN  2009-09-21 00:00:00  36.500000  37.130001  36.110001  36.799999   \n",
       "1     GRMN  2009-09-22 00:00:00  36.860001  37.639999  36.799999  37.230000   \n",
       "2     GRMN  2009-09-23 00:00:00  37.230000  37.360001  36.369999  36.389999   \n",
       "3     GRMN  2009-09-24 00:00:00  36.509998  36.650002  35.080002  35.169998   \n",
       "4     GRMN  2009-09-25 00:00:00  35.000000  35.490002  34.720001  35.270000   \n",
       "..     ...                  ...        ...        ...        ...        ...   \n",
       "374   GRMN  2011-03-16 00:00:00  34.209999  34.450001  33.529999  33.799999   \n",
       "375   GRMN  2011-03-17 00:00:00  34.139999  34.279999  33.400002  33.490002   \n",
       "376   GRMN  2011-03-18 00:00:00  33.750000  34.000000  33.439999  33.820000   \n",
       "377   GRMN  2011-03-21 00:00:00  34.150002  34.459999  33.669998  33.820000   \n",
       "378   GRMN  2011-03-22 00:00:00  33.790001  33.910000  33.660000  33.759998   \n",
       "\n",
       "     Adj_Close   Volume  \n",
       "0    22.532045  1386300  \n",
       "1    22.795332  1684500  \n",
       "2    22.281006  1508500  \n",
       "3    21.534018  1770200  \n",
       "4    21.595249  1144800  \n",
       "..         ...      ...  \n",
       "374  22.075621  1343900  \n",
       "375  21.873158   775400  \n",
       "376  22.088686  1514800  \n",
       "377  22.088686  1317600  \n",
       "378  22.049500   656500  \n",
       "\n",
       "[379 rows x 8 columns]"
      ]
     },
     "execution_count": 9,
     "metadata": {},
     "output_type": "execute_result"
    }
   ],
   "source": [
    "evaluate.generate_random_data(None)"
   ]
  },
  {
   "cell_type": "code",
   "execution_count": 3,
   "metadata": {},
   "outputs": [
    {
     "name": "stderr",
     "output_type": "stream",
     "text": [
      "c:\\Users\\USER\\OneDrive - 國立陽明交通大學\\文件\\academic\\大四上\\演化計算\\Project\\backtest.py:58: UserWarning: Data index is not datetime. Assuming simple periods, but `pd.DateTimeIndex` is advised.\n",
      "  bt = Backtest(data, new_strategy,\n"
     ]
    },
    {
     "name": "stdout",
     "output_type": "stream",
     "text": [
      "Start                                     0.0\n",
      "End                                     376.0\n",
      "Duration                                376.0\n",
      "Exposure Time [%]                         0.0\n",
      "Equity Final [$]                      10000.0\n",
      "Equity Peak [$]                       10000.0\n",
      "Return [%]                                0.0\n",
      "Buy & Hold Return [%]               19.691569\n",
      "Return (Ann.) [%]                         0.0\n",
      "Volatility (Ann.) [%]                     NaN\n",
      "Sharpe Ratio                              NaN\n",
      "Sortino Ratio                             NaN\n",
      "Calmar Ratio                              NaN\n",
      "Max. Drawdown [%]                        -0.0\n",
      "Avg. Drawdown [%]                         NaN\n",
      "Max. Drawdown Duration                    NaN\n",
      "Avg. Drawdown Duration                    NaN\n",
      "# Trades                                  0.0\n",
      "Win Rate [%]                              NaN\n",
      "Best Trade [%]                            NaN\n",
      "Worst Trade [%]                           NaN\n",
      "Avg. Trade [%]                            NaN\n",
      "Max. Trade Duration                       NaN\n",
      "Avg. Trade Duration                       NaN\n",
      "Profit Factor                             NaN\n",
      "Expectancy [%]                            NaN\n",
      "SQN                                       NaN\n",
      "_strategy                       NEAT_strategy\n",
      "_equity_curve                   Equity  Dr...\n",
      "_trades                   Empty DataFrame\n",
      "...\n",
      "dtype: object\n"
     ]
    },
    {
     "ename": "OSError",
     "evalue": "[Errno 22] Invalid argument: 'checkpoint/1129_0032\\\\winner//Performance_0      PNW\\n1      PNW\\n2      PNW\\n3      PNW\\n4      PNW\\n      ... \\n372    PNW\\n373    PNW\\n374    PNW\\n375    PNW\\n376    PNW\\nName: Ticker, Length: 377, dtype: object.html'",
     "output_type": "error",
     "traceback": [
      "\u001b[1;31m---------------------------------------------------------------------------\u001b[0m",
      "\u001b[1;31mOSError\u001b[0m                                   Traceback (most recent call last)",
      "\u001b[1;32mc:\\Users\\USER\\OneDrive - 國立陽明交通大學\\文件\\academic\\大四上\\演化計算\\Project\\main.ipynb Cell 6\u001b[0m in \u001b[0;36m<cell line: 1>\u001b[1;34m()\u001b[0m\n\u001b[1;32m----> <a href='vscode-notebook-cell:/c%3A/Users/USER/OneDrive%20-%20%E5%9C%8B%E7%AB%8B%E9%99%BD%E6%98%8E%E4%BA%A4%E9%80%9A%E5%A4%A7%E5%AD%B8/%E6%96%87%E4%BB%B6/academic/%E5%A4%A7%E5%9B%9B%E4%B8%8A/%E6%BC%94%E5%8C%96%E8%A8%88%E7%AE%97/Project/main.ipynb#W4sZmlsZQ%3D%3D?line=0'>1</a>\u001b[0m test(\u001b[39m'\u001b[39;49m\u001b[39mcheckpoint/1129_0032\u001b[39;49m\u001b[39m\\\u001b[39;49m\u001b[39mwinner/\u001b[39;49m\u001b[39m'\u001b[39;49m)\n",
      "File \u001b[1;32mc:\\Users\\USER\\OneDrive - 國立陽明交通大學\\文件\\academic\\大四上\\演化計算\\Project\\tool.py:186\u001b[0m, in \u001b[0;36mtest\u001b[1;34m(file_name, backtesting_data)\u001b[0m\n\u001b[0;32m    184\u001b[0m performance, bt \u001b[39m=\u001b[39m backtest(net, backtesting_data)\n\u001b[0;32m    185\u001b[0m \u001b[39mprint\u001b[39m(performance)\n\u001b[1;32m--> 186\u001b[0m bt\u001b[39m.\u001b[39;49mplot(plot_width\u001b[39m=\u001b[39;49m\u001b[39m1500\u001b[39;49m, filename\u001b[39m=\u001b[39;49mfile_name\u001b[39m+\u001b[39;49m\u001b[39m'\u001b[39;49m\u001b[39m/Performance_\u001b[39;49m\u001b[39m{}\u001b[39;49;00m\u001b[39m.html\u001b[39;49m\u001b[39m'\u001b[39;49m\u001b[39m.\u001b[39;49mformat(backtesting_data[\u001b[39m'\u001b[39;49m\u001b[39mTicker\u001b[39;49m\u001b[39m'\u001b[39;49m]))\n",
      "File \u001b[1;32mc:\\Users\\USER\\AppData\\Local\\Programs\\Python\\Python310\\lib\\site-packages\\backtesting\\backtesting.py:1592\u001b[0m, in \u001b[0;36mBacktest.plot\u001b[1;34m(self, results, filename, plot_width, plot_equity, plot_return, plot_pl, plot_volume, plot_drawdown, smooth_equity, relative_equity, superimpose, resample, reverse_indicators, show_legend, open_browser)\u001b[0m\n\u001b[0;32m   1589\u001b[0m         \u001b[39mraise\u001b[39;00m \u001b[39mRuntimeError\u001b[39;00m(\u001b[39m'\u001b[39m\u001b[39mFirst issue `backtest.run()` to obtain results.\u001b[39m\u001b[39m'\u001b[39m)\n\u001b[0;32m   1590\u001b[0m     results \u001b[39m=\u001b[39m \u001b[39mself\u001b[39m\u001b[39m.\u001b[39m_results\n\u001b[1;32m-> 1592\u001b[0m \u001b[39mreturn\u001b[39;00m plot(\n\u001b[0;32m   1593\u001b[0m     results\u001b[39m=\u001b[39;49mresults,\n\u001b[0;32m   1594\u001b[0m     df\u001b[39m=\u001b[39;49m\u001b[39mself\u001b[39;49m\u001b[39m.\u001b[39;49m_data,\n\u001b[0;32m   1595\u001b[0m     indicators\u001b[39m=\u001b[39;49mresults\u001b[39m.\u001b[39;49m_strategy\u001b[39m.\u001b[39;49m_indicators,\n\u001b[0;32m   1596\u001b[0m     filename\u001b[39m=\u001b[39;49mfilename,\n\u001b[0;32m   1597\u001b[0m     plot_width\u001b[39m=\u001b[39;49mplot_width,\n\u001b[0;32m   1598\u001b[0m     plot_equity\u001b[39m=\u001b[39;49mplot_equity,\n\u001b[0;32m   1599\u001b[0m     plot_return\u001b[39m=\u001b[39;49mplot_return,\n\u001b[0;32m   1600\u001b[0m     plot_pl\u001b[39m=\u001b[39;49mplot_pl,\n\u001b[0;32m   1601\u001b[0m     plot_volume\u001b[39m=\u001b[39;49mplot_volume,\n\u001b[0;32m   1602\u001b[0m     plot_drawdown\u001b[39m=\u001b[39;49mplot_drawdown,\n\u001b[0;32m   1603\u001b[0m     smooth_equity\u001b[39m=\u001b[39;49msmooth_equity,\n\u001b[0;32m   1604\u001b[0m     relative_equity\u001b[39m=\u001b[39;49mrelative_equity,\n\u001b[0;32m   1605\u001b[0m     superimpose\u001b[39m=\u001b[39;49msuperimpose,\n\u001b[0;32m   1606\u001b[0m     resample\u001b[39m=\u001b[39;49mresample,\n\u001b[0;32m   1607\u001b[0m     reverse_indicators\u001b[39m=\u001b[39;49mreverse_indicators,\n\u001b[0;32m   1608\u001b[0m     show_legend\u001b[39m=\u001b[39;49mshow_legend,\n\u001b[0;32m   1609\u001b[0m     open_browser\u001b[39m=\u001b[39;49mopen_browser)\n",
      "File \u001b[1;32mc:\\Users\\USER\\AppData\\Local\\Programs\\Python\\Python310\\lib\\site-packages\\backtesting\\_plotting.py:667\u001b[0m, in \u001b[0;36mplot\u001b[1;34m(results, df, indicators, filename, plot_width, plot_equity, plot_return, plot_pl, plot_volume, plot_drawdown, smooth_equity, relative_equity, superimpose, resample, reverse_indicators, show_legend, open_browser)\u001b[0m\n\u001b[0;32m    657\u001b[0m     kwargs[\u001b[39m'\u001b[39m\u001b[39msizing_mode\u001b[39m\u001b[39m'\u001b[39m] \u001b[39m=\u001b[39m \u001b[39m'\u001b[39m\u001b[39mstretch_width\u001b[39m\u001b[39m'\u001b[39m\n\u001b[0;32m    659\u001b[0m fig \u001b[39m=\u001b[39m gridplot(\n\u001b[0;32m    660\u001b[0m     plots,\n\u001b[0;32m    661\u001b[0m     ncols\u001b[39m=\u001b[39m\u001b[39m1\u001b[39m,\n\u001b[1;32m   (...)\u001b[0m\n\u001b[0;32m    665\u001b[0m     \u001b[39m*\u001b[39m\u001b[39m*\u001b[39mkwargs\n\u001b[0;32m    666\u001b[0m )\n\u001b[1;32m--> 667\u001b[0m show(fig, browser\u001b[39m=\u001b[39;49m\u001b[39mNone\u001b[39;49;00m \u001b[39mif\u001b[39;49;00m open_browser \u001b[39melse\u001b[39;49;00m \u001b[39m'\u001b[39;49m\u001b[39mnone\u001b[39;49m\u001b[39m'\u001b[39;49m)\n\u001b[0;32m    668\u001b[0m \u001b[39mreturn\u001b[39;00m fig\n",
      "File \u001b[1;32mc:\\Users\\USER\\AppData\\Local\\Programs\\Python\\Python310\\lib\\site-packages\\bokeh\\io\\showing.py:144\u001b[0m, in \u001b[0;36mshow\u001b[1;34m(obj, browser, new, notebook_handle, notebook_url, **kwargs)\u001b[0m\n\u001b[0;32m    141\u001b[0m state \u001b[39m=\u001b[39m curstate()\n\u001b[0;32m    143\u001b[0m \u001b[39mif\u001b[39;00m \u001b[39misinstance\u001b[39m(obj, LayoutDOM):\n\u001b[1;32m--> 144\u001b[0m     \u001b[39mreturn\u001b[39;00m _show_with_state(obj, state, browser, new, notebook_handle\u001b[39m=\u001b[39;49mnotebook_handle)\n\u001b[0;32m    146\u001b[0m \u001b[39mdef\u001b[39;00m \u001b[39mis_application\u001b[39m(obj: Any) \u001b[39m-\u001b[39m\u001b[39m>\u001b[39m TypeGuard[Application]:\n\u001b[0;32m    147\u001b[0m     \u001b[39mreturn\u001b[39;00m \u001b[39mgetattr\u001b[39m(obj, \u001b[39m'\u001b[39m\u001b[39m_is_a_bokeh_application_class\u001b[39m\u001b[39m'\u001b[39m, \u001b[39mFalse\u001b[39;00m)\n",
      "File \u001b[1;32mc:\\Users\\USER\\AppData\\Local\\Programs\\Python\\Python310\\lib\\site-packages\\bokeh\\io\\showing.py:195\u001b[0m, in \u001b[0;36m_show_with_state\u001b[1;34m(obj, state, browser, new, notebook_handle)\u001b[0m\n\u001b[0;32m    192\u001b[0m     shown \u001b[39m=\u001b[39m \u001b[39mTrue\u001b[39;00m\n\u001b[0;32m    194\u001b[0m \u001b[39mif\u001b[39;00m state\u001b[39m.\u001b[39mfile \u001b[39mor\u001b[39;00m \u001b[39mnot\u001b[39;00m shown:\n\u001b[1;32m--> 195\u001b[0m     _show_file_with_state(obj, state, new, controller)\n\u001b[0;32m    197\u001b[0m \u001b[39mreturn\u001b[39;00m comms_handle\n",
      "File \u001b[1;32mc:\\Users\\USER\\AppData\\Local\\Programs\\Python\\Python310\\lib\\site-packages\\bokeh\\io\\showing.py:176\u001b[0m, in \u001b[0;36m_show_file_with_state\u001b[1;34m(obj, state, new, controller)\u001b[0m\n\u001b[0;32m    172\u001b[0m \u001b[39mdef\u001b[39;00m \u001b[39m_show_file_with_state\u001b[39m(obj: LayoutDOM, state: State, new: BrowserTarget, controller: BrowserLike) \u001b[39m-\u001b[39m\u001b[39m>\u001b[39m \u001b[39mNone\u001b[39;00m:\n\u001b[0;32m    173\u001b[0m     \u001b[39m'''\u001b[39;00m\n\u001b[0;32m    174\u001b[0m \n\u001b[0;32m    175\u001b[0m \u001b[39m    '''\u001b[39;00m\n\u001b[1;32m--> 176\u001b[0m     filename \u001b[39m=\u001b[39m save(obj, state\u001b[39m=\u001b[39;49mstate)\n\u001b[0;32m    177\u001b[0m     controller\u001b[39m.\u001b[39mopen(\u001b[39m\"\u001b[39m\u001b[39mfile://\u001b[39m\u001b[39m\"\u001b[39m \u001b[39m+\u001b[39m filename, new\u001b[39m=\u001b[39mNEW_PARAM[new])\n",
      "File \u001b[1;32mc:\\Users\\USER\\AppData\\Local\\Programs\\Python\\Python310\\lib\\site-packages\\bokeh\\io\\saving.py:98\u001b[0m, in \u001b[0;36msave\u001b[1;34m(obj, filename, resources, title, template, state)\u001b[0m\n\u001b[0;32m     95\u001b[0m theme \u001b[39m=\u001b[39m state\u001b[39m.\u001b[39mdocument\u001b[39m.\u001b[39mtheme\n\u001b[0;32m     97\u001b[0m filename, resources, title \u001b[39m=\u001b[39m _get_save_args(state, filename, resources, title)\n\u001b[1;32m---> 98\u001b[0m _save_helper(obj, filename, resources, title, template, theme)\n\u001b[0;32m     99\u001b[0m \u001b[39mreturn\u001b[39;00m abspath(filename)\n",
      "File \u001b[1;32mc:\\Users\\USER\\AppData\\Local\\Programs\\Python\\Python310\\lib\\site-packages\\bokeh\\io\\saving.py:166\u001b[0m, in \u001b[0;36m_save_helper\u001b[1;34m(obj, filename, resources, title, template, theme)\u001b[0m\n\u001b[0;32m    163\u001b[0m \u001b[39mfrom\u001b[39;00m \u001b[39m.\u001b[39;00m\u001b[39m.\u001b[39;00m\u001b[39membed\u001b[39;00m \u001b[39mimport\u001b[39;00m file_html\n\u001b[0;32m    164\u001b[0m html \u001b[39m=\u001b[39m file_html(obj, resources, title\u001b[39m=\u001b[39mtitle, template\u001b[39m=\u001b[39mtemplate \u001b[39mor\u001b[39;00m FILE, theme\u001b[39m=\u001b[39mtheme)\n\u001b[1;32m--> 166\u001b[0m \u001b[39mwith\u001b[39;00m \u001b[39mopen\u001b[39;49m(filename, mode\u001b[39m=\u001b[39;49m\u001b[39m\"\u001b[39;49m\u001b[39mw\u001b[39;49m\u001b[39m\"\u001b[39;49m, encoding\u001b[39m=\u001b[39;49m\u001b[39m\"\u001b[39;49m\u001b[39mutf-8\u001b[39;49m\u001b[39m\"\u001b[39;49m) \u001b[39mas\u001b[39;00m f:\n\u001b[0;32m    167\u001b[0m     f\u001b[39m.\u001b[39mwrite(html)\n",
      "\u001b[1;31mOSError\u001b[0m: [Errno 22] Invalid argument: 'checkpoint/1129_0032\\\\winner//Performance_0      PNW\\n1      PNW\\n2      PNW\\n3      PNW\\n4      PNW\\n      ... \\n372    PNW\\n373    PNW\\n374    PNW\\n375    PNW\\n376    PNW\\nName: Ticker, Length: 377, dtype: object.html'"
     ]
    }
   ],
   "source": [
    "test('checkpoint/1129_0032\\winner/')"
   ]
  }
 ],
 "metadata": {
  "kernelspec": {
   "display_name": "Python 3.10.4 64-bit",
   "language": "python",
   "name": "python3"
  },
  "language_info": {
   "codemirror_mode": {
    "name": "ipython",
    "version": 3
   },
   "file_extension": ".py",
   "mimetype": "text/x-python",
   "name": "python",
   "nbconvert_exporter": "python",
   "pygments_lexer": "ipython3",
   "version": "3.10.4"
  },
  "orig_nbformat": 4,
  "vscode": {
   "interpreter": {
    "hash": "df95319d8ce4e1d89f5365ae10992bc1f65da593082b1d264e8f529830ec2f02"
   }
  }
 },
 "nbformat": 4,
 "nbformat_minor": 2
}
