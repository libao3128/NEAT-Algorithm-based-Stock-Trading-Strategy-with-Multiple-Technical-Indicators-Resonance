{
 "cells": [
  {
   "cell_type": "code",
   "execution_count": 8,
   "metadata": {},
   "outputs": [],
   "source": [
    "import os\n",
    "\n",
    "import neat\n",
    "import visualize\n",
    "\n",
    "from backtest import NEAT_strategy, backtest\n",
    "\n",
    "import yfinance as yf\n",
    "\n",
    "import pandas as pd\n",
    "\n"
   ]
  },
  {
   "cell_type": "code",
   "execution_count": 9,
   "metadata": {},
   "outputs": [
    {
     "name": "stdout",
     "output_type": "stream",
     "text": [
      "[*********************100%***********************]  1 of 1 completed\n"
     ]
    }
   ],
   "source": [
    "backtesting_data = yf.download('AAPL', interval='15m', period='60d')\n",
    "backtesting_data.index = pd.to_datetime(backtesting_data.index)"
   ]
  },
  {
   "cell_type": "code",
   "execution_count": 10,
   "metadata": {},
   "outputs": [],
   "source": [
    "from tool import run, test, evaluate"
   ]
  },
  {
   "cell_type": "code",
   "execution_count": 13,
   "metadata": {},
   "outputs": [
    {
     "name": "stdout",
     "output_type": "stream",
     "text": [
      "\n",
      " ****** Running generation 0 ****** \n",
      "\n",
      "Population's average fitness: -30.01959 stdev: 40.73267\n",
      "Best fitness: 0.00000 - size: (2, 8) - species 1 - id 2\n",
      "Average adjusted fitness: 0.683\n",
      "Mean genetic distance 1.461, standard deviation 0.331\n",
      "Population of 40 members in 1 species:\n",
      "   ID   age  size  fitness  adj fit  stag\n",
      "  ====  ===  ====  =======  =======  ====\n",
      "     1    0    40      0.0    0.683     0\n",
      "Total extinctions: 0\n",
      "Generation time: 15.285 sec\n",
      "\n",
      " ****** Running generation 1 ****** \n",
      "\n",
      "Population's average fitness: -19.98195 stdev: 36.33129\n",
      "Best fitness: 0.00000 - size: (2, 8) - species 1 - id 2\n",
      "Average adjusted fitness: 0.789\n",
      "Mean genetic distance 1.421, standard deviation 0.489\n",
      "Population of 40 members in 1 species:\n",
      "   ID   age  size  fitness  adj fit  stag\n",
      "  ====  ===  ====  =======  =======  ====\n",
      "     1    1    40      0.0    0.789     1\n",
      "Total extinctions: 0\n",
      "Generation time: 5.115 sec (10.200 average)\n",
      "\n",
      " ****** Running generation 2 ****** \n",
      "\n",
      "Population's average fitness: -2.23036 stdev: 14.19823\n",
      "Best fitness: 5.77984 - size: (2, 8) - species 1 - id 90\n",
      "Average adjusted fitness: 0.917\n",
      "Mean genetic distance 1.476, standard deviation 0.397\n",
      "Population of 40 members in 1 species:\n",
      "   ID   age  size  fitness  adj fit  stag\n",
      "  ====  ===  ====  =======  =======  ====\n",
      "     1    2    40      5.8    0.917     0\n",
      "Total extinctions: 0\n",
      "Generation time: 4.669 sec (8.356 average)\n",
      "\n",
      " ****** Running generation 3 ****** \n",
      "\n",
      "Population's average fitness: -8.24087 stdev: 25.11482\n",
      "Best fitness: 5.77984 - size: (2, 8) - species 1 - id 90\n",
      "Average adjusted fitness: 0.861\n",
      "Mean genetic distance 1.781, standard deviation 0.441\n",
      "Population of 40 members in 1 species:\n",
      "   ID   age  size  fitness  adj fit  stag\n",
      "  ====  ===  ====  =======  =======  ====\n",
      "     1    3    40      5.8    0.861     1\n",
      "Total extinctions: 0\n",
      "Generation time: 4.291 sec (7.340 average)\n",
      "\n",
      " ****** Running generation 4 ****** \n",
      "\n",
      "Population's average fitness: -23.31742 stdev: 37.80918\n",
      "Best fitness: 5.77984 - size: (2, 8) - species 1 - id 90\n",
      "Average adjusted fitness: 0.711\n",
      "Mean genetic distance 1.689, standard deviation 0.379\n",
      "Population of 40 members in 1 species:\n",
      "   ID   age  size  fitness  adj fit  stag\n",
      "  ====  ===  ====  =======  =======  ====\n",
      "     1    4    40      5.8    0.711     2\n",
      "Total extinctions: 0\n",
      "Generation time: 4.836 sec (6.839 average)\n",
      "Saving checkpoint to checkpoint/1128_1544/neat-checkpoint-4\n",
      "\n",
      "Best individual in generation 4 meets fitness threshold - complexity: (2, 8)\n",
      "\n",
      "Best genome:\n",
      "Key: 90\n",
      "Fitness: 5.779838896484361\n",
      "Nodes:\n",
      "\t0 DefaultNodeGene(key=0, bias=3.0692475877768084, response=1.0, activation=sigmoid, aggregation=sum)\n",
      "\t1 DefaultNodeGene(key=1, bias=0.6474800225120175, response=1.0, activation=sigmoid, aggregation=sum)\n",
      "Connections:\n",
      "\tDefaultConnectionGene(key=(-4, 0), weight=-0.6276856779998439, enabled=True)\n",
      "\tDefaultConnectionGene(key=(-4, 1), weight=0.7833305617781112, enabled=True)\n",
      "\tDefaultConnectionGene(key=(-3, 0), weight=-0.21018325606502886, enabled=True)\n",
      "\tDefaultConnectionGene(key=(-3, 1), weight=1.3746215760903433, enabled=True)\n",
      "\tDefaultConnectionGene(key=(-2, 0), weight=-1.3956021364428464, enabled=True)\n",
      "\tDefaultConnectionGene(key=(-2, 1), weight=1.4249384546982626, enabled=True)\n",
      "\tDefaultConnectionGene(key=(-1, 0), weight=1.0183935699074482, enabled=True)\n",
      "\tDefaultConnectionGene(key=(-1, 1), weight=0.3430949644023167, enabled=True)\n",
      "\n",
      "Output:\n",
      "Start                     2022-09-01 09:30...\n",
      "End                       2022-11-25 13:00...\n",
      "Duration                     85 days 04:30:00\n",
      "Exposure Time [%]                   26.016785\n",
      "Equity Final [$]                  10577.98389\n",
      "Equity Peak [$]                  10943.626956\n",
      "Return [%]                           5.779839\n",
      "Buy & Hold Return [%]               -5.731944\n",
      "Return (Ann.) [%]                   26.617048\n",
      "Volatility (Ann.) [%]               27.783853\n",
      "Sharpe Ratio                         0.958004\n",
      "Sortino Ratio                        2.761824\n",
      "Calmar Ratio                         5.807775\n",
      "Max. Drawdown [%]                   -4.583003\n",
      "Avg. Drawdown [%]                   -1.279298\n",
      "Max. Drawdown Duration       10 days 03:00:00\n",
      "Avg. Drawdown Duration        1 days 11:09:00\n",
      "# Trades                                    1\n",
      "Win Rate [%]                            100.0\n",
      "Best Trade [%]                       5.815999\n",
      "Worst Trade [%]                      5.815999\n",
      "Avg. Trade [%]                       5.815999\n",
      "Max. Trade Duration          22 days 04:00:00\n",
      "Avg. Trade Duration          22 days 04:00:00\n",
      "Profit Factor                             NaN\n",
      "Expectancy [%]                       5.815999\n",
      "SQN                                       NaN\n",
      "_strategy                       NEAT_strategy\n",
      "_equity_curve                             ...\n",
      "_trades                      Size  EntryBa...\n",
      "dtype: object\n"
     ]
    },
    {
     "name": "stderr",
     "output_type": "stream",
     "text": [
      "BokehDeprecationWarning: Passing lists of formats for DatetimeTickFormatter scales was deprecated in Bokeh 3.0. Configure a single string format for each scale\n",
      "c:\\Users\\USER\\AppData\\Local\\Programs\\Python\\Python310\\lib\\site-packages\\bokeh\\models\\formatters.py:399: UserWarning: DatetimeFormatter scales now only accept a single format. Using the first prodvided: '%d %b' \n",
      "  warnings.warn(f\"DatetimeFormatter scales now only accept a single format. Using the first prodvided: {fmt[0]!r} \")\n",
      "BokehDeprecationWarning: Passing lists of formats for DatetimeTickFormatter scales was deprecated in Bokeh 3.0. Configure a single string format for each scale\n",
      "c:\\Users\\USER\\AppData\\Local\\Programs\\Python\\Python310\\lib\\site-packages\\bokeh\\models\\formatters.py:399: UserWarning: DatetimeFormatter scales now only accept a single format. Using the first prodvided: '%m/%Y' \n",
      "  warnings.warn(f\"DatetimeFormatter scales now only accept a single format. Using the first prodvided: {fmt[0]!r} \")\n"
     ]
    },
    {
     "data": {
      "image/png": "[encoded data removed]",
      "text/plain": [
       "<Figure size 432x288 with 1 Axes>"
      ]
     },
     "metadata": {
      "needs_background": "light"
     },
     "output_type": "display_data"
    },
    {
     "data": {
      "image/png": "[encoded data removed]",
      "text/plain": [
       "<Figure size 432x288 with 1 Axes>"
      ]
     },
     "metadata": {
      "needs_background": "light"
     },
     "output_type": "display_data"
    }
   ],
   "source": [
    "eval = evaluate(backtesting_data)\n",
    "run('config-feedforward', eval, max_generation=5)"
   ]
  }
 ],
 "metadata": {
  "kernelspec": {
   "display_name": "Python 3.10.4 64-bit",
   "language": "python",
   "name": "python3"
  },
  "language_info": {
   "codemirror_mode": {
    "name": "ipython",
    "version": 3
   },
   "file_extension": ".py",
   "mimetype": "text/x-python",
   "name": "python",
   "nbconvert_exporter": "python",
   "pygments_lexer": "ipython3",
   "version": "3.10.4"
  },
  "orig_nbformat": 4,
  "vscode": {
   "interpreter": {
    "hash": "df95319d8ce4e1d89f5365ae10992bc1f65da593082b1d264e8f529830ec2f02"
   }
  }
 },
 "nbformat": 4,
 "nbformat_minor": 2
}
