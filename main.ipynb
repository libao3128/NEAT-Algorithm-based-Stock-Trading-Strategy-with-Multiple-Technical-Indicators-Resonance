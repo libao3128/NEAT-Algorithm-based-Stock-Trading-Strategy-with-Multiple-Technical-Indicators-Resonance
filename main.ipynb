{
 "cells": [
  {
   "cell_type": "markdown",
   "metadata": {},
   "source": [
    "# NEAT Algorithm-based Stock Trading Strategy with Multiple Technical Indicators Resonance"
   ]
  },
  {
   "cell_type": "code",
   "execution_count": 1,
   "metadata": {},
   "outputs": [
    {
     "name": "stderr",
     "output_type": "stream",
     "text": [
      "c:\\Users\\USER\\.conda\\envs\\neat\\lib\\site-packages\\tqdm\\auto.py:21: TqdmWarning: IProgress not found. Please update jupyter and ipywidgets. See https://ipywidgets.readthedocs.io/en/stable/user_install.html\n",
      "  from .autonotebook import tqdm as notebook_tqdm\n"
     ]
    }
   ],
   "source": [
    "from neat_trader.algorithm import NeatTrader, Evaluator, gpt_fitness_fn"
   ]
  },
  {
   "cell_type": "markdown",
   "metadata": {},
   "source": [
    "## Train the model"
   ]
  },
  {
   "cell_type": "code",
   "execution_count": 2,
   "metadata": {},
   "outputs": [],
   "source": [
    "evaluator = Evaluator(fitness_fn=gpt_fitness_fn)\n",
    "config_path = 'model/config-feedforward'\n",
    "trader = NeatTrader(config_path=config_path, evaluator=evaluator)"
   ]
  },
  {
   "cell_type": "code",
   "execution_count": 3,
   "metadata": {},
   "outputs": [
    {
     "name": "stdout",
     "output_type": "stream",
     "text": [
      "\n",
      " ****** Running generation 0 ****** \n",
      "\n",
      "Population's average fitness: 0.00000 stdev: 0.00000\n",
      "Best fitness: 0.00000 - size: (3, 36) - species 1 - id 1\n",
      "Average adjusted fitness: 0.000\n",
      "Mean genetic distance 1.087, standard deviation 0.198\n",
      "Population of 256 members in 1 species:\n",
      "   ID   age  size  fitness  adj fit  stag\n",
      "  ====  ===  ====  =======  =======  ====\n",
      "     1    0   256      0.0    0.000     0\n",
      "Total extinctions: 0\n",
      "Generation time: 10.674 sec\n",
      "\n",
      " ****** Running generation 1 ****** \n",
      "\n",
      "Population's average fitness: 0.00000 stdev: 0.00000\n",
      "Best fitness: 0.00000 - size: (3, 36) - species 1 - id 1\n",
      "Average adjusted fitness: 0.000\n",
      "Mean genetic distance 1.187, standard deviation 0.242\n",
      "Population of 256 members in 1 species:\n",
      "   ID   age  size  fitness  adj fit  stag\n",
      "  ====  ===  ====  =======  =======  ====\n",
      "     1    1   256      0.0    0.000     1\n",
      "Total extinctions: 0\n",
      "Generation time: 5.391 sec (8.032 average)\n",
      "\n",
      " ****** Running generation 2 ****** \n",
      "\n",
      "Population's average fitness: 0.00000 stdev: 0.00000\n",
      "Best fitness: 0.00000 - size: (3, 36) - species 1 - id 1\n",
      "Average adjusted fitness: 0.000\n",
      "Mean genetic distance 1.268, standard deviation 0.217\n",
      "Population of 256 members in 1 species:\n",
      "   ID   age  size  fitness  adj fit  stag\n",
      "  ====  ===  ====  =======  =======  ====\n",
      "     1    2   256      0.0    0.000     2\n",
      "Total extinctions: 0\n",
      "Generation time: 5.665 sec (7.243 average)\n",
      "\n",
      " ****** Running generation 3 ****** \n",
      "\n",
      "Population's average fitness: 0.00000 stdev: 0.00000\n",
      "Best fitness: 0.00000 - size: (3, 36) - species 1 - id 1\n",
      "Average adjusted fitness: 0.000\n",
      "Mean genetic distance 1.297, standard deviation 0.256\n",
      "Population of 256 members in 1 species:\n",
      "   ID   age  size  fitness  adj fit  stag\n",
      "  ====  ===  ====  =======  =======  ====\n",
      "     1    3   256      0.0    0.000     3\n",
      "Total extinctions: 0\n",
      "Generation time: 5.551 sec (6.820 average)\n",
      "\n",
      " ****** Running generation 4 ****** \n",
      "\n",
      "Population's average fitness: 0.00000 stdev: 0.00000\n",
      "Best fitness: 0.00000 - size: (3, 36) - species 1 - id 1\n",
      "Average adjusted fitness: 0.000\n",
      "Mean genetic distance 1.336, standard deviation 0.246\n",
      "Population of 256 members in 1 species:\n",
      "   ID   age  size  fitness  adj fit  stag\n",
      "  ====  ===  ====  =======  =======  ====\n",
      "     1    4   256      0.0    0.000     4\n",
      "Total extinctions: 0\n",
      "Generation time: 5.466 sec (6.549 average)\n",
      "Saving checkpoint to checkpoint/0207_0437/neat-checkpoint-4\n",
      "\n",
      "Best individual in generation 4 meets fitness threshold - complexity: (3, 36)\n",
      "\n",
      " ****** Running generation 5 ****** \n",
      "\n",
      "Population's average fitness: 0.00649 stdev: 0.07319\n",
      "Best fitness: 0.83131 - size: (3, 32) - species 1 - id 1462\n",
      "Average adjusted fitness: 0.006\n",
      "Mean genetic distance 1.484, standard deviation 0.247\n",
      "Population of 256 members in 1 species:\n",
      "   ID   age  size  fitness  adj fit  stag\n",
      "  ====  ===  ====  =======  =======  ====\n",
      "     1    5   256      0.0    0.006     5\n",
      "Total extinctions: 0\n",
      "Generation time: 8.223 sec (6.828 average)\n",
      "\n",
      " ****** Running generation 6 ****** \n",
      "\n",
      "Population's average fitness: 0.04266 stdev: 0.18329\n",
      "Best fitness: 1.20314 - size: (3, 32) - species 1 - id 1708\n",
      "Average adjusted fitness: 0.035\n",
      "Mean genetic distance 1.605, standard deviation 0.270\n",
      "Population of 256 members in 1 species:\n",
      "   ID   age  size  fitness  adj fit  stag\n",
      "  ====  ===  ====  =======  =======  ====\n",
      "     1    6   256      0.0    0.035     6\n",
      "Total extinctions: 0\n",
      "Generation time: 2.734 sec (6.243 average)\n",
      "\n",
      " ****** Running generation 7 ****** \n",
      "\n",
      "Population's average fitness: 0.08636 stdev: 0.24763\n",
      "Best fitness: 1.20314 - size: (3, 32) - species 1 - id 1708\n",
      "Average adjusted fitness: 0.072\n",
      "Mean genetic distance 1.703, standard deviation 0.339\n",
      "Population of 256 members in 1 species:\n",
      "   ID   age  size  fitness  adj fit  stag\n",
      "  ====  ===  ====  =======  =======  ====\n",
      "     1    7   256      0.0    0.072     7\n",
      "Total extinctions: 0\n",
      "Generation time: 2.552 sec (5.782 average)\n",
      "\n",
      " ****** Running generation 8 ****** \n",
      "\n",
      "Population's average fitness: 0.35384 stdev: 0.47688\n",
      "Best fitness: 4.53333 - size: (3, 28) - species 1 - id 2162\n",
      "Average adjusted fitness: 0.078\n",
      "Mean genetic distance 1.763, standard deviation 0.313\n",
      "Population of 256 members in 1 species:\n",
      "   ID   age  size  fitness  adj fit  stag\n",
      "  ====  ===  ====  =======  =======  ====\n",
      "     1    8   256      0.0    0.078     8\n",
      "Total extinctions: 0\n",
      "Generation time: 2.808 sec (5.451 average)\n",
      "\n",
      " ****** Running generation 9 ****** \n",
      "\n",
      "Population's average fitness: 0.72262 stdev: 1.58676\n",
      "Best fitness: 22.77888 - size: (3, 24) - species 1 - id 2353\n",
      "Average adjusted fitness: 0.032\n",
      "Mean genetic distance 2.013, standard deviation 0.479\n",
      "Population of 256 members in 2 species:\n",
      "   ID   age  size  fitness  adj fit  stag\n",
      "  ====  ===  ====  =======  =======  ====\n",
      "     1    9   241      0.8    0.032     0\n",
      "     2    0    15       --       --     0\n",
      "Total extinctions: 0\n",
      "Generation time: 3.054 sec (5.212 average)\n",
      "Saving checkpoint to checkpoint/0207_0437/neat-checkpoint-9\n",
      "\n",
      "Best individual in generation 9 meets fitness threshold - complexity: (3, 24)\n"
     ]
    }
   ],
   "source": [
    "winner = trader.evolve(total_generation=10)"
   ]
  },
  {
   "cell_type": "code",
   "execution_count": 4,
   "metadata": {},
   "outputs": [
    {
     "name": "stdout",
     "output_type": "stream",
     "text": [
      "\n",
      "Best genome:\n",
      "Key: 2353\n",
      "Fitness: 22.77887959255418\n",
      "Nodes:\n",
      "\t0 DefaultNodeGene(key=0, bias=-0.9491354747643139, response=1.0, activation=sigmoid, aggregation=sum)\n",
      "\t1 DefaultNodeGene(key=1, bias=0.5743373136535364, response=1.0, activation=sigmoid, aggregation=sum)\n",
      "\t2 DefaultNodeGene(key=2, bias=1.6183080137424373, response=1.0, activation=sigmoid, aggregation=sum)\n",
      "Connections:\n",
      "\tDefaultConnectionGene(key=(-11, 0), weight=0.432025752602202, enabled=False)\n",
      "\tDefaultConnectionGene(key=(-11, 1), weight=-0.34186547054118777, enabled=True)\n",
      "\tDefaultConnectionGene(key=(-10, 0), weight=2.3249929253588824, enabled=True)\n",
      "\tDefaultConnectionGene(key=(-10, 1), weight=-2.0656657072096762, enabled=True)\n",
      "\tDefaultConnectionGene(key=(-10, 2), weight=2.0349167714369143, enabled=True)\n",
      "\tDefaultConnectionGene(key=(-9, 0), weight=0.7065322844217511, enabled=True)\n",
      "\tDefaultConnectionGene(key=(-9, 1), weight=0.88005454535408, enabled=True)\n",
      "\tDefaultConnectionGene(key=(-9, 2), weight=-0.7107620983164827, enabled=True)\n",
      "\tDefaultConnectionGene(key=(-8, 0), weight=-0.12076888956880483, enabled=True)\n",
      "\tDefaultConnectionGene(key=(-8, 1), weight=-2.5417414421959754, enabled=True)\n",
      "\tDefaultConnectionGene(key=(-8, 2), weight=-0.9251186339248456, enabled=True)\n",
      "\tDefaultConnectionGene(key=(-7, 0), weight=0.9377513871191187, enabled=True)\n",
      "\tDefaultConnectionGene(key=(-7, 1), weight=1.8715846030032834, enabled=True)\n",
      "\tDefaultConnectionGene(key=(-7, 2), weight=-0.24704055696593952, enabled=True)\n",
      "\tDefaultConnectionGene(key=(-6, 1), weight=2.389186280439173, enabled=False)\n",
      "\tDefaultConnectionGene(key=(-6, 2), weight=-1.584640230589204, enabled=True)\n",
      "\tDefaultConnectionGene(key=(-5, 0), weight=-1.3819715701590787, enabled=True)\n",
      "\tDefaultConnectionGene(key=(-5, 1), weight=-1.693948870365393, enabled=True)\n",
      "\tDefaultConnectionGene(key=(-4, 0), weight=-2.8846831848121948, enabled=True)\n",
      "\tDefaultConnectionGene(key=(-4, 1), weight=2.149033542076176, enabled=False)\n",
      "\tDefaultConnectionGene(key=(-4, 2), weight=-0.39378908232435855, enabled=True)\n",
      "\tDefaultConnectionGene(key=(-3, 0), weight=0.3846280782376826, enabled=True)\n",
      "\tDefaultConnectionGene(key=(-3, 1), weight=3.325554462132434, enabled=True)\n",
      "\tDefaultConnectionGene(key=(-3, 2), weight=1.1732612007479488, enabled=False)\n",
      "\tDefaultConnectionGene(key=(-2, 0), weight=1.3511435541819865, enabled=False)\n",
      "\tDefaultConnectionGene(key=(-2, 1), weight=1.183582689731632, enabled=True)\n",
      "\tDefaultConnectionGene(key=(-2, 2), weight=2.6145079713833534, enabled=True)\n",
      "\tDefaultConnectionGene(key=(-1, 1), weight=-0.6018685474837372, enabled=True)\n",
      "\tDefaultConnectionGene(key=(-1, 2), weight=-0.4729863675496815, enabled=True)\n",
      "\tDefaultConnectionGene(key=(1, 1), weight=2.2759940312648177, enabled=False)\n",
      "\tDefaultConnectionGene(key=(2, 2), weight=-1.8632821507028439, enabled=False)\n",
      "\n",
      "Output:\n"
     ]
    },
    {
     "data": {
      "image/png": "[encoded data removed]",
      "text/plain": [
       "<Figure size 640x480 with 1 Axes>"
      ]
     },
     "metadata": {},
     "output_type": "display_data"
    },
    {
     "data": {
      "image/png": "[encoded data removed]",
      "text/plain": [
       "<Figure size 640x480 with 1 Axes>"
      ]
     },
     "metadata": {},
     "output_type": "display_data"
    }
   ],
   "source": [
    "trader.generate_report()"
   ]
  },
  {
   "cell_type": "markdown",
   "metadata": {},
   "source": [
    "## Evaluation\n"
   ]
  },
  {
   "cell_type": "code",
   "execution_count": 6,
   "metadata": {},
   "outputs": [
    {
     "name": "stderr",
     "output_type": "stream",
     "text": [
      "Generating backtesting data:   0%|          | 0/10 [00:00<?, ?it/s]"
     ]
    },
    {
     "name": "stderr",
     "output_type": "stream",
     "text": [
      "100%|██████████| 256/256 [00:07<00:00, 35.02it/s]\n",
      "100%|██████████| 256/256 [00:07<00:00, 33.49it/s]0 [00:09<01:25,  9.50s/it]\n",
      "100%|██████████| 256/256 [00:05<00:00, 45.20it/s]0 [00:19<01:17,  9.74s/it]\n",
      "100%|██████████| 256/256 [00:05<00:00, 43.57it/s]  [00:27<01:03,  9.03s/it]\n",
      "100%|██████████| 256/256 [00:05<00:00, 45.51it/s]  [00:35<00:52,  8.69s/it]\n",
      "100%|██████████| 256/256 [00:06<00:00, 38.49it/s]0 [00:43<00:42,  8.40s/it]\n",
      "100%|██████████| 256/256 [00:06<00:00, 38.58it/s]0 [00:52<00:34,  8.53s/it]\n",
      "100%|██████████| 256/256 [00:06<00:00, 41.21it/s]  [01:01<00:26,  8.68s/it]\n",
      "100%|██████████| 256/256 [00:06<00:00, 40.69it/s]0 [01:10<00:17,  8.67s/it]\n",
      "100%|██████████| 256/256 [00:05<00:00, 43.29it/s]  [01:18<00:08,  8.59s/it]\n",
      "Generating backtesting data: 100%|██████████| 10/10 [01:26<00:00,  8.68s/it]\n"
     ]
    }
   ],
   "source": [
    "# Evaluate the last generation\n",
    "performances, backtesting_data = trader.test_population()"
   ]
  },
  {
   "cell_type": "code",
   "execution_count": 7,
   "metadata": {},
   "outputs": [
    {
     "data": {
      "text/html": [
       "<div>\n",
       "<style scoped>\n",
       "    .dataframe tbody tr th:only-of-type {\n",
       "        vertical-align: middle;\n",
       "    }\n",
       "\n",
       "    .dataframe tbody tr th {\n",
       "        vertical-align: top;\n",
       "    }\n",
       "\n",
       "    .dataframe thead th {\n",
       "        text-align: right;\n",
       "    }\n",
       "</style>\n",
       "<table border=\"1\" class=\"dataframe\">\n",
       "  <thead>\n",
       "    <tr style=\"text-align: right;\">\n",
       "      <th></th>\n",
       "      <th>individual_index</th>\n",
       "      <th>test_case</th>\n",
       "      <th>performance</th>\n",
       "      <th>bt</th>\n",
       "    </tr>\n",
       "  </thead>\n",
       "  <tbody>\n",
       "    <tr>\n",
       "      <th>0</th>\n",
       "      <td>2353</td>\n",
       "      <td>0</td>\n",
       "      <td>Start                     2005-02-28 00:00:00\n",
       "...</td>\n",
       "      <td>&lt;backtesting.backtesting.Backtest object at 0x...</td>\n",
       "    </tr>\n",
       "    <tr>\n",
       "      <th>1</th>\n",
       "      <td>2527</td>\n",
       "      <td>0</td>\n",
       "      <td>Start                     2005-02-28 00:00:00\n",
       "...</td>\n",
       "      <td>&lt;backtesting.backtesting.Backtest object at 0x...</td>\n",
       "    </tr>\n",
       "    <tr>\n",
       "      <th>2</th>\n",
       "      <td>2543</td>\n",
       "      <td>0</td>\n",
       "      <td>Start                     2005-02-28 00:00:00\n",
       "...</td>\n",
       "      <td>&lt;backtesting.backtesting.Backtest object at 0x...</td>\n",
       "    </tr>\n",
       "    <tr>\n",
       "      <th>3</th>\n",
       "      <td>2544</td>\n",
       "      <td>0</td>\n",
       "      <td>Start                     2005-02-28 00:00:00\n",
       "...</td>\n",
       "      <td>&lt;backtesting.backtesting.Backtest object at 0x...</td>\n",
       "    </tr>\n",
       "    <tr>\n",
       "      <th>4</th>\n",
       "      <td>2545</td>\n",
       "      <td>0</td>\n",
       "      <td>Start                     2005-02-28 00:00:00\n",
       "...</td>\n",
       "      <td>&lt;backtesting.backtesting.Backtest object at 0x...</td>\n",
       "    </tr>\n",
       "  </tbody>\n",
       "</table>\n",
       "</div>"
      ],
      "text/plain": [
       "  individual_index test_case  \\\n",
       "0             2353         0   \n",
       "1             2527         0   \n",
       "2             2543         0   \n",
       "3             2544         0   \n",
       "4             2545         0   \n",
       "\n",
       "                                         performance  \\\n",
       "0  Start                     2005-02-28 00:00:00\n",
       "...   \n",
       "1  Start                     2005-02-28 00:00:00\n",
       "...   \n",
       "2  Start                     2005-02-28 00:00:00\n",
       "...   \n",
       "3  Start                     2005-02-28 00:00:00\n",
       "...   \n",
       "4  Start                     2005-02-28 00:00:00\n",
       "...   \n",
       "\n",
       "                                                  bt  \n",
       "0  <backtesting.backtesting.Backtest object at 0x...  \n",
       "1  <backtesting.backtesting.Backtest object at 0x...  \n",
       "2  <backtesting.backtesting.Backtest object at 0x...  \n",
       "3  <backtesting.backtesting.Backtest object at 0x...  \n",
       "4  <backtesting.backtesting.Backtest object at 0x...  "
      ]
     },
     "execution_count": 7,
     "metadata": {},
     "output_type": "execute_result"
    }
   ],
   "source": [
    "performances.head()"
   ]
  },
  {
   "cell_type": "code",
   "execution_count": null,
   "metadata": {},
   "outputs": [],
   "source": [
    "from neat_trader.utils.tool import initialize_population\n",
    "\n",
    "population = initialize_population(config_path, r'checkpoint\\neat-checkpoint-1979')"
   ]
  },
  {
   "cell_type": "code",
   "execution_count": null,
   "metadata": {},
   "outputs": [
    {
     "data": {
      "application/vnd.plotly.v1+json": {
       "config": {
        "plotlyServerURL": "https://plot.ly"
       },
       "data": [
        {
         "customdata": [
          [
           23203,
           933
          ],
          [
           23205,
           73
          ],
          [
           23436,
           167
          ],
          [
           23437,
           131
          ],
          [
           23438,
           145
          ],
          [
           23439,
           3125
          ],
          [
           23440,
           22
          ],
          [
           23441,
           95
          ],
          [
           23442,
           68
          ],
          [
           23443,
           107
          ],
          [
           23444,
           79
          ],
          [
           23445,
           34
          ],
          [
           23446,
           77
          ],
          [
           23447,
           60
          ],
          [
           23448,
           116
          ],
          [
           23449,
           67
          ],
          [
           23450,
           1691
          ],
          [
           23451,
           41
          ],
          [
           23452,
           57
          ],
          [
           23453,
           65
          ],
          [
           23454,
           71
          ],
          [
           23455,
           367
          ],
          [
           23456,
           78
          ],
          [
           23457,
           59
          ],
          [
           23458,
           23
          ],
          [
           23459,
           93
          ],
          [
           23460,
           91
          ],
          [
           23461,
           96
          ],
          [
           23462,
           64
          ],
          [
           23387,
           89
          ],
          [
           23403,
           447
          ],
          [
           23463,
           21
          ],
          [
           23464,
           32
          ],
          [
           23465,
           21
          ],
          [
           23466,
           170
          ],
          [
           23467,
           27
          ],
          [
           23468,
           71
          ],
          [
           23469,
           46
          ],
          [
           23470,
           113
          ],
          [
           23471,
           1349
          ],
          [
           23472,
           25
          ],
          [
           23473,
           260
          ],
          [
           23474,
           86
          ],
          [
           23475,
           24
          ],
          [
           23476,
           50
          ],
          [
           23477,
           20
          ],
          [
           23478,
           353
          ],
          [
           23479,
           30
          ],
          [
           23480,
           69
          ],
          [
           23481,
           131
          ],
          [
           23482,
           35
          ],
          [
           23483,
           28
          ],
          [
           23484,
           20
          ],
          [
           23485,
           20
          ],
          [
           23486,
           20
          ],
          [
           23487,
           145
          ],
          [
           23488,
           21
          ],
          [
           23489,
           369
          ],
          [
           23490,
           36
          ],
          [
           23491,
           96
          ],
          [
           23492,
           26
          ],
          [
           23493,
           22
          ],
          [
           23494,
           220
          ],
          [
           23495,
           24
          ],
          [
           23496,
           665
          ],
          [
           23497,
           1036
          ],
          [
           23498,
           27
          ],
          [
           23499,
           27
          ],
          [
           23500,
           20
          ],
          [
           23501,
           24
          ],
          [
           23502,
           35
          ],
          [
           23503,
           20
          ],
          [
           23504,
           3396
          ],
          [
           23505,
           55
          ],
          [
           23506,
           77
          ],
          [
           23507,
           20
          ],
          [
           23325,
           82
          ],
          [
           23304,
           98
          ],
          [
           23508,
           177
          ],
          [
           23509,
           255
          ],
          [
           23510,
           6
          ],
          [
           23511,
           538
          ],
          [
           23512,
           110
          ],
          [
           23513,
           20
          ],
          [
           23514,
           20
          ],
          [
           23515,
           27
          ],
          [
           23516,
           83
          ],
          [
           23517,
           0
          ],
          [
           23518,
           150
          ],
          [
           23519,
           136
          ],
          [
           23520,
           266
          ],
          [
           23521,
           279
          ],
          [
           23522,
           286
          ],
          [
           23523,
           0
          ],
          [
           23524,
           21
          ],
          [
           23525,
           97
          ],
          [
           23526,
           79
          ],
          [
           23527,
           291
          ],
          [
           23528,
           228
          ],
          [
           23529,
           20
          ],
          [
           23530,
           20
          ],
          [
           23531,
           20
          ],
          [
           23532,
           138
          ],
          [
           23533,
           170
          ],
          [
           23534,
           93
          ],
          [
           23535,
           249
          ],
          [
           23536,
           538
          ],
          [
           23537,
           108
          ],
          [
           23538,
           78
          ],
          [
           23539,
           609
          ],
          [
           23540,
           142
          ],
          [
           23541,
           627
          ],
          [
           23542,
           28
          ],
          [
           23543,
           45
          ],
          [
           23544,
           146
          ],
          [
           23545,
           20
          ],
          [
           23546,
           360
          ],
          [
           23547,
           93
          ],
          [
           23548,
           244
          ],
          [
           23549,
           0
          ],
          [
           23274,
           226
          ],
          [
           23278,
           215
          ],
          [
           23550,
           20
          ],
          [
           23551,
           496
          ],
          [
           23552,
           80
          ],
          [
           23553,
           125
          ],
          [
           23554,
           278
          ],
          [
           23555,
           262
          ],
          [
           23556,
           20
          ],
          [
           23557,
           20
          ],
          [
           23558,
           209
          ],
          [
           23559,
           796
          ],
          [
           23560,
           107
          ],
          [
           23561,
           214
          ],
          [
           23562,
           20
          ],
          [
           23563,
           75
          ],
          [
           23564,
           20
          ],
          [
           23565,
           20
          ],
          [
           23566,
           20
          ],
          [
           23567,
           20
          ],
          [
           23568,
           20
          ],
          [
           23569,
           20
          ],
          [
           23570,
           209
          ],
          [
           23571,
           56
          ],
          [
           23572,
           126
          ],
          [
           23573,
           654
          ],
          [
           23574,
           434
          ],
          [
           23575,
           20
          ],
          [
           23576,
           111
          ],
          [
           23577,
           693
          ],
          [
           23578,
           20
          ],
          [
           23579,
           20
          ],
          [
           23580,
           0
          ],
          [
           23581,
           703
          ],
          [
           23582,
           182
          ],
          [
           23583,
           20
          ],
          [
           23584,
           76
          ],
          [
           23585,
           64
          ],
          [
           23586,
           20
          ],
          [
           23587,
           258
          ],
          [
           23588,
           20
          ],
          [
           23589,
           300
          ],
          [
           23590,
           139
          ],
          [
           23591,
           121
          ],
          [
           23362,
           1079
          ],
          [
           22426,
           755
          ],
          [
           23592,
           722
          ],
          [
           23593,
           323
          ],
          [
           23594,
           21
          ],
          [
           23595,
           22
          ],
          [
           23596,
           24
          ],
          [
           23597,
           372
          ],
          [
           23598,
           20
          ],
          [
           23599,
           768
          ],
          [
           23600,
           361
          ],
          [
           23601,
           1300
          ],
          [
           23602,
           647
          ],
          [
           23603,
           20
          ],
          [
           23604,
           20
          ],
          [
           23605,
           650
          ],
          [
           23606,
           20
          ],
          [
           23607,
           20
          ],
          [
           23608,
           20
          ],
          [
           23609,
           20
          ],
          [
           23610,
           20
          ],
          [
           23611,
           889
          ],
          [
           23612,
           1340
          ],
          [
           23613,
           263
          ],
          [
           23614,
           41
          ],
          [
           23615,
           63
          ],
          [
           23616,
           20
          ],
          [
           23617,
           20
          ],
          [
           23618,
           22
          ],
          [
           23619,
           1787
          ],
          [
           23620,
           24
          ],
          [
           23621,
           20
          ],
          [
           23622,
           21
          ],
          [
           23623,
           4592
          ],
          [
           23624,
           646
          ],
          [
           23625,
           20
          ],
          [
           23626,
           22
          ],
          [
           23627,
           645
          ],
          [
           23628,
           398
          ],
          [
           23629,
           669
          ],
          [
           23630,
           653
          ],
          [
           23631,
           2
          ],
          [
           23632,
           647
          ],
          [
           23633,
           645
          ],
          [
           23634,
           659
          ],
          [
           23635,
           20
          ],
          [
           23228,
           1209
          ],
          [
           23246,
           1766
          ],
          [
           23636,
           81
          ],
          [
           23637,
           615
          ],
          [
           23638,
           472
          ],
          [
           23639,
           576
          ],
          [
           23640,
           95
          ],
          [
           23641,
           2323
          ],
          [
           23642,
           0
          ],
          [
           23643,
           1025
          ],
          [
           23644,
           4421
          ],
          [
           23645,
           681
          ],
          [
           23646,
           2415
          ],
          [
           23647,
           819
          ],
          [
           23648,
           856
          ],
          [
           23649,
           1112
          ],
          [
           23650,
           39
          ],
          [
           23651,
           1275
          ],
          [
           23652,
           1019
          ],
          [
           23653,
           77
          ],
          [
           23654,
           2356
          ],
          [
           23655,
           834
          ],
          [
           23656,
           98
          ],
          [
           23657,
           22
          ],
          [
           23658,
           62
          ],
          [
           23659,
           20
          ],
          [
           23660,
           114
          ],
          [
           23661,
           503
          ],
          [
           23662,
           312
          ],
          [
           23663,
           2605
          ],
          [
           23664,
           4711
          ],
          [
           23665,
           2434
          ],
          [
           23666,
           504
          ],
          [
           23667,
           646
          ],
          [
           23668,
           0
          ],
          [
           23669,
           20
          ],
          [
           23670,
           807
          ],
          [
           23671,
           2881
          ],
          [
           23672,
           20
          ],
          [
           23673,
           1830
          ],
          [
           23674,
           1190
          ],
          [
           23675,
           953
          ],
          [
           23676,
           853
          ],
          [
           23677,
           24
          ],
          [
           23678,
           1666
          ],
          [
           23679,
           2852
          ],
          [
           23680,
           1126
          ]
         ],
         "hovertemplate": "avg_duration=%{x}<br>total_SQN=%{y}<br>index=%{customdata[0]}<br># trades=%{customdata[1]}<br>return=%{marker.color}<extra></extra>",
         "legendgroup": "",
         "marker": {
          "color": [
           -8.321789532574709,
           18.233094367173123,
           13.886117579199516,
           17.35484084943749,
           17.040743262680376,
           12.82211846891137,
           -20.686466339857482,
           16.26831359047511,
           18.060371997430668,
           16.47732095739289,
           17.995211180312644,
           18.00997856984866,
           17.352367689078818,
           17.82870610316498,
           17.324197124827045,
           16.79906016827755,
           -3.6956888059160775,
           19.369044411911034,
           17.731039203000595,
           18.79227853672827,
           18.502070711876943,
           -16.86799131053099,
           20.60691776171566,
           19.1678993517583,
           -20.722675829738193,
           19.855019813554495,
           18.869562504815413,
           16.19723606738636,
           20.695726521339957,
           16.159568806981902,
           7.1998256932676385,
           20.188483828342424,
           -21.305083390451767,
           22.140743898725145,
           10.6217707228128,
           19.33806368736209,
           -23.97346438292134,
           19.160133570400518,
           17.356331613980746,
           -16.302506647494248,
           19.399754002944114,
           15.096995856106153,
           15.785929719345244,
           1.3852337845074978,
           19.483007541755747,
           19.375522580236463,
           -11.217737902769896,
           -18.560882595255897,
           -22.573732028348456,
           -12.99513781692804,
           20.23347864531022,
           19.960005286285593,
           18.529319466318576,
           19.375522580236463,
           19.404896379468795,
           20.0091050165503,
           19.208500565452947,
           -8.614521785130586,
           20.005000678415886,
           19.164914969579932,
           20.238371342825605,
           -20.724878558325496,
           16.093806115498555,
           19.407399701158973,
           -5.073243275265886,
           -5.665276944905366,
           17.788614846156147,
           19.369819523136705,
           19.375522580236463,
           19.40201677045237,
           -23.810553720564364,
           19.375522580236463,
           3.083190158464736,
           -23.869246157480276,
           16.150206764947047,
           19.375522580236463,
           18.47950996714926,
           17.843163089595606,
           16.685234823639206,
           12.805929311182194,
           -0.009852698323706863,
           -3.392903751923837,
           16.035205788334444,
           19.375522580236463,
           20.222502336177246,
           -20.74209618450118,
           18.521946655040416,
           0,
           12.936314463815666,
           12.980385473529878,
           11.64839421150791,
           14.805617916928298,
           11.872856205235284,
           0,
           19.377413855036046,
           18.449450056439446,
           20.6593153574205,
           15.920163136851073,
           13.955334145357682,
           19.375522580236463,
           20.220357022723874,
           19.375522580236463,
           14.935931132762681,
           12.985429386827462,
           19.60263559756528,
           10.273564209181538,
           1.200310425433316,
           17.071026089557275,
           19.27793595695787,
           -3.3695446703215053,
           18.323564720010257,
           -3.06743949667087,
           -19.835411520380312,
           20.326176393841823,
           14.694227749423806,
           19.375522580236463,
           11.484160153705458,
           18.238553747431034,
           12.031334103008039,
           0,
           8.858948572003733,
           9.711796949942073,
           22.23956671164022,
           17.393973602237576,
           19.569675918336536,
           19.462251039077906,
           22.224729087975767,
           13.476133731254198,
           19.418419189840357,
           17.7427452907538,
           18.489717611095127,
           -7.875253830128294,
           18.98663560609554,
           15.570919506229654,
           18.70224864329918,
           -18.558232532489093,
           20.666541677677944,
           19.951460356544818,
           21.80166680540811,
           21.808145520065104,
           21.8904982817828,
           20.39445287866223,
           17.083034079478153,
           18.828014956914473,
           14.450465428410945,
           -4.912239157890279,
           19.203945500888935,
           23.434364311752844,
           18.684732109243026,
           1.0622411345898835,
           21.80395966041635,
           21.968291858469676,
           0,
           -0.9637127812759146,
           9.292778369469305,
           19.685678208829604,
           15.45477960819945,
           16.127126247697408,
           19.778438779686688,
           8.333285911104849,
           19.375155444863374,
           11.037822980421433,
           19.89591088561083,
           19.9893056970755,
           0.8202262711373672,
           3.70075009698337,
           -5.328445658095379,
           18.495928382924895,
           -16.8847906379042,
           19.61172001054743,
           16.263569277759622,
           15.537417076965557,
           20.012650172990554,
           -10.67435303523397,
           -1.4721039325822423,
           20.65694345670178,
           0.1455643873415596,
           19.375522580236463,
           21.808189337561192,
           1.7967609835779044,
           19.778438779686688,
           21.972522625053283,
           20.137446635979206,
           19.685678208829604,
           20.49772449044395,
           -2.990162536930527,
           0.17184622753821657,
           18.482106211626345,
           -19.212140030068305,
           19.373750129905304,
           19.3098179539667,
           19.281609802451875,
           19.55585960193695,
           0.5073217064675362,
           19.880769828943237,
           21.968328823663768,
           17.905513863419447,
           1.108615407870075,
           2.0224208635370244,
           -20.54386054972583,
           22.208206159502527,
           -0.27849808932481573,
           19.37810070478941,
           0.2798103364852307,
           -1.5006319315180978,
           -0.5489438435262105,
           1.0393703049827714,
           0.39676602401439176,
           2.797690037131677,
           17.38894249860887,
           6.709970699478878,
           8.00848806107476,
           2.957259375359171,
           9.955259035043925,
           0.2990180717370106,
           16.926169860797955,
           20.193706066417555,
           13.605349772384155,
           0,
           17.66131887820851,
           8.688390015048675,
           -3.257835509129869,
           18.014122441884606,
           -2.1970086495444576,
           4.784190875802501,
           14.241682283478838,
           16.79503378223405,
           -1.8889713551005811,
           12.925183444035614,
           11.829283560326957,
           18.87259535384651,
           0.0026767619972192912,
           18.845396633688743,
           21.170591106020538,
           18.621202221255267,
           21.165080756178106,
           14.311255347987693,
           11.88530011238034,
           9.96736452668257,
           7.28890395922417,
           5.373126106787824,
           12.380843620821238,
           20.05058178013119,
           2.721755217813082,
           0,
           16.59959050583203,
           -5.117199721337625,
           4.152345867214458,
           18.645272897710463,
           10.841926039570925,
           20.288274369590276,
           6.9201357757921516,
           15.506003018347652,
           19.92650830480797,
           10.94980571066289,
           5.7135854424029375,
           13.275778871221007
          ],
          "coloraxis": "coloraxis",
          "symbol": "circle"
         },
         "mode": "markers",
         "name": "",
         "orientation": "h",
         "showlegend": false,
         "type": "scatter",
         "x": [
          15.25,
          143.7,
          70.9,
          80.8,
          89.05,
          74.1,
          322.15,
          113.35,
          153.15,
          123.65,
          135.4,
          267.55,
          135.2,
          173.7,
          98.1,
          174.2,
          15.55,
          240.2,
          182.6,
          168.35,
          149.65,
          160.05,
          133.9,
          174.95,
          313.75,
          116.2,
          130.25,
          103,
          166.2,
          131.7,
          88.35,
          324.55,
          309.4,
          325,
          90.6,
          284.8,
          247.25,
          234.15,
          190.95,
          27.15,
          305.15,
          138.35,
          161.05,
          null,
          244.9,
          321.75,
          86.9,
          299.25,
          254.3,
          181.25,
          266.55,
          288.1,
          322.2,
          321.75,
          322.2,
          170.35,
          316.5,
          46.1,
          278.95,
          110.3,
          307.7,
          318.8,
          173.9,
          306.55,
          12.9,
          17.8,
          304.65,
          286.6,
          321.75,
          306.7,
          292.6,
          321.75,
          26.65,
          257.5,
          139.1,
          321.75,
          126.1,
          120.8,
          58.2,
          38.95,
          null,
          19.25,
          100.65,
          321.75,
          326.9,
          289.85,
          124.6,
          null,
          74.05,
          84.45,
          41.95,
          41.4,
          29.75,
          null,
          320.75,
          102.05,
          136,
          50.9,
          48.05,
          321.75,
          326.9,
          321.75,
          75.85,
          82.95,
          124,
          47.7,
          15.45,
          106.95,
          167.5,
          13.75,
          83.4,
          13.9,
          290.2,
          254.55,
          68.3,
          321.75,
          22.7,
          125.5,
          77.2,
          null,
          35.95,
          39.9,
          335.05,
          18.6,
          142.55,
          198,
          56.8,
          45.4,
          335.7,
          331,
          325.7,
          10.45,
          119.5,
          70.65,
          331,
          162.05,
          330.1,
          327.4,
          332.5,
          332.5,
          332.55,
          328.35,
          60.45,
          242.05,
          113.45,
          13.9,
          267.85,
          333.8,
          116.6,
          11.55,
          332.5,
          331.4,
          null,
          11.65,
          47.85,
          322.95,
          187.85,
          220.65,
          322.85,
          31.6,
          321.75,
          36.5,
          95.65,
          101.3,
          13.75,
          10.4,
          13.6,
          290.7,
          340.05,
          317.6,
          322.25,
          30.25,
          334.1,
          10.55,
          null,
          243.9,
          12.95,
          321.75,
          332.5,
          12.1,
          322.85,
          331.75,
          325,
          322.95,
          340.15,
          13.25,
          6.45,
          320.75,
          315.15,
          334.55,
          328.5,
          323.35,
          318,
          175.25,
          302.55,
          331.4,
          313.55,
          73.2,
          13.55,
          342.4,
          327.25,
          12.95,
          298.5,
          13.2,
          13.55,
          null,
          13.05,
          13,
          11.9,
          328.75,
          9.65,
          11.6,
          235.85,
          21,
          171.45,
          296,
          330.9,
          224.8,
          null,
          279.95,
          110.05,
          12.5,
          144.6,
          13.7,
          11.95,
          279.7,
          324.75,
          25.25,
          272.85,
          254.4,
          189.9,
          null,
          167.45,
          320.3,
          338.25,
          330.05,
          148,
          18.25,
          29.1,
          42.3,
          145.1,
          52.35,
          290.85,
          180.5,
          null,
          306.8,
          11,
          23,
          342,
          43,
          258.65,
          10.95,
          15.4,
          318.55,
          198.5,
          43.45,
          34.6
         ],
         "xaxis": "x",
         "y": [
          -0.07685575947224393,
          0.2954508526370162,
          0.1536475989031736,
          0.21607956055416425,
          0.19128663739812954,
          0.1341148293679912,
          -0.5684258981358218,
          0.23739344038870558,
          0.3081124505823894,
          0.21678932829999936,
          0.2836378986415701,
          0.4274959022897934,
          0.27876627060789927,
          0.3213711605350766,
          0.2295544414270819,
          0.305421685417029,
          -0.03233003854023842,
          0.37917559650797733,
          0.3280098738731755,
          0.30044913146340285,
          0.27189553503385405,
          -0.16625247992996467,
          0.33198108020155165,
          0.3239844382338175,
          -0.5537684000094758,
          0.29688416245582566,
          0.2629151179015884,
          0.24446572896656762,
          0.3586013911228545,
          0.24787095377861199,
          0.06772345797647349,
          0.5905094724675902,
          -0.5413293975922943,
          0.68720624805418,
          0.14552590657506634,
          0.49656470423505344,
          -0.3533514477217468,
          0.3467116106672465,
          0.2297908000991361,
          -0.13547481526168073,
          0.5162214730114281,
          0.1625775348845683,
          0.23078260844152254,
          0.07641842103034681,
          0.35461493958682283,
          0.5946554106896784,
          -0.1747522421255944,
          -0.43424891690031364,
          -0.33367982415748976,
          -0.1961517298627947,
          0.47330251838954945,
          0.4899796376599635,
          0.5720786884484805,
          0.5946554106896784,
          0.5952905333249202,
          0.24551278882190664,
          0.5722407344261746,
          -0.1274221586540064,
          0.4580155038914123,
          0.2724628849813157,
          0.5148629704369005,
          -0.569878945778017,
          0.1899888622471598,
          0.529747428093865,
          -0.04928087802804531,
          -0.05753610303261787,
          0.4626099169325226,
          0.49206021495873536,
          0.5946554106896784,
          0.5295595150014567,
          -0.5232869608714775,
          0.5946554106896784,
          0.03135930161225037,
          -0.42528118881408594,
          0.25610185769638555,
          0.5946554106896784,
          0.2814020363530844,
          0.25847556748494027,
          0.16538540623338116,
          0.12031819302237122,
          -0.33968902084314423,
          -0.030054903275943283,
          0.2236785841115453,
          0.5946554106896784,
          0.6089318471272316,
          -0.5016786904503275,
          0.29610966783602666,
          null,
          0.15277144851645635,
          0.1651750142683472,
          0.11557186558115234,
          0.1386064889804617,
          0.13167941825368526,
          null,
          0.5760446933807599,
          0.24988261147318327,
          0.3323275249721752,
          0.15355760012906935,
          0.1492266788731733,
          0.5946554106896784,
          0.6089061006722574,
          0.5946554106896784,
          0.16870452176441086,
          0.13305369736199232,
          0.28767363637308485,
          0.10221039722782684,
          0.01216011098981562,
          0.24007832755955835,
          0.29800496582684854,
          -0.03461181381327985,
          0.2271873723639822,
          -0.03220573914310981,
          -0.48025483021671966,
          0.407113783988635,
          0.17609421129907268,
          0.5946554106896784,
          0.11560115497966619,
          0.26228697656856664,
          0.13134082193228602,
          null,
          0.13683352162541051,
          0.1583189193284844,
          0.703455334969315,
          0.129269404959226,
          0.3045017346501674,
          0.2135798829360857,
          0.23656103797859335,
          0.18615854121878145,
          0.7058673166065821,
          0.5680312238974418,
          0.543382923912924,
          -0.06599987285341456,
          0.2374240779361231,
          0.17029479689569332,
          0.5711936055697934,
          -0.3070376709733686,
          0.6037677773236783,
          0.5949356654919656,
          0.6910464148356278,
          0.6911968413833279,
          0.6931797425411138,
          0.5964736619263376,
          0.22472564787703955,
          0.371305333826375,
          0.20793714734951563,
          -0.04918335531386876,
          0.5779637835337338,
          0.6998031115994278,
          0.2323273848872292,
          0.010686597145122583,
          0.691182556485917,
          0.7014723416505625,
          null,
          -0.0062685739775018845,
          0.154589506975765,
          0.5934614249964383,
          0.29018473908220405,
          0.2980895228851557,
          0.5954339482498858,
          0.13365255096929365,
          0.5946503839799093,
          0.14975418283900427,
          0.24841458821326004,
          0.24079159117346186,
          0.006506144952739364,
          0.03264857150554998,
          -0.04868202884318288,
          0.4897603836191609,
          -0.5800778573962192,
          0.5580077542176071,
          0.5709052722040198,
          0.15489513013683093,
          0.7163238820108637,
          -0.09783922148250127,
          -0.26235360843498484,
          0.07704416197688722,
          0.0015358704838363704,
          0.5946554106896784,
          0.6911977851629115,
          0.017161805070447664,
          0.5954339482498858,
          0.6979221544400883,
          0.6080116863709466,
          0.5934614249964383,
          0.6218782714351377,
          -0.02513170618700867,
          0.0044299431019350155,
          0.6123317293876809,
          -0.4656867193918124,
          0.35589616440979005,
          0.5921852478521292,
          0.6031239057669943,
          0.5781390070552799,
          0.2892723985608979,
          0.5528097970749576,
          0.7014726906543225,
          0.5290784070704536,
          0.24543735040371215,
          0.021592371972542383,
          -0.6211297727836564,
          0.6303709262814664,
          -0.0026861507012604954,
          0.5934968142502463,
          0.0011205864357882597,
          -0.016900735327109916,
          -0.10702032100585802,
          0.01117470326773699,
          0.004073508483781359,
          0.0250755667777907,
          0.5577424390400421,
          0.05183508078352212,
          0.06582526652979945,
          0.07489349618724343,
          0.09844781703551933,
          0.33644974089444674,
          0.6046089330800807,
          0.4502953851883046,
          0.4010980842626003,
          null,
          0.06824121198549539,
          0.26405414316726616,
          -0.022952319870148435,
          0.18152603348137297,
          -0.016159511425865514,
          0.039332126466493374,
          0.05705549575746664,
          0.5326405359360133,
          -0.013124418324720263,
          0.056857153769307896,
          0.21112817051983918,
          0.0530692948534872,
          0.05961575333418411,
          0.2700442852747123,
          0.653360979564418,
          0.3929608435718754,
          0.6668083811447508,
          0.2750444600885556,
          0.07969187249313509,
          0.07780295561839047,
          0.03214035519803029,
          0.3284183602357589,
          0.040318030509919785,
          0.13381166653295187,
          0.10497032542505695,
          null,
          0.5720898307131639,
          -0.041853691719826516,
          0.014367943914447994,
          0.5916883078427863,
          0.13481132163291243,
          0.07010893282809219,
          0.05071343939276495,
          0.10745600638747788,
          0.5454845234946747,
          0.0699062013717079,
          0.02052296567161217,
          0.160871960380186
         ],
         "yaxis": "y"
        }
       ],
       "layout": {
        "coloraxis": {
         "cmid": 0,
         "colorbar": {
          "title": {
           "text": "return"
          }
         },
         "colorscale": [
          [
           0,
           "green"
          ],
          [
           0.5,
           "rgb(200,200,200)"
          ],
          [
           1,
           "red"
          ]
         ]
        },
        "legend": {
         "tracegroupgap": 0
        },
        "margin": {
         "t": 60
        },
        "template": {
         "data": {
          "bar": [
           {
            "error_x": {
             "color": "#2a3f5f"
            },
            "error_y": {
             "color": "#2a3f5f"
            },
            "marker": {
             "line": {
              "color": "#E5ECF6",
              "width": 0.5
             },
             "pattern": {
              "fillmode": "overlay",
              "size": 10,
              "solidity": 0.2
             }
            },
            "type": "bar"
           }
          ],
          "barpolar": [
           {
            "marker": {
             "line": {
              "color": "#E5ECF6",
              "width": 0.5
             },
             "pattern": {
              "fillmode": "overlay",
              "size": 10,
              "solidity": 0.2
             }
            },
            "type": "barpolar"
           }
          ],
          "carpet": [
           {
            "aaxis": {
             "endlinecolor": "#2a3f5f",
             "gridcolor": "white",
             "linecolor": "white",
             "minorgridcolor": "white",
             "startlinecolor": "#2a3f5f"
            },
            "baxis": {
             "endlinecolor": "#2a3f5f",
             "gridcolor": "white",
             "linecolor": "white",
             "minorgridcolor": "white",
             "startlinecolor": "#2a3f5f"
            },
            "type": "carpet"
           }
          ],
          "choropleth": [
           {
            "colorbar": {
             "outlinewidth": 0,
             "ticks": ""
            },
            "type": "choropleth"
           }
          ],
          "contour": [
           {
            "colorbar": {
             "outlinewidth": 0,
             "ticks": ""
            },
            "colorscale": [
             [
              0,
              "#0d0887"
             ],
             [
              0.1111111111111111,
              "#46039f"
             ],
             [
              0.2222222222222222,
              "#7201a8"
             ],
             [
              0.3333333333333333,
              "#9c179e"
             ],
             [
              0.4444444444444444,
              "#bd3786"
             ],
             [
              0.5555555555555556,
              "#d8576b"
             ],
             [
              0.6666666666666666,
              "#ed7953"
             ],
             [
              0.7777777777777778,
              "#fb9f3a"
             ],
             [
              0.8888888888888888,
              "#fdca26"
             ],
             [
              1,
              "#f0f921"
             ]
            ],
            "type": "contour"
           }
          ],
          "contourcarpet": [
           {
            "colorbar": {
             "outlinewidth": 0,
             "ticks": ""
            },
            "type": "contourcarpet"
           }
          ],
          "heatmap": [
           {
            "colorbar": {
             "outlinewidth": 0,
             "ticks": ""
            },
            "colorscale": [
             [
              0,
              "#0d0887"
             ],
             [
              0.1111111111111111,
              "#46039f"
             ],
             [
              0.2222222222222222,
              "#7201a8"
             ],
             [
              0.3333333333333333,
              "#9c179e"
             ],
             [
              0.4444444444444444,
              "#bd3786"
             ],
             [
              0.5555555555555556,
              "#d8576b"
             ],
             [
              0.6666666666666666,
              "#ed7953"
             ],
             [
              0.7777777777777778,
              "#fb9f3a"
             ],
             [
              0.8888888888888888,
              "#fdca26"
             ],
             [
              1,
              "#f0f921"
             ]
            ],
            "type": "heatmap"
           }
          ],
          "heatmapgl": [
           {
            "colorbar": {
             "outlinewidth": 0,
             "ticks": ""
            },
            "colorscale": [
             [
              0,
              "#0d0887"
             ],
             [
              0.1111111111111111,
              "#46039f"
             ],
             [
              0.2222222222222222,
              "#7201a8"
             ],
             [
              0.3333333333333333,
              "#9c179e"
             ],
             [
              0.4444444444444444,
              "#bd3786"
             ],
             [
              0.5555555555555556,
              "#d8576b"
             ],
             [
              0.6666666666666666,
              "#ed7953"
             ],
             [
              0.7777777777777778,
              "#fb9f3a"
             ],
             [
              0.8888888888888888,
              "#fdca26"
             ],
             [
              1,
              "#f0f921"
             ]
            ],
            "type": "heatmapgl"
           }
          ],
          "histogram": [
           {
            "marker": {
             "pattern": {
              "fillmode": "overlay",
              "size": 10,
              "solidity": 0.2
             }
            },
            "type": "histogram"
           }
          ],
          "histogram2d": [
           {
            "colorbar": {
             "outlinewidth": 0,
             "ticks": ""
            },
            "colorscale": [
             [
              0,
              "#0d0887"
             ],
             [
              0.1111111111111111,
              "#46039f"
             ],
             [
              0.2222222222222222,
              "#7201a8"
             ],
             [
              0.3333333333333333,
              "#9c179e"
             ],
             [
              0.4444444444444444,
              "#bd3786"
             ],
             [
              0.5555555555555556,
              "#d8576b"
             ],
             [
              0.6666666666666666,
              "#ed7953"
             ],
             [
              0.7777777777777778,
              "#fb9f3a"
             ],
             [
              0.8888888888888888,
              "#fdca26"
             ],
             [
              1,
              "#f0f921"
             ]
            ],
            "type": "histogram2d"
           }
          ],
          "histogram2dcontour": [
           {
            "colorbar": {
             "outlinewidth": 0,
             "ticks": ""
            },
            "colorscale": [
             [
              0,
              "#0d0887"
             ],
             [
              0.1111111111111111,
              "#46039f"
             ],
             [
              0.2222222222222222,
              "#7201a8"
             ],
             [
              0.3333333333333333,
              "#9c179e"
             ],
             [
              0.4444444444444444,
              "#bd3786"
             ],
             [
              0.5555555555555556,
              "#d8576b"
             ],
             [
              0.6666666666666666,
              "#ed7953"
             ],
             [
              0.7777777777777778,
              "#fb9f3a"
             ],
             [
              0.8888888888888888,
              "#fdca26"
             ],
             [
              1,
              "#f0f921"
             ]
            ],
            "type": "histogram2dcontour"
           }
          ],
          "mesh3d": [
           {
            "colorbar": {
             "outlinewidth": 0,
             "ticks": ""
            },
            "type": "mesh3d"
           }
          ],
          "parcoords": [
           {
            "line": {
             "colorbar": {
              "outlinewidth": 0,
              "ticks": ""
             }
            },
            "type": "parcoords"
           }
          ],
          "pie": [
           {
            "automargin": true,
            "type": "pie"
           }
          ],
          "scatter": [
           {
            "fillpattern": {
             "fillmode": "overlay",
             "size": 10,
             "solidity": 0.2
            },
            "type": "scatter"
           }
          ],
          "scatter3d": [
           {
            "line": {
             "colorbar": {
              "outlinewidth": 0,
              "ticks": ""
             }
            },
            "marker": {
             "colorbar": {
              "outlinewidth": 0,
              "ticks": ""
             }
            },
            "type": "scatter3d"
           }
          ],
          "scattercarpet": [
           {
            "marker": {
             "colorbar": {
              "outlinewidth": 0,
              "ticks": ""
             }
            },
            "type": "scattercarpet"
           }
          ],
          "scattergeo": [
           {
            "marker": {
             "colorbar": {
              "outlinewidth": 0,
              "ticks": ""
             }
            },
            "type": "scattergeo"
           }
          ],
          "scattergl": [
           {
            "marker": {
             "colorbar": {
              "outlinewidth": 0,
              "ticks": ""
             }
            },
            "type": "scattergl"
           }
          ],
          "scattermapbox": [
           {
            "marker": {
             "colorbar": {
              "outlinewidth": 0,
              "ticks": ""
             }
            },
            "type": "scattermapbox"
           }
          ],
          "scatterpolar": [
           {
            "marker": {
             "colorbar": {
              "outlinewidth": 0,
              "ticks": ""
             }
            },
            "type": "scatterpolar"
           }
          ],
          "scatterpolargl": [
           {
            "marker": {
             "colorbar": {
              "outlinewidth": 0,
              "ticks": ""
             }
            },
            "type": "scatterpolargl"
           }
          ],
          "scatterternary": [
           {
            "marker": {
             "colorbar": {
              "outlinewidth": 0,
              "ticks": ""
             }
            },
            "type": "scatterternary"
           }
          ],
          "surface": [
           {
            "colorbar": {
             "outlinewidth": 0,
             "ticks": ""
            },
            "colorscale": [
             [
              0,
              "#0d0887"
             ],
             [
              0.1111111111111111,
              "#46039f"
             ],
             [
              0.2222222222222222,
              "#7201a8"
             ],
             [
              0.3333333333333333,
              "#9c179e"
             ],
             [
              0.4444444444444444,
              "#bd3786"
             ],
             [
              0.5555555555555556,
              "#d8576b"
             ],
             [
              0.6666666666666666,
              "#ed7953"
             ],
             [
              0.7777777777777778,
              "#fb9f3a"
             ],
             [
              0.8888888888888888,
              "#fdca26"
             ],
             [
              1,
              "#f0f921"
             ]
            ],
            "type": "surface"
           }
          ],
          "table": [
           {
            "cells": {
             "fill": {
              "color": "#EBF0F8"
             },
             "line": {
              "color": "white"
             }
            },
            "header": {
             "fill": {
              "color": "#C8D4E3"
             },
             "line": {
              "color": "white"
             }
            },
            "type": "table"
           }
          ]
         },
         "layout": {
          "annotationdefaults": {
           "arrowcolor": "#2a3f5f",
           "arrowhead": 0,
           "arrowwidth": 1
          },
          "autotypenumbers": "strict",
          "coloraxis": {
           "colorbar": {
            "outlinewidth": 0,
            "ticks": ""
           }
          },
          "colorscale": {
           "diverging": [
            [
             0,
             "#8e0152"
            ],
            [
             0.1,
             "#c51b7d"
            ],
            [
             0.2,
             "#de77ae"
            ],
            [
             0.3,
             "#f1b6da"
            ],
            [
             0.4,
             "#fde0ef"
            ],
            [
             0.5,
             "#f7f7f7"
            ],
            [
             0.6,
             "#e6f5d0"
            ],
            [
             0.7,
             "#b8e186"
            ],
            [
             0.8,
             "#7fbc41"
            ],
            [
             0.9,
             "#4d9221"
            ],
            [
             1,
             "#276419"
            ]
           ],
           "sequential": [
            [
             0,
             "#0d0887"
            ],
            [
             0.1111111111111111,
             "#46039f"
            ],
            [
             0.2222222222222222,
             "#7201a8"
            ],
            [
             0.3333333333333333,
             "#9c179e"
            ],
            [
             0.4444444444444444,
             "#bd3786"
            ],
            [
             0.5555555555555556,
             "#d8576b"
            ],
            [
             0.6666666666666666,
             "#ed7953"
            ],
            [
             0.7777777777777778,
             "#fb9f3a"
            ],
            [
             0.8888888888888888,
             "#fdca26"
            ],
            [
             1,
             "#f0f921"
            ]
           ],
           "sequentialminus": [
            [
             0,
             "#0d0887"
            ],
            [
             0.1111111111111111,
             "#46039f"
            ],
            [
             0.2222222222222222,
             "#7201a8"
            ],
            [
             0.3333333333333333,
             "#9c179e"
            ],
            [
             0.4444444444444444,
             "#bd3786"
            ],
            [
             0.5555555555555556,
             "#d8576b"
            ],
            [
             0.6666666666666666,
             "#ed7953"
            ],
            [
             0.7777777777777778,
             "#fb9f3a"
            ],
            [
             0.8888888888888888,
             "#fdca26"
            ],
            [
             1,
             "#f0f921"
            ]
           ]
          },
          "colorway": [
           "#636efa",
           "#EF553B",
           "#00cc96",
           "#ab63fa",
           "#FFA15A",
           "#19d3f3",
           "#FF6692",
           "#B6E880",
           "#FF97FF",
           "#FECB52"
          ],
          "font": {
           "color": "#2a3f5f"
          },
          "geo": {
           "bgcolor": "white",
           "lakecolor": "white",
           "landcolor": "#E5ECF6",
           "showlakes": true,
           "showland": true,
           "subunitcolor": "white"
          },
          "hoverlabel": {
           "align": "left"
          },
          "hovermode": "closest",
          "mapbox": {
           "style": "light"
          },
          "paper_bgcolor": "white",
          "plot_bgcolor": "#E5ECF6",
          "polar": {
           "angularaxis": {
            "gridcolor": "white",
            "linecolor": "white",
            "ticks": ""
           },
           "bgcolor": "#E5ECF6",
           "radialaxis": {
            "gridcolor": "white",
            "linecolor": "white",
            "ticks": ""
           }
          },
          "scene": {
           "xaxis": {
            "backgroundcolor": "#E5ECF6",
            "gridcolor": "white",
            "gridwidth": 2,
            "linecolor": "white",
            "showbackground": true,
            "ticks": "",
            "zerolinecolor": "white"
           },
           "yaxis": {
            "backgroundcolor": "#E5ECF6",
            "gridcolor": "white",
            "gridwidth": 2,
            "linecolor": "white",
            "showbackground": true,
            "ticks": "",
            "zerolinecolor": "white"
           },
           "zaxis": {
            "backgroundcolor": "#E5ECF6",
            "gridcolor": "white",
            "gridwidth": 2,
            "linecolor": "white",
            "showbackground": true,
            "ticks": "",
            "zerolinecolor": "white"
           }
          },
          "shapedefaults": {
           "line": {
            "color": "#2a3f5f"
           }
          },
          "ternary": {
           "aaxis": {
            "gridcolor": "white",
            "linecolor": "white",
            "ticks": ""
           },
           "baxis": {
            "gridcolor": "white",
            "linecolor": "white",
            "ticks": ""
           },
           "bgcolor": "#E5ECF6",
           "caxis": {
            "gridcolor": "white",
            "linecolor": "white",
            "ticks": ""
           }
          },
          "title": {
           "x": 0.05
          },
          "xaxis": {
           "automargin": true,
           "gridcolor": "white",
           "linecolor": "white",
           "ticks": "",
           "title": {
            "standoff": 15
           },
           "zerolinecolor": "white",
           "zerolinewidth": 2
          },
          "yaxis": {
           "automargin": true,
           "gridcolor": "white",
           "linecolor": "white",
           "ticks": "",
           "title": {
            "standoff": 15
           },
           "zerolinecolor": "white",
           "zerolinewidth": 2
          }
         }
        },
        "xaxis": {
         "anchor": "y",
         "domain": [
          0,
          1
         ],
         "title": {
          "text": "avg_duration"
         }
        },
        "yaxis": {
         "anchor": "x",
         "domain": [
          0,
          1
         ],
         "title": {
          "text": "total_SQN"
         }
        }
       }
      }
     },
     "metadata": {},
     "output_type": "display_data"
    }
   ],
   "source": [
    "import plotly.express as px\n",
    "df['relative_return'] = pd.Series(df['relative_return'], dtype=float)\n",
    "px.scatter(df,x='avg_duration'  , y='total_SQN', color='return', color_continuous_midpoint=0, color_continuous_scale=['green','rgb(200,200,200)','red'], hover_data=[df.index,'# trades'])"
   ]
  },
  {
   "cell_type": "code",
   "execution_count": null,
   "metadata": {},
   "outputs": [],
   "source": [
    "df = df[df['avg_duration']<365/2]\n",
    "df = df[df['# trades']>5*20]\n",
    "df['index'] = df.index"
   ]
  },
  {
   "cell_type": "code",
   "execution_count": null,
   "metadata": {},
   "outputs": [
    {
     "data": {
      "application/vnd.plotly.v1+json": {
       "config": {
        "plotlyServerURL": "https://plot.ly"
       },
       "data": [
        {
         "customdata": [
          [
           23203,
           933
          ],
          [
           23436,
           167
          ],
          [
           23437,
           131
          ],
          [
           23438,
           145
          ],
          [
           23439,
           3125
          ],
          [
           23443,
           107
          ],
          [
           23448,
           116
          ],
          [
           23450,
           1691
          ],
          [
           23455,
           367
          ],
          [
           23403,
           447
          ],
          [
           23466,
           170
          ],
          [
           23471,
           1349
          ],
          [
           23473,
           260
          ],
          [
           23478,
           353
          ],
          [
           23481,
           131
          ],
          [
           23487,
           145
          ],
          [
           23489,
           369
          ],
          [
           23494,
           220
          ],
          [
           23496,
           665
          ],
          [
           23497,
           1036
          ],
          [
           23504,
           3396
          ],
          [
           23508,
           177
          ],
          [
           23509,
           255
          ],
          [
           23511,
           538
          ],
          [
           23512,
           110
          ],
          [
           23518,
           150
          ],
          [
           23519,
           136
          ],
          [
           23520,
           266
          ],
          [
           23521,
           279
          ],
          [
           23522,
           286
          ],
          [
           23527,
           291
          ],
          [
           23528,
           228
          ],
          [
           23532,
           138
          ],
          [
           23533,
           170
          ],
          [
           23535,
           249
          ],
          [
           23536,
           538
          ],
          [
           23537,
           108
          ],
          [
           23539,
           609
          ],
          [
           23540,
           142
          ],
          [
           23541,
           627
          ],
          [
           23544,
           146
          ],
          [
           23546,
           360
          ],
          [
           23548,
           244
          ],
          [
           23274,
           226
          ],
          [
           23278,
           215
          ],
          [
           23551,
           496
          ],
          [
           23554,
           278
          ],
          [
           23555,
           262
          ],
          [
           23559,
           796
          ],
          [
           23560,
           107
          ],
          [
           23561,
           214
          ],
          [
           23570,
           209
          ],
          [
           23572,
           126
          ],
          [
           23573,
           654
          ],
          [
           23576,
           111
          ],
          [
           23577,
           693
          ],
          [
           23581,
           703
          ],
          [
           23582,
           182
          ],
          [
           23587,
           258
          ],
          [
           23589,
           300
          ],
          [
           23590,
           139
          ],
          [
           23591,
           121
          ],
          [
           23362,
           1079
          ],
          [
           22426,
           755
          ],
          [
           23592,
           722
          ],
          [
           23597,
           372
          ],
          [
           23599,
           768
          ],
          [
           23602,
           647
          ],
          [
           23605,
           650
          ],
          [
           23611,
           889
          ],
          [
           23612,
           1340
          ],
          [
           23619,
           1787
          ],
          [
           23623,
           4592
          ],
          [
           23624,
           646
          ],
          [
           23627,
           645
          ],
          [
           23629,
           669
          ],
          [
           23630,
           653
          ],
          [
           23632,
           647
          ],
          [
           23633,
           645
          ],
          [
           23634,
           659
          ],
          [
           23228,
           1209
          ],
          [
           23246,
           1766
          ],
          [
           23637,
           615
          ],
          [
           23638,
           472
          ],
          [
           23644,
           4421
          ],
          [
           23645,
           681
          ],
          [
           23646,
           2415
          ],
          [
           23647,
           819
          ],
          [
           23648,
           856
          ],
          [
           23651,
           1275
          ],
          [
           23660,
           114
          ],
          [
           23661,
           503
          ],
          [
           23662,
           312
          ],
          [
           23663,
           2605
          ],
          [
           23664,
           4711
          ],
          [
           23665,
           2434
          ],
          [
           23667,
           646
          ],
          [
           23670,
           807
          ],
          [
           23671,
           2881
          ],
          [
           23673,
           1830
          ],
          [
           23675,
           953
          ],
          [
           23676,
           853
          ],
          [
           23679,
           2852
          ],
          [
           23680,
           1126
          ]
         ],
         "hovertemplate": "avg_duration=%{x}<br>total_SQN=%{y}<br>_index=%{customdata[0]}<br># trades=%{customdata[1]}<br>return=%{marker.color}<extra></extra>",
         "legendgroup": "",
         "marker": {
          "color": [
           -8.321789532574709,
           13.886117579199516,
           17.35484084943749,
           17.040743262680376,
           12.82211846891137,
           16.47732095739289,
           17.324197124827045,
           -3.6956888059160775,
           -16.86799131053099,
           7.1998256932676385,
           10.6217707228128,
           -16.302506647494248,
           15.096995856106153,
           -11.217737902769896,
           -12.99513781692804,
           20.0091050165503,
           -8.614521785130586,
           16.093806115498555,
           -5.073243275265886,
           -5.665276944905366,
           3.083190158464736,
           16.685234823639206,
           12.805929311182194,
           -3.392903751923837,
           16.035205788334444,
           12.936314463815666,
           12.980385473529878,
           11.64839421150791,
           14.805617916928298,
           11.872856205235284,
           15.920163136851073,
           13.955334145357682,
           14.935931132762681,
           12.985429386827462,
           10.273564209181538,
           1.200310425433316,
           17.071026089557275,
           -3.3695446703215053,
           18.323564720010257,
           -3.06743949667087,
           14.694227749423806,
           11.484160153705458,
           12.031334103008039,
           8.858948572003733,
           9.711796949942073,
           17.393973602237576,
           22.224729087975767,
           13.476133731254198,
           -7.875253830128294,
           18.98663560609554,
           15.570919506229654,
           17.083034079478153,
           14.450465428410945,
           -4.912239157890279,
           18.684732109243026,
           1.0622411345898835,
           -0.9637127812759146,
           9.292778369469305,
           8.333285911104849,
           11.037822980421433,
           19.89591088561083,
           19.9893056970755,
           0.8202262711373672,
           3.70075009698337,
           -5.328445658095379,
           15.537417076965557,
           -10.67435303523397,
           0.1455643873415596,
           1.7967609835779044,
           -2.990162536930527,
           0.17184622753821657,
           0.5073217064675362,
           1.108615407870075,
           2.0224208635370244,
           -0.27849808932481573,
           0.2798103364852307,
           -1.5006319315180978,
           1.0393703049827714,
           0.39676602401439176,
           2.797690037131677,
           6.709970699478878,
           8.00848806107476,
           9.955259035043925,
           0.2990180717370106,
           8.688390015048675,
           -3.257835509129869,
           18.014122441884606,
           -2.1970086495444576,
           4.784190875802501,
           -1.8889713551005811,
           14.311255347987693,
           11.88530011238034,
           9.96736452668257,
           7.28890395922417,
           5.373126106787824,
           12.380843620821238,
           2.721755217813082,
           -5.117199721337625,
           4.152345867214458,
           10.841926039570925,
           6.9201357757921516,
           15.506003018347652,
           5.7135854424029375,
           13.275778871221007
          ],
          "coloraxis": "coloraxis",
          "symbol": "circle"
         },
         "mode": "markers",
         "name": "",
         "orientation": "h",
         "showlegend": false,
         "type": "scatter",
         "x": [
          15.25,
          70.9,
          80.8,
          89.05,
          74.1,
          123.65,
          98.1,
          15.55,
          160.05,
          88.35,
          90.6,
          27.15,
          138.35,
          86.9,
          181.25,
          170.35,
          46.1,
          173.9,
          12.9,
          17.8,
          26.65,
          58.2,
          38.95,
          19.25,
          100.65,
          74.05,
          84.45,
          41.95,
          41.4,
          29.75,
          50.9,
          48.05,
          75.85,
          82.95,
          47.7,
          15.45,
          106.95,
          13.75,
          83.4,
          13.9,
          68.3,
          22.7,
          77.2,
          35.95,
          39.9,
          18.6,
          56.8,
          45.4,
          10.45,
          119.5,
          70.65,
          60.45,
          113.45,
          13.9,
          116.6,
          11.55,
          11.65,
          47.85,
          31.6,
          36.5,
          95.65,
          101.3,
          13.75,
          10.4,
          13.6,
          30.25,
          10.55,
          12.95,
          12.1,
          13.25,
          6.45,
          175.25,
          73.2,
          13.55,
          12.95,
          13.2,
          13.55,
          13.05,
          13,
          11.9,
          9.65,
          11.6,
          21,
          171.45,
          110.05,
          12.5,
          144.6,
          13.7,
          11.95,
          25.25,
          148,
          18.25,
          29.1,
          42.3,
          145.1,
          52.35,
          180.5,
          11,
          23,
          43,
          10.95,
          15.4,
          43.45,
          34.6
         ],
         "xaxis": "x",
         "y": [
          -0.07685575947224393,
          0.1536475989031736,
          0.21607956055416425,
          0.19128663739812954,
          0.1341148293679912,
          0.21678932829999936,
          0.2295544414270819,
          -0.03233003854023842,
          -0.16625247992996467,
          0.06772345797647349,
          0.14552590657506634,
          -0.13547481526168073,
          0.1625775348845683,
          -0.1747522421255944,
          -0.1961517298627947,
          0.24551278882190664,
          -0.1274221586540064,
          0.1899888622471598,
          -0.04928087802804531,
          -0.05753610303261787,
          0.03135930161225037,
          0.16538540623338116,
          0.12031819302237122,
          -0.030054903275943283,
          0.2236785841115453,
          0.15277144851645635,
          0.1651750142683472,
          0.11557186558115234,
          0.1386064889804617,
          0.13167941825368526,
          0.15355760012906935,
          0.1492266788731733,
          0.16870452176441086,
          0.13305369736199232,
          0.10221039722782684,
          0.01216011098981562,
          0.24007832755955835,
          -0.03461181381327985,
          0.2271873723639822,
          -0.03220573914310981,
          0.17609421129907268,
          0.11560115497966619,
          0.13134082193228602,
          0.13683352162541051,
          0.1583189193284844,
          0.129269404959226,
          0.23656103797859335,
          0.18615854121878145,
          -0.06599987285341456,
          0.2374240779361231,
          0.17029479689569332,
          0.22472564787703955,
          0.20793714734951563,
          -0.04918335531386876,
          0.2323273848872292,
          0.010686597145122583,
          -0.0062685739775018845,
          0.154589506975765,
          0.13365255096929365,
          0.14975418283900427,
          0.24841458821326004,
          0.24079159117346186,
          0.006506144952739364,
          0.03264857150554998,
          -0.04868202884318288,
          0.15489513013683093,
          -0.09783922148250127,
          0.0015358704838363704,
          0.017161805070447664,
          -0.02513170618700867,
          0.0044299431019350155,
          0.2892723985608979,
          0.24543735040371215,
          0.021592371972542383,
          -0.0026861507012604954,
          0.0011205864357882597,
          -0.016900735327109916,
          0.01117470326773699,
          0.004073508483781359,
          0.0250755667777907,
          0.05183508078352212,
          0.06582526652979945,
          0.09844781703551933,
          0.33644974089444674,
          0.26405414316726616,
          -0.022952319870148435,
          0.18152603348137297,
          -0.016159511425865514,
          0.039332126466493374,
          -0.013124418324720263,
          0.2750444600885556,
          0.07969187249313509,
          0.07780295561839047,
          0.03214035519803029,
          0.3284183602357589,
          0.040318030509919785,
          0.10497032542505695,
          -0.041853691719826516,
          0.014367943914447994,
          0.13481132163291243,
          0.05071343939276495,
          0.10745600638747788,
          0.02052296567161217,
          0.160871960380186
         ],
         "yaxis": "y"
        }
       ],
       "layout": {
        "coloraxis": {
         "cmid": 0,
         "colorbar": {
          "title": {
           "text": "return"
          }
         },
         "colorscale": [
          [
           0,
           "green"
          ],
          [
           0.5,
           "white"
          ],
          [
           1,
           "red"
          ]
         ]
        },
        "legend": {
         "tracegroupgap": 0
        },
        "margin": {
         "t": 60
        },
        "template": {
         "data": {
          "bar": [
           {
            "error_x": {
             "color": "#2a3f5f"
            },
            "error_y": {
             "color": "#2a3f5f"
            },
            "marker": {
             "line": {
              "color": "#E5ECF6",
              "width": 0.5
             },
             "pattern": {
              "fillmode": "overlay",
              "size": 10,
              "solidity": 0.2
             }
            },
            "type": "bar"
           }
          ],
          "barpolar": [
           {
            "marker": {
             "line": {
              "color": "#E5ECF6",
              "width": 0.5
             },
             "pattern": {
              "fillmode": "overlay",
              "size": 10,
              "solidity": 0.2
             }
            },
            "type": "barpolar"
           }
          ],
          "carpet": [
           {
            "aaxis": {
             "endlinecolor": "#2a3f5f",
             "gridcolor": "white",
             "linecolor": "white",
             "minorgridcolor": "white",
             "startlinecolor": "#2a3f5f"
            },
            "baxis": {
             "endlinecolor": "#2a3f5f",
             "gridcolor": "white",
             "linecolor": "white",
             "minorgridcolor": "white",
             "startlinecolor": "#2a3f5f"
            },
            "type": "carpet"
           }
          ],
          "choropleth": [
           {
            "colorbar": {
             "outlinewidth": 0,
             "ticks": ""
            },
            "type": "choropleth"
           }
          ],
          "contour": [
           {
            "colorbar": {
             "outlinewidth": 0,
             "ticks": ""
            },
            "colorscale": [
             [
              0,
              "#0d0887"
             ],
             [
              0.1111111111111111,
              "#46039f"
             ],
             [
              0.2222222222222222,
              "#7201a8"
             ],
             [
              0.3333333333333333,
              "#9c179e"
             ],
             [
              0.4444444444444444,
              "#bd3786"
             ],
             [
              0.5555555555555556,
              "#d8576b"
             ],
             [
              0.6666666666666666,
              "#ed7953"
             ],
             [
              0.7777777777777778,
              "#fb9f3a"
             ],
             [
              0.8888888888888888,
              "#fdca26"
             ],
             [
              1,
              "#f0f921"
             ]
            ],
            "type": "contour"
           }
          ],
          "contourcarpet": [
           {
            "colorbar": {
             "outlinewidth": 0,
             "ticks": ""
            },
            "type": "contourcarpet"
           }
          ],
          "heatmap": [
           {
            "colorbar": {
             "outlinewidth": 0,
             "ticks": ""
            },
            "colorscale": [
             [
              0,
              "#0d0887"
             ],
             [
              0.1111111111111111,
              "#46039f"
             ],
             [
              0.2222222222222222,
              "#7201a8"
             ],
             [
              0.3333333333333333,
              "#9c179e"
             ],
             [
              0.4444444444444444,
              "#bd3786"
             ],
             [
              0.5555555555555556,
              "#d8576b"
             ],
             [
              0.6666666666666666,
              "#ed7953"
             ],
             [
              0.7777777777777778,
              "#fb9f3a"
             ],
             [
              0.8888888888888888,
              "#fdca26"
             ],
             [
              1,
              "#f0f921"
             ]
            ],
            "type": "heatmap"
           }
          ],
          "heatmapgl": [
           {
            "colorbar": {
             "outlinewidth": 0,
             "ticks": ""
            },
            "colorscale": [
             [
              0,
              "#0d0887"
             ],
             [
              0.1111111111111111,
              "#46039f"
             ],
             [
              0.2222222222222222,
              "#7201a8"
             ],
             [
              0.3333333333333333,
              "#9c179e"
             ],
             [
              0.4444444444444444,
              "#bd3786"
             ],
             [
              0.5555555555555556,
              "#d8576b"
             ],
             [
              0.6666666666666666,
              "#ed7953"
             ],
             [
              0.7777777777777778,
              "#fb9f3a"
             ],
             [
              0.8888888888888888,
              "#fdca26"
             ],
             [
              1,
              "#f0f921"
             ]
            ],
            "type": "heatmapgl"
           }
          ],
          "histogram": [
           {
            "marker": {
             "pattern": {
              "fillmode": "overlay",
              "size": 10,
              "solidity": 0.2
             }
            },
            "type": "histogram"
           }
          ],
          "histogram2d": [
           {
            "colorbar": {
             "outlinewidth": 0,
             "ticks": ""
            },
            "colorscale": [
             [
              0,
              "#0d0887"
             ],
             [
              0.1111111111111111,
              "#46039f"
             ],
             [
              0.2222222222222222,
              "#7201a8"
             ],
             [
              0.3333333333333333,
              "#9c179e"
             ],
             [
              0.4444444444444444,
              "#bd3786"
             ],
             [
              0.5555555555555556,
              "#d8576b"
             ],
             [
              0.6666666666666666,
              "#ed7953"
             ],
             [
              0.7777777777777778,
              "#fb9f3a"
             ],
             [
              0.8888888888888888,
              "#fdca26"
             ],
             [
              1,
              "#f0f921"
             ]
            ],
            "type": "histogram2d"
           }
          ],
          "histogram2dcontour": [
           {
            "colorbar": {
             "outlinewidth": 0,
             "ticks": ""
            },
            "colorscale": [
             [
              0,
              "#0d0887"
             ],
             [
              0.1111111111111111,
              "#46039f"
             ],
             [
              0.2222222222222222,
              "#7201a8"
             ],
             [
              0.3333333333333333,
              "#9c179e"
             ],
             [
              0.4444444444444444,
              "#bd3786"
             ],
             [
              0.5555555555555556,
              "#d8576b"
             ],
             [
              0.6666666666666666,
              "#ed7953"
             ],
             [
              0.7777777777777778,
              "#fb9f3a"
             ],
             [
              0.8888888888888888,
              "#fdca26"
             ],
             [
              1,
              "#f0f921"
             ]
            ],
            "type": "histogram2dcontour"
           }
          ],
          "mesh3d": [
           {
            "colorbar": {
             "outlinewidth": 0,
             "ticks": ""
            },
            "type": "mesh3d"
           }
          ],
          "parcoords": [
           {
            "line": {
             "colorbar": {
              "outlinewidth": 0,
              "ticks": ""
             }
            },
            "type": "parcoords"
           }
          ],
          "pie": [
           {
            "automargin": true,
            "type": "pie"
           }
          ],
          "scatter": [
           {
            "fillpattern": {
             "fillmode": "overlay",
             "size": 10,
             "solidity": 0.2
            },
            "type": "scatter"
           }
          ],
          "scatter3d": [
           {
            "line": {
             "colorbar": {
              "outlinewidth": 0,
              "ticks": ""
             }
            },
            "marker": {
             "colorbar": {
              "outlinewidth": 0,
              "ticks": ""
             }
            },
            "type": "scatter3d"
           }
          ],
          "scattercarpet": [
           {
            "marker": {
             "colorbar": {
              "outlinewidth": 0,
              "ticks": ""
             }
            },
            "type": "scattercarpet"
           }
          ],
          "scattergeo": [
           {
            "marker": {
             "colorbar": {
              "outlinewidth": 0,
              "ticks": ""
             }
            },
            "type": "scattergeo"
           }
          ],
          "scattergl": [
           {
            "marker": {
             "colorbar": {
              "outlinewidth": 0,
              "ticks": ""
             }
            },
            "type": "scattergl"
           }
          ],
          "scattermapbox": [
           {
            "marker": {
             "colorbar": {
              "outlinewidth": 0,
              "ticks": ""
             }
            },
            "type": "scattermapbox"
           }
          ],
          "scatterpolar": [
           {
            "marker": {
             "colorbar": {
              "outlinewidth": 0,
              "ticks": ""
             }
            },
            "type": "scatterpolar"
           }
          ],
          "scatterpolargl": [
           {
            "marker": {
             "colorbar": {
              "outlinewidth": 0,
              "ticks": ""
             }
            },
            "type": "scatterpolargl"
           }
          ],
          "scatterternary": [
           {
            "marker": {
             "colorbar": {
              "outlinewidth": 0,
              "ticks": ""
             }
            },
            "type": "scatterternary"
           }
          ],
          "surface": [
           {
            "colorbar": {
             "outlinewidth": 0,
             "ticks": ""
            },
            "colorscale": [
             [
              0,
              "#0d0887"
             ],
             [
              0.1111111111111111,
              "#46039f"
             ],
             [
              0.2222222222222222,
              "#7201a8"
             ],
             [
              0.3333333333333333,
              "#9c179e"
             ],
             [
              0.4444444444444444,
              "#bd3786"
             ],
             [
              0.5555555555555556,
              "#d8576b"
             ],
             [
              0.6666666666666666,
              "#ed7953"
             ],
             [
              0.7777777777777778,
              "#fb9f3a"
             ],
             [
              0.8888888888888888,
              "#fdca26"
             ],
             [
              1,
              "#f0f921"
             ]
            ],
            "type": "surface"
           }
          ],
          "table": [
           {
            "cells": {
             "fill": {
              "color": "#EBF0F8"
             },
             "line": {
              "color": "white"
             }
            },
            "header": {
             "fill": {
              "color": "#C8D4E3"
             },
             "line": {
              "color": "white"
             }
            },
            "type": "table"
           }
          ]
         },
         "layout": {
          "annotationdefaults": {
           "arrowcolor": "#2a3f5f",
           "arrowhead": 0,
           "arrowwidth": 1
          },
          "autotypenumbers": "strict",
          "coloraxis": {
           "colorbar": {
            "outlinewidth": 0,
            "ticks": ""
           }
          },
          "colorscale": {
           "diverging": [
            [
             0,
             "#8e0152"
            ],
            [
             0.1,
             "#c51b7d"
            ],
            [
             0.2,
             "#de77ae"
            ],
            [
             0.3,
             "#f1b6da"
            ],
            [
             0.4,
             "#fde0ef"
            ],
            [
             0.5,
             "#f7f7f7"
            ],
            [
             0.6,
             "#e6f5d0"
            ],
            [
             0.7,
             "#b8e186"
            ],
            [
             0.8,
             "#7fbc41"
            ],
            [
             0.9,
             "#4d9221"
            ],
            [
             1,
             "#276419"
            ]
           ],
           "sequential": [
            [
             0,
             "#0d0887"
            ],
            [
             0.1111111111111111,
             "#46039f"
            ],
            [
             0.2222222222222222,
             "#7201a8"
            ],
            [
             0.3333333333333333,
             "#9c179e"
            ],
            [
             0.4444444444444444,
             "#bd3786"
            ],
            [
             0.5555555555555556,
             "#d8576b"
            ],
            [
             0.6666666666666666,
             "#ed7953"
            ],
            [
             0.7777777777777778,
             "#fb9f3a"
            ],
            [
             0.8888888888888888,
             "#fdca26"
            ],
            [
             1,
             "#f0f921"
            ]
           ],
           "sequentialminus": [
            [
             0,
             "#0d0887"
            ],
            [
             0.1111111111111111,
             "#46039f"
            ],
            [
             0.2222222222222222,
             "#7201a8"
            ],
            [
             0.3333333333333333,
             "#9c179e"
            ],
            [
             0.4444444444444444,
             "#bd3786"
            ],
            [
             0.5555555555555556,
             "#d8576b"
            ],
            [
             0.6666666666666666,
             "#ed7953"
            ],
            [
             0.7777777777777778,
             "#fb9f3a"
            ],
            [
             0.8888888888888888,
             "#fdca26"
            ],
            [
             1,
             "#f0f921"
            ]
           ]
          },
          "colorway": [
           "#636efa",
           "#EF553B",
           "#00cc96",
           "#ab63fa",
           "#FFA15A",
           "#19d3f3",
           "#FF6692",
           "#B6E880",
           "#FF97FF",
           "#FECB52"
          ],
          "font": {
           "color": "#2a3f5f"
          },
          "geo": {
           "bgcolor": "white",
           "lakecolor": "white",
           "landcolor": "#E5ECF6",
           "showlakes": true,
           "showland": true,
           "subunitcolor": "white"
          },
          "hoverlabel": {
           "align": "left"
          },
          "hovermode": "closest",
          "mapbox": {
           "style": "light"
          },
          "paper_bgcolor": "white",
          "plot_bgcolor": "#E5ECF6",
          "polar": {
           "angularaxis": {
            "gridcolor": "white",
            "linecolor": "white",
            "ticks": ""
           },
           "bgcolor": "#E5ECF6",
           "radialaxis": {
            "gridcolor": "white",
            "linecolor": "white",
            "ticks": ""
           }
          },
          "scene": {
           "xaxis": {
            "backgroundcolor": "#E5ECF6",
            "gridcolor": "white",
            "gridwidth": 2,
            "linecolor": "white",
            "showbackground": true,
            "ticks": "",
            "zerolinecolor": "white"
           },
           "yaxis": {
            "backgroundcolor": "#E5ECF6",
            "gridcolor": "white",
            "gridwidth": 2,
            "linecolor": "white",
            "showbackground": true,
            "ticks": "",
            "zerolinecolor": "white"
           },
           "zaxis": {
            "backgroundcolor": "#E5ECF6",
            "gridcolor": "white",
            "gridwidth": 2,
            "linecolor": "white",
            "showbackground": true,
            "ticks": "",
            "zerolinecolor": "white"
           }
          },
          "shapedefaults": {
           "line": {
            "color": "#2a3f5f"
           }
          },
          "ternary": {
           "aaxis": {
            "gridcolor": "white",
            "linecolor": "white",
            "ticks": ""
           },
           "baxis": {
            "gridcolor": "white",
            "linecolor": "white",
            "ticks": ""
           },
           "bgcolor": "#E5ECF6",
           "caxis": {
            "gridcolor": "white",
            "linecolor": "white",
            "ticks": ""
           }
          },
          "title": {
           "x": 0.05
          },
          "xaxis": {
           "automargin": true,
           "gridcolor": "white",
           "linecolor": "white",
           "ticks": "",
           "title": {
            "standoff": 15
           },
           "zerolinecolor": "white",
           "zerolinewidth": 2
          },
          "yaxis": {
           "automargin": true,
           "gridcolor": "white",
           "linecolor": "white",
           "ticks": "",
           "title": {
            "standoff": 15
           },
           "zerolinecolor": "white",
           "zerolinewidth": 2
          }
         }
        },
        "xaxis": {
         "anchor": "y",
         "domain": [
          0,
          1
         ],
         "title": {
          "text": "avg_duration"
         }
        },
        "yaxis": {
         "anchor": "x",
         "domain": [
          0,
          1
         ],
         "title": {
          "text": "total_SQN"
         }
        }
       }
      }
     },
     "metadata": {},
     "output_type": "display_data"
    }
   ],
   "source": [
    "import plotly.express as px\n",
    "df['relative_return'] = pd.Series(df['relative_return'], dtype=float)\n",
    "fig = px.scatter(df,x='avg_duration', y='total_SQN', color='return', color_continuous_midpoint=0, color_continuous_scale=['green','white','red'], hover_data=[df.index,'# trades'])\n",
    "fig.show()\n",
    "fig.write_html(\"checkpoint\\VERY_GOOD\\graph/population.html\")"
   ]
  },
  {
   "cell_type": "code",
   "execution_count": null,
   "metadata": {},
   "outputs": [],
   "source": [
    "performance, bts = test_individual('VERY_GOOD',1979, 23554, 100,365)"
   ]
  },
  {
   "cell_type": "code",
   "execution_count": null,
   "metadata": {},
   "outputs": [
    {
     "data": {
      "text/html": [
       "<div>\n",
       "<style scoped>\n",
       "    .dataframe tbody tr th:only-of-type {\n",
       "        vertical-align: middle;\n",
       "    }\n",
       "\n",
       "    .dataframe tbody tr th {\n",
       "        vertical-align: top;\n",
       "    }\n",
       "\n",
       "    .dataframe thead th {\n",
       "        text-align: right;\n",
       "    }\n",
       "</style>\n",
       "<table border=\"1\" class=\"dataframe\">\n",
       "  <thead>\n",
       "    <tr style=\"text-align: right;\">\n",
       "      <th></th>\n",
       "      <th>Start</th>\n",
       "      <th>End</th>\n",
       "      <th>Duration</th>\n",
       "      <th>Exposure Time [%]</th>\n",
       "      <th>Equity Final [$]</th>\n",
       "      <th>Equity Peak [$]</th>\n",
       "      <th>Return [%]</th>\n",
       "      <th>Buy &amp; Hold Return [%]</th>\n",
       "      <th>Return (Ann.) [%]</th>\n",
       "      <th>Volatility (Ann.) [%]</th>\n",
       "      <th>...</th>\n",
       "      <th>Avg. Trade [%]</th>\n",
       "      <th>Max. Trade Duration</th>\n",
       "      <th>Avg. Trade Duration</th>\n",
       "      <th>Profit Factor</th>\n",
       "      <th>Expectancy [%]</th>\n",
       "      <th>SQN</th>\n",
       "      <th>_strategy</th>\n",
       "      <th>_equity_curve</th>\n",
       "      <th>_trades</th>\n",
       "      <th>relative return</th>\n",
       "    </tr>\n",
       "  </thead>\n",
       "  <tbody>\n",
       "    <tr>\n",
       "      <th>0</th>\n",
       "      <td>2003-03-28</td>\n",
       "      <td>2004-04-26</td>\n",
       "      <td>395 days</td>\n",
       "      <td>86.764706</td>\n",
       "      <td>1195155.277493</td>\n",
       "      <td>1222837.793545</td>\n",
       "      <td>19.515528</td>\n",
       "      <td>7.913872</td>\n",
       "      <td>17.959078</td>\n",
       "      <td>15.109989</td>\n",
       "      <td>...</td>\n",
       "      <td>0.700351</td>\n",
       "      <td>69 days</td>\n",
       "      <td>18 days</td>\n",
       "      <td>2.642268</td>\n",
       "      <td>0.735951</td>\n",
       "      <td>2.54343</td>\n",
       "      <td>NEAT_strategy</td>\n",
       "      <td>Equity  DrawdownPct Drawdown...</td>\n",
       "      <td>Size  EntryBar  ExitBar  EntryPrice  Exit...</td>\n",
       "      <td>11.601656</td>\n",
       "    </tr>\n",
       "    <tr>\n",
       "      <th>1</th>\n",
       "      <td>2008-10-13</td>\n",
       "      <td>2009-11-10</td>\n",
       "      <td>393 days</td>\n",
       "      <td>86.813187</td>\n",
       "      <td>1953946.352333</td>\n",
       "      <td>2005481.640471</td>\n",
       "      <td>95.394635</td>\n",
       "      <td>101.954024</td>\n",
       "      <td>85.581526</td>\n",
       "      <td>65.852091</td>\n",
       "      <td>...</td>\n",
       "      <td>13.974023</td>\n",
       "      <td>232 days</td>\n",
       "      <td>77 days</td>\n",
       "      <td>28.709166</td>\n",
       "      <td>14.959682</td>\n",
       "      <td>1.645202</td>\n",
       "      <td>NEAT_strategy</td>\n",
       "      <td>Equity  DrawdownPct Drawdown...</td>\n",
       "      <td>Size  EntryBar  ExitBar  EntryPrice  Exi...</td>\n",
       "      <td>-6.559389</td>\n",
       "    </tr>\n",
       "    <tr>\n",
       "      <th>0</th>\n",
       "      <td>2013-10-17</td>\n",
       "      <td>2014-11-14</td>\n",
       "      <td>393 days</td>\n",
       "      <td>87.179487</td>\n",
       "      <td>1326063.425029</td>\n",
       "      <td>1340362.752579</td>\n",
       "      <td>32.606343</td>\n",
       "      <td>0.048506</td>\n",
       "      <td>29.758637</td>\n",
       "      <td>33.52764</td>\n",
       "      <td>...</td>\n",
       "      <td>4.437112</td>\n",
       "      <td>211 days</td>\n",
       "      <td>39 days</td>\n",
       "      <td>104.897798</td>\n",
       "      <td>4.608363</td>\n",
       "      <td>1.914959</td>\n",
       "      <td>NEAT_strategy</td>\n",
       "      <td>Equity  DrawdownPct Drawdown...</td>\n",
       "      <td>Size  EntryBar  ExitBar  EntryPrice   ExitP...</td>\n",
       "      <td>32.557836</td>\n",
       "    </tr>\n",
       "    <tr>\n",
       "      <th>0</th>\n",
       "      <td>2016-10-26</td>\n",
       "      <td>2017-11-24</td>\n",
       "      <td>394 days</td>\n",
       "      <td>87.179487</td>\n",
       "      <td>1222055.120147</td>\n",
       "      <td>1345139.699847</td>\n",
       "      <td>22.205512</td>\n",
       "      <td>16.010606</td>\n",
       "      <td>20.334873</td>\n",
       "      <td>26.975165</td>\n",
       "      <td>...</td>\n",
       "      <td>8.909237</td>\n",
       "      <td>190 days</td>\n",
       "      <td>117 days</td>\n",
       "      <td>8.154881</td>\n",
       "      <td>9.512964</td>\n",
       "      <td>1.047427</td>\n",
       "      <td>NEAT_strategy</td>\n",
       "      <td>Equity  DrawdownPct Drawdown...</td>\n",
       "      <td>Size  EntryBar  ExitBar  EntryPrice  ExitP...</td>\n",
       "      <td>6.194906</td>\n",
       "    </tr>\n",
       "    <tr>\n",
       "      <th>0</th>\n",
       "      <td>2003-03-17</td>\n",
       "      <td>2004-04-14</td>\n",
       "      <td>394 days</td>\n",
       "      <td>86.813187</td>\n",
       "      <td>938598.331419</td>\n",
       "      <td>1073253.322766</td>\n",
       "      <td>-6.140167</td>\n",
       "      <td>29.202707</td>\n",
       "      <td>-5.681536</td>\n",
       "      <td>10.436654</td>\n",
       "      <td>...</td>\n",
       "      <td>0.889137</td>\n",
       "      <td>82 days</td>\n",
       "      <td>22 days</td>\n",
       "      <td>2.106235</td>\n",
       "      <td>0.942337</td>\n",
       "      <td>-0.481742</td>\n",
       "      <td>NEAT_strategy</td>\n",
       "      <td>Equity  DrawdownPct Drawdo...</td>\n",
       "      <td>Size  EntryBar  ExitBar  EntryPrice  Exit...</td>\n",
       "      <td>-35.342874</td>\n",
       "    </tr>\n",
       "    <tr>\n",
       "      <th>0</th>\n",
       "      <td>2017-02-22</td>\n",
       "      <td>2018-03-23</td>\n",
       "      <td>394 days</td>\n",
       "      <td>87.226277</td>\n",
       "      <td>1005739.31733</td>\n",
       "      <td>1131972.495449</td>\n",
       "      <td>0.573932</td>\n",
       "      <td>20.588695</td>\n",
       "      <td>0.527728</td>\n",
       "      <td>16.067596</td>\n",
       "      <td>...</td>\n",
       "      <td>-0.62838</td>\n",
       "      <td>82 days</td>\n",
       "      <td>31 days</td>\n",
       "      <td>0.771578</td>\n",
       "      <td>-0.504678</td>\n",
       "      <td>0.274766</td>\n",
       "      <td>NEAT_strategy</td>\n",
       "      <td>Equity  DrawdownPct Drawdown...</td>\n",
       "      <td>Size  EntryBar  ExitBar  EntryPrice   Exit...</td>\n",
       "      <td>-20.014763</td>\n",
       "    </tr>\n",
       "    <tr>\n",
       "      <th>0</th>\n",
       "      <td>2011-10-17</td>\n",
       "      <td>2012-11-14</td>\n",
       "      <td>394 days</td>\n",
       "      <td>87.132353</td>\n",
       "      <td>960223.440918</td>\n",
       "      <td>1185219.125668</td>\n",
       "      <td>-3.977656</td>\n",
       "      <td>9.549073</td>\n",
       "      <td>-3.690649</td>\n",
       "      <td>19.503722</td>\n",
       "      <td>...</td>\n",
       "      <td>1.146995</td>\n",
       "      <td>98 days</td>\n",
       "      <td>36 days</td>\n",
       "      <td>1.825318</td>\n",
       "      <td>1.328361</td>\n",
       "      <td>-0.061636</td>\n",
       "      <td>NEAT_strategy</td>\n",
       "      <td>Equity  DrawdownPct Drawdown...</td>\n",
       "      <td>Size  EntryBar  ExitBar  EntryPrice  Exit...</td>\n",
       "      <td>-13.526728</td>\n",
       "    </tr>\n",
       "    <tr>\n",
       "      <th>0</th>\n",
       "      <td>2018-08-06</td>\n",
       "      <td>2019-09-04</td>\n",
       "      <td>394 days</td>\n",
       "      <td>86.764706</td>\n",
       "      <td>1026414.181875</td>\n",
       "      <td>1028106.529926</td>\n",
       "      <td>2.641418</td>\n",
       "      <td>14.345954</td>\n",
       "      <td>2.444842</td>\n",
       "      <td>24.871653</td>\n",
       "      <td>...</td>\n",
       "      <td>1.188495</td>\n",
       "      <td>114 days</td>\n",
       "      <td>35 days</td>\n",
       "      <td>1.731791</td>\n",
       "      <td>1.571034</td>\n",
       "      <td>0.128841</td>\n",
       "      <td>NEAT_strategy</td>\n",
       "      <td>Equity  DrawdownPct Drawdown...</td>\n",
       "      <td>Size  EntryBar  ExitBar  EntryPrice   Exit...</td>\n",
       "      <td>-11.704536</td>\n",
       "    </tr>\n",
       "    <tr>\n",
       "      <th>0</th>\n",
       "      <td>2004-02-23</td>\n",
       "      <td>2005-03-24</td>\n",
       "      <td>395 days</td>\n",
       "      <td>87.272727</td>\n",
       "      <td>1069950.029641</td>\n",
       "      <td>1077224.572195</td>\n",
       "      <td>6.995003</td>\n",
       "      <td>-0.179376</td>\n",
       "      <td>6.391673</td>\n",
       "      <td>9.624062</td>\n",
       "      <td>...</td>\n",
       "      <td>0.783201</td>\n",
       "      <td>73 days</td>\n",
       "      <td>22 days</td>\n",
       "      <td>2.791237</td>\n",
       "      <td>0.81427</td>\n",
       "      <td>1.217191</td>\n",
       "      <td>NEAT_strategy</td>\n",
       "      <td>Equity  DrawdownPct Drawdown...</td>\n",
       "      <td>Size  EntryBar  ExitBar  EntryPrice  Exit...</td>\n",
       "      <td>7.174379</td>\n",
       "    </tr>\n",
       "    <tr>\n",
       "      <th>0</th>\n",
       "      <td>2013-02-28</td>\n",
       "      <td>2014-03-28</td>\n",
       "      <td>393 days</td>\n",
       "      <td>87.179487</td>\n",
       "      <td>1297462.970793</td>\n",
       "      <td>1307300.506514</td>\n",
       "      <td>29.746297</td>\n",
       "      <td>60.463486</td>\n",
       "      <td>27.17313</td>\n",
       "      <td>25.75008</td>\n",
       "      <td>...</td>\n",
       "      <td>6.417387</td>\n",
       "      <td>113 days</td>\n",
       "      <td>54 days</td>\n",
       "      <td>6.800175</td>\n",
       "      <td>6.817144</td>\n",
       "      <td>2.100069</td>\n",
       "      <td>NEAT_strategy</td>\n",
       "      <td>Equity  DrawdownPct Drawdown...</td>\n",
       "      <td>Size  EntryBar  ExitBar  EntryPrice  Exit...</td>\n",
       "      <td>-30.717189</td>\n",
       "    </tr>\n",
       "  </tbody>\n",
       "</table>\n",
       "<p>10 rows × 31 columns</p>\n",
       "</div>"
      ],
      "text/plain": [
       "       Start        End Duration Exposure Time [%] Equity Final [$]  \\\n",
       "0 2003-03-28 2004-04-26 395 days         86.764706   1195155.277493   \n",
       "1 2008-10-13 2009-11-10 393 days         86.813187   1953946.352333   \n",
       "0 2013-10-17 2014-11-14 393 days         87.179487   1326063.425029   \n",
       "0 2016-10-26 2017-11-24 394 days         87.179487   1222055.120147   \n",
       "0 2003-03-17 2004-04-14 394 days         86.813187    938598.331419   \n",
       "0 2017-02-22 2018-03-23 394 days         87.226277    1005739.31733   \n",
       "0 2011-10-17 2012-11-14 394 days         87.132353    960223.440918   \n",
       "0 2018-08-06 2019-09-04 394 days         86.764706   1026414.181875   \n",
       "0 2004-02-23 2005-03-24 395 days         87.272727   1069950.029641   \n",
       "0 2013-02-28 2014-03-28 393 days         87.179487   1297462.970793   \n",
       "\n",
       "  Equity Peak [$] Return [%] Buy & Hold Return [%] Return (Ann.) [%]  \\\n",
       "0  1222837.793545  19.515528              7.913872         17.959078   \n",
       "1  2005481.640471  95.394635            101.954024         85.581526   \n",
       "0  1340362.752579  32.606343              0.048506         29.758637   \n",
       "0  1345139.699847  22.205512             16.010606         20.334873   \n",
       "0  1073253.322766  -6.140167             29.202707         -5.681536   \n",
       "0  1131972.495449   0.573932             20.588695          0.527728   \n",
       "0  1185219.125668  -3.977656              9.549073         -3.690649   \n",
       "0  1028106.529926   2.641418             14.345954          2.444842   \n",
       "0  1077224.572195   6.995003             -0.179376          6.391673   \n",
       "0  1307300.506514  29.746297             60.463486          27.17313   \n",
       "\n",
       "  Volatility (Ann.) [%]  ... Avg. Trade [%] Max. Trade Duration  \\\n",
       "0             15.109989  ...       0.700351             69 days   \n",
       "1             65.852091  ...      13.974023            232 days   \n",
       "0              33.52764  ...       4.437112            211 days   \n",
       "0             26.975165  ...       8.909237            190 days   \n",
       "0             10.436654  ...       0.889137             82 days   \n",
       "0             16.067596  ...       -0.62838             82 days   \n",
       "0             19.503722  ...       1.146995             98 days   \n",
       "0             24.871653  ...       1.188495            114 days   \n",
       "0              9.624062  ...       0.783201             73 days   \n",
       "0              25.75008  ...       6.417387            113 days   \n",
       "\n",
       "  Avg. Trade Duration Profit Factor Expectancy [%]       SQN      _strategy  \\\n",
       "0             18 days      2.642268       0.735951   2.54343  NEAT_strategy   \n",
       "1             77 days     28.709166      14.959682  1.645202  NEAT_strategy   \n",
       "0             39 days    104.897798       4.608363  1.914959  NEAT_strategy   \n",
       "0            117 days      8.154881       9.512964  1.047427  NEAT_strategy   \n",
       "0             22 days      2.106235       0.942337 -0.481742  NEAT_strategy   \n",
       "0             31 days      0.771578      -0.504678  0.274766  NEAT_strategy   \n",
       "0             36 days      1.825318       1.328361 -0.061636  NEAT_strategy   \n",
       "0             35 days      1.731791       1.571034  0.128841  NEAT_strategy   \n",
       "0             22 days      2.791237        0.81427  1.217191  NEAT_strategy   \n",
       "0             54 days      6.800175       6.817144  2.100069  NEAT_strategy   \n",
       "\n",
       "                                       _equity_curve  \\\n",
       "0                    Equity  DrawdownPct Drawdown...   \n",
       "1                    Equity  DrawdownPct Drawdown...   \n",
       "0                    Equity  DrawdownPct Drawdown...   \n",
       "0                    Equity  DrawdownPct Drawdown...   \n",
       "0                      Equity  DrawdownPct Drawdo...   \n",
       "0                    Equity  DrawdownPct Drawdown...   \n",
       "0                    Equity  DrawdownPct Drawdown...   \n",
       "0                    Equity  DrawdownPct Drawdown...   \n",
       "0                    Equity  DrawdownPct Drawdown...   \n",
       "0                    Equity  DrawdownPct Drawdown...   \n",
       "\n",
       "                                             _trades relative return  \n",
       "0       Size  EntryBar  ExitBar  EntryPrice  Exit...       11.601656  \n",
       "1        Size  EntryBar  ExitBar  EntryPrice  Exi...       -6.559389  \n",
       "0     Size  EntryBar  ExitBar  EntryPrice   ExitP...       32.557836  \n",
       "0      Size  EntryBar  ExitBar  EntryPrice  ExitP...        6.194906  \n",
       "0       Size  EntryBar  ExitBar  EntryPrice  Exit...      -35.342874  \n",
       "0      Size  EntryBar  ExitBar  EntryPrice   Exit...      -20.014763  \n",
       "0       Size  EntryBar  ExitBar  EntryPrice  Exit...      -13.526728  \n",
       "0      Size  EntryBar  ExitBar  EntryPrice   Exit...      -11.704536  \n",
       "0       Size  EntryBar  ExitBar  EntryPrice  Exit...        7.174379  \n",
       "0       Size  EntryBar  ExitBar  EntryPrice  Exit...      -30.717189  \n",
       "\n",
       "[10 rows x 31 columns]"
      ]
     },
     "execution_count": 111,
     "metadata": {},
     "output_type": "execute_result"
    }
   ],
   "source": [
    "performance"
   ]
  },
  {
   "cell_type": "code",
   "execution_count": null,
   "metadata": {},
   "outputs": [],
   "source": [
    "performance = performance.reset_index(drop=True)\n",
    "performance.index.name= 'index'"
   ]
  },
  {
   "cell_type": "code",
   "execution_count": null,
   "metadata": {},
   "outputs": [
    {
     "data": {
      "text/html": [
       "<div>\n",
       "<style scoped>\n",
       "    .dataframe tbody tr th:only-of-type {\n",
       "        vertical-align: middle;\n",
       "    }\n",
       "\n",
       "    .dataframe tbody tr th {\n",
       "        vertical-align: top;\n",
       "    }\n",
       "\n",
       "    .dataframe thead th {\n",
       "        text-align: right;\n",
       "    }\n",
       "</style>\n",
       "<table border=\"1\" class=\"dataframe\">\n",
       "  <thead>\n",
       "    <tr style=\"text-align: right;\">\n",
       "      <th></th>\n",
       "      <th>Size</th>\n",
       "      <th>EntryBar</th>\n",
       "      <th>ExitBar</th>\n",
       "      <th>EntryPrice</th>\n",
       "      <th>ExitPrice</th>\n",
       "      <th>PnL</th>\n",
       "      <th>ReturnPct</th>\n",
       "      <th>EntryTime</th>\n",
       "      <th>ExitTime</th>\n",
       "      <th>Duration</th>\n",
       "    </tr>\n",
       "  </thead>\n",
       "  <tbody>\n",
       "    <tr>\n",
       "      <th>0</th>\n",
       "      <td>33537</td>\n",
       "      <td>36</td>\n",
       "      <td>82</td>\n",
       "      <td>29.138160</td>\n",
       "      <td>25.889999</td>\n",
       "      <td>-108933.559826</td>\n",
       "      <td>-0.111474</td>\n",
       "      <td>2018-11-01</td>\n",
       "      <td>2019-01-10</td>\n",
       "      <td>70 days</td>\n",
       "    </tr>\n",
       "    <tr>\n",
       "      <th>1</th>\n",
       "      <td>400</td>\n",
       "      <td>36</td>\n",
       "      <td>127</td>\n",
       "      <td>29.138160</td>\n",
       "      <td>33.340000</td>\n",
       "      <td>1680.736092</td>\n",
       "      <td>0.144204</td>\n",
       "      <td>2018-11-01</td>\n",
       "      <td>2019-03-18</td>\n",
       "      <td>137 days</td>\n",
       "    </tr>\n",
       "    <tr>\n",
       "      <th>2</th>\n",
       "      <td>33351</td>\n",
       "      <td>83</td>\n",
       "      <td>127</td>\n",
       "      <td>25.621140</td>\n",
       "      <td>33.340000</td>\n",
       "      <td>257431.715147</td>\n",
       "      <td>0.301269</td>\n",
       "      <td>2019-01-11</td>\n",
       "      <td>2019-03-18</td>\n",
       "      <td>66 days</td>\n",
       "    </tr>\n",
       "    <tr>\n",
       "      <th>3</th>\n",
       "      <td>368</td>\n",
       "      <td>83</td>\n",
       "      <td>156</td>\n",
       "      <td>25.621140</td>\n",
       "      <td>34.430000</td>\n",
       "      <td>3241.660705</td>\n",
       "      <td>0.343812</td>\n",
       "      <td>2019-01-11</td>\n",
       "      <td>2019-04-29</td>\n",
       "      <td>108 days</td>\n",
       "    </tr>\n",
       "    <tr>\n",
       "      <th>4</th>\n",
       "      <td>33201</td>\n",
       "      <td>128</td>\n",
       "      <td>156</td>\n",
       "      <td>33.516901</td>\n",
       "      <td>34.430000</td>\n",
       "      <td>30315.817851</td>\n",
       "      <td>0.027243</td>\n",
       "      <td>2019-03-19</td>\n",
       "      <td>2019-04-29</td>\n",
       "      <td>41 days</td>\n",
       "    </tr>\n",
       "    <tr>\n",
       "      <th>...</th>\n",
       "      <td>...</td>\n",
       "      <td>...</td>\n",
       "      <td>...</td>\n",
       "      <td>...</td>\n",
       "      <td>...</td>\n",
       "      <td>...</td>\n",
       "      <td>...</td>\n",
       "      <td>...</td>\n",
       "      <td>...</td>\n",
       "      <td>...</td>\n",
       "    </tr>\n",
       "    <tr>\n",
       "      <th>16</th>\n",
       "      <td>43078</td>\n",
       "      <td>257</td>\n",
       "      <td>266</td>\n",
       "      <td>20.871660</td>\n",
       "      <td>22.410000</td>\n",
       "      <td>66268.607240</td>\n",
       "      <td>0.073705</td>\n",
       "      <td>2015-10-13</td>\n",
       "      <td>2015-10-26</td>\n",
       "      <td>13 days</td>\n",
       "    </tr>\n",
       "    <tr>\n",
       "      <th>17</th>\n",
       "      <td>-2508</td>\n",
       "      <td>266</td>\n",
       "      <td>268</td>\n",
       "      <td>22.365180</td>\n",
       "      <td>22.600000</td>\n",
       "      <td>-588.929899</td>\n",
       "      <td>-0.010499</td>\n",
       "      <td>2015-10-26</td>\n",
       "      <td>2015-10-28</td>\n",
       "      <td>2 days</td>\n",
       "    </tr>\n",
       "    <tr>\n",
       "      <th>18</th>\n",
       "      <td>42922</td>\n",
       "      <td>268</td>\n",
       "      <td>269</td>\n",
       "      <td>22.645200</td>\n",
       "      <td>22.629999</td>\n",
       "      <td>-652.466828</td>\n",
       "      <td>-0.000671</td>\n",
       "      <td>2015-10-28</td>\n",
       "      <td>2015-10-29</td>\n",
       "      <td>1 days</td>\n",
       "    </tr>\n",
       "    <tr>\n",
       "      <th>19</th>\n",
       "      <td>-2154</td>\n",
       "      <td>269</td>\n",
       "      <td>270</td>\n",
       "      <td>22.584739</td>\n",
       "      <td>22.770000</td>\n",
       "      <td>-399.052830</td>\n",
       "      <td>-0.008203</td>\n",
       "      <td>2015-10-29</td>\n",
       "      <td>2015-10-30</td>\n",
       "      <td>1 days</td>\n",
       "    </tr>\n",
       "    <tr>\n",
       "      <th>20</th>\n",
       "      <td>42660</td>\n",
       "      <td>270</td>\n",
       "      <td>272</td>\n",
       "      <td>22.815540</td>\n",
       "      <td>23.410000</td>\n",
       "      <td>25359.637523</td>\n",
       "      <td>0.026055</td>\n",
       "      <td>2015-10-30</td>\n",
       "      <td>2015-11-03</td>\n",
       "      <td>4 days</td>\n",
       "    </tr>\n",
       "  </tbody>\n",
       "</table>\n",
       "<p>1402 rows × 10 columns</p>\n",
       "</div>"
      ],
      "text/plain": [
       "     Size  EntryBar  ExitBar  EntryPrice  ExitPrice            PnL  ReturnPct  \\\n",
       "0   33537        36       82   29.138160  25.889999 -108933.559826  -0.111474   \n",
       "1     400        36      127   29.138160  33.340000    1680.736092   0.144204   \n",
       "2   33351        83      127   25.621140  33.340000  257431.715147   0.301269   \n",
       "3     368        83      156   25.621140  34.430000    3241.660705   0.343812   \n",
       "4   33201       128      156   33.516901  34.430000   30315.817851   0.027243   \n",
       "..    ...       ...      ...         ...        ...            ...        ...   \n",
       "16  43078       257      266   20.871660  22.410000   66268.607240   0.073705   \n",
       "17  -2508       266      268   22.365180  22.600000    -588.929899  -0.010499   \n",
       "18  42922       268      269   22.645200  22.629999    -652.466828  -0.000671   \n",
       "19  -2154       269      270   22.584739  22.770000    -399.052830  -0.008203   \n",
       "20  42660       270      272   22.815540  23.410000   25359.637523   0.026055   \n",
       "\n",
       "    EntryTime   ExitTime Duration  \n",
       "0  2018-11-01 2019-01-10  70 days  \n",
       "1  2018-11-01 2019-03-18 137 days  \n",
       "2  2019-01-11 2019-03-18  66 days  \n",
       "3  2019-01-11 2019-04-29 108 days  \n",
       "4  2019-03-19 2019-04-29  41 days  \n",
       "..        ...        ...      ...  \n",
       "16 2015-10-13 2015-10-26  13 days  \n",
       "17 2015-10-26 2015-10-28   2 days  \n",
       "18 2015-10-28 2015-10-29   1 days  \n",
       "19 2015-10-29 2015-10-30   1 days  \n",
       "20 2015-10-30 2015-11-03   4 days  \n",
       "\n",
       "[1402 rows x 10 columns]"
      ]
     },
     "execution_count": 126,
     "metadata": {},
     "output_type": "execute_result"
    }
   ],
   "source": [
    "trades"
   ]
  },
  {
   "cell_type": "code",
   "execution_count": null,
   "metadata": {},
   "outputs": [
    {
     "data": {
      "text/plain": [
       "0     70 days\n",
       "1    137 days\n",
       "2     66 days\n",
       "3    108 days\n",
       "4     41 days\n",
       "       ...   \n",
       "16    13 days\n",
       "17     2 days\n",
       "18     1 days\n",
       "19     1 days\n",
       "20     4 days\n",
       "Name: Duration, Length: 1402, dtype: timedelta64[ns]"
      ]
     },
     "execution_count": 132,
     "metadata": {},
     "output_type": "execute_result"
    }
   ],
   "source": [
    "pd.Series(trades['Duration'],dtype=int)"
   ]
  },
  {
   "cell_type": "code",
   "execution_count": null,
   "metadata": {},
   "outputs": [
    {
     "ename": "UFuncTypeError",
     "evalue": "ufunc 'true_divide' cannot use operands with types dtype('int32') and dtype('<m8[ns]')",
     "output_type": "error",
     "traceback": [
      "\u001b[1;31m---------------------------------------------------------------------------\u001b[0m",
      "\u001b[1;31mUFuncTypeError\u001b[0m                            Traceback (most recent call last)",
      "\u001b[1;32mc:\\Users\\USER\\OneDrive - 國立陽明交通大學\\文件\\academic\\大四上\\演化計算\\Project\\main.ipynb 儲存格 19\u001b[0m in \u001b[0;36m<cell line: 2>\u001b[1;34m()\u001b[0m\n\u001b[0;32m      <a href='vscode-notebook-cell:/c%3A/Users/USER/OneDrive%20-%20%E5%9C%8B%E7%AB%8B%E9%99%BD%E6%98%8E%E4%BA%A4%E9%80%9A%E5%A4%A7%E5%AD%B8/%E6%96%87%E4%BB%B6/academic/%E5%A4%A7%E5%9B%9B%E4%B8%8A/%E6%BC%94%E5%8C%96%E8%A8%88%E7%AE%97/Project/main.ipynb#Y130sZmlsZQ%3D%3D?line=0'>1</a>\u001b[0m trades[\u001b[39m'\u001b[39m\u001b[39mabs_size\u001b[39m\u001b[39m'\u001b[39m] \u001b[39m=\u001b[39m \u001b[39mabs\u001b[39m(trades[\u001b[39m'\u001b[39m\u001b[39mSize\u001b[39m\u001b[39m'\u001b[39m])\n\u001b[1;32m----> <a href='vscode-notebook-cell:/c%3A/Users/USER/OneDrive%20-%20%E5%9C%8B%E7%AB%8B%E9%99%BD%E6%98%8E%E4%BA%A4%E9%80%9A%E5%A4%A7%E5%AD%B8/%E6%96%87%E4%BB%B6/academic/%E5%A4%A7%E5%9B%9B%E4%B8%8A/%E6%BC%94%E5%8C%96%E8%A8%88%E7%AE%97/Project/main.ipynb#Y130sZmlsZQ%3D%3D?line=1'>2</a>\u001b[0m trades[\u001b[39m'\u001b[39m\u001b[39mDuration\u001b[39m\u001b[39m'\u001b[39m] \u001b[39m=\u001b[39m(trades[\u001b[39m'\u001b[39;49m\u001b[39mDuration\u001b[39;49m\u001b[39m'\u001b[39;49m]  \u001b[39m/\u001b[39;49m np\u001b[39m.\u001b[39;49mtimedelta64(\u001b[39m1\u001b[39;49m, \u001b[39m'\u001b[39;49m\u001b[39mD\u001b[39;49m\u001b[39m'\u001b[39;49m))\u001b[39m.\u001b[39mastype(\u001b[39mint\u001b[39m)\n\u001b[0;32m      <a href='vscode-notebook-cell:/c%3A/Users/USER/OneDrive%20-%20%E5%9C%8B%E7%AB%8B%E9%99%BD%E6%98%8E%E4%BA%A4%E9%80%9A%E5%A4%A7%E5%AD%B8/%E6%96%87%E4%BB%B6/academic/%E5%A4%A7%E5%9B%9B%E4%B8%8A/%E6%BC%94%E5%8C%96%E8%A8%88%E7%AE%97/Project/main.ipynb#Y130sZmlsZQ%3D%3D?line=2'>3</a>\u001b[0m trades[\u001b[39m'\u001b[39m\u001b[39mlong\u001b[39m\u001b[39m'\u001b[39m] \u001b[39m=\u001b[39m trades[\u001b[39m'\u001b[39m\u001b[39mSize\u001b[39m\u001b[39m'\u001b[39m]\u001b[39m>\u001b[39m\u001b[39m0\u001b[39m\n",
      "File \u001b[1;32mc:\\Users\\USER\\AppData\\Local\\Programs\\Python\\Python310\\lib\\site-packages\\pandas\\core\\ops\\common.py:70\u001b[0m, in \u001b[0;36m_unpack_zerodim_and_defer.<locals>.new_method\u001b[1;34m(self, other)\u001b[0m\n\u001b[0;32m     66\u001b[0m             \u001b[39mreturn\u001b[39;00m \u001b[39mNotImplemented\u001b[39m\n\u001b[0;32m     68\u001b[0m other \u001b[39m=\u001b[39m item_from_zerodim(other)\n\u001b[1;32m---> 70\u001b[0m \u001b[39mreturn\u001b[39;00m method(\u001b[39mself\u001b[39;49m, other)\n",
      "File \u001b[1;32mc:\\Users\\USER\\AppData\\Local\\Programs\\Python\\Python310\\lib\\site-packages\\pandas\\core\\arraylike.py:124\u001b[0m, in \u001b[0;36mOpsMixin.__truediv__\u001b[1;34m(self, other)\u001b[0m\n\u001b[0;32m    122\u001b[0m \u001b[39m@unpack_zerodim_and_defer\u001b[39m(\u001b[39m\"\u001b[39m\u001b[39m__truediv__\u001b[39m\u001b[39m\"\u001b[39m)\n\u001b[0;32m    123\u001b[0m \u001b[39mdef\u001b[39;00m \u001b[39m__truediv__\u001b[39m(\u001b[39mself\u001b[39m, other):\n\u001b[1;32m--> 124\u001b[0m     \u001b[39mreturn\u001b[39;00m \u001b[39mself\u001b[39;49m\u001b[39m.\u001b[39;49m_arith_method(other, operator\u001b[39m.\u001b[39;49mtruediv)\n",
      "File \u001b[1;32mc:\\Users\\USER\\AppData\\Local\\Programs\\Python\\Python310\\lib\\site-packages\\pandas\\core\\series.py:5639\u001b[0m, in \u001b[0;36mSeries._arith_method\u001b[1;34m(self, other, op)\u001b[0m\n\u001b[0;32m   5637\u001b[0m \u001b[39mdef\u001b[39;00m \u001b[39m_arith_method\u001b[39m(\u001b[39mself\u001b[39m, other, op):\n\u001b[0;32m   5638\u001b[0m     \u001b[39mself\u001b[39m, other \u001b[39m=\u001b[39m ops\u001b[39m.\u001b[39malign_method_SERIES(\u001b[39mself\u001b[39m, other)\n\u001b[1;32m-> 5639\u001b[0m     \u001b[39mreturn\u001b[39;00m base\u001b[39m.\u001b[39;49mIndexOpsMixin\u001b[39m.\u001b[39;49m_arith_method(\u001b[39mself\u001b[39;49m, other, op)\n",
      "File \u001b[1;32mc:\\Users\\USER\\AppData\\Local\\Programs\\Python\\Python310\\lib\\site-packages\\pandas\\core\\base.py:1295\u001b[0m, in \u001b[0;36mIndexOpsMixin._arith_method\u001b[1;34m(self, other, op)\u001b[0m\n\u001b[0;32m   1292\u001b[0m rvalues \u001b[39m=\u001b[39m ensure_wrapped_if_datetimelike(rvalues)\n\u001b[0;32m   1294\u001b[0m \u001b[39mwith\u001b[39;00m np\u001b[39m.\u001b[39merrstate(\u001b[39mall\u001b[39m\u001b[39m=\u001b[39m\u001b[39m\"\u001b[39m\u001b[39mignore\u001b[39m\u001b[39m\"\u001b[39m):\n\u001b[1;32m-> 1295\u001b[0m     result \u001b[39m=\u001b[39m ops\u001b[39m.\u001b[39;49marithmetic_op(lvalues, rvalues, op)\n\u001b[0;32m   1297\u001b[0m \u001b[39mreturn\u001b[39;00m \u001b[39mself\u001b[39m\u001b[39m.\u001b[39m_construct_result(result, name\u001b[39m=\u001b[39mres_name)\n",
      "File \u001b[1;32mc:\\Users\\USER\\AppData\\Local\\Programs\\Python\\Python310\\lib\\site-packages\\pandas\\core\\ops\\array_ops.py:216\u001b[0m, in \u001b[0;36marithmetic_op\u001b[1;34m(left, right, op)\u001b[0m\n\u001b[0;32m    203\u001b[0m \u001b[39m# NB: We assume that extract_array and ensure_wrapped_if_datetimelike\u001b[39;00m\n\u001b[0;32m    204\u001b[0m \u001b[39m#  have already been called on `left` and `right`,\u001b[39;00m\n\u001b[0;32m    205\u001b[0m \u001b[39m#  and `maybe_prepare_scalar_for_op` has already been called on `right`\u001b[39;00m\n\u001b[0;32m    206\u001b[0m \u001b[39m# We need to special-case datetime64/timedelta64 dtypes (e.g. because numpy\u001b[39;00m\n\u001b[0;32m    207\u001b[0m \u001b[39m# casts integer dtypes to timedelta64 when operating with timedelta64 - GH#22390)\u001b[39;00m\n\u001b[0;32m    209\u001b[0m \u001b[39mif\u001b[39;00m (\n\u001b[0;32m    210\u001b[0m     should_extension_dispatch(left, right)\n\u001b[0;32m    211\u001b[0m     \u001b[39mor\u001b[39;00m \u001b[39misinstance\u001b[39m(right, (Timedelta, BaseOffset, Timestamp))\n\u001b[1;32m   (...)\u001b[0m\n\u001b[0;32m    214\u001b[0m     \u001b[39m# Timedelta/Timestamp and other custom scalars are included in the check\u001b[39;00m\n\u001b[0;32m    215\u001b[0m     \u001b[39m# because numexpr will fail on it, see GH#31457\u001b[39;00m\n\u001b[1;32m--> 216\u001b[0m     res_values \u001b[39m=\u001b[39m op(left, right)\n\u001b[0;32m    217\u001b[0m \u001b[39melse\u001b[39;00m:\n\u001b[0;32m    218\u001b[0m     \u001b[39m# TODO we should handle EAs consistently and move this check before the if/else\u001b[39;00m\n\u001b[0;32m    219\u001b[0m     \u001b[39m# (https://github.com/pandas-dev/pandas/issues/41165)\u001b[39;00m\n\u001b[0;32m    220\u001b[0m     _bool_arith_check(op, left, right)\n",
      "File \u001b[1;32mc:\\Users\\USER\\AppData\\Local\\Programs\\Python\\Python310\\lib\\site-packages\\pandas\\_libs\\tslibs\\timedeltas.pyx:1495\u001b[0m, in \u001b[0;36mpandas._libs.tslibs.timedeltas.Timedelta.__rtruediv__\u001b[1;34m()\u001b[0m\n",
      "\u001b[1;31mUFuncTypeError\u001b[0m: ufunc 'true_divide' cannot use operands with types dtype('int32') and dtype('<m8[ns]')"
     ]
    }
   ],
   "source": [
    "trades['abs_size'] = abs(trades['Size'])\n",
    "trades['Duration'] =(trades['Duration']  / np.timedelta64(1, 'D')).astype(int)\n"
   ]
  },
  {
   "cell_type": "code",
   "execution_count": null,
   "metadata": {},
   "outputs": [],
   "source": [
    "trades['long'] = trades['Size']>0"
   ]
  },
  {
   "cell_type": "code",
   "execution_count": null,
   "metadata": {},
   "outputs": [
    {
     "data": {
      "text/plain": [
       "True     989\n",
       "False    413\n",
       "Name: PnL, dtype: int64"
      ]
     },
     "execution_count": 191,
     "metadata": {},
     "output_type": "execute_result"
    }
   ],
   "source": [
    "(trades['PnL']>0).value_counts()\n"
   ]
  },
  {
   "cell_type": "code",
   "execution_count": null,
   "metadata": {},
   "outputs": [
    {
     "data": {
      "text/html": [
       "<div style=\"display: table;\"><div style=\"display: table-row;\"><div style=\"display: table-cell;\"><b title=\"bokeh.models.layouts.Row\">Row</b>(</div><div style=\"display: table-cell;\">id&nbsp;=&nbsp;'44928', <span id=\"46244\" style=\"cursor: pointer;\">&hellip;)</span></div></div><div class=\"46243\" style=\"display: none;\"><div style=\"display: table-cell;\"></div><div style=\"display: table-cell;\">align&nbsp;=&nbsp;'start',</div></div><div class=\"46243\" style=\"display: none;\"><div style=\"display: table-cell;\"></div><div style=\"display: table-cell;\">aspect_ratio&nbsp;=&nbsp;None,</div></div><div class=\"46243\" style=\"display: none;\"><div style=\"display: table-cell;\"></div><div style=\"display: table-cell;\">background&nbsp;=&nbsp;None,</div></div><div class=\"46243\" style=\"display: none;\"><div style=\"display: table-cell;\"></div><div style=\"display: table-cell;\">children&nbsp;=&nbsp;[GridBox(id='44925', ...), ToolbarBox(id='44927', ...)],</div></div><div class=\"46243\" style=\"display: none;\"><div style=\"display: table-cell;\"></div><div style=\"display: table-cell;\">cols&nbsp;=&nbsp;'auto',</div></div><div class=\"46243\" style=\"display: none;\"><div style=\"display: table-cell;\"></div><div style=\"display: table-cell;\">css_classes&nbsp;=&nbsp;[],</div></div><div class=\"46243\" style=\"display: none;\"><div style=\"display: table-cell;\"></div><div style=\"display: table-cell;\">disabled&nbsp;=&nbsp;False,</div></div><div class=\"46243\" style=\"display: none;\"><div style=\"display: table-cell;\"></div><div style=\"display: table-cell;\">height&nbsp;=&nbsp;None,</div></div><div class=\"46243\" style=\"display: none;\"><div style=\"display: table-cell;\"></div><div style=\"display: table-cell;\">height_policy&nbsp;=&nbsp;'auto',</div></div><div class=\"46243\" style=\"display: none;\"><div style=\"display: table-cell;\"></div><div style=\"display: table-cell;\">js_event_callbacks&nbsp;=&nbsp;{},</div></div><div class=\"46243\" style=\"display: none;\"><div style=\"display: table-cell;\"></div><div style=\"display: table-cell;\">js_property_callbacks&nbsp;=&nbsp;{},</div></div><div class=\"46243\" style=\"display: none;\"><div style=\"display: table-cell;\"></div><div style=\"display: table-cell;\">margin&nbsp;=&nbsp;(0, 0, 0, 0),</div></div><div class=\"46243\" style=\"display: none;\"><div style=\"display: table-cell;\"></div><div style=\"display: table-cell;\">max_height&nbsp;=&nbsp;None,</div></div><div class=\"46243\" style=\"display: none;\"><div style=\"display: table-cell;\"></div><div style=\"display: table-cell;\">max_width&nbsp;=&nbsp;None,</div></div><div class=\"46243\" style=\"display: none;\"><div style=\"display: table-cell;\"></div><div style=\"display: table-cell;\">min_height&nbsp;=&nbsp;None,</div></div><div class=\"46243\" style=\"display: none;\"><div style=\"display: table-cell;\"></div><div style=\"display: table-cell;\">min_width&nbsp;=&nbsp;None,</div></div><div class=\"46243\" style=\"display: none;\"><div style=\"display: table-cell;\"></div><div style=\"display: table-cell;\">name&nbsp;=&nbsp;None,</div></div><div class=\"46243\" style=\"display: none;\"><div style=\"display: table-cell;\"></div><div style=\"display: table-cell;\">sizing_mode&nbsp;=&nbsp;'stretch_width',</div></div><div class=\"46243\" style=\"display: none;\"><div style=\"display: table-cell;\"></div><div style=\"display: table-cell;\">spacing&nbsp;=&nbsp;0,</div></div><div class=\"46243\" style=\"display: none;\"><div style=\"display: table-cell;\"></div><div style=\"display: table-cell;\">subscribed_events&nbsp;=&nbsp;[],</div></div><div class=\"46243\" style=\"display: none;\"><div style=\"display: table-cell;\"></div><div style=\"display: table-cell;\">syncable&nbsp;=&nbsp;True,</div></div><div class=\"46243\" style=\"display: none;\"><div style=\"display: table-cell;\"></div><div style=\"display: table-cell;\">tags&nbsp;=&nbsp;[],</div></div><div class=\"46243\" style=\"display: none;\"><div style=\"display: table-cell;\"></div><div style=\"display: table-cell;\">visible&nbsp;=&nbsp;True,</div></div><div class=\"46243\" style=\"display: none;\"><div style=\"display: table-cell;\"></div><div style=\"display: table-cell;\">width&nbsp;=&nbsp;None,</div></div><div class=\"46243\" style=\"display: none;\"><div style=\"display: table-cell;\"></div><div style=\"display: table-cell;\">width_policy&nbsp;=&nbsp;'auto')</div></div></div>\n",
       "<script>\n",
       "(function() {\n",
       "  let expanded = false;\n",
       "  const ellipsis = document.getElementById(\"46244\");\n",
       "  ellipsis.addEventListener(\"click\", function() {\n",
       "    const rows = document.getElementsByClassName(\"46243\");\n",
       "    for (let i = 0; i < rows.length; i++) {\n",
       "      const el = rows[i];\n",
       "      el.style.display = expanded ? \"none\" : \"table-row\";\n",
       "    }\n",
       "    ellipsis.innerHTML = expanded ? \"&hellip;)\" : \"&lsaquo;&lsaquo;&lsaquo;\";\n",
       "    expanded = !expanded;\n",
       "  });\n",
       "})();\n",
       "</script>\n"
      ],
      "text/plain": [
       "Row(id='44928', ...)"
      ]
     },
     "execution_count": 186,
     "metadata": {},
     "output_type": "execute_result"
    }
   ],
   "source": [
    "bts[69].plot()"
   ]
  },
  {
   "cell_type": "code",
   "execution_count": null,
   "metadata": {},
   "outputs": [],
   "source": [
    "trades = pd.DataFrame()\n",
    "for trade in performance._trades:\n",
    "    trades = pd.concat([trades, trade])"
   ]
  },
  {
   "cell_type": "code",
   "execution_count": null,
   "metadata": {},
   "outputs": [
    {
     "data": {
      "text/html": [
       "<div>\n",
       "<style scoped>\n",
       "    .dataframe tbody tr th:only-of-type {\n",
       "        vertical-align: middle;\n",
       "    }\n",
       "\n",
       "    .dataframe tbody tr th {\n",
       "        vertical-align: top;\n",
       "    }\n",
       "\n",
       "    .dataframe thead th {\n",
       "        text-align: right;\n",
       "    }\n",
       "</style>\n",
       "<table border=\"1\" class=\"dataframe\">\n",
       "  <thead>\n",
       "    <tr style=\"text-align: right;\">\n",
       "      <th></th>\n",
       "      <th>Start</th>\n",
       "      <th>End</th>\n",
       "      <th>Duration</th>\n",
       "      <th>Exposure Time [%]</th>\n",
       "      <th>Equity Final [$]</th>\n",
       "      <th>Equity Peak [$]</th>\n",
       "      <th>Return [%]</th>\n",
       "      <th>Buy &amp; Hold Return [%]</th>\n",
       "      <th>Return (Ann.) [%]</th>\n",
       "      <th>Volatility (Ann.) [%]</th>\n",
       "      <th>...</th>\n",
       "      <th>Avg. Trade [%]</th>\n",
       "      <th>Max. Trade Duration</th>\n",
       "      <th>Avg. Trade Duration</th>\n",
       "      <th>Profit Factor</th>\n",
       "      <th>Expectancy [%]</th>\n",
       "      <th>SQN</th>\n",
       "      <th>_strategy</th>\n",
       "      <th>_equity_curve</th>\n",
       "      <th>_trades</th>\n",
       "      <th>relative return</th>\n",
       "    </tr>\n",
       "    <tr>\n",
       "      <th>index</th>\n",
       "      <th></th>\n",
       "      <th></th>\n",
       "      <th></th>\n",
       "      <th></th>\n",
       "      <th></th>\n",
       "      <th></th>\n",
       "      <th></th>\n",
       "      <th></th>\n",
       "      <th></th>\n",
       "      <th></th>\n",
       "      <th></th>\n",
       "      <th></th>\n",
       "      <th></th>\n",
       "      <th></th>\n",
       "      <th></th>\n",
       "      <th></th>\n",
       "      <th></th>\n",
       "      <th></th>\n",
       "      <th></th>\n",
       "      <th></th>\n",
       "      <th></th>\n",
       "    </tr>\n",
       "  </thead>\n",
       "  <tbody>\n",
       "    <tr>\n",
       "      <th>0</th>\n",
       "      <td>2018-09-12</td>\n",
       "      <td>2019-10-11</td>\n",
       "      <td>394 days</td>\n",
       "      <td>86.813187</td>\n",
       "      <td>1136746.757184</td>\n",
       "      <td>1260602.760787</td>\n",
       "      <td>13.674676</td>\n",
       "      <td>2.3227</td>\n",
       "      <td>12.559434</td>\n",
       "      <td>28.453604</td>\n",
       "      <td>...</td>\n",
       "      <td>6.283217</td>\n",
       "      <td>162 days</td>\n",
       "      <td>89 days</td>\n",
       "      <td>4.368839</td>\n",
       "      <td>7.259651</td>\n",
       "      <td>0.457815</td>\n",
       "      <td>NEAT_strategy</td>\n",
       "      <td>Equity  DrawdownPct Drawdown...</td>\n",
       "      <td>Size  EntryBar  ExitBar  EntryPrice  ExitP...</td>\n",
       "      <td>11.351975</td>\n",
       "    </tr>\n",
       "    <tr>\n",
       "      <th>4</th>\n",
       "      <td>2015-11-09</td>\n",
       "      <td>2016-12-06</td>\n",
       "      <td>393 days</td>\n",
       "      <td>86.764706</td>\n",
       "      <td>1140405.790494</td>\n",
       "      <td>1249418.889026</td>\n",
       "      <td>14.040579</td>\n",
       "      <td>-1.30322</td>\n",
       "      <td>12.944183</td>\n",
       "      <td>39.750003</td>\n",
       "      <td>...</td>\n",
       "      <td>3.869031</td>\n",
       "      <td>266 days</td>\n",
       "      <td>78 days</td>\n",
       "      <td>2.723493</td>\n",
       "      <td>4.508158</td>\n",
       "      <td>0.588442</td>\n",
       "      <td>NEAT_strategy</td>\n",
       "      <td>Equity  DrawdownPct Drawdown...</td>\n",
       "      <td>Size  EntryBar  ExitBar  EntryPrice  ExitP...</td>\n",
       "      <td>15.343799</td>\n",
       "    </tr>\n",
       "    <tr>\n",
       "      <th>8</th>\n",
       "      <td>2014-08-18</td>\n",
       "      <td>2015-09-16</td>\n",
       "      <td>394 days</td>\n",
       "      <td>87.179487</td>\n",
       "      <td>1100920.184886</td>\n",
       "      <td>1207180.721939</td>\n",
       "      <td>10.092018</td>\n",
       "      <td>8.197816</td>\n",
       "      <td>9.280795</td>\n",
       "      <td>19.6103</td>\n",
       "      <td>...</td>\n",
       "      <td>2.489551</td>\n",
       "      <td>182 days</td>\n",
       "      <td>64 days</td>\n",
       "      <td>3.908538</td>\n",
       "      <td>2.577859</td>\n",
       "      <td>0.829654</td>\n",
       "      <td>NEAT_strategy</td>\n",
       "      <td>Equity  DrawdownPct Drawdown...</td>\n",
       "      <td>Size  EntryBar  ExitBar  EntryPrice   Exit...</td>\n",
       "      <td>1.894202</td>\n",
       "    </tr>\n",
       "    <tr>\n",
       "      <th>11</th>\n",
       "      <td>2002-08-07</td>\n",
       "      <td>2003-09-05</td>\n",
       "      <td>394 days</td>\n",
       "      <td>87.179487</td>\n",
       "      <td>1680835.865868</td>\n",
       "      <td>1760579.41136</td>\n",
       "      <td>68.083587</td>\n",
       "      <td>63.663943</td>\n",
       "      <td>61.50174</td>\n",
       "      <td>47.027932</td>\n",
       "      <td>...</td>\n",
       "      <td>3.454734</td>\n",
       "      <td>84 days</td>\n",
       "      <td>21 days</td>\n",
       "      <td>5.296606</td>\n",
       "      <td>3.627566</td>\n",
       "      <td>2.463924</td>\n",
       "      <td>NEAT_strategy</td>\n",
       "      <td>Equity  DrawdownPct Drawdown...</td>\n",
       "      <td>Size  EntryBar  ExitBar  EntryPrice  Exit...</td>\n",
       "      <td>4.419643</td>\n",
       "    </tr>\n",
       "    <tr>\n",
       "      <th>15</th>\n",
       "      <td>2006-10-30</td>\n",
       "      <td>2007-11-27</td>\n",
       "      <td>393 days</td>\n",
       "      <td>87.084871</td>\n",
       "      <td>1122372.835278</td>\n",
       "      <td>1241479.855799</td>\n",
       "      <td>12.237284</td>\n",
       "      <td>5.787883</td>\n",
       "      <td>11.332509</td>\n",
       "      <td>24.870483</td>\n",
       "      <td>...</td>\n",
       "      <td>1.280314</td>\n",
       "      <td>129 days</td>\n",
       "      <td>52 days</td>\n",
       "      <td>1.716026</td>\n",
       "      <td>1.546078</td>\n",
       "      <td>0.564794</td>\n",
       "      <td>NEAT_strategy</td>\n",
       "      <td>Equity  DrawdownPct Drawdown...</td>\n",
       "      <td>Size  EntryBar  ExitBar  EntryPrice  Exit...</td>\n",
       "      <td>6.449401</td>\n",
       "    </tr>\n",
       "    <tr>\n",
       "      <th>16</th>\n",
       "      <td>2015-12-02</td>\n",
       "      <td>2016-12-30</td>\n",
       "      <td>394 days</td>\n",
       "      <td>87.179487</td>\n",
       "      <td>1162088.766701</td>\n",
       "      <td>1174481.646658</td>\n",
       "      <td>16.208877</td>\n",
       "      <td>-1.290491</td>\n",
       "      <td>14.873776</td>\n",
       "      <td>19.88491</td>\n",
       "      <td>...</td>\n",
       "      <td>2.367907</td>\n",
       "      <td>109 days</td>\n",
       "      <td>46 days</td>\n",
       "      <td>6.519052</td>\n",
       "      <td>2.438373</td>\n",
       "      <td>1.6979</td>\n",
       "      <td>NEAT_strategy</td>\n",
       "      <td>Equity  DrawdownPct Drawdown...</td>\n",
       "      <td>Size  EntryBar  ExitBar  EntryPrice  Exit...</td>\n",
       "      <td>17.499368</td>\n",
       "    </tr>\n",
       "    <tr>\n",
       "      <th>21</th>\n",
       "      <td>2015-08-24</td>\n",
       "      <td>2016-09-22</td>\n",
       "      <td>395 days</td>\n",
       "      <td>86.861314</td>\n",
       "      <td>958411.048403</td>\n",
       "      <td>1005602.290523</td>\n",
       "      <td>-4.158895</td>\n",
       "      <td>-4.933116</td>\n",
       "      <td>-3.831453</td>\n",
       "      <td>35.42247</td>\n",
       "      <td>...</td>\n",
       "      <td>-0.352902</td>\n",
       "      <td>140 days</td>\n",
       "      <td>32 days</td>\n",
       "      <td>1.199481</td>\n",
       "      <td>0.775837</td>\n",
       "      <td>-0.086784</td>\n",
       "      <td>NEAT_strategy</td>\n",
       "      <td>Equity  DrawdownPct Drawdo...</td>\n",
       "      <td>Size  EntryBar  ExitBar  EntryPrice  Exit...</td>\n",
       "      <td>0.774221</td>\n",
       "    </tr>\n",
       "    <tr>\n",
       "      <th>26</th>\n",
       "      <td>2020-04-28</td>\n",
       "      <td>2021-05-28</td>\n",
       "      <td>395 days</td>\n",
       "      <td>87.272727</td>\n",
       "      <td>1705287.833795</td>\n",
       "      <td>1778164.075932</td>\n",
       "      <td>70.528783</td>\n",
       "      <td>65.372933</td>\n",
       "      <td>63.083858</td>\n",
       "      <td>53.599053</td>\n",
       "      <td>...</td>\n",
       "      <td>23.452511</td>\n",
       "      <td>213 days</td>\n",
       "      <td>125 days</td>\n",
       "      <td>NaN</td>\n",
       "      <td>24.654108</td>\n",
       "      <td>1.595205</td>\n",
       "      <td>NEAT_strategy</td>\n",
       "      <td>Equity  DrawdownPct Drawdown...</td>\n",
       "      <td>Size  EntryBar  ExitBar  EntryPrice   Exit...</td>\n",
       "      <td>5.155851</td>\n",
       "    </tr>\n",
       "    <tr>\n",
       "      <th>29</th>\n",
       "      <td>2016-09-06</td>\n",
       "      <td>2017-10-06</td>\n",
       "      <td>395 days</td>\n",
       "      <td>87.272727</td>\n",
       "      <td>1695691.775261</td>\n",
       "      <td>1696012.885117</td>\n",
       "      <td>69.569178</td>\n",
       "      <td>67.286391</td>\n",
       "      <td>62.242702</td>\n",
       "      <td>44.887106</td>\n",
       "      <td>...</td>\n",
       "      <td>17.673718</td>\n",
       "      <td>220 days</td>\n",
       "      <td>102 days</td>\n",
       "      <td>855.330037</td>\n",
       "      <td>18.947217</td>\n",
       "      <td>1.987096</td>\n",
       "      <td>NEAT_strategy</td>\n",
       "      <td>Equity  DrawdownPct Drawdown...</td>\n",
       "      <td>Size  EntryBar  ExitBar  EntryPrice  ExitP...</td>\n",
       "      <td>2.282786</td>\n",
       "    </tr>\n",
       "    <tr>\n",
       "      <th>36</th>\n",
       "      <td>2013-04-22</td>\n",
       "      <td>2014-05-21</td>\n",
       "      <td>394 days</td>\n",
       "      <td>87.226277</td>\n",
       "      <td>1005851.37235</td>\n",
       "      <td>1052316.850478</td>\n",
       "      <td>0.585137</td>\n",
       "      <td>-0.7395</td>\n",
       "      <td>0.538029</td>\n",
       "      <td>11.489785</td>\n",
       "      <td>...</td>\n",
       "      <td>0.190378</td>\n",
       "      <td>155 days</td>\n",
       "      <td>39 days</td>\n",
       "      <td>1.2249</td>\n",
       "      <td>0.226585</td>\n",
       "      <td>0.092271</td>\n",
       "      <td>NEAT_strategy</td>\n",
       "      <td>Equity  DrawdownPct Drawdown...</td>\n",
       "      <td>Size  EntryBar  ExitBar  EntryPrice  Exit...</td>\n",
       "      <td>1.324637</td>\n",
       "    </tr>\n",
       "    <tr>\n",
       "      <th>38</th>\n",
       "      <td>2015-10-22</td>\n",
       "      <td>2016-11-18</td>\n",
       "      <td>393 days</td>\n",
       "      <td>87.179487</td>\n",
       "      <td>1197964.224573</td>\n",
       "      <td>1260257.41149</td>\n",
       "      <td>19.796422</td>\n",
       "      <td>13.492627</td>\n",
       "      <td>18.143466</td>\n",
       "      <td>28.761253</td>\n",
       "      <td>...</td>\n",
       "      <td>6.800634</td>\n",
       "      <td>181 days</td>\n",
       "      <td>102 days</td>\n",
       "      <td>43.604852</td>\n",
       "      <td>6.981842</td>\n",
       "      <td>1.366145</td>\n",
       "      <td>NEAT_strategy</td>\n",
       "      <td>Equity  DrawdownPct Drawdown...</td>\n",
       "      <td>Size  EntryBar  ExitBar  EntryPrice  ExitP...</td>\n",
       "      <td>6.303795</td>\n",
       "    </tr>\n",
       "    <tr>\n",
       "      <th>40</th>\n",
       "      <td>2015-10-21</td>\n",
       "      <td>2016-11-18</td>\n",
       "      <td>394 days</td>\n",
       "      <td>87.226277</td>\n",
       "      <td>1186348.699001</td>\n",
       "      <td>1264577.535022</td>\n",
       "      <td>18.63487</td>\n",
       "      <td>13.28406</td>\n",
       "      <td>17.018278</td>\n",
       "      <td>27.990357</td>\n",
       "      <td>...</td>\n",
       "      <td>2.96235</td>\n",
       "      <td>140 days</td>\n",
       "      <td>54 days</td>\n",
       "      <td>36.38883</td>\n",
       "      <td>3.022574</td>\n",
       "      <td>2.109845</td>\n",
       "      <td>NEAT_strategy</td>\n",
       "      <td>Equity  DrawdownPct Drawdown...</td>\n",
       "      <td>Size  EntryBar  ExitBar  EntryPrice  Exit...</td>\n",
       "      <td>5.350810</td>\n",
       "    </tr>\n",
       "    <tr>\n",
       "      <th>44</th>\n",
       "      <td>2008-03-10</td>\n",
       "      <td>2009-04-09</td>\n",
       "      <td>395 days</td>\n",
       "      <td>87.272727</td>\n",
       "      <td>718740.057905</td>\n",
       "      <td>1015008.16332</td>\n",
       "      <td>-28.125994</td>\n",
       "      <td>-30.784268</td>\n",
       "      <td>-26.113064</td>\n",
       "      <td>41.552174</td>\n",
       "      <td>...</td>\n",
       "      <td>-8.412228</td>\n",
       "      <td>223 days</td>\n",
       "      <td>64 days</td>\n",
       "      <td>0.155484</td>\n",
       "      <td>-7.496231</td>\n",
       "      <td>-1.144836</td>\n",
       "      <td>NEAT_strategy</td>\n",
       "      <td>Equity  DrawdownPct Drawdo...</td>\n",
       "      <td>Size  EntryBar  ExitBar  EntryPrice  Exit...</td>\n",
       "      <td>2.658274</td>\n",
       "    </tr>\n",
       "    <tr>\n",
       "      <th>47</th>\n",
       "      <td>2011-06-27</td>\n",
       "      <td>2012-07-24</td>\n",
       "      <td>393 days</td>\n",
       "      <td>87.132353</td>\n",
       "      <td>779176.142999</td>\n",
       "      <td>1037734.957895</td>\n",
       "      <td>-22.082386</td>\n",
       "      <td>-34.769598</td>\n",
       "      <td>-20.639643</td>\n",
       "      <td>21.868222</td>\n",
       "      <td>...</td>\n",
       "      <td>-1.803276</td>\n",
       "      <td>125 days</td>\n",
       "      <td>27 days</td>\n",
       "      <td>0.521349</td>\n",
       "      <td>-1.515402</td>\n",
       "      <td>-0.883315</td>\n",
       "      <td>NEAT_strategy</td>\n",
       "      <td>Equity  DrawdownPct Drawdo...</td>\n",
       "      <td>Size  EntryBar  ExitBar  EntryPrice  Exit...</td>\n",
       "      <td>12.687213</td>\n",
       "    </tr>\n",
       "    <tr>\n",
       "      <th>48</th>\n",
       "      <td>2001-10-22</td>\n",
       "      <td>2002-11-21</td>\n",
       "      <td>395 days</td>\n",
       "      <td>87.272727</td>\n",
       "      <td>1503577.264807</td>\n",
       "      <td>1503577.264807</td>\n",
       "      <td>50.357726</td>\n",
       "      <td>43.702045</td>\n",
       "      <td>45.315385</td>\n",
       "      <td>53.337119</td>\n",
       "      <td>...</td>\n",
       "      <td>8.00046</td>\n",
       "      <td>157 days</td>\n",
       "      <td>73 days</td>\n",
       "      <td>NaN</td>\n",
       "      <td>8.312627</td>\n",
       "      <td>2.372442</td>\n",
       "      <td>NEAT_strategy</td>\n",
       "      <td>Equity  DrawdownPct Drawdown...</td>\n",
       "      <td>Size  EntryBar  ExitBar  EntryPrice  Exi...</td>\n",
       "      <td>6.655681</td>\n",
       "    </tr>\n",
       "    <tr>\n",
       "      <th>49</th>\n",
       "      <td>2012-05-08</td>\n",
       "      <td>2013-06-07</td>\n",
       "      <td>395 days</td>\n",
       "      <td>87.132353</td>\n",
       "      <td>3194081.720841</td>\n",
       "      <td>3479981.085718</td>\n",
       "      <td>219.408172</td>\n",
       "      <td>202.541561</td>\n",
       "      <td>193.266028</td>\n",
       "      <td>237.601391</td>\n",
       "      <td>...</td>\n",
       "      <td>50.240277</td>\n",
       "      <td>174 days</td>\n",
       "      <td>99 days</td>\n",
       "      <td>38.216028</td>\n",
       "      <td>62.886622</td>\n",
       "      <td>1.414212</td>\n",
       "      <td>NEAT_strategy</td>\n",
       "      <td>Equity  DrawdownPct Drawdown...</td>\n",
       "      <td>Size  EntryBar  ExitBar  EntryPrice  Exit...</td>\n",
       "      <td>16.866611</td>\n",
       "    </tr>\n",
       "    <tr>\n",
       "      <th>50</th>\n",
       "      <td>2010-09-07</td>\n",
       "      <td>2011-10-07</td>\n",
       "      <td>395 days</td>\n",
       "      <td>87.318841</td>\n",
       "      <td>1223278.965362</td>\n",
       "      <td>1234402.597254</td>\n",
       "      <td>22.327897</td>\n",
       "      <td>20.933656</td>\n",
       "      <td>20.202803</td>\n",
       "      <td>19.16256</td>\n",
       "      <td>...</td>\n",
       "      <td>2.853048</td>\n",
       "      <td>150 days</td>\n",
       "      <td>51 days</td>\n",
       "      <td>13.241082</td>\n",
       "      <td>2.889856</td>\n",
       "      <td>2.612175</td>\n",
       "      <td>NEAT_strategy</td>\n",
       "      <td>Equity  DrawdownPct Drawdown...</td>\n",
       "      <td>Size  EntryBar  ExitBar  EntryPrice  Exit...</td>\n",
       "      <td>1.394241</td>\n",
       "    </tr>\n",
       "    <tr>\n",
       "      <th>51</th>\n",
       "      <td>2004-03-15</td>\n",
       "      <td>2005-04-13</td>\n",
       "      <td>394 days</td>\n",
       "      <td>87.179487</td>\n",
       "      <td>1083450.786248</td>\n",
       "      <td>1194533.517629</td>\n",
       "      <td>8.345079</td>\n",
       "      <td>4.456396</td>\n",
       "      <td>7.679135</td>\n",
       "      <td>15.591489</td>\n",
       "      <td>...</td>\n",
       "      <td>1.272119</td>\n",
       "      <td>71 days</td>\n",
       "      <td>33 days</td>\n",
       "      <td>3.925577</td>\n",
       "      <td>1.298664</td>\n",
       "      <td>1.126486</td>\n",
       "      <td>NEAT_strategy</td>\n",
       "      <td>Equity  DrawdownPct Drawdown...</td>\n",
       "      <td>Size  EntryBar  ExitBar  EntryPrice  Exit...</td>\n",
       "      <td>3.888683</td>\n",
       "    </tr>\n",
       "    <tr>\n",
       "      <th>54</th>\n",
       "      <td>2019-09-23</td>\n",
       "      <td>2020-10-21</td>\n",
       "      <td>394 days</td>\n",
       "      <td>87.226277</td>\n",
       "      <td>1170370.948194</td>\n",
       "      <td>1201405.478952</td>\n",
       "      <td>17.037095</td>\n",
       "      <td>7.569597</td>\n",
       "      <td>15.568028</td>\n",
       "      <td>56.480876</td>\n",
       "      <td>...</td>\n",
       "      <td>3.80247</td>\n",
       "      <td>152 days</td>\n",
       "      <td>75 days</td>\n",
       "      <td>4.235735</td>\n",
       "      <td>4.050208</td>\n",
       "      <td>1.175595</td>\n",
       "      <td>NEAT_strategy</td>\n",
       "      <td>Equity  DrawdownPct Drawdown...</td>\n",
       "      <td>Size  EntryBar  ExitBar  EntryPrice   Exit...</td>\n",
       "      <td>9.467498</td>\n",
       "    </tr>\n",
       "    <tr>\n",
       "      <th>57</th>\n",
       "      <td>2019-09-11</td>\n",
       "      <td>2020-10-09</td>\n",
       "      <td>394 days</td>\n",
       "      <td>87.226277</td>\n",
       "      <td>969943.614816</td>\n",
       "      <td>1209929.266116</td>\n",
       "      <td>-3.005639</td>\n",
       "      <td>-14.041802</td>\n",
       "      <td>-2.767682</td>\n",
       "      <td>43.058596</td>\n",
       "      <td>...</td>\n",
       "      <td>-1.470046</td>\n",
       "      <td>284 days</td>\n",
       "      <td>64 days</td>\n",
       "      <td>0.86606</td>\n",
       "      <td>-0.637315</td>\n",
       "      <td>-0.081616</td>\n",
       "      <td>NEAT_strategy</td>\n",
       "      <td>Equity  DrawdownPct Drawdo...</td>\n",
       "      <td>Size  EntryBar  ExitBar  EntryPrice  ExitP...</td>\n",
       "      <td>11.036164</td>\n",
       "    </tr>\n",
       "    <tr>\n",
       "      <th>59</th>\n",
       "      <td>2002-06-17</td>\n",
       "      <td>2003-07-17</td>\n",
       "      <td>395 days</td>\n",
       "      <td>87.226277</td>\n",
       "      <td>843747.955018</td>\n",
       "      <td>1163448.012897</td>\n",
       "      <td>-15.625204</td>\n",
       "      <td>-43.361718</td>\n",
       "      <td>-14.4663</td>\n",
       "      <td>34.629091</td>\n",
       "      <td>...</td>\n",
       "      <td>-4.373952</td>\n",
       "      <td>154 days</td>\n",
       "      <td>49 days</td>\n",
       "      <td>0.408393</td>\n",
       "      <td>-3.820057</td>\n",
       "      <td>-0.612539</td>\n",
       "      <td>NEAT_strategy</td>\n",
       "      <td>Equity  DrawdownPct Drawdo...</td>\n",
       "      <td>Size  EntryBar  ExitBar  EntryPrice  Exit...</td>\n",
       "      <td>27.736513</td>\n",
       "    </tr>\n",
       "    <tr>\n",
       "      <th>60</th>\n",
       "      <td>2008-12-15</td>\n",
       "      <td>2010-01-12</td>\n",
       "      <td>393 days</td>\n",
       "      <td>85.97786</td>\n",
       "      <td>2820082.405476</td>\n",
       "      <td>2844198.387868</td>\n",
       "      <td>182.008241</td>\n",
       "      <td>134.628178</td>\n",
       "      <td>162.236795</td>\n",
       "      <td>156.535874</td>\n",
       "      <td>...</td>\n",
       "      <td>16.381037</td>\n",
       "      <td>127 days</td>\n",
       "      <td>43 days</td>\n",
       "      <td>NaN</td>\n",
       "      <td>18.077261</td>\n",
       "      <td>2.554477</td>\n",
       "      <td>NEAT_strategy</td>\n",
       "      <td>Equity  DrawdownPct Drawdown...</td>\n",
       "      <td>Size  EntryBar  ExitBar  EntryPrice  Exi...</td>\n",
       "      <td>47.380062</td>\n",
       "    </tr>\n",
       "    <tr>\n",
       "      <th>61</th>\n",
       "      <td>2018-12-11</td>\n",
       "      <td>2020-01-10</td>\n",
       "      <td>395 days</td>\n",
       "      <td>87.179487</td>\n",
       "      <td>914732.717739</td>\n",
       "      <td>1185504.741912</td>\n",
       "      <td>-8.526728</td>\n",
       "      <td>-10.422503</td>\n",
       "      <td>-7.897466</td>\n",
       "      <td>30.573526</td>\n",
       "      <td>...</td>\n",
       "      <td>-2.642941</td>\n",
       "      <td>226 days</td>\n",
       "      <td>73 days</td>\n",
       "      <td>0.568015</td>\n",
       "      <td>-2.132328</td>\n",
       "      <td>-0.352131</td>\n",
       "      <td>NEAT_strategy</td>\n",
       "      <td>Equity  DrawdownPct Drawdo...</td>\n",
       "      <td>Size  EntryBar  ExitBar  EntryPrice  Exit...</td>\n",
       "      <td>1.895774</td>\n",
       "    </tr>\n",
       "    <tr>\n",
       "      <th>63</th>\n",
       "      <td>2018-01-02</td>\n",
       "      <td>2019-02-01</td>\n",
       "      <td>395 days</td>\n",
       "      <td>87.179487</td>\n",
       "      <td>998999.411361</td>\n",
       "      <td>1081219.467642</td>\n",
       "      <td>-0.100059</td>\n",
       "      <td>-1.773811</td>\n",
       "      <td>-0.092366</td>\n",
       "      <td>17.682183</td>\n",
       "      <td>...</td>\n",
       "      <td>-1.493971</td>\n",
       "      <td>204 days</td>\n",
       "      <td>120 days</td>\n",
       "      <td>0.73761</td>\n",
       "      <td>-1.140168</td>\n",
       "      <td>-0.005497</td>\n",
       "      <td>NEAT_strategy</td>\n",
       "      <td>Equity  DrawdownPct Drawdo...</td>\n",
       "      <td>Size  EntryBar  ExitBar  EntryPrice   ExitP...</td>\n",
       "      <td>1.673752</td>\n",
       "    </tr>\n",
       "    <tr>\n",
       "      <th>66</th>\n",
       "      <td>2018-10-30</td>\n",
       "      <td>2019-11-29</td>\n",
       "      <td>395 days</td>\n",
       "      <td>87.179487</td>\n",
       "      <td>1576123.672224</td>\n",
       "      <td>1663706.357807</td>\n",
       "      <td>57.612367</td>\n",
       "      <td>39.937754</td>\n",
       "      <td>52.191725</td>\n",
       "      <td>32.562018</td>\n",
       "      <td>...</td>\n",
       "      <td>13.260797</td>\n",
       "      <td>291 days</td>\n",
       "      <td>96 days</td>\n",
       "      <td>NaN</td>\n",
       "      <td>13.839886</td>\n",
       "      <td>2.026087</td>\n",
       "      <td>NEAT_strategy</td>\n",
       "      <td>Equity  DrawdownPct Drawdown...</td>\n",
       "      <td>Size  EntryBar  ExitBar  EntryPrice   ExitP...</td>\n",
       "      <td>17.674613</td>\n",
       "    </tr>\n",
       "    <tr>\n",
       "      <th>69</th>\n",
       "      <td>2015-09-29</td>\n",
       "      <td>2016-10-28</td>\n",
       "      <td>395 days</td>\n",
       "      <td>87.272727</td>\n",
       "      <td>1439481.05439</td>\n",
       "      <td>1827406.638578</td>\n",
       "      <td>43.948105</td>\n",
       "      <td>-10.057883</td>\n",
       "      <td>39.628535</td>\n",
       "      <td>68.338709</td>\n",
       "      <td>...</td>\n",
       "      <td>26.053408</td>\n",
       "      <td>296 days</td>\n",
       "      <td>154 days</td>\n",
       "      <td>16.069328</td>\n",
       "      <td>28.660658</td>\n",
       "      <td>0.876982</td>\n",
       "      <td>NEAT_strategy</td>\n",
       "      <td>Equity  DrawdownPct Drawdown...</td>\n",
       "      <td>Size  EntryBar  ExitBar  EntryPrice  Exit...</td>\n",
       "      <td>54.005988</td>\n",
       "    </tr>\n",
       "    <tr>\n",
       "      <th>73</th>\n",
       "      <td>2014-09-03</td>\n",
       "      <td>2015-10-02</td>\n",
       "      <td>394 days</td>\n",
       "      <td>87.226277</td>\n",
       "      <td>653876.671175</td>\n",
       "      <td>1087867.702185</td>\n",
       "      <td>-34.612333</td>\n",
       "      <td>-36.724354</td>\n",
       "      <td>-32.343419</td>\n",
       "      <td>19.610296</td>\n",
       "      <td>...</td>\n",
       "      <td>-5.897728</td>\n",
       "      <td>311 days</td>\n",
       "      <td>75 days</td>\n",
       "      <td>0.397738</td>\n",
       "      <td>-4.305475</td>\n",
       "      <td>-0.7175</td>\n",
       "      <td>NEAT_strategy</td>\n",
       "      <td>Equity  DrawdownPct Drawdo...</td>\n",
       "      <td>Size  EntryBar  ExitBar  EntryPrice  ExitP...</td>\n",
       "      <td>2.112021</td>\n",
       "    </tr>\n",
       "    <tr>\n",
       "      <th>74</th>\n",
       "      <td>2002-07-30</td>\n",
       "      <td>2003-08-29</td>\n",
       "      <td>395 days</td>\n",
       "      <td>87.272727</td>\n",
       "      <td>1561889.700845</td>\n",
       "      <td>1695161.473032</td>\n",
       "      <td>56.18897</td>\n",
       "      <td>27.687776</td>\n",
       "      <td>50.471465</td>\n",
       "      <td>48.778471</td>\n",
       "      <td>...</td>\n",
       "      <td>4.829626</td>\n",
       "      <td>161 days</td>\n",
       "      <td>37 days</td>\n",
       "      <td>7.801601</td>\n",
       "      <td>5.103484</td>\n",
       "      <td>1.564618</td>\n",
       "      <td>NEAT_strategy</td>\n",
       "      <td>Equity  DrawdownPct Drawdown...</td>\n",
       "      <td>Size  EntryBar  ExitBar  EntryPrice   Exit...</td>\n",
       "      <td>28.501194</td>\n",
       "    </tr>\n",
       "    <tr>\n",
       "      <th>75</th>\n",
       "      <td>2001-02-26</td>\n",
       "      <td>2002-03-28</td>\n",
       "      <td>395 days</td>\n",
       "      <td>87.084871</td>\n",
       "      <td>1248643.589333</td>\n",
       "      <td>1288346.068574</td>\n",
       "      <td>24.864359</td>\n",
       "      <td>20.031329</td>\n",
       "      <td>22.935446</td>\n",
       "      <td>30.356759</td>\n",
       "      <td>...</td>\n",
       "      <td>1.599529</td>\n",
       "      <td>87 days</td>\n",
       "      <td>20 days</td>\n",
       "      <td>4.009995</td>\n",
       "      <td>1.647556</td>\n",
       "      <td>1.979585</td>\n",
       "      <td>NEAT_strategy</td>\n",
       "      <td>Equity  DrawdownPct Drawdown...</td>\n",
       "      <td>Size  EntryBar  ExitBar  EntryPrice  Exit...</td>\n",
       "      <td>4.833030</td>\n",
       "    </tr>\n",
       "    <tr>\n",
       "      <th>79</th>\n",
       "      <td>2013-02-05</td>\n",
       "      <td>2014-03-07</td>\n",
       "      <td>395 days</td>\n",
       "      <td>87.226277</td>\n",
       "      <td>1721181.498685</td>\n",
       "      <td>1732833.305479</td>\n",
       "      <td>72.11815</td>\n",
       "      <td>69.36959</td>\n",
       "      <td>64.775137</td>\n",
       "      <td>33.844817</td>\n",
       "      <td>...</td>\n",
       "      <td>5.198764</td>\n",
       "      <td>108 days</td>\n",
       "      <td>31 days</td>\n",
       "      <td>42.104917</td>\n",
       "      <td>5.297874</td>\n",
       "      <td>3.085247</td>\n",
       "      <td>NEAT_strategy</td>\n",
       "      <td>Equity  DrawdownPct Drawdown...</td>\n",
       "      <td>Size  EntryBar  ExitBar  EntryPrice  Exit...</td>\n",
       "      <td>2.748559</td>\n",
       "    </tr>\n",
       "    <tr>\n",
       "      <th>81</th>\n",
       "      <td>2017-03-06</td>\n",
       "      <td>2018-04-04</td>\n",
       "      <td>394 days</td>\n",
       "      <td>87.179487</td>\n",
       "      <td>1982580.340359</td>\n",
       "      <td>1982580.340359</td>\n",
       "      <td>98.258034</td>\n",
       "      <td>91.966776</td>\n",
       "      <td>88.090512</td>\n",
       "      <td>46.114399</td>\n",
       "      <td>...</td>\n",
       "      <td>31.846675</td>\n",
       "      <td>227 days</td>\n",
       "      <td>114 days</td>\n",
       "      <td>NaN</td>\n",
       "      <td>34.342692</td>\n",
       "      <td>1.790354</td>\n",
       "      <td>NEAT_strategy</td>\n",
       "      <td>Equity  DrawdownPct Drawdown...</td>\n",
       "      <td>Size  EntryBar  ExitBar  EntryPrice  ExitP...</td>\n",
       "      <td>6.291258</td>\n",
       "    </tr>\n",
       "    <tr>\n",
       "      <th>82</th>\n",
       "      <td>2007-10-12</td>\n",
       "      <td>2008-11-10</td>\n",
       "      <td>395 days</td>\n",
       "      <td>86.813187</td>\n",
       "      <td>524443.514076</td>\n",
       "      <td>1145928.175838</td>\n",
       "      <td>-47.555649</td>\n",
       "      <td>-55.319149</td>\n",
       "      <td>-44.8862</td>\n",
       "      <td>29.47915</td>\n",
       "      <td>...</td>\n",
       "      <td>-5.360845</td>\n",
       "      <td>98 days</td>\n",
       "      <td>36 days</td>\n",
       "      <td>0.317405</td>\n",
       "      <td>-3.965903</td>\n",
       "      <td>-0.835802</td>\n",
       "      <td>NEAT_strategy</td>\n",
       "      <td>Equity  DrawdownPct Drawdo...</td>\n",
       "      <td>Size  EntryBar  ExitBar  EntryPrice  Exit...</td>\n",
       "      <td>7.763500</td>\n",
       "    </tr>\n",
       "    <tr>\n",
       "      <th>84</th>\n",
       "      <td>2008-06-16</td>\n",
       "      <td>2009-07-15</td>\n",
       "      <td>394 days</td>\n",
       "      <td>86.446886</td>\n",
       "      <td>910352.808989</td>\n",
       "      <td>1131556.499126</td>\n",
       "      <td>-8.964719</td>\n",
       "      <td>-18.901096</td>\n",
       "      <td>-8.304621</td>\n",
       "      <td>36.968402</td>\n",
       "      <td>...</td>\n",
       "      <td>-3.065389</td>\n",
       "      <td>201 days</td>\n",
       "      <td>146 days</td>\n",
       "      <td>0.524427</td>\n",
       "      <td>-2.660613</td>\n",
       "      <td>-0.370413</td>\n",
       "      <td>NEAT_strategy</td>\n",
       "      <td>Equity  DrawdownPct Drawdo...</td>\n",
       "      <td>Size  EntryBar  ExitBar  EntryPrice  ExitP...</td>\n",
       "      <td>9.936376</td>\n",
       "    </tr>\n",
       "    <tr>\n",
       "      <th>86</th>\n",
       "      <td>2002-03-25</td>\n",
       "      <td>2003-04-24</td>\n",
       "      <td>395 days</td>\n",
       "      <td>87.226277</td>\n",
       "      <td>940332.509588</td>\n",
       "      <td>1080505.374154</td>\n",
       "      <td>-5.966749</td>\n",
       "      <td>-12.655375</td>\n",
       "      <td>-5.501104</td>\n",
       "      <td>19.112777</td>\n",
       "      <td>...</td>\n",
       "      <td>-1.779722</td>\n",
       "      <td>140 days</td>\n",
       "      <td>74 days</td>\n",
       "      <td>0.4447</td>\n",
       "      <td>-1.646856</td>\n",
       "      <td>-0.658084</td>\n",
       "      <td>NEAT_strategy</td>\n",
       "      <td>Equity  DrawdownPct Drawdo...</td>\n",
       "      <td>Size  EntryBar  ExitBar  EntryPrice  Exit...</td>\n",
       "      <td>6.688626</td>\n",
       "    </tr>\n",
       "    <tr>\n",
       "      <th>88</th>\n",
       "      <td>2000-04-19</td>\n",
       "      <td>2001-05-18</td>\n",
       "      <td>394 days</td>\n",
       "      <td>86.813187</td>\n",
       "      <td>908559.087399</td>\n",
       "      <td>1070911.911743</td>\n",
       "      <td>-9.144091</td>\n",
       "      <td>-13.736838</td>\n",
       "      <td>-8.471409</td>\n",
       "      <td>35.531969</td>\n",
       "      <td>...</td>\n",
       "      <td>-1.615889</td>\n",
       "      <td>140 days</td>\n",
       "      <td>60 days</td>\n",
       "      <td>0.747402</td>\n",
       "      <td>-1.159666</td>\n",
       "      <td>-0.365585</td>\n",
       "      <td>NEAT_strategy</td>\n",
       "      <td>Equity  DrawdownPct Drawdo...</td>\n",
       "      <td>Size  EntryBar  ExitBar  EntryPrice  ExitP...</td>\n",
       "      <td>4.592747</td>\n",
       "    </tr>\n",
       "    <tr>\n",
       "      <th>89</th>\n",
       "      <td>2018-09-10</td>\n",
       "      <td>2019-10-10</td>\n",
       "      <td>395 days</td>\n",
       "      <td>87.226277</td>\n",
       "      <td>1052833.519993</td>\n",
       "      <td>1284782.364462</td>\n",
       "      <td>5.283352</td>\n",
       "      <td>-7.432642</td>\n",
       "      <td>4.849026</td>\n",
       "      <td>23.162724</td>\n",
       "      <td>...</td>\n",
       "      <td>0.522113</td>\n",
       "      <td>146 days</td>\n",
       "      <td>26 days</td>\n",
       "      <td>1.367596</td>\n",
       "      <td>0.664068</td>\n",
       "      <td>0.291212</td>\n",
       "      <td>NEAT_strategy</td>\n",
       "      <td>Equity  DrawdownPct Drawdown...</td>\n",
       "      <td>Size  EntryBar  ExitBar  EntryPrice   Exit...</td>\n",
       "      <td>12.715994</td>\n",
       "    </tr>\n",
       "    <tr>\n",
       "      <th>92</th>\n",
       "      <td>2011-01-24</td>\n",
       "      <td>2012-02-23</td>\n",
       "      <td>395 days</td>\n",
       "      <td>87.226277</td>\n",
       "      <td>1220220.402647</td>\n",
       "      <td>1232570.319792</td>\n",
       "      <td>22.02204</td>\n",
       "      <td>20.777027</td>\n",
       "      <td>20.087549</td>\n",
       "      <td>60.785126</td>\n",
       "      <td>...</td>\n",
       "      <td>4.958483</td>\n",
       "      <td>112 days</td>\n",
       "      <td>42 days</td>\n",
       "      <td>3.326968</td>\n",
       "      <td>6.243054</td>\n",
       "      <td>0.55457</td>\n",
       "      <td>NEAT_strategy</td>\n",
       "      <td>Equity  DrawdownPct Drawdown...</td>\n",
       "      <td>Size  EntryBar  ExitBar  EntryPrice   Exit...</td>\n",
       "      <td>1.245013</td>\n",
       "    </tr>\n",
       "    <tr>\n",
       "      <th>96</th>\n",
       "      <td>2009-05-11</td>\n",
       "      <td>2010-06-10</td>\n",
       "      <td>395 days</td>\n",
       "      <td>87.226277</td>\n",
       "      <td>1637584.232192</td>\n",
       "      <td>2029976.487504</td>\n",
       "      <td>63.758423</td>\n",
       "      <td>32.542698</td>\n",
       "      <td>57.400031</td>\n",
       "      <td>70.922698</td>\n",
       "      <td>...</td>\n",
       "      <td>6.924574</td>\n",
       "      <td>124 days</td>\n",
       "      <td>49 days</td>\n",
       "      <td>4.105532</td>\n",
       "      <td>7.849975</td>\n",
       "      <td>1.095115</td>\n",
       "      <td>NEAT_strategy</td>\n",
       "      <td>Equity  DrawdownPct Drawdown...</td>\n",
       "      <td>Size  EntryBar  ExitBar  EntryPrice  Exi...</td>\n",
       "      <td>31.215726</td>\n",
       "    </tr>\n",
       "  </tbody>\n",
       "</table>\n",
       "<p>38 rows × 31 columns</p>\n",
       "</div>"
      ],
      "text/plain": [
       "           Start        End Duration Exposure Time [%] Equity Final [$]  \\\n",
       "index                                                                     \n",
       "0     2018-09-12 2019-10-11 394 days         86.813187   1136746.757184   \n",
       "4     2015-11-09 2016-12-06 393 days         86.764706   1140405.790494   \n",
       "8     2014-08-18 2015-09-16 394 days         87.179487   1100920.184886   \n",
       "11    2002-08-07 2003-09-05 394 days         87.179487   1680835.865868   \n",
       "15    2006-10-30 2007-11-27 393 days         87.084871   1122372.835278   \n",
       "16    2015-12-02 2016-12-30 394 days         87.179487   1162088.766701   \n",
       "21    2015-08-24 2016-09-22 395 days         86.861314    958411.048403   \n",
       "26    2020-04-28 2021-05-28 395 days         87.272727   1705287.833795   \n",
       "29    2016-09-06 2017-10-06 395 days         87.272727   1695691.775261   \n",
       "36    2013-04-22 2014-05-21 394 days         87.226277    1005851.37235   \n",
       "38    2015-10-22 2016-11-18 393 days         87.179487   1197964.224573   \n",
       "40    2015-10-21 2016-11-18 394 days         87.226277   1186348.699001   \n",
       "44    2008-03-10 2009-04-09 395 days         87.272727    718740.057905   \n",
       "47    2011-06-27 2012-07-24 393 days         87.132353    779176.142999   \n",
       "48    2001-10-22 2002-11-21 395 days         87.272727   1503577.264807   \n",
       "49    2012-05-08 2013-06-07 395 days         87.132353   3194081.720841   \n",
       "50    2010-09-07 2011-10-07 395 days         87.318841   1223278.965362   \n",
       "51    2004-03-15 2005-04-13 394 days         87.179487   1083450.786248   \n",
       "54    2019-09-23 2020-10-21 394 days         87.226277   1170370.948194   \n",
       "57    2019-09-11 2020-10-09 394 days         87.226277    969943.614816   \n",
       "59    2002-06-17 2003-07-17 395 days         87.226277    843747.955018   \n",
       "60    2008-12-15 2010-01-12 393 days          85.97786   2820082.405476   \n",
       "61    2018-12-11 2020-01-10 395 days         87.179487    914732.717739   \n",
       "63    2018-01-02 2019-02-01 395 days         87.179487    998999.411361   \n",
       "66    2018-10-30 2019-11-29 395 days         87.179487   1576123.672224   \n",
       "69    2015-09-29 2016-10-28 395 days         87.272727    1439481.05439   \n",
       "73    2014-09-03 2015-10-02 394 days         87.226277    653876.671175   \n",
       "74    2002-07-30 2003-08-29 395 days         87.272727   1561889.700845   \n",
       "75    2001-02-26 2002-03-28 395 days         87.084871   1248643.589333   \n",
       "79    2013-02-05 2014-03-07 395 days         87.226277   1721181.498685   \n",
       "81    2017-03-06 2018-04-04 394 days         87.179487   1982580.340359   \n",
       "82    2007-10-12 2008-11-10 395 days         86.813187    524443.514076   \n",
       "84    2008-06-16 2009-07-15 394 days         86.446886    910352.808989   \n",
       "86    2002-03-25 2003-04-24 395 days         87.226277    940332.509588   \n",
       "88    2000-04-19 2001-05-18 394 days         86.813187    908559.087399   \n",
       "89    2018-09-10 2019-10-10 395 days         87.226277   1052833.519993   \n",
       "92    2011-01-24 2012-02-23 395 days         87.226277   1220220.402647   \n",
       "96    2009-05-11 2010-06-10 395 days         87.226277   1637584.232192   \n",
       "\n",
       "      Equity Peak [$]  Return [%] Buy & Hold Return [%] Return (Ann.) [%]  \\\n",
       "index                                                                       \n",
       "0      1260602.760787   13.674676                2.3227         12.559434   \n",
       "4      1249418.889026   14.040579              -1.30322         12.944183   \n",
       "8      1207180.721939   10.092018              8.197816          9.280795   \n",
       "11      1760579.41136   68.083587             63.663943          61.50174   \n",
       "15     1241479.855799   12.237284              5.787883         11.332509   \n",
       "16     1174481.646658   16.208877             -1.290491         14.873776   \n",
       "21     1005602.290523   -4.158895             -4.933116         -3.831453   \n",
       "26     1778164.075932   70.528783             65.372933         63.083858   \n",
       "29     1696012.885117   69.569178             67.286391         62.242702   \n",
       "36     1052316.850478    0.585137               -0.7395          0.538029   \n",
       "38      1260257.41149   19.796422             13.492627         18.143466   \n",
       "40     1264577.535022    18.63487              13.28406         17.018278   \n",
       "44      1015008.16332  -28.125994            -30.784268        -26.113064   \n",
       "47     1037734.957895  -22.082386            -34.769598        -20.639643   \n",
       "48     1503577.264807   50.357726             43.702045         45.315385   \n",
       "49     3479981.085718  219.408172            202.541561        193.266028   \n",
       "50     1234402.597254   22.327897             20.933656         20.202803   \n",
       "51     1194533.517629    8.345079              4.456396          7.679135   \n",
       "54     1201405.478952   17.037095              7.569597         15.568028   \n",
       "57     1209929.266116   -3.005639            -14.041802         -2.767682   \n",
       "59     1163448.012897  -15.625204            -43.361718          -14.4663   \n",
       "60     2844198.387868  182.008241            134.628178        162.236795   \n",
       "61     1185504.741912   -8.526728            -10.422503         -7.897466   \n",
       "63     1081219.467642   -0.100059             -1.773811         -0.092366   \n",
       "66     1663706.357807   57.612367             39.937754         52.191725   \n",
       "69     1827406.638578   43.948105            -10.057883         39.628535   \n",
       "73     1087867.702185  -34.612333            -36.724354        -32.343419   \n",
       "74     1695161.473032    56.18897             27.687776         50.471465   \n",
       "75     1288346.068574   24.864359             20.031329         22.935446   \n",
       "79     1732833.305479    72.11815              69.36959         64.775137   \n",
       "81     1982580.340359   98.258034             91.966776         88.090512   \n",
       "82     1145928.175838  -47.555649            -55.319149          -44.8862   \n",
       "84     1131556.499126   -8.964719            -18.901096         -8.304621   \n",
       "86     1080505.374154   -5.966749            -12.655375         -5.501104   \n",
       "88     1070911.911743   -9.144091            -13.736838         -8.471409   \n",
       "89     1284782.364462    5.283352             -7.432642          4.849026   \n",
       "92     1232570.319792    22.02204             20.777027         20.087549   \n",
       "96     2029976.487504   63.758423             32.542698         57.400031   \n",
       "\n",
       "      Volatility (Ann.) [%]  ... Avg. Trade [%] Max. Trade Duration  \\\n",
       "index                        ...                                      \n",
       "0                 28.453604  ...       6.283217            162 days   \n",
       "4                 39.750003  ...       3.869031            266 days   \n",
       "8                   19.6103  ...       2.489551            182 days   \n",
       "11                47.027932  ...       3.454734             84 days   \n",
       "15                24.870483  ...       1.280314            129 days   \n",
       "16                 19.88491  ...       2.367907            109 days   \n",
       "21                 35.42247  ...      -0.352902            140 days   \n",
       "26                53.599053  ...      23.452511            213 days   \n",
       "29                44.887106  ...      17.673718            220 days   \n",
       "36                11.489785  ...       0.190378            155 days   \n",
       "38                28.761253  ...       6.800634            181 days   \n",
       "40                27.990357  ...        2.96235            140 days   \n",
       "44                41.552174  ...      -8.412228            223 days   \n",
       "47                21.868222  ...      -1.803276            125 days   \n",
       "48                53.337119  ...        8.00046            157 days   \n",
       "49               237.601391  ...      50.240277            174 days   \n",
       "50                 19.16256  ...       2.853048            150 days   \n",
       "51                15.591489  ...       1.272119             71 days   \n",
       "54                56.480876  ...        3.80247            152 days   \n",
       "57                43.058596  ...      -1.470046            284 days   \n",
       "59                34.629091  ...      -4.373952            154 days   \n",
       "60               156.535874  ...      16.381037            127 days   \n",
       "61                30.573526  ...      -2.642941            226 days   \n",
       "63                17.682183  ...      -1.493971            204 days   \n",
       "66                32.562018  ...      13.260797            291 days   \n",
       "69                68.338709  ...      26.053408            296 days   \n",
       "73                19.610296  ...      -5.897728            311 days   \n",
       "74                48.778471  ...       4.829626            161 days   \n",
       "75                30.356759  ...       1.599529             87 days   \n",
       "79                33.844817  ...       5.198764            108 days   \n",
       "81                46.114399  ...      31.846675            227 days   \n",
       "82                 29.47915  ...      -5.360845             98 days   \n",
       "84                36.968402  ...      -3.065389            201 days   \n",
       "86                19.112777  ...      -1.779722            140 days   \n",
       "88                35.531969  ...      -1.615889            140 days   \n",
       "89                23.162724  ...       0.522113            146 days   \n",
       "92                60.785126  ...       4.958483            112 days   \n",
       "96                70.922698  ...       6.924574            124 days   \n",
       "\n",
       "      Avg. Trade Duration Profit Factor Expectancy [%]       SQN  \\\n",
       "index                                                              \n",
       "0                 89 days      4.368839       7.259651  0.457815   \n",
       "4                 78 days      2.723493       4.508158  0.588442   \n",
       "8                 64 days      3.908538       2.577859  0.829654   \n",
       "11                21 days      5.296606       3.627566  2.463924   \n",
       "15                52 days      1.716026       1.546078  0.564794   \n",
       "16                46 days      6.519052       2.438373    1.6979   \n",
       "21                32 days      1.199481       0.775837 -0.086784   \n",
       "26               125 days           NaN      24.654108  1.595205   \n",
       "29               102 days    855.330037      18.947217  1.987096   \n",
       "36                39 days        1.2249       0.226585  0.092271   \n",
       "38               102 days     43.604852       6.981842  1.366145   \n",
       "40                54 days      36.38883       3.022574  2.109845   \n",
       "44                64 days      0.155484      -7.496231 -1.144836   \n",
       "47                27 days      0.521349      -1.515402 -0.883315   \n",
       "48                73 days           NaN       8.312627  2.372442   \n",
       "49                99 days     38.216028      62.886622  1.414212   \n",
       "50                51 days     13.241082       2.889856  2.612175   \n",
       "51                33 days      3.925577       1.298664  1.126486   \n",
       "54                75 days      4.235735       4.050208  1.175595   \n",
       "57                64 days       0.86606      -0.637315 -0.081616   \n",
       "59                49 days      0.408393      -3.820057 -0.612539   \n",
       "60                43 days           NaN      18.077261  2.554477   \n",
       "61                73 days      0.568015      -2.132328 -0.352131   \n",
       "63               120 days       0.73761      -1.140168 -0.005497   \n",
       "66                96 days           NaN      13.839886  2.026087   \n",
       "69               154 days     16.069328      28.660658  0.876982   \n",
       "73                75 days      0.397738      -4.305475   -0.7175   \n",
       "74                37 days      7.801601       5.103484  1.564618   \n",
       "75                20 days      4.009995       1.647556  1.979585   \n",
       "79                31 days     42.104917       5.297874  3.085247   \n",
       "81               114 days           NaN      34.342692  1.790354   \n",
       "82                36 days      0.317405      -3.965903 -0.835802   \n",
       "84               146 days      0.524427      -2.660613 -0.370413   \n",
       "86                74 days        0.4447      -1.646856 -0.658084   \n",
       "88                60 days      0.747402      -1.159666 -0.365585   \n",
       "89                26 days      1.367596       0.664068  0.291212   \n",
       "92                42 days      3.326968       6.243054   0.55457   \n",
       "96                49 days      4.105532       7.849975  1.095115   \n",
       "\n",
       "           _strategy                                      _equity_curve  \\\n",
       "index                                                                     \n",
       "0      NEAT_strategy                    Equity  DrawdownPct Drawdown...   \n",
       "4      NEAT_strategy                    Equity  DrawdownPct Drawdown...   \n",
       "8      NEAT_strategy                    Equity  DrawdownPct Drawdown...   \n",
       "11     NEAT_strategy                    Equity  DrawdownPct Drawdown...   \n",
       "15     NEAT_strategy                    Equity  DrawdownPct Drawdown...   \n",
       "16     NEAT_strategy                    Equity  DrawdownPct Drawdown...   \n",
       "21     NEAT_strategy                      Equity  DrawdownPct Drawdo...   \n",
       "26     NEAT_strategy                    Equity  DrawdownPct Drawdown...   \n",
       "29     NEAT_strategy                    Equity  DrawdownPct Drawdown...   \n",
       "36     NEAT_strategy                    Equity  DrawdownPct Drawdown...   \n",
       "38     NEAT_strategy                    Equity  DrawdownPct Drawdown...   \n",
       "40     NEAT_strategy                    Equity  DrawdownPct Drawdown...   \n",
       "44     NEAT_strategy                      Equity  DrawdownPct Drawdo...   \n",
       "47     NEAT_strategy                      Equity  DrawdownPct Drawdo...   \n",
       "48     NEAT_strategy                    Equity  DrawdownPct Drawdown...   \n",
       "49     NEAT_strategy                    Equity  DrawdownPct Drawdown...   \n",
       "50     NEAT_strategy                    Equity  DrawdownPct Drawdown...   \n",
       "51     NEAT_strategy                    Equity  DrawdownPct Drawdown...   \n",
       "54     NEAT_strategy                    Equity  DrawdownPct Drawdown...   \n",
       "57     NEAT_strategy                      Equity  DrawdownPct Drawdo...   \n",
       "59     NEAT_strategy                      Equity  DrawdownPct Drawdo...   \n",
       "60     NEAT_strategy                    Equity  DrawdownPct Drawdown...   \n",
       "61     NEAT_strategy                      Equity  DrawdownPct Drawdo...   \n",
       "63     NEAT_strategy                      Equity  DrawdownPct Drawdo...   \n",
       "66     NEAT_strategy                    Equity  DrawdownPct Drawdown...   \n",
       "69     NEAT_strategy                    Equity  DrawdownPct Drawdown...   \n",
       "73     NEAT_strategy                      Equity  DrawdownPct Drawdo...   \n",
       "74     NEAT_strategy                    Equity  DrawdownPct Drawdown...   \n",
       "75     NEAT_strategy                    Equity  DrawdownPct Drawdown...   \n",
       "79     NEAT_strategy                    Equity  DrawdownPct Drawdown...   \n",
       "81     NEAT_strategy                    Equity  DrawdownPct Drawdown...   \n",
       "82     NEAT_strategy                      Equity  DrawdownPct Drawdo...   \n",
       "84     NEAT_strategy                      Equity  DrawdownPct Drawdo...   \n",
       "86     NEAT_strategy                      Equity  DrawdownPct Drawdo...   \n",
       "88     NEAT_strategy                      Equity  DrawdownPct Drawdo...   \n",
       "89     NEAT_strategy                    Equity  DrawdownPct Drawdown...   \n",
       "92     NEAT_strategy                    Equity  DrawdownPct Drawdown...   \n",
       "96     NEAT_strategy                    Equity  DrawdownPct Drawdown...   \n",
       "\n",
       "                                                 _trades relative return  \n",
       "index                                                                     \n",
       "0          Size  EntryBar  ExitBar  EntryPrice  ExitP...       11.351975  \n",
       "4          Size  EntryBar  ExitBar  EntryPrice  ExitP...       15.343799  \n",
       "8          Size  EntryBar  ExitBar  EntryPrice   Exit...        1.894202  \n",
       "11          Size  EntryBar  ExitBar  EntryPrice  Exit...        4.419643  \n",
       "15          Size  EntryBar  ExitBar  EntryPrice  Exit...        6.449401  \n",
       "16          Size  EntryBar  ExitBar  EntryPrice  Exit...       17.499368  \n",
       "21          Size  EntryBar  ExitBar  EntryPrice  Exit...        0.774221  \n",
       "26         Size  EntryBar  ExitBar  EntryPrice   Exit...        5.155851  \n",
       "29         Size  EntryBar  ExitBar  EntryPrice  ExitP...        2.282786  \n",
       "36          Size  EntryBar  ExitBar  EntryPrice  Exit...        1.324637  \n",
       "38         Size  EntryBar  ExitBar  EntryPrice  ExitP...        6.303795  \n",
       "40          Size  EntryBar  ExitBar  EntryPrice  Exit...        5.350810  \n",
       "44          Size  EntryBar  ExitBar  EntryPrice  Exit...        2.658274  \n",
       "47          Size  EntryBar  ExitBar  EntryPrice  Exit...       12.687213  \n",
       "48           Size  EntryBar  ExitBar  EntryPrice  Exi...        6.655681  \n",
       "49          Size  EntryBar  ExitBar  EntryPrice  Exit...       16.866611  \n",
       "50          Size  EntryBar  ExitBar  EntryPrice  Exit...        1.394241  \n",
       "51          Size  EntryBar  ExitBar  EntryPrice  Exit...        3.888683  \n",
       "54         Size  EntryBar  ExitBar  EntryPrice   Exit...        9.467498  \n",
       "57         Size  EntryBar  ExitBar  EntryPrice  ExitP...       11.036164  \n",
       "59          Size  EntryBar  ExitBar  EntryPrice  Exit...       27.736513  \n",
       "60           Size  EntryBar  ExitBar  EntryPrice  Exi...       47.380062  \n",
       "61          Size  EntryBar  ExitBar  EntryPrice  Exit...        1.895774  \n",
       "63        Size  EntryBar  ExitBar  EntryPrice   ExitP...        1.673752  \n",
       "66        Size  EntryBar  ExitBar  EntryPrice   ExitP...       17.674613  \n",
       "69          Size  EntryBar  ExitBar  EntryPrice  Exit...       54.005988  \n",
       "73         Size  EntryBar  ExitBar  EntryPrice  ExitP...        2.112021  \n",
       "74         Size  EntryBar  ExitBar  EntryPrice   Exit...       28.501194  \n",
       "75          Size  EntryBar  ExitBar  EntryPrice  Exit...        4.833030  \n",
       "79          Size  EntryBar  ExitBar  EntryPrice  Exit...        2.748559  \n",
       "81         Size  EntryBar  ExitBar  EntryPrice  ExitP...        6.291258  \n",
       "82          Size  EntryBar  ExitBar  EntryPrice  Exit...        7.763500  \n",
       "84         Size  EntryBar  ExitBar  EntryPrice  ExitP...        9.936376  \n",
       "86          Size  EntryBar  ExitBar  EntryPrice  Exit...        6.688626  \n",
       "88         Size  EntryBar  ExitBar  EntryPrice  ExitP...        4.592747  \n",
       "89         Size  EntryBar  ExitBar  EntryPrice   Exit...       12.715994  \n",
       "92         Size  EntryBar  ExitBar  EntryPrice   Exit...        1.245013  \n",
       "96           Size  EntryBar  ExitBar  EntryPrice  Exi...       31.215726  \n",
       "\n",
       "[38 rows x 31 columns]"
      ]
     },
     "execution_count": 184,
     "metadata": {},
     "output_type": "execute_result"
    }
   ],
   "source": [
    "pd.DataFrame(performance[performance['Return [%]']>performance['Buy & Hold Return [%]']])"
   ]
  },
  {
   "cell_type": "code",
   "execution_count": null,
   "metadata": {},
   "outputs": [
    {
     "data": {
      "text/plain": [
       "False    62\n",
       "True     38\n",
       "dtype: int64"
      ]
     },
     "execution_count": 165,
     "metadata": {},
     "output_type": "execute_result"
    }
   ],
   "source": [
    "(performance['Return [%]']>performance['Buy & Hold Return [%]']).value_counts()"
   ]
  },
  {
   "cell_type": "code",
   "execution_count": null,
   "metadata": {},
   "outputs": [
    {
     "data": {
      "text/plain": [
       "86.98942483485945"
      ]
     },
     "execution_count": 167,
     "metadata": {},
     "output_type": "execute_result"
    }
   ],
   "source": [
    "performance['Exposure Time [%]'].mean()"
   ]
  },
  {
   "cell_type": "code",
   "execution_count": null,
   "metadata": {},
   "outputs": [
    {
     "data": {
      "application/vnd.plotly.v1+json": {
       "config": {
        "plotlyServerURL": "https://plot.ly"
       },
       "data": [
        {
         "hovertemplate": "long=True<br>Duration=%{x}<br>ReturnPct=%{y}<br>abs_size=%{marker.size}<extra></extra>",
         "legendgroup": "True",
         "marker": {
          "color": "#636efa",
          "size": [
           33537,
           400,
           33351,
           368,
           33201,
           650,
           33035,
           33364,
           795,
           26262,
           26690,
           26931,
           2,
           7243,
           7,
           7235,
           87,
           213,
           7474,
           170,
           7575,
           189,
           17,
           7463,
           7444,
           40,
           78631,
           241,
           79931,
           94,
           81172,
           642,
           81375,
           1466,
           81380,
           85473,
           978,
           98005,
           497,
           2018,
           95520,
           988,
           93663,
           97771,
           1075,
           36771,
           336,
           36077,
           515,
           36031,
           509,
           36319,
           284,
           36441,
           36708,
           637,
           42161,
           1001,
           2747,
           3284,
           5249,
           29976,
           219,
           30237,
           400,
           24267,
           24018,
           23938,
           24083,
           6718,
           65,
           6521,
           92,
           6505,
           90,
           6478,
           121,
           6459,
           110,
           6470,
           6619,
           109,
           32417,
           167,
           32441,
           33535,
           567,
           17996,
           97,
           18088,
           58,
           638,
           18623,
           19612,
           841,
           18573,
           19190,
           395,
           50948,
           415,
           45205,
           46363,
           46722,
           46367,
           37,
           46170,
           93,
           1035,
           46189,
           726,
           1622,
           48778,
           843,
           49873,
           965,
           51024,
           1111,
           51334,
           1136,
           51638,
           1011,
           102,
           48521,
           342,
           46596,
           17313,
           218,
           17078,
           229,
           16276,
           15796,
           351,
           11134,
           6,
           10661,
           40,
           303,
           297,
           8578,
           8560,
           8702,
           8649,
           8600,
           8783,
           8811,
           20,
           86,
           8574,
           134,
           8554,
           150,
           8567,
           169,
           8489,
           8556,
           197,
           30414,
           424,
           29784,
           470,
           29895,
           425,
           29824,
           29671,
           377,
           15909,
           16054,
           16093,
           163,
           15880,
           161,
           16124,
           338,
           16305,
           16505,
           388,
           13385,
           311,
           13245,
           246,
           13298,
           269,
           13351,
           317,
           13473,
           302,
           13286,
           328,
           13311,
           272,
           831,
           16097,
           16082,
           16274,
           16372,
           16195,
           67,
           16252,
           141,
           44457,
           1032,
           802,
           1425,
           3312,
           3587,
           3903,
           3897,
           4035,
           20899,
           307,
           50,
           20225,
           218,
           20164,
           242,
           20041,
           346,
           20057,
           464,
           20293,
           149,
           482,
           20180,
           20858,
           409,
           11569,
           239,
           11058,
           212,
           746,
           898,
           1435,
           1699,
           1656,
           1398,
           19502,
           18964,
           19364,
           19146,
           19428,
           19781,
           441,
           19242,
           282,
           19758,
           20145,
           270,
           18852,
           75,
           18827,
           319,
           18525,
           414,
           18613,
           453,
           18700,
           431,
           19256,
           474,
           19159,
           460,
           19630,
           20276,
           384,
           43669,
           183,
           44125,
           43879,
           473,
           171,
           19289,
           471,
           633,
           871,
           1430,
           2073,
           3558,
           1976,
           12503,
           222,
           12138,
           169,
           12739,
           13401,
           216,
           9264,
           33,
           9311,
           39,
           382,
           532,
           609,
           376,
           622,
           3696,
           3671,
           3719,
           3821,
           3783,
           3713,
           39863,
           380,
           39223,
           642,
           38252,
           566,
           39021,
           39282,
           523,
           23889,
           583,
           966,
           2120,
           2923,
           2965,
           2667,
           2483,
           19016,
           18909,
           61,
           18723,
           161,
           18495,
           354,
           18409,
           205,
           17725,
           254,
           196,
           17660,
           18006,
           428,
           18598,
           19377,
           18665,
           651,
           118926,
           35,
           130503,
           2861,
           520,
           127455,
           2844,
           114342,
           100943,
           100826,
           101917,
           6619,
           100,
           240,
           6238,
           123,
           6388,
           124,
           6577,
           109,
           6652,
           129,
           6637,
           95,
           6598,
           88,
           6512,
           6721,
           106,
           70846,
           69488,
           71581,
           70353,
           70941,
           71140,
           11587,
           187,
           219,
           11246,
           241,
           364,
           285,
           219,
           272,
           10393,
           221,
           251,
           10431,
           263,
           10697,
           10882,
           267,
           3760,
           15,
           3777,
           3753,
           26716,
           413,
           26345,
           649,
           26386,
           558,
           25694,
           562,
           5069,
           5119,
           5218,
           10,
           5026,
           15,
           4988,
           4980,
           19994,
           394,
           19801,
           360,
           20138,
           224,
           20286,
           218,
           19338,
           217,
           25,
           19292,
           51,
           19372,
           146,
           13276,
           13341,
           30,
           13279,
           60,
           13121,
           129,
           13071,
           124,
           152,
           13141,
           147,
           13473,
           13480,
           167,
           9574,
           9617,
           32,
           9632,
           9581,
           18,
           9500,
           72,
           8910,
           152,
           441,
           664,
           24410,
           529,
           2159,
           25479,
           143,
           188,
           25322,
           498,
           22969,
           126,
           22689,
           186,
           22680,
           154,
           22773,
           205,
           22813,
           598,
           19756,
           487,
           20097,
           320,
           21175,
           21095,
           21013,
           21331,
           89674,
           772,
           89308,
           638,
           86865,
           87491,
           87646,
           50826,
           488,
           51292,
           863,
           5612,
           27239,
           27202,
           27642,
           28747,
           29226,
           27806,
           255252,
           6019,
           253601,
           5748,
           252979,
           6196,
           249459,
           6045,
           252672,
           6078,
           249361,
           262835,
           5182,
           101852,
           414,
           95945,
           1446,
           95163,
           2194,
           99961,
           99208,
           1928,
           25446,
           461,
           25519,
           386,
           25223,
           451,
           25123,
           580,
           25002,
           613,
           25001,
           598,
           25083,
           498,
           25472,
           419,
           26184,
           246,
           39197,
           12,
           39234,
           106,
           39190,
           258,
           39251,
           571,
           39533,
           502,
           39460,
           660,
           39422,
           740,
           39769,
           870,
           40340,
           952,
           41173,
           820,
           41265,
           921,
           101,
           38956,
           39032,
           645,
           32268,
           402,
           1014,
           30024,
           688,
           29388,
           28928,
           29461,
           29431,
           29472,
           22167,
           153,
           22092,
           310,
           21745,
           432,
           21246,
           525,
           21562,
           390,
           22072,
           371,
           22187,
           323,
           22283,
           338,
           22314,
           22611,
           387,
           7119,
           118,
           6935,
           115,
           261,
           6682,
           170,
           6582,
           6699,
           165,
           24461,
           208,
           24485,
           172,
           24622,
           23747,
           45,
           39235,
           868,
           39011,
           951,
           2541,
           4462,
           4341,
           4767,
           4805,
           4970,
           4376,
           30407,
           42,
           30706,
           30822,
           103,
           30749,
           30966,
           15201,
           370,
           15649,
           322,
           15655,
           349,
           14707,
           14837,
           15069,
           14943,
           15027,
           212,
           23075,
           124,
           24167,
           199,
           24360,
           22731,
           23041,
           23640,
           24221,
           165575,
           2629,
           152843,
           3436,
           151841,
           2323,
           153580,
           2915,
           155203,
           3142,
           135660,
           1803,
           133476,
           2640,
           133999,
           2461,
           136394,
           2360,
           137095,
           3374,
           11482,
           27,
           11268,
           50,
           11404,
           30,
           11346,
           79,
           11283,
           188,
           11168,
           11537,
           88,
           7072,
           53,
           7030,
           70,
           25,
           6980,
           68,
           6687,
           27,
           6646,
           40,
           84,
           6541,
           112,
           158,
           6582,
           129,
           6736,
           65,
           6859,
           12,
           6874,
           6939,
           25,
           6594,
           15,
           6520,
           28,
           6535,
           6535,
           18,
           16098,
           333,
           15838,
           15675,
           326,
           5058,
           5012,
           34,
           127,
           4749,
           89,
           4780,
           100,
           4781,
           110,
           4816,
           5010,
           118,
           9493,
           172,
           9356,
           172,
           9421,
           183,
           9409,
           9811,
           217,
           6600,
           1,
           6523,
           34,
           51,
           6376,
           73,
           117,
           6261,
           139,
           6293,
           131,
           5461,
           5487,
           40954,
           313,
           40667,
           405,
           40265,
           486,
           39992,
           570,
           1463,
           39284,
           485,
           40367,
           576,
           38056,
           811,
           38096,
           888,
           38017,
           890,
           38243,
           1036,
           109874,
           1278,
           110369,
           112264,
           1740,
           14009,
           150,
           13812,
           151,
           13751,
           181,
           13865,
           232,
           14098,
           14522,
           176,
           11394,
           46,
           11484,
           9668,
           9911,
           12084,
           88,
           12170,
           107,
           12074,
           178,
           11911,
           242,
           311,
           464,
           627,
           13714,
           111,
           14042,
           14368,
           3341,
           3437,
           3462,
           5,
           3529,
           20,
           3594,
           33,
           3641,
           45,
           3402,
           3456,
           19871,
           25,
           20010,
           18854,
           18742,
           18904,
           19031,
           19168,
           19659,
           19752,
           57,
           19437,
           109,
           19484,
           19734,
           23253,
           478,
           508,
           23436,
           430,
           9904,
           9566,
           9775,
           9790,
           48461,
           46548,
           47008,
           7435,
           1,
           7034,
           6836,
           7030,
           298,
           25934,
           326,
           26950,
           638,
           27032,
           603,
           27162,
           364,
           27610,
           669,
           987,
           839,
           28361,
           605,
           549,
           28654,
           640,
           29519,
           394,
           29946,
           617,
           29837,
           29966,
           740,
           2419,
           3784,
           7443,
           9997,
           11496,
           8691,
           10417,
           10555,
           54199,
           627,
           54616,
           998,
           6061,
           60547,
           254,
           59153,
           366,
           62662,
           62426,
           61432,
           62175,
           62900,
           22882,
           222,
           22790,
           501,
           378,
           22445,
           474,
           21951,
           547,
           21635,
           541,
           399,
           462,
           20554,
           484,
           20869,
           492,
           21840,
           231,
           48147,
           405,
           47480,
           48195,
           993,
           14036,
           32,
           13898,
           150,
           13824,
           99,
           13976,
           480,
           30567,
           721,
           29499,
           715,
           32405,
           423,
           32569,
           593,
           32417,
           601,
           32862,
           668,
           12597,
           12637,
           23,
           12529,
           81,
           12586,
           98,
           12541,
           134,
           12505,
           116,
           46,
           12191,
           73,
           11874,
           42,
           11747,
           273,
           11718,
           11907,
           274,
           56414,
           894,
           55575,
           1046,
           56860,
           59842,
           59613,
           8543,
           114,
           8651,
           9279,
           8819,
           8425,
           8446,
           8271,
           6511,
           38,
           6570,
           6558,
           9,
           6495,
           6534,
           92,
           91646,
           132,
           91461,
           921,
           90233,
           92539,
           883,
           9138,
           9097,
           8955,
           9161,
           78,
           9315,
           9356,
           39815,
           101,
           39202,
           510,
           38542,
           617,
           38172,
           39682,
           765,
           10196,
           9760,
           9786,
           9849,
           10001,
           27,
           34846,
           86,
           4685,
           1938,
           5290,
           5609,
           5849,
           104094,
           2178,
           113371,
           1403,
           116134,
           895,
           113970,
           14,
           116294,
           1013,
           108171,
           115160,
           1590,
           48014,
           490,
           42732,
           528,
           42398,
           593,
           41287,
           41889,
           664,
           16367,
           113,
           16268,
           79,
           16236,
           173,
           16174,
           270,
           15787,
           15057,
           15247,
           48122,
           46154,
           46152,
           46928,
           43158,
           43078,
           42922,
           42660
          ],
          "sizemode": "area",
          "sizeref": 657.0875,
          "symbol": "circle"
         },
         "mode": "markers",
         "name": "True",
         "showlegend": true,
         "type": "scattergl",
         "x": [
          70,
          137,
          66,
          108,
          41,
          55,
          11,
          149,
          162,
          7,
          314,
          21,
          337,
          7,
          151,
          139,
          141,
          74,
          59,
          147,
          85,
          92,
          7,
          6,
          7,
          14,
          32,
          181,
          147,
          167,
          18,
          20,
          1,
          78,
          76,
          60,
          137,
          63,
          64,
          7,
          6,
          22,
          15,
          249,
          266,
          56,
          130,
          70,
          84,
          12,
          197,
          183,
          193,
          6,
          3,
          10,
          58,
          62,
          65,
          199,
          14,
          6,
          14,
          7,
          8,
          123,
          132,
          7,
          53,
          15,
          22,
          1,
          106,
          104,
          106,
          1,
          33,
          28,
          42,
          13,
          168,
          182,
          18,
          86,
          63,
          257,
          321,
          10,
          171,
          158,
          162,
          76,
          75,
          7,
          70,
          58,
          4,
          63,
          22,
          25,
          14,
          10,
          1,
          2,
          37,
          32,
          36,
          43,
          41,
          42,
          21,
          11,
          61,
          48,
          84,
          34,
          39,
          4,
          34,
          29,
          30,
          21,
          20,
          21,
          15,
          73,
          85,
          9,
          170,
          155,
          90,
          252,
          33,
          36,
          7,
          12,
          33,
          6,
          48,
          1,
          2,
          10,
          44,
          25,
          3,
          7,
          9,
          8,
          12,
          3,
          17,
          13,
          44,
          24,
          16,
          44,
          97,
          142,
          43,
          60,
          14,
          91,
          75,
          98,
          181,
          36,
          109,
          16,
          66,
          46,
          129,
          80,
          107,
          26,
          12,
          46,
          37,
          63,
          21,
          43,
          21,
          63,
          41,
          44,
          2,
          8,
          1,
          91,
          89,
          90,
          109,
          97,
          1,
          1,
          169,
          62,
          63,
          3,
          4,
          125,
          134,
          1,
          41,
          8,
          7,
          24,
          23,
          90,
          51,
          53,
          2,
          1,
          106,
          104,
          173,
          68,
          94,
          25,
          67,
          41,
          44,
          17,
          14,
          15,
          33,
          53,
          61,
          6,
          11,
          77,
          82,
          27,
          49,
          2,
          30,
          140,
          108,
          22,
          22,
          38,
          148,
          162,
          9,
          40,
          28,
          148,
          179,
          2,
          38,
          35,
          50,
          10,
          100,
          84,
          117,
          29,
          57,
          25,
          33,
          7,
          62,
          49,
          75,
          125,
          137,
          144,
          6,
          191,
          205,
          10,
          7,
          8,
          20,
          14,
          53,
          111,
          86,
          23,
          54,
          128,
          71,
          196,
          121,
          91,
          213,
          108,
          213,
          103,
          104,
          1,
          63,
          6,
          28,
          17,
          104,
          97,
          13,
          1,
          7,
          100,
          100,
          220,
          119,
          210,
          87,
          120,
          29,
          0,
          31,
          6,
          8,
          100,
          21,
          90,
          94,
          3,
          7,
          73,
          57,
          65,
          6,
          59,
          52,
          54,
          144,
          147,
          1,
          4,
          45,
          44,
          158,
          76,
          75,
          7,
          28,
          35,
          2,
          133,
          130,
          132,
          91,
          90,
          91,
          65,
          3,
          18,
          7,
          36,
          42,
          27,
          24,
          32,
          5,
          11,
          5,
          124,
          116,
          120,
          2,
          79,
          74,
          115,
          36,
          11,
          51,
          44,
          61,
          92,
          10,
          37,
          83,
          34,
          35,
          88,
          87,
          88,
          1,
          7,
          2,
          14,
          13,
          14,
          20,
          19,
          152,
          125,
          20,
          155,
          71,
          301,
          229,
          40,
          84,
          181,
          92,
          126,
          33,
          158,
          119,
          120,
          27,
          11,
          62,
          109,
          41,
          223,
          179,
          3,
          69,
          85,
          14,
          55,
          37,
          140,
          99,
          123,
          18,
          21,
          79,
          78,
          83,
          0,
          1,
          104,
          5,
          7,
          1,
          10,
          7,
          46,
          36,
          37,
          66,
          62,
          164,
          101,
          3,
          111,
          56,
          44,
          92,
          43,
          26,
          36,
          9,
          86,
          71,
          74,
          6,
          65,
          26,
          4,
          22,
          16,
          23,
          86,
          85,
          90,
          124,
          139,
          9,
          11,
          1,
          5,
          1,
          2,
          23,
          29,
          190,
          223,
          32,
          132,
          96,
          4,
          2,
          10,
          54,
          57,
          2,
          3,
          97,
          11,
          164,
          115,
          231,
          114,
          119,
          104,
          14,
          61,
          8,
          71,
          52,
          125,
          51,
          133,
          76,
          98,
          21,
          50,
          21,
          151,
          129,
          157,
          27,
          2,
          30,
          99,
          174,
          69,
          133,
          62,
          145,
          82,
          18,
          106,
          9,
          150,
          137,
          143,
          1,
          63,
          61,
          145,
          83,
          89,
          4,
          13,
          6,
          14,
          7,
          10,
          15,
          17,
          28,
          55,
          26,
          29,
          2,
          49,
          46,
          68,
          21,
          26,
          4,
          28,
          23,
          52,
          28,
          38,
          6,
          15,
          2,
          71,
          63,
          64,
          6,
          5,
          57,
          63,
          67,
          74,
          83,
          59,
          60,
          4,
          15,
          7,
          50,
          88,
          58,
          6,
          5,
          109,
          103,
          107,
          1,
          22,
          18,
          42,
          21,
          72,
          50,
          73,
          21,
          49,
          25,
          14,
          45,
          15,
          39,
          21,
          24,
          146,
          139,
          152,
          2,
          139,
          142,
          5,
          6,
          84,
          210,
          123,
          117,
          247,
          73,
          100,
          23,
          27,
          38,
          3,
          3,
          6,
          72,
          1,
          106,
          9,
          21,
          7,
          57,
          284,
          221,
          38,
          8,
          13,
          10,
          35,
          19,
          22,
          29,
          6,
          47,
          4,
          190,
          195,
          120,
          154,
          33,
          137,
          98,
          1,
          28,
          20,
          23,
          41,
          50,
          3,
          121,
          115,
          127,
          8,
          38,
          29,
          30,
          10,
          26,
          15,
          20,
          3,
          67,
          61,
          84,
          22,
          26,
          18,
          49,
          30,
          41,
          8,
          18,
          8,
          92,
          79,
          226,
          144,
          38,
          186,
          13,
          37,
          23,
          26,
          138,
          137,
          138,
          5,
          10,
          4,
          5,
          37,
          36,
          40,
          30,
          18,
          32,
          10,
          28,
          15,
          22,
          5,
          34,
          40,
          154,
          204,
          46,
          165,
          116,
          18,
          137,
          22,
          222,
          197,
          115,
          319,
          29,
          19,
          20,
          97,
          96,
          148,
          50,
          139,
          84,
          92,
          3,
          42,
          49,
          22,
          47,
          22,
          25,
          2,
          162,
          157,
          130,
          291,
          27,
          33,
          2,
          4,
          50,
          49,
          50,
          147,
          144,
          204,
          56,
          57,
          22,
          11,
          76,
          85,
          8,
          15,
          1,
          8,
          6,
          7,
          59,
          45,
          114,
          68,
          96,
          20,
          29,
          7,
          14,
          4,
          10,
          33,
          61,
          217,
          296,
          78,
          49,
          128,
          92,
          205,
          108,
          118,
          7,
          52,
          44,
          100,
          52,
          21,
          74,
          52,
          132,
          78,
          133,
          65,
          47,
          68,
          19,
          22,
          1,
          151,
          147,
          149,
          8,
          88,
          17,
          12,
          30,
          17,
          311,
          14,
          32,
          138,
          161,
          22,
          29,
          6,
          48,
          40,
          41,
          8,
          71,
          15,
          87,
          71,
          3,
          73,
          55,
          17,
          29,
          4,
          8,
          28,
          17,
          31,
          13,
          8,
          191,
          194,
          13,
          7,
          9,
          18,
          2,
          92,
          2,
          97,
          34,
          194,
          63,
          67,
          34,
          224,
          2,
          13,
          12,
          28,
          15,
          34,
          7,
          28,
          18,
          22,
          2,
          5,
          1,
          22,
          18,
          21,
          29,
          26,
          91,
          64,
          95,
          27,
          85,
          57,
          43,
          108,
          20,
          63,
          18,
          5,
          57,
          6,
          152,
          10,
          111,
          227,
          114,
          119,
          110,
          56,
          62,
          5,
          54,
          48,
          7,
          42,
          98,
          75,
          39,
          101,
          59,
          63,
          38,
          37,
          48,
          8,
          44,
          29,
          31,
          1,
          7,
          5,
          97,
          88,
          125,
          34,
          35,
          138,
          187,
          46,
          154,
          201,
          14,
          73,
          56,
          182,
          125,
          126,
          105,
          142,
          16,
          48,
          24,
          83,
          44,
          140,
          95,
          130,
          34,
          134,
          99,
          103,
          25,
          2,
          21,
          18,
          49,
          29,
          49,
          16,
          25,
          8,
          11,
          32,
          31,
          35,
          27,
          54,
          22,
          87,
          82,
          27,
          124,
          30,
          92,
          61,
          110,
          46,
          56,
          140,
          4,
          31,
          23,
          59,
          53,
          7,
          146,
          24,
          107,
          34,
          33,
          99,
          118,
          15,
          75,
          92,
          74,
          236,
          161,
          57,
          56,
          44,
          101,
          112,
          93,
          5,
          13,
          112,
          98,
          14,
          43,
          59,
          9,
          229,
          214,
          253,
          35,
          21,
          60,
          31,
          32,
          2,
          260,
          1,
          262,
          43,
          48,
          84,
          4,
          27,
          56,
          112,
          17,
          104,
          82,
          85,
          2,
          69,
          66,
          124,
          56,
          57,
          52,
          51,
          52,
          47,
          62,
          7,
          14,
          5,
          13,
          1,
          266,
          268,
          57,
          61,
          3,
          32,
          28,
          118,
          89,
          90,
          15,
          121,
          9,
          83,
          142,
          3,
          48,
          17,
          13,
          1,
          4
         ],
         "xaxis": "x",
         "y": [
          -0.11147445626034258,
          0.14420403484840238,
          0.301269207790831,
          0.343812208047531,
          0.02724295862338555,
          0.02724295862338555,
          0.003541941158428763,
          -0.04374860689177085,
          -0.03872168264126996,
          0.01716003117462206,
          -0.15662772481484433,
          0.04309164077399963,
          -0.12580860133522087,
          0.15397227281495174,
          0.4378287634903122,
          0.24978716539988133,
          0.2852660694361635,
          0.013709373771274569,
          0.09647825862932691,
          0.3152368716429159,
          0.20889741283640473,
          0.2315129544744121,
          0.014198782961460488,
          0.017873862541179397,
          0.00847392243404399,
          0.03717486392669089,
          0.04854948299015183,
          0.12920713552785568,
          0.10131805312511122,
          0.3514746063417862,
          0.2484740116894577,
          0.26979058256663535,
          0.026596671140904915,
          0.1100247910887211,
          0.09371359866638151,
          -0.13582098705570544,
          -0.09037300465795184,
          -0.12023345885100878,
          -0.10219721161792705,
          -0.004251435761423394,
          -0.008731739816154493,
          0.11251057667544706,
          0.08923122155249619,
          0.18709950527732566,
          0.2420094047238317,
          0.030045682731697942,
          0.06397214917793548,
          0.023013009313906263,
          0.0632448285573548,
          0.043723600298980037,
          -0.16921945710814912,
          -0.2005696775561019,
          -0.18036993432185366,
          0.02256436276055296,
          -0.022831163729836623,
          0.001634693064286763,
          0.028246487286515798,
          0.041639673562090085,
          0.16150678988702283,
          0.285252411583234,
          -0.08526142267174952,
          0.0595142520191525,
          0.09026938202074453,
          0.045794867380286375,
          0.05110497714695561,
          0.030045204871917308,
          0.30481088891213837,
          0.08901148233006184,
          -0.08586930811994309,
          0.023071159885856174,
          0.06294455013322686,
          0.018661030389597322,
          0.07852009807761373,
          0.061255975538264895,
          0.07982893338789632,
          0.0128668596397572,
          0.027912459820693902,
          0.017049202109064687,
          0.04272401108190316,
          0.025507336127831515,
          -0.06604153436892146,
          -0.049178424560404554,
          0.1656153019891382,
          0.22193000425933396,
          0.05496702244457752,
          0.20818492275958844,
          0.22211619493541468,
          0.01995643601835173,
          -0.17521702721159105,
          -0.18664314486145894,
          -0.19100914601808494,
          0.04341891763978656,
          0.12352618148071937,
          0.04169943795942577,
          0.12293432219885236,
          0.11217207724881617,
          0.004728821957486362,
          0.12499303487794111,
          0.0476428732387173,
          0.07115609569181802,
          0.0014492926356224345,
          0.06001356294148641,
          0.03840361385514446,
          0.051864508803779685,
          0.006452735288764222,
          -0.047187099022604095,
          -0.03219004439827344,
          -0.037653882845785414,
          -0.01879234976877253,
          -0.015603207908266414,
          0.10345013703204597,
          0.14582262999113382,
          0.21927575164960267,
          0.07136600027726936,
          0.13570807382144268,
          0.08744050067964282,
          0.11296640715620287,
          0.03273112467217998,
          0.07743113009543912,
          0.05007376551245324,
          0.10735050311655892,
          0.09231947715312305,
          0.08021073103819187,
          0.08174728040012469,
          -0.03039232508149836,
          0.035808537388239525,
          0.07095076508570508,
          0.03328006677856976,
          0.05588413322481678,
          -0.025543554892815012,
          -0.002151300020065916,
          0.015704064398919027,
          0.030319244596012762,
          0.051558150633870925,
          -0.0018890192748037826,
          0.029154775592380444,
          0.06545936803883756,
          -0.003952848697136968,
          0.05727454699969026,
          0.01198934132670093,
          0.01558106488843558,
          0.03954532496232144,
          0.04727809208820877,
          0.009610544365141305,
          0.02216057043176245,
          0.035632387981805236,
          0.024113733947726645,
          0.018615947149144496,
          0.026280299452555278,
          0.010829922907595657,
          0.034576258075490474,
          0.027183765491840983,
          0.06487719311929685,
          0.029593896740744308,
          0.02079012089372667,
          0.06533490406323428,
          0.10476954635093216,
          0.14391693412612105,
          0.028634409186667487,
          0.03701590708728708,
          0.013644375255854602,
          0.056096709551837654,
          0.0382755624872404,
          -0.020413976992212035,
          0.04369391512778442,
          0.0026076146845939174,
          0.05986374358720581,
          0.059144380167122756,
          0.16929044287645056,
          0.10227744791823823,
          0.08262529143485553,
          -0.0029414671185770125,
          -0.06466670702411792,
          -0.04091342230605399,
          -0.07071519685350869,
          -0.10102074699792085,
          0.021870467595365595,
          0.016932561662015733,
          0.008202970081602867,
          0.10828894979898207,
          0.09885610697228286,
          0.07674416409196372,
          -0.014582070746047449,
          -0.018407229147356485,
          0.008911146872217168,
          0.03021813580517496,
          0.005804828243505922,
          0.02128255794123679,
          0.019385419340063992,
          0.02605929494653303,
          -0.03770030830556004,
          -0.1197728766070344,
          0.00971765389408974,
          -0.061259902996856574,
          0.010636953940220684,
          0.09834388576099484,
          0.10638676506209022,
          -0.06181278041575222,
          -0.04389422652091646,
          0.25320138166655304,
          0.294215227682608,
          0.02431341113510621,
          0.09715033853828792,
          0.0749221093239738,
          0.048953168794193536,
          0.0172018333050441,
          0.029306197706173487,
          0.015800982330988367,
          -0.015271300860325354,
          0.0063545807878226945,
          0.011367298947928095,
          0.008580549726444398,
          -0.07497427232486509,
          -0.07887899683104826,
          -0.05212793101979818,
          0.024177450478662044,
          0.044433390607944157,
          0.02594989271213266,
          0.02550274806689945,
          0.017298712173092978,
          0.029718347863734174,
          0.04356501072032226,
          0.03680326747630547,
          0.02564488519918462,
          0.05577183320911727,
          0.32972222641185556,
          0.42042827103853897,
          0.04280521393587011,
          0.06006330349416489,
          0.28051481398372546,
          -0.041765892647998015,
          0.13522418999886066,
          0.0007329866548697606,
          0.03845098025371696,
          -0.1045168877025886,
          -0.3679427764938832,
          0.21523877106718903,
          0.1298652712861177,
          0.029262893493141817,
          0.08111527483085834,
          0.19754800984950416,
          0.24556835873081417,
          0.035218045634884954,
          0.04121812014220194,
          0.02453868620890698,
          0.005969843719280776,
          0.02623029431520596,
          0.008631318598274929,
          0.061574759554169134,
          0.05564765884710865,
          0.06717643619196423,
          0.0078025932775784845,
          0.10288511666298095,
          0.10529665152842105,
          0.07765513375892552,
          -0.01839477358091779,
          0.025832158176191777,
          0.07489369617592256,
          0.08773753656071004,
          0.009114372606917387,
          -0.01680984877196412,
          -0.0024860865798596032,
          -0.4382206278095707,
          -0.4437381718473028,
          -0.015863363965174182,
          -0.0028906128081697124,
          0.02845634576286571,
          -0.08897186083234432,
          -0.05274972555123214,
          0.0553252313232111,
          0.0292508632350037,
          0.04143017776595048,
          0.08595067349761965,
          0.05115791894469823,
          -0.06976433337064103,
          0.12024612464405782,
          0.007089201332552086,
          0.060894104183745634,
          0.08349955773860196,
          0.21513974758692278,
          0.10980388843143984,
          0.495659731987409,
          0.41279769697425617,
          0.016657560002870886,
          0.3922294085057465,
          0.1815208853731236,
          0.10052953435964329,
          -0.06170563687775432,
          -0.05934973883152406,
          0.028781048397428455,
          -0.04012043755092298,
          0.03667654259725461,
          0.021515607702740747,
          0.027424149055352176,
          -0.10313017050306783,
          -0.025917296346733343,
          0.07406237907101088,
          0.040001210255547814,
          0.008919279325285245,
          0.11306582365985762,
          0.14168710772493864,
          0.4941405645002255,
          0.30329676974047626,
          0.47647450520809986,
          0.11353108520844057,
          0.12053278947922585,
          0.024850598415063097,
          -0.001996007984031878,
          0.032732162316113644,
          0.02566515375987377,
          0.039618108493631565,
          0.05466550610784782,
          0.03785081948681546,
          0.0751357893318807,
          0.15090821183829006,
          0.005860855527093367,
          -0.004399965405021966,
          0.09145600104579343,
          0.053805235076650915,
          0.0705634056664397,
          0.009264699918007047,
          0.023382643510077683,
          0.007100800647126482,
          0.025459849991999794,
          -0.3605477365248927,
          -0.3649648396323567,
          0.008176609781691102,
          0.009084863138652866,
          -0.014649256566735436,
          0.01826246596481851,
          -0.18664314486145894,
          0.04341891763978656,
          0.12352618148071937,
          0.04169943795942577,
          -0.048724597794277735,
          -0.016995852783275756,
          0.1368150879164689,
          0.30793570624826305,
          0.26398418436436644,
          0.3218059604115202,
          0.03037408746702508,
          0.02036159006293259,
          0.04647852070610181,
          0.017244600183774716,
          0.05024748940589063,
          0.10995716925508936,
          0.03835451883470897,
          0.11145822397391059,
          0.14832582988492327,
          0.0013032963219434812,
          -0.016722781723882307,
          0.021036687717516545,
          0.044085233043434924,
          0.06318030165248345,
          0.04887282380667912,
          0.036215009437514434,
          -0.0031394631750395474,
          0.01961396917858238,
          0.02395453139541015,
          0.08934752880776942,
          0.05288449541847351,
          0.02053328661448761,
          -0.044694148951870516,
          -0.12244195174654782,
          -0.1753338663219418,
          0.061729743123593694,
          0.029898975004783335,
          -0.03869724030459143,
          0.012428003044585356,
          0.02533724640700008,
          -0.034838363132325134,
          0.022110927563983918,
          0.028523624654864133,
          -0.02918798315393667,
          -0.037778215547143223,
          -0.03422295453902391,
          0.00013774920708531369,
          0.03483719827122944,
          0.027671314769470046,
          0.020958080448261418,
          0.025973981075958275,
          0.03355150494417303,
          0.0366091920548266,
          0.03987677482373919,
          -0.02325782223024231,
          -0.035730464635217896,
          -0.004021501480305112,
          -0.052115751141438516,
          -0.0007244716271486151,
          -0.13416411598331446,
          -0.12874827616517692,
          -0.03498064440190041,
          -0.008994949798120655,
          0.13798387252628674,
          0.1502330607348097,
          0.15783137886458065,
          0.017342511561418972,
          0.08663878052593366,
          0.03665910487451174,
          0.05642580430829791,
          0.027799218638223433,
          0.058500210970594324,
          0.0993180550993582,
          0.10390942034298889,
          -0.031735656815474744,
          0.12722987760592486,
          0.1708963443586795,
          0.006577342753607107,
          0.05989254366937624,
          0.10866557698944401,
          0.05721587561909747,
          0.09043709273251199,
          0.04776331880177698,
          0.05527419571953707,
          0.007867449682485983,
          0.0659722244085299,
          0.008180757325680688,
          0.011403449278849731,
          -0.0014958792198564996,
          0.0013474016854653215,
          0.009538688416986796,
          -0.001996007984031989,
          -0.004991023397511896,
          -0.050451408907254414,
          0.030990307149290963,
          0.03766772954321085,
          0.0042076219063607034,
          0.013383775760400285,
          -0.0005939476328979953,
          0.032417962516283705,
          0.035061720891909065,
          0.048862559243060266,
          0.07877148893787522,
          0.09933360087205156,
          0.030081338329165153,
          -0.04022485287891053,
          0.0031718803571731957,
          -0.03304248807721022,
          0.0029202678387068026,
          0.19809840831088987,
          0.37647558045078955,
          0.15968065902699813,
          -0.009526059816705623,
          0.036151022797600074,
          0.03977759203273146,
          0.12075849173583642,
          0.017088121459440053,
          0.044776302889822484,
          0.029705466243391543,
          -0.06100844443077158,
          0.025468694038451867,
          0.022866533906913844,
          0.05718390341339297,
          0.1628614699025297,
          0.18635751255280497,
          0.030197702579045638,
          -0.014012757745280324,
          0.0738017614707589,
          0.09128339350576442,
          0.13636364379003507,
          0.03492882573948353,
          0.052229276664984114,
          0.019264702897014763,
          0.02801915269493227,
          0.011540427921282292,
          0.015478280994796867,
          0.023133607396492506,
          0.04085559863943811,
          -0.24876411103461726,
          -0.32690399091151234,
          -0.06630186044724928,
          -0.2075500494117597,
          -0.09615943172879382,
          0.019496225061814032,
          0.058693397457216356,
          0.035420899773060954,
          0.038917160360490755,
          0.05960351103857353,
          0.025133275716185732,
          0.034472929155448195,
          -0.09710491745526295,
          0.05344866326055464,
          -0.01827521284253053,
          0.22007293868378408,
          0.6824988828538432,
          0.4094618587572303,
          0.4729314464003542,
          0.012016552656047397,
          0.029278477736561115,
          -0.15072078480582063,
          0.05074735721439194,
          0.05977752231278055,
          -0.007369894518958309,
          -0.19420416265067264,
          0.17327600794341635,
          0.30767302481094116,
          0.1344565369421964,
          0.16310867872945112,
          0.02167701503451669,
          0.07923982741962887,
          0.0435431235042496,
          0.03318237893388254,
          0.002211041662801838,
          0.05082570879675852,
          0.035069438217499416,
          0.013280684733758763,
          0.02309798375463301,
          -0.06720945985407067,
          0.41400037179486904,
          0.4397757320339646,
          1.9953761325346018,
          1.090380928579922,
          1.4544361809313773,
          0.24476859016814445,
          -0.08487006758259863,
          0.17313759429719777,
          0.030079885369678205,
          0.03594738922869123,
          0.027623255012097392,
          0.048447347288132825,
          0.0054462102509902355,
          0.07974461271678113,
          0.07254630309452459,
          0.0708213654433032,
          -0.0013064810041113484,
          0.0316729851368458,
          0.03441231059603722,
          0.05088825111666706,
          0.018779460018025773,
          0.025034410309464405,
          0.017857519228630325,
          0.02628700508772619,
          0.01833929261014422,
          -0.03179834173474949,
          -0.004405654085042676,
          0.013666806574440526,
          0.01982266202409333,
          0.033560374537765725,
          0.015067293313886454,
          0.011892730911078564,
          0.002327782913726484,
          0.0062584950960431485,
          0.019509302505738235,
          0.025881229474701062,
          0.0026748703096917126,
          0.004231780246871875,
          0.004623608104137311,
          0.02487185428795624,
          0.031309991104750745,
          0.04776706861117197,
          0.03396462883683404,
          0.03937803265860884,
          0.02822331586571547,
          0.040464131295083305,
          0.011013369034635234,
          0.032571738904420444,
          0.0214113302083605,
          -0.003725690516645619,
          -0.048036425491912005,
          -0.048696380674329576,
          0.09134969324543718,
          0.15209053685472895,
          0.012474109086465957,
          0.013061660096648664,
          0.02797451210533608,
          0.012963582286029007,
          0.02271365251159363,
          0.03802523163284377,
          0.03205599695103478,
          -0.1709761858786567,
          0.04082942966556691,
          0.008461128993854983,
          0.011109807237188019,
          0.021703647460638686,
          0.001751926565070283,
          0.0259523945222635,
          0.0063014461861066184,
          0.04600313009296486,
          0.05994686433018792,
          0.07101570407161817,
          0.028249624841285126,
          0.07842064303995477,
          0.05382036465302398,
          0.0635058586007966,
          0.011489304650982524,
          0.03048262517232203,
          0.021058059574172727,
          0.018583339165358703,
          0.04326520726894589,
          0.06610447738030323,
          0.10114011225949215,
          0.023235581549515105,
          0.05809856871213226,
          -0.06297974578616328,
          -0.058841492198629886,
          -0.01586707323601877,
          0.016277275200000663,
          0.1476847422249803,
          0.16400322612831664,
          0.039378568428678706,
          0.02408251174694498,
          0.1289339528144453,
          0.28188944905802193,
          0.15372872618349986,
          -0.2321326963147834,
          -0.09164235139228227,
          -0.13592729556821836,
          -0.13823822141303221,
          0.014083584069321864,
          0.03938550866698387,
          -0.00396809741388382,
          0.03379129778672141,
          0.015051369096267031,
          0.02247640539403606,
          0.10230071135583785,
          0.01096636620544178,
          0.013508108117728845,
          0.0654113873045179,
          0.09817884963096879,
          0.04429848329054065,
          0.09238669441947578,
          -0.20444825724179427,
          -0.2693699671845705,
          0.09101968505148816,
          0.04103515755129172,
          0.04890687261353288,
          0.05773484388318484,
          0.07033429448884543,
          0.009298226485088934,
          0.11417374044351059,
          0.005350052215937318,
          0.04035172074295246,
          0.03367511068850204,
          0.015102582155016808,
          -0.029503963836620906,
          -0.019723164926148118,
          -0.14468550907688305,
          -0.1339940655679669,
          0.0669017225581976,
          -0.20463640823392382,
          -0.17315761193973256,
          0.042094878804004754,
          0.1192891583495772,
          0.07417149724940897,
          -0.1139309329469641,
          0.03704156560977645,
          0.1694298023659,
          0.057884211037247946,
          0.7610932392183032,
          0.6735534794671019,
          0.6779306508993765,
          0.006758446686973896,
          0.07066568192384759,
          0.07918549183563783,
          0.16919119395220417,
          0.09899670654340476,
          0.19227465987712478,
          0.08201961314191819,
          0.10811537057045317,
          0.034856962553593496,
          0.11926230308539454,
          0.10025849985140978,
          0.14525051004666079,
          0.04547726250049733,
          0.15322545167038726,
          0.07591596956433144,
          0.11104122420891605,
          0.01611424237233683,
          0.02376796787046831,
          0.022111904549350747,
          0.0564442140048973,
          0.0268770853689424,
          -0.03819194973921736,
          -0.06475905726576792,
          -0.2153090729177337,
          -0.16383156739267035,
          0.032220507307330726,
          -0.15960412143803748,
          0.03694373170879617,
          0.0441226127612,
          0.008580885750290035,
          0.01313378105439944,
          0.02166738408258828,
          0.019623391752249697,
          0.03160360882619351,
          0.01000619071747888,
          0.013704231270539768,
          0.0015936881443761042,
          0.012491007909010365,
          0.049799572254023206,
          0.040829725228636926,
          0.06129515824339249,
          -0.004518484086009411,
          0.014841482678814133,
          0.01778036398086691,
          0.022107090285625963,
          0.03465059778487123,
          0.021621432121146755,
          0.02951416966067999,
          0.002259627589221047,
          -0.018959588867680455,
          -0.022387632684419234,
          0.025285269903781327,
          0.07278460315579549,
          0.037811299354578276,
          -0.10556784271408093,
          -0.137008487092243,
          0.08847876304265978,
          -0.06159535403479066,
          0.03941560179172443,
          -0.19156564305088097,
          -0.21943823754605418,
          -0.02023628642853359,
          -0.2213498003575758,
          0.11812397483616355,
          0.12483365190102291,
          0.13033192591506082,
          0.2879688829085698,
          0.31882609238449855,
          0.3997276721054286,
          0.05994910261851949,
          0.039052745713902715,
          -0.017244296578746154,
          0.05360176884020773,
          0.08222015486171297,
          0.01763313031713931,
          0.07432866691907103,
          0.13420605450136325,
          0.13887921084140675,
          0.007999573854931219,
          0.005759173487340119,
          0.004804855168880184,
          0.24464261721067682,
          0.2390847812319039,
          0.11620177199689863,
          0.3540116815192631,
          0.031103821309339308,
          0.04904131753639196,
          0.005660932052458101,
          0.016562457358380467,
          0.007635106823840054,
          0.004873629878976882,
          0.01778597509463342,
          0.14610055322924698,
          0.1422922027956235,
          0.1726390708370682,
          0.03546435665467551,
          0.05121092236003211,
          -0.01139324500518124,
          0.0042858723829704015,
          -0.08057899948135228,
          -0.05700410203215611,
          0.02651839178785287,
          0.029369831765041488,
          -0.004752925089048343,
          0.003517826226001164,
          0.003517826226001164,
          0.017302411751083602,
          -0.009630977915668026,
          -0.0014461099645578512,
          0.01834896019664356,
          0.022744217724788296,
          0.10138289763023622,
          0.017596689127201248,
          0.0286176104476914,
          0.018206501351785587,
          0.030327976126693246,
          0.011892730911078564,
          0.023797320999723315,
          0.0038175927186510084,
          0.0018722394136869713,
          0.1220496160651714,
          0.6182324348961319,
          0.47187649947677723,
          -0.09509600801295492,
          0.3159703744940019,
          0.223926450865084,
          0.12068468131653831,
          -0.08853964546608573,
          -0.03080484243008108,
          0.05945117343720585,
          0.2751562265428973,
          0.21827426608802547,
          0.18892118828826088,
          -0.004147310884489386,
          -0.04098299127698335,
          -0.052500627956133084,
          0.008280621799290788,
          0.02766618579758595,
          0.03152868131313524,
          0.0029825582824121177,
          0.035064553971164925,
          0.010387712544154049,
          0.034783657101526755,
          0.03968597541680641,
          0.042796572609822725,
          -0.0033041711233356974,
          0.05211411246899145,
          0.047744368210840715,
          0.06396912969726487,
          -0.002553960174384029,
          0.1354728552583251,
          0.024529981903655518,
          0.01571507880338574,
          0.046779697235151296,
          0.07400811822700004,
          -0.35744207324690036,
          0.0645375914836992,
          0.2929224232937726,
          -0.04681501802408572,
          0.023279842943437545,
          0.09749698445462496,
          0.1162217348276895,
          0.04073835070455534,
          0.10119188803467627,
          0.07700839260404369,
          0.09306409451680797,
          0.053692583446424136,
          -0.04102039392632939,
          0.09064228789795359,
          0.057994390198974344,
          -0.010583055104016692,
          0.020222947690351045,
          -0.03853006909503398,
          0.056543533147919156,
          0.03976075039916416,
          0.03446787136292895,
          0.015005763379590586,
          0.0025266123471197055,
          0.05445367787948063,
          0.03859068136190835,
          0.05459433910000344,
          0.02362666326455165,
          -0.016898727247865453,
          0.08452789097509705,
          0.0876265675515262,
          0.024354632974269874,
          0.03724252384900595,
          0.05383485494444651,
          0.0226326623705837,
          0.02439054051731082,
          -0.2170374309882922,
          0.0068780210558063715,
          0.24401240629243848,
          0.035782005571059816,
          0.027475852092827102,
          0.019878640943832515,
          0.025595022340319185,
          0.004580820406619557,
          -0.27631083760489905,
          -0.055967048029158306,
          0.003638635198534912,
          0.008650023265726281,
          0.04217353822245773,
          0.07486343291839437,
          0.13326724788010869,
          0.07014089991792449,
          0.1215412101584521,
          0.052229936760109785,
          0.05657624832879615,
          0.01187896127632393,
          0.028727106019053483,
          0.0010807235082717082,
          0.05880095860246248,
          0.10661499808632802,
          0.11798366613242761,
          0.048465967950439115,
          0.030215221310515794,
          0.09119929759025402,
          0.0957691346027627,
          0.056336001509990075,
          -0.030191011804481804,
          0.03787744246560676,
          0.07433512982591739,
          0.06734736693559706,
          0.15895563512615873,
          0.30114523575938423,
          0.05368208141308872,
          0.18506499811649113,
          0.062319838675513495,
          -0.06676827612120151,
          0.048720127951199066,
          0.1488036386498388,
          -0.026421321753609006,
          0.30186559167058524,
          0.7952921781665032,
          0.4094618587572303,
          0.4729314464003542,
          0.03537078079426381,
          -0.09909364916397811,
          -0.032526677939622495,
          0.05475218672754156,
          -0.05874420269560554,
          -0.04728445989923458,
          0.04632231431322431,
          0.049876517400128995,
          0.06973554120607828,
          -0.4924156841034798,
          0.03460210573259137,
          0.13125887817532056,
          0.09997151344632171,
          0.10316511229772596,
          0.10198417091704282,
          0.10563387686167491,
          0.14653736249962268,
          0.018558669896068247,
          0.06187036507865562,
          0.03096792211431243,
          0.051280794384610306,
          0.008945133870304378,
          0.05058318991633182,
          0.03602785387329677,
          -0.0701427314711548,
          -0.08789441948694066,
          -0.1355260724953795,
          -0.007925472693638413,
          0.02653958510894583,
          0.09039341422384228,
          0.05630315375483996,
          -0.03668962170578505,
          -0.10226721045933496,
          -0.14077037693237238,
          0.12017619511424615,
          0.27278316253998725,
          0.12960327293105656,
          0.07673316269080344,
          -0.04448357614571741,
          -0.03664492841680411,
          -0.05658405681538192,
          -0.0977291793677485,
          0.014045413088963343,
          0.058732117981761256,
          0.03195578446222758,
          -0.0942465835439914,
          -0.03645091692699132,
          -0.10298449574506163,
          -0.07319428216546009,
          -0.06460143225148718,
          0.00993231584424259,
          0.006751484775185279,
          0.010778487074753818,
          0.03925480953185745,
          0.02794806869030686,
          0.0015340562727947926,
          0.03027897514928246,
          0.022144209926187708,
          0.0322755645787034,
          0.0196245294314199,
          0.051005206476814724,
          0.02884394995143702,
          0.0663356001971136,
          0.03705376229895685,
          0.036348072209804405,
          0.07851169268071612,
          0.0676115418589942,
          0.08235329134016522,
          0.011465930731205498,
          0.04608227837943146,
          0.030818644499941428,
          -0.0076509917600930955,
          -0.015442019076299829,
          0.02665810190061313,
          0.015512884477358657,
          -0.04664348800220597,
          0.047247683633940385,
          0.10046067560696104,
          -0.11393942153715386,
          -0.17655854369000512,
          0.1266356176535819,
          -0.07009508002224718,
          0.0708919225151603,
          0.0632702703562491,
          0.053284758713720626,
          -0.022644379567407502,
          0.10818684958347013,
          0.022618261813212692,
          -0.04104330383107879,
          -0.10893576574205988,
          -0.007961639976792112,
          0.164415575748174,
          0.19199217519829648,
          -0.00981454446678287,
          0.06939120079511696,
          0.07170307170850809,
          0.06236359413387915,
          0.12280414532639705,
          -0.034845705359356716,
          -0.15685875195713184,
          -0.1290088658711307,
          0.09993099062151556,
          0.10154960904316424,
          -0.028453159345625423,
          0.06519848034889653,
          0.07199348209419676,
          -0.24451563425201372,
          0.012093725211364648,
          0.20563623838103973,
          0.4251331969725347,
          0.243225552182331,
          -0.0009663430803632522,
          0.03127082809196691,
          0.08227991963276549,
          0.036225510020131635,
          0.13284073425599585,
          0.08704595080046995,
          0.13757785464905825,
          0.0395254179027178,
          0.0035279795490923416,
          0.014761460986904229,
          -0.006597057667468431,
          0.24258182152218621,
          0.008317181212714742,
          -0.18959994328304464,
          -0.031820323237105486,
          -0.21792368463563982,
          0.06721679683139303,
          0.21457309095455623,
          -0.17590561451354714,
          0.002592516117190913,
          0.002825267339716664,
          -0.08628037284445678,
          0.2331730184074401,
          0.19333523851164758,
          0.3342298814151117,
          0.24750499001996018,
          0.2435129778589793,
          0.015112634986921947,
          0.12835556490852795,
          0.08751814544798919,
          0.17781745360419765,
          0.0983169299007427,
          0.0983169299007427,
          0.10896502001425445,
          -0.18415248875169665,
          -0.19279088881061401,
          -0.0017499598706036679,
          0.1313336360164299,
          0.019280624298689375,
          0.045876266697491674,
          0.01916918298551984,
          0.06128362973740664,
          0.01578120957950846,
          -0.12946121207167582,
          -0.11341359381337257,
          0.08231877589745928,
          0.09340391045925012,
          0.011364578423320504,
          0.056262321631676215,
          0.04071000707352801,
          0.10453949523710215,
          0.063908540718556,
          0.07083800538734408,
          0.03348061379566003,
          -0.087797862166614,
          -0.005188599129316684,
          0.09251006366975756,
          -0.10756261524801969,
          0.042779826314020664,
          -0.05679966546097526,
          0.05763158771953725,
          0.07370472350992285,
          -0.0006712778517955487,
          0.026055021129546496
         ],
         "yaxis": "y"
        },
        {
         "hovertemplate": "<b>OLS trendline</b><br>ReturnPct = 0.000149048 * Duration + 0.0389769<br>R<sup>2</sup>=0.004000<br><br>long=True<br>Duration=%{x}<br>ReturnPct=%{y} <b>(trend)</b><extra></extra>",
         "legendgroup": "True",
         "marker": {
          "color": "#636efa",
          "symbol": "circle"
         },
         "mode": "lines",
         "name": "True",
         "showlegend": false,
         "type": "scattergl",
         "x": [
          0,
          0,
          1,
          1,
          1,
          1,
          1,
          1,
          1,
          1,
          1,
          1,
          1,
          1,
          1,
          1,
          1,
          1,
          1,
          1,
          1,
          1,
          1,
          1,
          1,
          1,
          1,
          1,
          1,
          1,
          1,
          2,
          2,
          2,
          2,
          2,
          2,
          2,
          2,
          2,
          2,
          2,
          2,
          2,
          2,
          2,
          2,
          2,
          2,
          2,
          2,
          2,
          2,
          2,
          2,
          2,
          3,
          3,
          3,
          3,
          3,
          3,
          3,
          3,
          3,
          3,
          3,
          3,
          3,
          3,
          3,
          3,
          3,
          4,
          4,
          4,
          4,
          4,
          4,
          4,
          4,
          4,
          4,
          4,
          4,
          4,
          4,
          4,
          4,
          4,
          5,
          5,
          5,
          5,
          5,
          5,
          5,
          5,
          5,
          5,
          5,
          5,
          5,
          5,
          5,
          5,
          6,
          6,
          6,
          6,
          6,
          6,
          6,
          6,
          6,
          6,
          6,
          6,
          6,
          6,
          6,
          6,
          6,
          6,
          6,
          6,
          6,
          7,
          7,
          7,
          7,
          7,
          7,
          7,
          7,
          7,
          7,
          7,
          7,
          7,
          7,
          7,
          7,
          7,
          7,
          7,
          7,
          7,
          7,
          7,
          7,
          7,
          7,
          7,
          7,
          7,
          7,
          7,
          7,
          8,
          8,
          8,
          8,
          8,
          8,
          8,
          8,
          8,
          8,
          8,
          8,
          8,
          8,
          8,
          8,
          8,
          8,
          8,
          9,
          9,
          9,
          9,
          9,
          9,
          9,
          9,
          9,
          9,
          10,
          10,
          10,
          10,
          10,
          10,
          10,
          10,
          10,
          10,
          10,
          10,
          10,
          10,
          10,
          10,
          11,
          11,
          11,
          11,
          11,
          11,
          11,
          11,
          11,
          11,
          12,
          12,
          12,
          12,
          12,
          12,
          13,
          13,
          13,
          13,
          13,
          13,
          13,
          13,
          13,
          13,
          13,
          13,
          13,
          14,
          14,
          14,
          14,
          14,
          14,
          14,
          14,
          14,
          14,
          14,
          14,
          14,
          14,
          14,
          14,
          14,
          14,
          15,
          15,
          15,
          15,
          15,
          15,
          15,
          15,
          15,
          15,
          15,
          15,
          15,
          15,
          15,
          16,
          16,
          16,
          16,
          16,
          17,
          17,
          17,
          17,
          17,
          17,
          17,
          17,
          17,
          17,
          18,
          18,
          18,
          18,
          18,
          18,
          18,
          18,
          18,
          18,
          18,
          18,
          18,
          18,
          18,
          19,
          19,
          19,
          19,
          20,
          20,
          20,
          20,
          20,
          20,
          20,
          20,
          20,
          20,
          21,
          21,
          21,
          21,
          21,
          21,
          21,
          21,
          21,
          21,
          21,
          21,
          21,
          21,
          21,
          21,
          21,
          21,
          21,
          22,
          22,
          22,
          22,
          22,
          22,
          22,
          22,
          22,
          22,
          22,
          22,
          22,
          22,
          22,
          22,
          22,
          22,
          22,
          23,
          23,
          23,
          23,
          23,
          23,
          23,
          23,
          23,
          24,
          24,
          24,
          24,
          24,
          24,
          25,
          25,
          25,
          25,
          25,
          25,
          25,
          25,
          26,
          26,
          26,
          26,
          26,
          26,
          26,
          26,
          26,
          27,
          27,
          27,
          27,
          27,
          27,
          27,
          27,
          27,
          27,
          28,
          28,
          28,
          28,
          28,
          28,
          28,
          28,
          28,
          28,
          28,
          28,
          28,
          29,
          29,
          29,
          29,
          29,
          29,
          29,
          29,
          29,
          29,
          29,
          29,
          29,
          29,
          30,
          30,
          30,
          30,
          30,
          30,
          30,
          30,
          31,
          31,
          31,
          31,
          31,
          31,
          32,
          32,
          32,
          32,
          32,
          32,
          32,
          32,
          32,
          33,
          33,
          33,
          33,
          33,
          33,
          33,
          33,
          33,
          33,
          34,
          34,
          34,
          34,
          34,
          34,
          34,
          34,
          34,
          34,
          35,
          35,
          35,
          35,
          35,
          35,
          35,
          36,
          36,
          36,
          36,
          36,
          36,
          36,
          36,
          37,
          37,
          37,
          37,
          37,
          37,
          37,
          37,
          38,
          38,
          38,
          38,
          38,
          38,
          38,
          38,
          39,
          39,
          39,
          40,
          40,
          40,
          40,
          40,
          41,
          41,
          41,
          41,
          41,
          41,
          41,
          41,
          41,
          42,
          42,
          42,
          42,
          42,
          42,
          43,
          43,
          43,
          43,
          43,
          43,
          43,
          44,
          44,
          44,
          44,
          44,
          44,
          44,
          44,
          44,
          44,
          44,
          44,
          45,
          45,
          45,
          46,
          46,
          46,
          46,
          46,
          46,
          46,
          47,
          47,
          47,
          47,
          48,
          48,
          48,
          48,
          48,
          48,
          48,
          48,
          49,
          49,
          49,
          49,
          49,
          49,
          49,
          49,
          49,
          49,
          50,
          50,
          50,
          50,
          50,
          50,
          50,
          50,
          51,
          51,
          51,
          51,
          52,
          52,
          52,
          52,
          52,
          52,
          52,
          52,
          53,
          53,
          53,
          53,
          53,
          54,
          54,
          54,
          54,
          54,
          55,
          55,
          55,
          55,
          56,
          56,
          56,
          56,
          56,
          56,
          56,
          56,
          56,
          57,
          57,
          57,
          57,
          57,
          57,
          57,
          57,
          57,
          57,
          57,
          58,
          58,
          58,
          59,
          59,
          59,
          59,
          59,
          59,
          59,
          60,
          60,
          60,
          60,
          61,
          61,
          61,
          61,
          61,
          61,
          61,
          61,
          61,
          62,
          62,
          62,
          62,
          62,
          62,
          62,
          62,
          63,
          63,
          63,
          63,
          63,
          63,
          63,
          63,
          63,
          63,
          63,
          63,
          63,
          64,
          64,
          64,
          65,
          65,
          65,
          65,
          65,
          66,
          66,
          66,
          66,
          67,
          67,
          67,
          67,
          68,
          68,
          68,
          68,
          69,
          69,
          69,
          70,
          70,
          70,
          71,
          71,
          71,
          71,
          71,
          71,
          71,
          72,
          72,
          73,
          73,
          73,
          73,
          73,
          73,
          74,
          74,
          74,
          74,
          74,
          74,
          75,
          75,
          75,
          75,
          75,
          75,
          76,
          76,
          76,
          76,
          76,
          77,
          78,
          78,
          78,
          78,
          79,
          79,
          79,
          80,
          82,
          82,
          82,
          82,
          83,
          83,
          83,
          83,
          83,
          83,
          84,
          84,
          84,
          84,
          84,
          84,
          84,
          84,
          85,
          85,
          85,
          85,
          85,
          85,
          85,
          86,
          86,
          86,
          86,
          87,
          87,
          87,
          87,
          88,
          88,
          88,
          88,
          88,
          89,
          89,
          89,
          90,
          90,
          90,
          90,
          90,
          90,
          90,
          91,
          91,
          91,
          91,
          91,
          91,
          92,
          92,
          92,
          92,
          92,
          92,
          92,
          92,
          92,
          92,
          93,
          94,
          94,
          95,
          95,
          96,
          96,
          96,
          97,
          97,
          97,
          97,
          97,
          97,
          97,
          98,
          98,
          98,
          98,
          98,
          99,
          99,
          99,
          99,
          100,
          100,
          100,
          100,
          100,
          100,
          101,
          101,
          101,
          103,
          103,
          103,
          104,
          104,
          104,
          104,
          104,
          104,
          104,
          105,
          106,
          106,
          106,
          106,
          106,
          107,
          107,
          107,
          108,
          108,
          108,
          108,
          108,
          109,
          109,
          109,
          109,
          110,
          110,
          111,
          111,
          111,
          112,
          112,
          112,
          114,
          114,
          114,
          115,
          115,
          115,
          115,
          116,
          116,
          117,
          117,
          118,
          118,
          118,
          119,
          119,
          119,
          119,
          120,
          120,
          120,
          120,
          121,
          121,
          121,
          123,
          123,
          123,
          124,
          124,
          124,
          124,
          125,
          125,
          125,
          125,
          125,
          125,
          126,
          126,
          127,
          128,
          128,
          129,
          129,
          130,
          130,
          130,
          130,
          132,
          132,
          132,
          132,
          133,
          133,
          133,
          133,
          134,
          134,
          137,
          137,
          137,
          137,
          137,
          137,
          137,
          138,
          138,
          138,
          138,
          139,
          139,
          139,
          139,
          139,
          140,
          140,
          140,
          140,
          141,
          142,
          142,
          142,
          142,
          143,
          144,
          144,
          144,
          144,
          145,
          145,
          146,
          146,
          147,
          147,
          147,
          147,
          147,
          148,
          148,
          148,
          149,
          149,
          150,
          151,
          151,
          151,
          152,
          152,
          152,
          154,
          154,
          154,
          155,
          155,
          157,
          157,
          158,
          158,
          158,
          161,
          161,
          162,
          162,
          162,
          162,
          164,
          164,
          165,
          167,
          168,
          169,
          170,
          171,
          173,
          174,
          179,
          179,
          181,
          181,
          181,
          182,
          182,
          183,
          186,
          187,
          190,
          190,
          191,
          191,
          193,
          194,
          194,
          195,
          196,
          197,
          197,
          199,
          201,
          204,
          204,
          205,
          205,
          210,
          210,
          213,
          213,
          214,
          217,
          220,
          221,
          222,
          223,
          223,
          224,
          226,
          227,
          229,
          229,
          231,
          236,
          247,
          249,
          252,
          253,
          257,
          260,
          262,
          266,
          266,
          268,
          284,
          291,
          296,
          301,
          311,
          314,
          319,
          321,
          337
         ],
         "xaxis": "x",
         "y": [
          0.0389768724476904,
          0.0389768724476904,
          0.03912592091044506,
          0.03912592091044506,
          0.03912592091044506,
          0.03912592091044506,
          0.03912592091044506,
          0.03912592091044506,
          0.03912592091044506,
          0.03912592091044506,
          0.03912592091044506,
          0.03912592091044506,
          0.03912592091044506,
          0.03912592091044506,
          0.03912592091044506,
          0.03912592091044506,
          0.03912592091044506,
          0.03912592091044506,
          0.03912592091044506,
          0.03912592091044506,
          0.03912592091044506,
          0.03912592091044506,
          0.03912592091044506,
          0.03912592091044506,
          0.03912592091044506,
          0.03912592091044506,
          0.03912592091044506,
          0.03912592091044506,
          0.03912592091044506,
          0.03912592091044506,
          0.03912592091044506,
          0.03927496937319972,
          0.03927496937319972,
          0.03927496937319972,
          0.03927496937319972,
          0.03927496937319972,
          0.03927496937319972,
          0.03927496937319972,
          0.03927496937319972,
          0.03927496937319972,
          0.03927496937319972,
          0.03927496937319972,
          0.03927496937319972,
          0.03927496937319972,
          0.03927496937319972,
          0.03927496937319972,
          0.03927496937319972,
          0.03927496937319972,
          0.03927496937319972,
          0.03927496937319972,
          0.03927496937319972,
          0.03927496937319972,
          0.03927496937319972,
          0.03927496937319972,
          0.03927496937319972,
          0.03927496937319972,
          0.03942401783595439,
          0.03942401783595439,
          0.03942401783595439,
          0.03942401783595439,
          0.03942401783595439,
          0.03942401783595439,
          0.03942401783595439,
          0.03942401783595439,
          0.03942401783595439,
          0.03942401783595439,
          0.03942401783595439,
          0.03942401783595439,
          0.03942401783595439,
          0.03942401783595439,
          0.03942401783595439,
          0.03942401783595439,
          0.03942401783595439,
          0.03957306629870905,
          0.03957306629870905,
          0.03957306629870905,
          0.03957306629870905,
          0.03957306629870905,
          0.03957306629870905,
          0.03957306629870905,
          0.03957306629870905,
          0.03957306629870905,
          0.03957306629870905,
          0.03957306629870905,
          0.03957306629870905,
          0.03957306629870905,
          0.03957306629870905,
          0.03957306629870905,
          0.03957306629870905,
          0.03957306629870905,
          0.03972211476146371,
          0.03972211476146371,
          0.03972211476146371,
          0.03972211476146371,
          0.03972211476146371,
          0.03972211476146371,
          0.03972211476146371,
          0.03972211476146371,
          0.03972211476146371,
          0.03972211476146371,
          0.03972211476146371,
          0.03972211476146371,
          0.03972211476146371,
          0.03972211476146371,
          0.03972211476146371,
          0.03972211476146371,
          0.03987116322421837,
          0.03987116322421837,
          0.03987116322421837,
          0.03987116322421837,
          0.03987116322421837,
          0.03987116322421837,
          0.03987116322421837,
          0.03987116322421837,
          0.03987116322421837,
          0.03987116322421837,
          0.03987116322421837,
          0.03987116322421837,
          0.03987116322421837,
          0.03987116322421837,
          0.03987116322421837,
          0.03987116322421837,
          0.03987116322421837,
          0.03987116322421837,
          0.03987116322421837,
          0.03987116322421837,
          0.03987116322421837,
          0.040020211686973034,
          0.040020211686973034,
          0.040020211686973034,
          0.040020211686973034,
          0.040020211686973034,
          0.040020211686973034,
          0.040020211686973034,
          0.040020211686973034,
          0.040020211686973034,
          0.040020211686973034,
          0.040020211686973034,
          0.040020211686973034,
          0.040020211686973034,
          0.040020211686973034,
          0.040020211686973034,
          0.040020211686973034,
          0.040020211686973034,
          0.040020211686973034,
          0.040020211686973034,
          0.040020211686973034,
          0.040020211686973034,
          0.040020211686973034,
          0.040020211686973034,
          0.040020211686973034,
          0.040020211686973034,
          0.040020211686973034,
          0.040020211686973034,
          0.040020211686973034,
          0.040020211686973034,
          0.040020211686973034,
          0.040020211686973034,
          0.040020211686973034,
          0.040169260149727694,
          0.040169260149727694,
          0.040169260149727694,
          0.040169260149727694,
          0.040169260149727694,
          0.040169260149727694,
          0.040169260149727694,
          0.040169260149727694,
          0.040169260149727694,
          0.040169260149727694,
          0.040169260149727694,
          0.040169260149727694,
          0.040169260149727694,
          0.040169260149727694,
          0.040169260149727694,
          0.040169260149727694,
          0.040169260149727694,
          0.040169260149727694,
          0.040169260149727694,
          0.040318308612482354,
          0.040318308612482354,
          0.040318308612482354,
          0.040318308612482354,
          0.040318308612482354,
          0.040318308612482354,
          0.040318308612482354,
          0.040318308612482354,
          0.040318308612482354,
          0.040318308612482354,
          0.040467357075237013,
          0.040467357075237013,
          0.040467357075237013,
          0.040467357075237013,
          0.040467357075237013,
          0.040467357075237013,
          0.040467357075237013,
          0.040467357075237013,
          0.040467357075237013,
          0.040467357075237013,
          0.040467357075237013,
          0.040467357075237013,
          0.040467357075237013,
          0.040467357075237013,
          0.040467357075237013,
          0.040467357075237013,
          0.04061640553799168,
          0.04061640553799168,
          0.04061640553799168,
          0.04061640553799168,
          0.04061640553799168,
          0.04061640553799168,
          0.04061640553799168,
          0.04061640553799168,
          0.04061640553799168,
          0.04061640553799168,
          0.04076545400074634,
          0.04076545400074634,
          0.04076545400074634,
          0.04076545400074634,
          0.04076545400074634,
          0.04076545400074634,
          0.040914502463501,
          0.040914502463501,
          0.040914502463501,
          0.040914502463501,
          0.040914502463501,
          0.040914502463501,
          0.040914502463501,
          0.040914502463501,
          0.040914502463501,
          0.040914502463501,
          0.040914502463501,
          0.040914502463501,
          0.040914502463501,
          0.04106355092625566,
          0.04106355092625566,
          0.04106355092625566,
          0.04106355092625566,
          0.04106355092625566,
          0.04106355092625566,
          0.04106355092625566,
          0.04106355092625566,
          0.04106355092625566,
          0.04106355092625566,
          0.04106355092625566,
          0.04106355092625566,
          0.04106355092625566,
          0.04106355092625566,
          0.04106355092625566,
          0.04106355092625566,
          0.04106355092625566,
          0.04106355092625566,
          0.041212599389010326,
          0.041212599389010326,
          0.041212599389010326,
          0.041212599389010326,
          0.041212599389010326,
          0.041212599389010326,
          0.041212599389010326,
          0.041212599389010326,
          0.041212599389010326,
          0.041212599389010326,
          0.041212599389010326,
          0.041212599389010326,
          0.041212599389010326,
          0.041212599389010326,
          0.041212599389010326,
          0.041361647851764986,
          0.041361647851764986,
          0.041361647851764986,
          0.041361647851764986,
          0.041361647851764986,
          0.041510696314519646,
          0.041510696314519646,
          0.041510696314519646,
          0.041510696314519646,
          0.041510696314519646,
          0.041510696314519646,
          0.041510696314519646,
          0.041510696314519646,
          0.041510696314519646,
          0.041510696314519646,
          0.041659744777274306,
          0.041659744777274306,
          0.041659744777274306,
          0.041659744777274306,
          0.041659744777274306,
          0.041659744777274306,
          0.041659744777274306,
          0.041659744777274306,
          0.041659744777274306,
          0.041659744777274306,
          0.041659744777274306,
          0.041659744777274306,
          0.041659744777274306,
          0.041659744777274306,
          0.041659744777274306,
          0.04180879324002897,
          0.04180879324002897,
          0.04180879324002897,
          0.04180879324002897,
          0.04195784170278363,
          0.04195784170278363,
          0.04195784170278363,
          0.04195784170278363,
          0.04195784170278363,
          0.04195784170278363,
          0.04195784170278363,
          0.04195784170278363,
          0.04195784170278363,
          0.04195784170278363,
          0.04210689016553829,
          0.04210689016553829,
          0.04210689016553829,
          0.04210689016553829,
          0.04210689016553829,
          0.04210689016553829,
          0.04210689016553829,
          0.04210689016553829,
          0.04210689016553829,
          0.04210689016553829,
          0.04210689016553829,
          0.04210689016553829,
          0.04210689016553829,
          0.04210689016553829,
          0.04210689016553829,
          0.04210689016553829,
          0.04210689016553829,
          0.04210689016553829,
          0.04210689016553829,
          0.04225593862829295,
          0.04225593862829295,
          0.04225593862829295,
          0.04225593862829295,
          0.04225593862829295,
          0.04225593862829295,
          0.04225593862829295,
          0.04225593862829295,
          0.04225593862829295,
          0.04225593862829295,
          0.04225593862829295,
          0.04225593862829295,
          0.04225593862829295,
          0.04225593862829295,
          0.04225593862829295,
          0.04225593862829295,
          0.04225593862829295,
          0.04225593862829295,
          0.04225593862829295,
          0.04240498709104762,
          0.04240498709104762,
          0.04240498709104762,
          0.04240498709104762,
          0.04240498709104762,
          0.04240498709104762,
          0.04240498709104762,
          0.04240498709104762,
          0.04240498709104762,
          0.04255403555380228,
          0.04255403555380228,
          0.04255403555380228,
          0.04255403555380228,
          0.04255403555380228,
          0.04255403555380228,
          0.04270308401655694,
          0.04270308401655694,
          0.04270308401655694,
          0.04270308401655694,
          0.04270308401655694,
          0.04270308401655694,
          0.04270308401655694,
          0.04270308401655694,
          0.0428521324793116,
          0.0428521324793116,
          0.0428521324793116,
          0.0428521324793116,
          0.0428521324793116,
          0.0428521324793116,
          0.0428521324793116,
          0.0428521324793116,
          0.0428521324793116,
          0.043001180942066265,
          0.043001180942066265,
          0.043001180942066265,
          0.043001180942066265,
          0.043001180942066265,
          0.043001180942066265,
          0.043001180942066265,
          0.043001180942066265,
          0.043001180942066265,
          0.043001180942066265,
          0.043150229404820925,
          0.043150229404820925,
          0.043150229404820925,
          0.043150229404820925,
          0.043150229404820925,
          0.043150229404820925,
          0.043150229404820925,
          0.043150229404820925,
          0.043150229404820925,
          0.043150229404820925,
          0.043150229404820925,
          0.043150229404820925,
          0.043150229404820925,
          0.043299277867575585,
          0.043299277867575585,
          0.043299277867575585,
          0.043299277867575585,
          0.043299277867575585,
          0.043299277867575585,
          0.043299277867575585,
          0.043299277867575585,
          0.043299277867575585,
          0.043299277867575585,
          0.043299277867575585,
          0.043299277867575585,
          0.043299277867575585,
          0.043299277867575585,
          0.043448326330330245,
          0.043448326330330245,
          0.043448326330330245,
          0.043448326330330245,
          0.043448326330330245,
          0.043448326330330245,
          0.043448326330330245,
          0.043448326330330245,
          0.04359737479308491,
          0.04359737479308491,
          0.04359737479308491,
          0.04359737479308491,
          0.04359737479308491,
          0.04359737479308491,
          0.04374642325583957,
          0.04374642325583957,
          0.04374642325583957,
          0.04374642325583957,
          0.04374642325583957,
          0.04374642325583957,
          0.04374642325583957,
          0.04374642325583957,
          0.04374642325583957,
          0.04389547171859423,
          0.04389547171859423,
          0.04389547171859423,
          0.04389547171859423,
          0.04389547171859423,
          0.04389547171859423,
          0.04389547171859423,
          0.04389547171859423,
          0.04389547171859423,
          0.04389547171859423,
          0.04404452018134889,
          0.04404452018134889,
          0.04404452018134889,
          0.04404452018134889,
          0.04404452018134889,
          0.04404452018134889,
          0.04404452018134889,
          0.04404452018134889,
          0.04404452018134889,
          0.04404452018134889,
          0.04419356864410356,
          0.04419356864410356,
          0.04419356864410356,
          0.04419356864410356,
          0.04419356864410356,
          0.04419356864410356,
          0.04419356864410356,
          0.04434261710685822,
          0.04434261710685822,
          0.04434261710685822,
          0.04434261710685822,
          0.04434261710685822,
          0.04434261710685822,
          0.04434261710685822,
          0.04434261710685822,
          0.04449166556961288,
          0.04449166556961288,
          0.04449166556961288,
          0.04449166556961288,
          0.04449166556961288,
          0.04449166556961288,
          0.04449166556961288,
          0.04449166556961288,
          0.04464071403236754,
          0.04464071403236754,
          0.04464071403236754,
          0.04464071403236754,
          0.04464071403236754,
          0.04464071403236754,
          0.04464071403236754,
          0.04464071403236754,
          0.044789762495122204,
          0.044789762495122204,
          0.044789762495122204,
          0.044938810957876864,
          0.044938810957876864,
          0.044938810957876864,
          0.044938810957876864,
          0.044938810957876864,
          0.045087859420631524,
          0.045087859420631524,
          0.045087859420631524,
          0.045087859420631524,
          0.045087859420631524,
          0.045087859420631524,
          0.045087859420631524,
          0.045087859420631524,
          0.045087859420631524,
          0.04523690788338618,
          0.04523690788338618,
          0.04523690788338618,
          0.04523690788338618,
          0.04523690788338618,
          0.04523690788338618,
          0.04538595634614085,
          0.04538595634614085,
          0.04538595634614085,
          0.04538595634614085,
          0.04538595634614085,
          0.04538595634614085,
          0.04538595634614085,
          0.04553500480889551,
          0.04553500480889551,
          0.04553500480889551,
          0.04553500480889551,
          0.04553500480889551,
          0.04553500480889551,
          0.04553500480889551,
          0.04553500480889551,
          0.04553500480889551,
          0.04553500480889551,
          0.04553500480889551,
          0.04553500480889551,
          0.04568405327165017,
          0.04568405327165017,
          0.04568405327165017,
          0.04583310173440483,
          0.04583310173440483,
          0.04583310173440483,
          0.04583310173440483,
          0.04583310173440483,
          0.04583310173440483,
          0.04583310173440483,
          0.045982150197159496,
          0.045982150197159496,
          0.045982150197159496,
          0.045982150197159496,
          0.046131198659914156,
          0.046131198659914156,
          0.046131198659914156,
          0.046131198659914156,
          0.046131198659914156,
          0.046131198659914156,
          0.046131198659914156,
          0.046131198659914156,
          0.046280247122668816,
          0.046280247122668816,
          0.046280247122668816,
          0.046280247122668816,
          0.046280247122668816,
          0.046280247122668816,
          0.046280247122668816,
          0.046280247122668816,
          0.046280247122668816,
          0.046280247122668816,
          0.046429295585423476,
          0.046429295585423476,
          0.046429295585423476,
          0.046429295585423476,
          0.046429295585423476,
          0.046429295585423476,
          0.046429295585423476,
          0.046429295585423476,
          0.046578344048178136,
          0.046578344048178136,
          0.046578344048178136,
          0.046578344048178136,
          0.0467273925109328,
          0.0467273925109328,
          0.0467273925109328,
          0.0467273925109328,
          0.0467273925109328,
          0.0467273925109328,
          0.0467273925109328,
          0.0467273925109328,
          0.04687644097368746,
          0.04687644097368746,
          0.04687644097368746,
          0.04687644097368746,
          0.04687644097368746,
          0.04702548943644212,
          0.04702548943644212,
          0.04702548943644212,
          0.04702548943644212,
          0.04702548943644212,
          0.04717453789919679,
          0.04717453789919679,
          0.04717453789919679,
          0.04717453789919679,
          0.04732358636195145,
          0.04732358636195145,
          0.04732358636195145,
          0.04732358636195145,
          0.04732358636195145,
          0.04732358636195145,
          0.04732358636195145,
          0.04732358636195145,
          0.04732358636195145,
          0.04747263482470611,
          0.04747263482470611,
          0.04747263482470611,
          0.04747263482470611,
          0.04747263482470611,
          0.04747263482470611,
          0.04747263482470611,
          0.04747263482470611,
          0.04747263482470611,
          0.04747263482470611,
          0.04747263482470611,
          0.04762168328746077,
          0.04762168328746077,
          0.04762168328746077,
          0.04777073175021543,
          0.04777073175021543,
          0.04777073175021543,
          0.04777073175021543,
          0.04777073175021543,
          0.04777073175021543,
          0.04777073175021543,
          0.047919780212970095,
          0.047919780212970095,
          0.047919780212970095,
          0.047919780212970095,
          0.048068828675724755,
          0.048068828675724755,
          0.048068828675724755,
          0.048068828675724755,
          0.048068828675724755,
          0.048068828675724755,
          0.048068828675724755,
          0.048068828675724755,
          0.048068828675724755,
          0.048217877138479415,
          0.048217877138479415,
          0.048217877138479415,
          0.048217877138479415,
          0.048217877138479415,
          0.048217877138479415,
          0.048217877138479415,
          0.048217877138479415,
          0.04836692560123408,
          0.04836692560123408,
          0.04836692560123408,
          0.04836692560123408,
          0.04836692560123408,
          0.04836692560123408,
          0.04836692560123408,
          0.04836692560123408,
          0.04836692560123408,
          0.04836692560123408,
          0.04836692560123408,
          0.04836692560123408,
          0.04836692560123408,
          0.04851597406398874,
          0.04851597406398874,
          0.04851597406398874,
          0.0486650225267434,
          0.0486650225267434,
          0.0486650225267434,
          0.0486650225267434,
          0.0486650225267434,
          0.04881407098949806,
          0.04881407098949806,
          0.04881407098949806,
          0.04881407098949806,
          0.04896311945225272,
          0.04896311945225272,
          0.04896311945225272,
          0.04896311945225272,
          0.04911216791500739,
          0.04911216791500739,
          0.04911216791500739,
          0.04911216791500739,
          0.04926121637776205,
          0.04926121637776205,
          0.04926121637776205,
          0.04941026484051671,
          0.04941026484051671,
          0.04941026484051671,
          0.049559313303271374,
          0.049559313303271374,
          0.049559313303271374,
          0.049559313303271374,
          0.049559313303271374,
          0.049559313303271374,
          0.049559313303271374,
          0.049708361766026034,
          0.049708361766026034,
          0.049857410228780694,
          0.049857410228780694,
          0.049857410228780694,
          0.049857410228780694,
          0.049857410228780694,
          0.049857410228780694,
          0.05000645869153535,
          0.05000645869153535,
          0.05000645869153535,
          0.05000645869153535,
          0.05000645869153535,
          0.05000645869153535,
          0.05015550715429001,
          0.05015550715429001,
          0.05015550715429001,
          0.05015550715429001,
          0.05015550715429001,
          0.05015550715429001,
          0.05030455561704468,
          0.05030455561704468,
          0.05030455561704468,
          0.05030455561704468,
          0.05030455561704468,
          0.05045360407979934,
          0.050602652542554,
          0.050602652542554,
          0.050602652542554,
          0.050602652542554,
          0.050751701005308666,
          0.050751701005308666,
          0.050751701005308666,
          0.050900749468063326,
          0.051198846393572646,
          0.051198846393572646,
          0.051198846393572646,
          0.051198846393572646,
          0.051347894856327306,
          0.051347894856327306,
          0.051347894856327306,
          0.051347894856327306,
          0.051347894856327306,
          0.051347894856327306,
          0.05149694331908197,
          0.05149694331908197,
          0.05149694331908197,
          0.05149694331908197,
          0.05149694331908197,
          0.05149694331908197,
          0.05149694331908197,
          0.05149694331908197,
          0.05164599178183663,
          0.05164599178183663,
          0.05164599178183663,
          0.05164599178183663,
          0.05164599178183663,
          0.05164599178183663,
          0.05164599178183663,
          0.05179504024459129,
          0.05179504024459129,
          0.05179504024459129,
          0.05179504024459129,
          0.05194408870734596,
          0.05194408870734596,
          0.05194408870734596,
          0.05194408870734596,
          0.05209313717010062,
          0.05209313717010062,
          0.05209313717010062,
          0.05209313717010062,
          0.05209313717010062,
          0.05224218563285528,
          0.05224218563285528,
          0.05224218563285528,
          0.05239123409560994,
          0.05239123409560994,
          0.05239123409560994,
          0.05239123409560994,
          0.05239123409560994,
          0.05239123409560994,
          0.05239123409560994,
          0.0525402825583646,
          0.0525402825583646,
          0.0525402825583646,
          0.0525402825583646,
          0.0525402825583646,
          0.0525402825583646,
          0.052689331021119265,
          0.052689331021119265,
          0.052689331021119265,
          0.052689331021119265,
          0.052689331021119265,
          0.052689331021119265,
          0.052689331021119265,
          0.052689331021119265,
          0.052689331021119265,
          0.052689331021119265,
          0.052838379483873925,
          0.052987427946628585,
          0.052987427946628585,
          0.05313647640938325,
          0.05313647640938325,
          0.053285524872137904,
          0.053285524872137904,
          0.053285524872137904,
          0.05343457333489257,
          0.05343457333489257,
          0.05343457333489257,
          0.05343457333489257,
          0.05343457333489257,
          0.05343457333489257,
          0.05343457333489257,
          0.05358362179764723,
          0.05358362179764723,
          0.05358362179764723,
          0.05358362179764723,
          0.05358362179764723,
          0.05373267026040189,
          0.05373267026040189,
          0.05373267026040189,
          0.05373267026040189,
          0.05388171872315656,
          0.05388171872315656,
          0.05388171872315656,
          0.05388171872315656,
          0.05388171872315656,
          0.05388171872315656,
          0.05403076718591122,
          0.05403076718591122,
          0.05403076718591122,
          0.05432886411142054,
          0.05432886411142054,
          0.05432886411142054,
          0.0544779125741752,
          0.0544779125741752,
          0.0544779125741752,
          0.0544779125741752,
          0.0544779125741752,
          0.0544779125741752,
          0.0544779125741752,
          0.054626961036929864,
          0.05477600949968452,
          0.05477600949968452,
          0.05477600949968452,
          0.05477600949968452,
          0.05477600949968452,
          0.05492505796243918,
          0.05492505796243918,
          0.05492505796243918,
          0.05507410642519385,
          0.05507410642519385,
          0.05507410642519385,
          0.05507410642519385,
          0.05507410642519385,
          0.05522315488794851,
          0.05522315488794851,
          0.05522315488794851,
          0.05522315488794851,
          0.05537220335070317,
          0.05537220335070317,
          0.055521251813457836,
          0.055521251813457836,
          0.055521251813457836,
          0.05567030027621249,
          0.05567030027621249,
          0.05567030027621249,
          0.055968397201721816,
          0.055968397201721816,
          0.055968397201721816,
          0.056117445664476476,
          0.056117445664476476,
          0.056117445664476476,
          0.056117445664476476,
          0.05626649412723114,
          0.05626649412723114,
          0.0564155425899858,
          0.0564155425899858,
          0.05656459105274046,
          0.05656459105274046,
          0.05656459105274046,
          0.05671363951549513,
          0.05671363951549513,
          0.05671363951549513,
          0.05671363951549513,
          0.05686268797824978,
          0.05686268797824978,
          0.05686268797824978,
          0.05686268797824978,
          0.05701173644100445,
          0.05701173644100445,
          0.05701173644100445,
          0.05730983336651377,
          0.05730983336651377,
          0.05730983336651377,
          0.057458881829268435,
          0.057458881829268435,
          0.057458881829268435,
          0.057458881829268435,
          0.057607930292023095,
          0.057607930292023095,
          0.057607930292023095,
          0.057607930292023095,
          0.057607930292023095,
          0.057607930292023095,
          0.057756978754777755,
          0.057756978754777755,
          0.05790602721753242,
          0.058055075680287074,
          0.058055075680287074,
          0.05820412414304174,
          0.05820412414304174,
          0.0583531726057964,
          0.0583531726057964,
          0.0583531726057964,
          0.0583531726057964,
          0.05865126953130573,
          0.05865126953130573,
          0.05865126953130573,
          0.05865126953130573,
          0.05880031799406038,
          0.05880031799406038,
          0.05880031799406038,
          0.05880031799406038,
          0.05894936645681505,
          0.05894936645681505,
          0.059396511845079034,
          0.059396511845079034,
          0.059396511845079034,
          0.059396511845079034,
          0.059396511845079034,
          0.059396511845079034,
          0.059396511845079034,
          0.05954556030783369,
          0.05954556030783369,
          0.05954556030783369,
          0.05954556030783369,
          0.05969460877058835,
          0.05969460877058835,
          0.05969460877058835,
          0.05969460877058835,
          0.05969460877058835,
          0.05984365723334302,
          0.05984365723334302,
          0.05984365723334302,
          0.05984365723334302,
          0.05999270569609767,
          0.06014175415885234,
          0.06014175415885234,
          0.06014175415885234,
          0.06014175415885234,
          0.060290802621607,
          0.06043985108436166,
          0.06043985108436166,
          0.06043985108436166,
          0.06043985108436166,
          0.060588899547116326,
          0.060588899547116326,
          0.060737948009870986,
          0.060737948009870986,
          0.060886996472625646,
          0.060886996472625646,
          0.060886996472625646,
          0.060886996472625646,
          0.060886996472625646,
          0.06103604493538031,
          0.06103604493538031,
          0.06103604493538031,
          0.061185093398134965,
          0.061185093398134965,
          0.06133414186088963,
          0.06148319032364429,
          0.06148319032364429,
          0.06148319032364429,
          0.06163223878639895,
          0.06163223878639895,
          0.06163223878639895,
          0.06193033571190828,
          0.06193033571190828,
          0.06193033571190828,
          0.06207938417466294,
          0.06207938417466294,
          0.06237748110017226,
          0.06237748110017226,
          0.06252652956292692,
          0.06252652956292692,
          0.06252652956292692,
          0.06297367495119091,
          0.06297367495119091,
          0.06312272341394556,
          0.06312272341394556,
          0.06312272341394556,
          0.06312272341394556,
          0.0634208203394549,
          0.0634208203394549,
          0.06356986880220955,
          0.06386796572771888,
          0.06401701419047354,
          0.0641660626532282,
          0.06431511111598287,
          0.06446415957873752,
          0.06476225650424684,
          0.06491130496700151,
          0.06565654728077482,
          0.06565654728077482,
          0.06595464420628414,
          0.06595464420628414,
          0.06595464420628414,
          0.0661036926690388,
          0.0661036926690388,
          0.06625274113179347,
          0.06669988652005746,
          0.06684893498281211,
          0.0672960803710761,
          0.0672960803710761,
          0.06744512883383075,
          0.06744512883383075,
          0.06774322575934008,
          0.06789227422209473,
          0.06789227422209473,
          0.0680413226848494,
          0.06819037114760407,
          0.06833941961035872,
          0.06833941961035872,
          0.06863751653586805,
          0.06893561346137737,
          0.06938275884964135,
          0.06938275884964135,
          0.06953180731239601,
          0.06953180731239601,
          0.07027704962616932,
          0.07027704962616932,
          0.0707241950144333,
          0.0707241950144333,
          0.07087324347718797,
          0.07132038886545194,
          0.07176753425371593,
          0.0719165827164706,
          0.07206563117922526,
          0.07221467964197992,
          0.07221467964197992,
          0.07236372810473458,
          0.0726618250302439,
          0.07281087349299857,
          0.07310897041850789,
          0.07310897041850789,
          0.07340706734401722,
          0.07415230965779052,
          0.07579184274809181,
          0.07608993967360111,
          0.0765370850618651,
          0.07668613352461977,
          0.07728232737563842,
          0.07772947276390241,
          0.07802756968941171,
          0.07862376354043037,
          0.07862376354043037,
          0.07892186046593969,
          0.08130663587001427,
          0.08234997510929691,
          0.08309521742307022,
          0.08384045973684352,
          0.08533094436439015,
          0.08577808975265412,
          0.08652333206642743,
          0.08682142899193676,
          0.08920620439601135
         ],
         "yaxis": "y"
        },
        {
         "hovertemplate": "long=False<br>Duration=%{x}<br>ReturnPct=%{y}<br>abs_size=%{marker.size}<extra></extra>",
         "legendgroup": "False",
         "marker": {
          "color": "#EF553B",
          "size": [
           53,
           6937,
           7449,
           95771,
           40631,
           35012,
           27184,
           26878,
           1954,
           1849,
           1228,
           1059,
           17641,
           267,
           166,
           19149,
           47917,
           1524,
           710,
           410,
           259,
           45402,
           46345,
           49277,
           47707,
           506,
           45601,
           415,
           10827,
           24,
           10261,
           9528,
           8952,
           457,
           427,
           384,
           323,
           96,
           81,
           8572,
           29,
           1,
           8661,
           118,
           58,
           13245,
           88,
           68,
           215,
           181,
           15762,
           42048,
           40854,
           37274,
           34553,
           32735,
           32108,
           31269,
           20171,
           20393,
           10884,
           7994,
           8392,
           7735,
           7610,
           7194,
           186,
           18611,
           165,
           166,
           294,
           163,
           20076,
           18767,
           17216,
           16045,
           16883,
           14738,
           14588,
           9273,
           9045,
           9254,
           9053,
           8794,
           4230,
           556,
           624,
           606,
           562,
           505,
           430,
           23080,
           21142,
           20670,
           19047,
           17984,
           17888,
           167,
           18030,
           17319,
           73,
           159,
           17664,
           465,
           359,
           19100,
           121663,
           117700,
           3783,
           3092,
           107198,
           6529,
           6749,
           6595,
           6306,
           500,
           69402,
           1306,
           1174,
           70246,
           346,
           989,
           70801,
           1460,
           632,
           500,
           11369,
           11148,
           10851,
           10452,
           10332,
           10346,
           25394,
           5116,
           168,
           148,
           10,
           33,
           19185,
           19037,
           6,
           12905,
           21,
           10,
           8612,
           8233,
           39,
           24348,
           23151,
           26731,
           23154,
           146,
           22386,
           243,
           22395,
           490,
           377,
           233,
           87318,
           792,
           956,
           475,
           48717,
           204,
           276,
           852,
           383,
           339,
           27926,
           1109,
           25042,
           40161,
           30000,
           29547,
           376,
           323,
           70,
           26,
           18,
           95,
           22011,
           6711,
           23881,
           61,
           37984,
           38112,
           36172,
           34707,
           33620,
           30420,
           29285,
           21,
           367,
           696,
           15408,
           278,
           329,
           15424,
           4,
           85,
           13,
           2980,
           2732,
           2360,
           1874,
           123415,
           6981,
           6805,
           64,
           6574,
           6416,
           21,
           4918,
           6425,
           6258,
           5863,
           338,
           310,
           39476,
           37646,
           6,
           10192,
           564,
           543,
           11655,
           11353,
           9926,
           109,
           64,
           26,
           3515,
           50,
           76,
           240,
           19009,
           457,
           537,
           324,
           459,
           528,
           247,
           93,
           46,
           22656,
           16394,
           6760,
           6460,
           6247,
           8013,
           50461,
           1930,
           1254,
           1550,
           7216,
           156,
           98,
           6867,
           148,
           302,
           26192,
           27214,
           26469,
           28377,
           62983,
           49401,
           48869,
           41632,
           38409,
           41081,
           38992,
           35965,
           51903,
           477,
           477,
           298,
           43,
           21947,
           21230,
           20734,
           21687,
           13668,
           32326,
           43,
           12295,
           198,
           12156,
           11993,
           71,
           35,
           11739,
           80,
           33,
           262,
           170,
           8860,
           419,
           411,
           359,
           307,
           33,
           6461,
           4,
           110,
           90121,
           96,
           197,
           20,
           149,
           11,
           58,
           1,
           30514,
           36613,
           36188,
           36955,
           39540,
           112028,
           3253,
           1726,
           108564,
           15839,
           113,
           150,
           15343,
           461,
           582,
           52,
           47429,
           164,
           46638,
           733,
           780,
           757,
           421,
           44947,
           1970,
           2559,
           2508,
           2154
          ],
          "sizemode": "area",
          "sizeref": 657.0875,
          "symbol": "circle"
         },
         "mode": "markers",
         "name": "False",
         "showlegend": true,
         "type": "scattergl",
         "x": [
          1,
          1,
          4,
          3,
          1,
          1,
          2,
          7,
          8,
          1,
          2,
          2,
          1,
          1,
          7,
          6,
          2,
          3,
          1,
          2,
          6,
          1,
          4,
          5,
          4,
          6,
          1,
          2,
          4,
          5,
          2,
          3,
          8,
          9,
          4,
          1,
          4,
          3,
          2,
          1,
          4,
          3,
          1,
          1,
          1,
          4,
          1,
          3,
          1,
          1,
          3,
          1,
          5,
          1,
          1,
          3,
          5,
          1,
          4,
          4,
          1,
          1,
          1,
          1,
          1,
          5,
          5,
          4,
          5,
          3,
          2,
          3,
          1,
          1,
          3,
          3,
          6,
          5,
          6,
          2,
          3,
          2,
          3,
          4,
          10,
          11,
          2,
          1,
          2,
          4,
          1,
          3,
          1,
          5,
          1,
          4,
          4,
          1,
          2,
          1,
          3,
          5,
          1,
          1,
          7,
          6,
          4,
          7,
          8,
          6,
          3,
          7,
          1,
          2,
          1,
          6,
          5,
          6,
          3,
          2,
          5,
          2,
          1,
          2,
          1,
          1,
          2,
          1,
          1,
          3,
          1,
          4,
          2,
          1,
          2,
          3,
          2,
          1,
          2,
          1,
          2,
          2,
          3,
          2,
          2,
          1,
          2,
          1,
          1,
          5,
          2,
          3,
          5,
          7,
          1,
          2,
          1,
          3,
          4,
          5,
          2,
          1,
          2,
          1,
          1,
          1,
          3,
          5,
          4,
          5,
          1,
          6,
          4,
          2,
          3,
          1,
          4,
          2,
          4,
          5,
          2,
          4,
          1,
          2,
          1,
          3,
          1,
          1,
          1,
          4,
          2,
          1,
          1,
          0,
          5,
          6,
          2,
          1,
          1,
          2,
          1,
          7,
          1,
          2,
          5,
          1,
          2,
          2,
          3,
          1,
          1,
          1,
          1,
          4,
          1,
          7,
          8,
          3,
          3,
          1,
          11,
          5,
          6,
          1,
          1,
          3,
          4,
          4,
          1,
          2,
          1,
          4,
          2,
          7,
          1,
          4,
          4,
          1,
          1,
          2,
          4,
          3,
          2,
          1,
          8,
          9,
          6,
          1,
          5,
          5,
          6,
          4,
          1,
          2,
          3,
          7,
          2,
          3,
          5,
          6,
          1,
          1,
          1,
          1,
          1,
          1,
          1,
          2,
          6,
          1,
          1,
          2,
          2,
          2,
          3,
          2,
          1,
          5,
          4,
          0,
          1,
          3,
          3,
          3,
          7,
          3,
          1,
          3,
          2,
          1,
          2,
          1,
          4,
          7,
          2,
          3,
          8,
          1,
          5,
          5,
          2,
          1,
          5,
          3,
          1,
          5,
          1,
          2,
          7,
          1,
          4,
          1,
          3,
          1,
          3,
          4,
          1,
          4,
          4,
          3,
          3,
          6,
          6,
          5,
          6,
          4,
          3,
          2,
          6,
          1,
          2,
          3,
          5,
          7,
          6,
          7,
          4,
          2,
          1
         ],
         "xaxis": "x",
         "y": [
          0.010222011002471776,
          0.0057184626474836575,
          -0.01020035981984413,
          0.010297342028803613,
          0.023347424625660418,
          0.007155077852709968,
          0.029577844535048747,
          -0.0824343192310677,
          -0.06865425661418256,
          -0.012223265979483422,
          -0.003358061603036422,
          -0.0005877830127729577,
          -0.00020139607168823126,
          0.013756872603997827,
          -0.020707509481042496,
          0.012432313939158224,
          -0.021310936886635323,
          -0.06187987592109723,
          0.019828578751297177,
          0.005516555369329268,
          -0.01207119739623752,
          0.009175394145792604,
          0.016824122244938233,
          -0.008757391350336485,
          -0.017090965106618228,
          -0.02634244408432518,
          0.01088971100498659,
          0.0069118592931827205,
          -0.00896773506284898,
          -0.014408087152448124,
          0.006959212952755256,
          -0.00476216664489737,
          -0.04019430941552571,
          -0.044131471695760593,
          -0.005303031366389543,
          0.009739972780550055,
          -0.03006494374466695,
          -0.005503537090288946,
          -0.008109613612979905,
          0.0022793492220605227,
          0.020024819737279875,
          0.003484994141694897,
          0.0006927777889498277,
          0.005883192193497866,
          -0.00044449250062639223,
          0.018272637458813024,
          -0.002004008016031955,
          0.021244344838168172,
          0.0005263051355236525,
          -0.019539078156312728,
          0.013985444320018248,
          -0.003768139979988039,
          0.005202219038569211,
          0.025034712905734557,
          0.0009960725117825753,
          0.0028628161736419244,
          0.0011008103630236743,
          -0.0006314207302124952,
          -0.003069953461402486,
          0.007275811635104601,
          -0.008183114980681028,
          0.01669457492330184,
          0.047303737251151,
          0.015217935871743582,
          -0.011345377773460008,
          -0.016646808591527895,
          -0.04299503943593952,
          0.0004512347403924366,
          0.022275370958281582,
          0.02985013795907354,
          -0.016883028865245286,
          0.005103971865134227,
          -0.0014903918529676208,
          -0.0027724335873502426,
          0.0030236503154237315,
          0.0022043245431043745,
          0.016857260503402083,
          0.041303598476624015,
          -0.07448940434059614,
          0.020668530478923364,
          -0.0005438118393212843,
          0.009890557804171918,
          -0.017077662777150726,
          0.009988509534957224,
          -0.055151272922594474,
          -0.05035928462042816,
          -0.01181802462373871,
          0.009465324943194409,
          0.014852879238928751,
          -0.023287610774016754,
          -0.019422959295722242,
          0.01097233402404596,
          0.014281326047257736,
          0.015904743705093316,
          0.039789693426011796,
          -0.008811296574113392,
          -0.005731022417473364,
          -0.013225854256366798,
          -0.006044346758032226,
          -0.010121066058668138,
          0.005788757802375644,
          0.005167563966601563,
          -0.00020139607168823126,
          0.013756872603997827,
          -0.020707509481042496,
          0.012432313939158224,
          0.01728212870510104,
          -0.03390946171198417,
          -0.028735648807923342,
          -0.03990876851723302,
          -0.011623237319365431,
          -0.041282546783019125,
          0.006791922168356335,
          0.01328865740066365,
          0.014347560407535487,
          -0.01168189047484991,
          -0.002689154643086944,
          0.0031344610085222158,
          0.013678412768140302,
          0.014334818840968766,
          0.011667256570431883,
          -0.00972527284278546,
          -0.0016558402195896438,
          -0.011752440691547905,
          0.007173113593408775,
          0.005675447545612888,
          0.0021608927104248554,
          -0.0017660705179054492,
          -0.013642737598419163,
          0.005921412862359476,
          0.0025400169380009885,
          0.002965489841922686,
          -0.005753741870019979,
          -0.02197301661423201,
          0.0012785104181686213,
          -0.015541685957728424,
          0.019266666163603174,
          -0.01203546815094847,
          -0.0060368575398424,
          0.004798798649723768,
          0.004920155107497326,
          0.0014141343604103795,
          0.006837218808979806,
          -0.009549240717332985,
          0.009722227052547439,
          0.020387099432351508,
          0.006709125549691053,
          0.010837784532728989,
          0.02235143406597584,
          -0.008510499238537417,
          -0.007754364489430232,
          -0.01206713184447894,
          -0.0017611578834586528,
          0.004552945563449651,
          0.016236049644711703,
          -0.022242984056066062,
          -0.008477360536898182,
          0.03820380391959788,
          -0.012342818429487146,
          -0.008034960215823839,
          0.0032024658648962534,
          0.005207889945741728,
          0.045639636368288605,
          -0.0033571131808429744,
          0.038488990585877625,
          0.022358450564544996,
          0.01392483725114324,
          -0.01905277483067902,
          -0.005061256314468077,
          -0.03181191324239374,
          -0.011750091967704934,
          -0.014988894062594182,
          0.007208489440262755,
          -0.012870764671122581,
          -0.016822420217305067,
          -0.02378973764569725,
          0.017756057266010372,
          -0.0005921846154002264,
          0.015644856445248823,
          -0.007281222090308681,
          0.004083210429752904,
          0.006667219718383022,
          -0.01108188292604706,
          -0.000531882249640514,
          0.01942441138101736,
          0.02040276867847801,
          -0.01871373141370447,
          0.004682773165916698,
          -0.003865634755251701,
          -0.013384809380527996,
          -0.007316816265947601,
          0.0034060344082221805,
          0.0173895825903414,
          -0.002004008016031955,
          0.0005251052499805064,
          0.010167368420033518,
          0.0075067886765369796,
          0.015494946651492647,
          0.014902352861780876,
          0.011505002794753305,
          -0.009123010811803,
          -0.06901702626300499,
          0.010026904679326432,
          0.010921638061352823,
          0.0194084055476329,
          0.013753693297323122,
          -0.0021425890535589076,
          -0.006417852417399228,
          -0.028754431716777162,
          0.0062429580710976484,
          0.009028687397847346,
          -0.01136853145543415,
          -0.022319355544976105,
          -0.000788744366271743,
          0.004508569177827715,
          -0.04413599737567764,
          -0.05150914372985116,
          0.0019476650951364416,
          0.0061423660328787655,
          -0.002004008016031955,
          -0.09935784127069835,
          -0.029843384261820205,
          -0.026323444419624753,
          0.01778734400540949,
          0.0024572064073511424,
          -0.011531940488257453,
          0.00492520150005904,
          0.0056654155024276065,
          0.024034891811532177,
          -0.0004367282689234919,
          -0.03027226351912571,
          -0.009012662869903654,
          0.010960504114554515,
          -0.04355290308970283,
          -0.0023752666120175903,
          -0.0005190444424263418,
          -0.018370707854957757,
          0.018426143728839772,
          0.011248621790069135,
          -0.006010622434122759,
          0.017413373951116085,
          0.00001005243906959663,
          0.013201582040684001,
          0.010293243954101583,
          -0.18492307660117446,
          -0.17490301049655832,
          -0.020102901672203632,
          0.007844498229720887,
          -0.007905874070674557,
          -0.03347207461227675,
          -0.008727964392949206,
          -0.030510257542993635,
          0.007232960612680639,
          -0.019428842676037616,
          -0.016971590342500287,
          -0.02197561245159574,
          -0.0060221613427975385,
          0.0015117256050979355,
          0.03235275017680417,
          -0.005182099166125109,
          -0.002004008016031955,
          0.011084029373109261,
          0.014007685497291034,
          0.03845548054592163,
          0.0399356416766663,
          0.03795623442093243,
          0.014206849451238068,
          0.02016980389848866,
          -0.03540412125401371,
          0.04350331834910981,
          -0.0027709632202037593,
          0.045639636368288605,
          -0.007812749943429731,
          -0.017427899216011955,
          0.00985710110053073,
          0.00919430843796576,
          -0.004283186077764345,
          -0.0069291280107222075,
          0.0005034713173134309,
          -0.002004008016031955,
          0.008394204105653946,
          -0.014064004373832928,
          -0.0002350301579103764,
          -0.01735645237551986,
          -0.013603607578347443,
          0.008783396283471245,
          -0.004569302415311949,
          -0.01175209541866673,
          0.007594268153007011,
          0.014460159768822534,
          0.03447151261838444,
          -0.00594890568538653,
          0.042329551787597675,
          -0.02687769670240603,
          -0.005892071661694587,
          0.010005864751986282,
          -0.0473670912071269,
          -0.0054599637814354285,
          -0.012756952131367738,
          -0.015476936935790775,
          0.00798292629374886,
          -0.00858857083586817,
          -0.012042655953222736,
          0.00639167243410399,
          -0.004486619234434164,
          -0.034484999734178734,
          0.023774216603831166,
          -0.01066688168913199,
          -0.03164220608157109,
          -0.003238218326803821,
          0.002632260897538652,
          0.06983083814688207,
          -0.04525597958506933,
          0.05073304503744325,
          -0.003930909398047966,
          -0.002004008016032177,
          -0.019372092777677707,
          -0.03340015143813013,
          0.009071110700440754,
          0.022154531477103556,
          -0.013316730194981696,
          -0.005177136120394721,
          -0.025377490666130376,
          -0.014220369423410428,
          0.0007545122735409526,
          0.008948461421238063,
          -0.009264899725400344,
          -0.0011037142768004493,
          -0.013257422186216505,
          -0.008725842312343746,
          -0.008277708629554903,
          0.0009841437740428782,
          0.0075570446392172475,
          -0.03417840440405673,
          -0.023226487160395104,
          0.002038364374429502,
          0.0027834158528065034,
          -0.010499380525947677,
          -0.00820294155208412
         ],
         "yaxis": "y"
        },
        {
         "hovertemplate": "<b>OLS trendline</b><br>ReturnPct = -0.00631825 * Duration + 0.0159647<br>R<sup>2</sup>=0.287698<br><br>long=False<br>Duration=%{x}<br>ReturnPct=%{y} <b>(trend)</b><extra></extra>",
         "legendgroup": "False",
         "marker": {
          "color": "#EF553B",
          "symbol": "circle"
         },
         "mode": "lines",
         "name": "False",
         "showlegend": false,
         "type": "scattergl",
         "x": [
          0,
          0,
          1,
          1,
          1,
          1,
          1,
          1,
          1,
          1,
          1,
          1,
          1,
          1,
          1,
          1,
          1,
          1,
          1,
          1,
          1,
          1,
          1,
          1,
          1,
          1,
          1,
          1,
          1,
          1,
          1,
          1,
          1,
          1,
          1,
          1,
          1,
          1,
          1,
          1,
          1,
          1,
          1,
          1,
          1,
          1,
          1,
          1,
          1,
          1,
          1,
          1,
          1,
          1,
          1,
          1,
          1,
          1,
          1,
          1,
          1,
          1,
          1,
          1,
          1,
          1,
          1,
          1,
          1,
          1,
          1,
          1,
          1,
          1,
          1,
          1,
          1,
          1,
          1,
          1,
          1,
          1,
          1,
          1,
          1,
          1,
          1,
          1,
          1,
          1,
          1,
          1,
          1,
          1,
          1,
          1,
          1,
          1,
          1,
          1,
          1,
          1,
          1,
          1,
          1,
          1,
          1,
          1,
          1,
          1,
          1,
          1,
          1,
          2,
          2,
          2,
          2,
          2,
          2,
          2,
          2,
          2,
          2,
          2,
          2,
          2,
          2,
          2,
          2,
          2,
          2,
          2,
          2,
          2,
          2,
          2,
          2,
          2,
          2,
          2,
          2,
          2,
          2,
          2,
          2,
          2,
          2,
          2,
          2,
          2,
          2,
          2,
          2,
          2,
          2,
          2,
          2,
          2,
          2,
          2,
          2,
          2,
          2,
          2,
          2,
          2,
          2,
          2,
          2,
          2,
          2,
          2,
          2,
          2,
          3,
          3,
          3,
          3,
          3,
          3,
          3,
          3,
          3,
          3,
          3,
          3,
          3,
          3,
          3,
          3,
          3,
          3,
          3,
          3,
          3,
          3,
          3,
          3,
          3,
          3,
          3,
          3,
          3,
          3,
          3,
          3,
          3,
          3,
          3,
          3,
          3,
          3,
          3,
          3,
          3,
          3,
          3,
          3,
          3,
          3,
          3,
          4,
          4,
          4,
          4,
          4,
          4,
          4,
          4,
          4,
          4,
          4,
          4,
          4,
          4,
          4,
          4,
          4,
          4,
          4,
          4,
          4,
          4,
          4,
          4,
          4,
          4,
          4,
          4,
          4,
          4,
          4,
          4,
          4,
          4,
          4,
          4,
          4,
          4,
          4,
          4,
          5,
          5,
          5,
          5,
          5,
          5,
          5,
          5,
          5,
          5,
          5,
          5,
          5,
          5,
          5,
          5,
          5,
          5,
          5,
          5,
          5,
          5,
          5,
          5,
          5,
          5,
          5,
          5,
          5,
          5,
          5,
          6,
          6,
          6,
          6,
          6,
          6,
          6,
          6,
          6,
          6,
          6,
          6,
          6,
          6,
          6,
          6,
          6,
          6,
          6,
          6,
          6,
          7,
          7,
          7,
          7,
          7,
          7,
          7,
          7,
          7,
          7,
          7,
          7,
          7,
          7,
          7,
          8,
          8,
          8,
          8,
          8,
          8,
          9,
          9,
          10,
          11,
          11
         ],
         "xaxis": "x",
         "y": [
          0.01596468387669726,
          0.01596468387669726,
          0.00964643805914717,
          0.00964643805914717,
          0.00964643805914717,
          0.00964643805914717,
          0.00964643805914717,
          0.00964643805914717,
          0.00964643805914717,
          0.00964643805914717,
          0.00964643805914717,
          0.00964643805914717,
          0.00964643805914717,
          0.00964643805914717,
          0.00964643805914717,
          0.00964643805914717,
          0.00964643805914717,
          0.00964643805914717,
          0.00964643805914717,
          0.00964643805914717,
          0.00964643805914717,
          0.00964643805914717,
          0.00964643805914717,
          0.00964643805914717,
          0.00964643805914717,
          0.00964643805914717,
          0.00964643805914717,
          0.00964643805914717,
          0.00964643805914717,
          0.00964643805914717,
          0.00964643805914717,
          0.00964643805914717,
          0.00964643805914717,
          0.00964643805914717,
          0.00964643805914717,
          0.00964643805914717,
          0.00964643805914717,
          0.00964643805914717,
          0.00964643805914717,
          0.00964643805914717,
          0.00964643805914717,
          0.00964643805914717,
          0.00964643805914717,
          0.00964643805914717,
          0.00964643805914717,
          0.00964643805914717,
          0.00964643805914717,
          0.00964643805914717,
          0.00964643805914717,
          0.00964643805914717,
          0.00964643805914717,
          0.00964643805914717,
          0.00964643805914717,
          0.00964643805914717,
          0.00964643805914717,
          0.00964643805914717,
          0.00964643805914717,
          0.00964643805914717,
          0.00964643805914717,
          0.00964643805914717,
          0.00964643805914717,
          0.00964643805914717,
          0.00964643805914717,
          0.00964643805914717,
          0.00964643805914717,
          0.00964643805914717,
          0.00964643805914717,
          0.00964643805914717,
          0.00964643805914717,
          0.00964643805914717,
          0.00964643805914717,
          0.00964643805914717,
          0.00964643805914717,
          0.00964643805914717,
          0.00964643805914717,
          0.00964643805914717,
          0.00964643805914717,
          0.00964643805914717,
          0.00964643805914717,
          0.00964643805914717,
          0.00964643805914717,
          0.00964643805914717,
          0.00964643805914717,
          0.00964643805914717,
          0.00964643805914717,
          0.00964643805914717,
          0.00964643805914717,
          0.00964643805914717,
          0.00964643805914717,
          0.00964643805914717,
          0.00964643805914717,
          0.00964643805914717,
          0.00964643805914717,
          0.00964643805914717,
          0.00964643805914717,
          0.00964643805914717,
          0.00964643805914717,
          0.00964643805914717,
          0.00964643805914717,
          0.00964643805914717,
          0.00964643805914717,
          0.00964643805914717,
          0.00964643805914717,
          0.00964643805914717,
          0.00964643805914717,
          0.00964643805914717,
          0.00964643805914717,
          0.00964643805914717,
          0.00964643805914717,
          0.00964643805914717,
          0.00964643805914717,
          0.00964643805914717,
          0.00964643805914717,
          0.00332819224159708,
          0.00332819224159708,
          0.00332819224159708,
          0.00332819224159708,
          0.00332819224159708,
          0.00332819224159708,
          0.00332819224159708,
          0.00332819224159708,
          0.00332819224159708,
          0.00332819224159708,
          0.00332819224159708,
          0.00332819224159708,
          0.00332819224159708,
          0.00332819224159708,
          0.00332819224159708,
          0.00332819224159708,
          0.00332819224159708,
          0.00332819224159708,
          0.00332819224159708,
          0.00332819224159708,
          0.00332819224159708,
          0.00332819224159708,
          0.00332819224159708,
          0.00332819224159708,
          0.00332819224159708,
          0.00332819224159708,
          0.00332819224159708,
          0.00332819224159708,
          0.00332819224159708,
          0.00332819224159708,
          0.00332819224159708,
          0.00332819224159708,
          0.00332819224159708,
          0.00332819224159708,
          0.00332819224159708,
          0.00332819224159708,
          0.00332819224159708,
          0.00332819224159708,
          0.00332819224159708,
          0.00332819224159708,
          0.00332819224159708,
          0.00332819224159708,
          0.00332819224159708,
          0.00332819224159708,
          0.00332819224159708,
          0.00332819224159708,
          0.00332819224159708,
          0.00332819224159708,
          0.00332819224159708,
          0.00332819224159708,
          0.00332819224159708,
          0.00332819224159708,
          0.00332819224159708,
          0.00332819224159708,
          0.00332819224159708,
          0.00332819224159708,
          0.00332819224159708,
          0.00332819224159708,
          0.00332819224159708,
          0.00332819224159708,
          0.00332819224159708,
          -0.0029900535759530104,
          -0.0029900535759530104,
          -0.0029900535759530104,
          -0.0029900535759530104,
          -0.0029900535759530104,
          -0.0029900535759530104,
          -0.0029900535759530104,
          -0.0029900535759530104,
          -0.0029900535759530104,
          -0.0029900535759530104,
          -0.0029900535759530104,
          -0.0029900535759530104,
          -0.0029900535759530104,
          -0.0029900535759530104,
          -0.0029900535759530104,
          -0.0029900535759530104,
          -0.0029900535759530104,
          -0.0029900535759530104,
          -0.0029900535759530104,
          -0.0029900535759530104,
          -0.0029900535759530104,
          -0.0029900535759530104,
          -0.0029900535759530104,
          -0.0029900535759530104,
          -0.0029900535759530104,
          -0.0029900535759530104,
          -0.0029900535759530104,
          -0.0029900535759530104,
          -0.0029900535759530104,
          -0.0029900535759530104,
          -0.0029900535759530104,
          -0.0029900535759530104,
          -0.0029900535759530104,
          -0.0029900535759530104,
          -0.0029900535759530104,
          -0.0029900535759530104,
          -0.0029900535759530104,
          -0.0029900535759530104,
          -0.0029900535759530104,
          -0.0029900535759530104,
          -0.0029900535759530104,
          -0.0029900535759530104,
          -0.0029900535759530104,
          -0.0029900535759530104,
          -0.0029900535759530104,
          -0.0029900535759530104,
          -0.0029900535759530104,
          -0.0093082993935031,
          -0.0093082993935031,
          -0.0093082993935031,
          -0.0093082993935031,
          -0.0093082993935031,
          -0.0093082993935031,
          -0.0093082993935031,
          -0.0093082993935031,
          -0.0093082993935031,
          -0.0093082993935031,
          -0.0093082993935031,
          -0.0093082993935031,
          -0.0093082993935031,
          -0.0093082993935031,
          -0.0093082993935031,
          -0.0093082993935031,
          -0.0093082993935031,
          -0.0093082993935031,
          -0.0093082993935031,
          -0.0093082993935031,
          -0.0093082993935031,
          -0.0093082993935031,
          -0.0093082993935031,
          -0.0093082993935031,
          -0.0093082993935031,
          -0.0093082993935031,
          -0.0093082993935031,
          -0.0093082993935031,
          -0.0093082993935031,
          -0.0093082993935031,
          -0.0093082993935031,
          -0.0093082993935031,
          -0.0093082993935031,
          -0.0093082993935031,
          -0.0093082993935031,
          -0.0093082993935031,
          -0.0093082993935031,
          -0.0093082993935031,
          -0.0093082993935031,
          -0.0093082993935031,
          -0.01562654521105319,
          -0.01562654521105319,
          -0.01562654521105319,
          -0.01562654521105319,
          -0.01562654521105319,
          -0.01562654521105319,
          -0.01562654521105319,
          -0.01562654521105319,
          -0.01562654521105319,
          -0.01562654521105319,
          -0.01562654521105319,
          -0.01562654521105319,
          -0.01562654521105319,
          -0.01562654521105319,
          -0.01562654521105319,
          -0.01562654521105319,
          -0.01562654521105319,
          -0.01562654521105319,
          -0.01562654521105319,
          -0.01562654521105319,
          -0.01562654521105319,
          -0.01562654521105319,
          -0.01562654521105319,
          -0.01562654521105319,
          -0.01562654521105319,
          -0.01562654521105319,
          -0.01562654521105319,
          -0.01562654521105319,
          -0.01562654521105319,
          -0.01562654521105319,
          -0.01562654521105319,
          -0.02194479102860328,
          -0.02194479102860328,
          -0.02194479102860328,
          -0.02194479102860328,
          -0.02194479102860328,
          -0.02194479102860328,
          -0.02194479102860328,
          -0.02194479102860328,
          -0.02194479102860328,
          -0.02194479102860328,
          -0.02194479102860328,
          -0.02194479102860328,
          -0.02194479102860328,
          -0.02194479102860328,
          -0.02194479102860328,
          -0.02194479102860328,
          -0.02194479102860328,
          -0.02194479102860328,
          -0.02194479102860328,
          -0.02194479102860328,
          -0.02194479102860328,
          -0.02826303684615337,
          -0.02826303684615337,
          -0.02826303684615337,
          -0.02826303684615337,
          -0.02826303684615337,
          -0.02826303684615337,
          -0.02826303684615337,
          -0.02826303684615337,
          -0.02826303684615337,
          -0.02826303684615337,
          -0.02826303684615337,
          -0.02826303684615337,
          -0.02826303684615337,
          -0.02826303684615337,
          -0.02826303684615337,
          -0.03458128266370346,
          -0.03458128266370346,
          -0.03458128266370346,
          -0.03458128266370346,
          -0.03458128266370346,
          -0.03458128266370346,
          -0.040899528481253555,
          -0.040899528481253555,
          -0.04721777429880364,
          -0.053536020116353736,
          -0.053536020116353736
         ],
         "yaxis": "y"
        }
       ],
       "layout": {
        "legend": {
         "itemsizing": "constant",
         "title": {
          "text": "long"
         },
         "tracegroupgap": 0
        },
        "margin": {
         "t": 60
        },
        "template": {
         "data": {
          "bar": [
           {
            "error_x": {
             "color": "#2a3f5f"
            },
            "error_y": {
             "color": "#2a3f5f"
            },
            "marker": {
             "line": {
              "color": "#E5ECF6",
              "width": 0.5
             },
             "pattern": {
              "fillmode": "overlay",
              "size": 10,
              "solidity": 0.2
             }
            },
            "type": "bar"
           }
          ],
          "barpolar": [
           {
            "marker": {
             "line": {
              "color": "#E5ECF6",
              "width": 0.5
             },
             "pattern": {
              "fillmode": "overlay",
              "size": 10,
              "solidity": 0.2
             }
            },
            "type": "barpolar"
           }
          ],
          "carpet": [
           {
            "aaxis": {
             "endlinecolor": "#2a3f5f",
             "gridcolor": "white",
             "linecolor": "white",
             "minorgridcolor": "white",
             "startlinecolor": "#2a3f5f"
            },
            "baxis": {
             "endlinecolor": "#2a3f5f",
             "gridcolor": "white",
             "linecolor": "white",
             "minorgridcolor": "white",
             "startlinecolor": "#2a3f5f"
            },
            "type": "carpet"
           }
          ],
          "choropleth": [
           {
            "colorbar": {
             "outlinewidth": 0,
             "ticks": ""
            },
            "type": "choropleth"
           }
          ],
          "contour": [
           {
            "colorbar": {
             "outlinewidth": 0,
             "ticks": ""
            },
            "colorscale": [
             [
              0,
              "#0d0887"
             ],
             [
              0.1111111111111111,
              "#46039f"
             ],
             [
              0.2222222222222222,
              "#7201a8"
             ],
             [
              0.3333333333333333,
              "#9c179e"
             ],
             [
              0.4444444444444444,
              "#bd3786"
             ],
             [
              0.5555555555555556,
              "#d8576b"
             ],
             [
              0.6666666666666666,
              "#ed7953"
             ],
             [
              0.7777777777777778,
              "#fb9f3a"
             ],
             [
              0.8888888888888888,
              "#fdca26"
             ],
             [
              1,
              "#f0f921"
             ]
            ],
            "type": "contour"
           }
          ],
          "contourcarpet": [
           {
            "colorbar": {
             "outlinewidth": 0,
             "ticks": ""
            },
            "type": "contourcarpet"
           }
          ],
          "heatmap": [
           {
            "colorbar": {
             "outlinewidth": 0,
             "ticks": ""
            },
            "colorscale": [
             [
              0,
              "#0d0887"
             ],
             [
              0.1111111111111111,
              "#46039f"
             ],
             [
              0.2222222222222222,
              "#7201a8"
             ],
             [
              0.3333333333333333,
              "#9c179e"
             ],
             [
              0.4444444444444444,
              "#bd3786"
             ],
             [
              0.5555555555555556,
              "#d8576b"
             ],
             [
              0.6666666666666666,
              "#ed7953"
             ],
             [
              0.7777777777777778,
              "#fb9f3a"
             ],
             [
              0.8888888888888888,
              "#fdca26"
             ],
             [
              1,
              "#f0f921"
             ]
            ],
            "type": "heatmap"
           }
          ],
          "heatmapgl": [
           {
            "colorbar": {
             "outlinewidth": 0,
             "ticks": ""
            },
            "colorscale": [
             [
              0,
              "#0d0887"
             ],
             [
              0.1111111111111111,
              "#46039f"
             ],
             [
              0.2222222222222222,
              "#7201a8"
             ],
             [
              0.3333333333333333,
              "#9c179e"
             ],
             [
              0.4444444444444444,
              "#bd3786"
             ],
             [
              0.5555555555555556,
              "#d8576b"
             ],
             [
              0.6666666666666666,
              "#ed7953"
             ],
             [
              0.7777777777777778,
              "#fb9f3a"
             ],
             [
              0.8888888888888888,
              "#fdca26"
             ],
             [
              1,
              "#f0f921"
             ]
            ],
            "type": "heatmapgl"
           }
          ],
          "histogram": [
           {
            "marker": {
             "pattern": {
              "fillmode": "overlay",
              "size": 10,
              "solidity": 0.2
             }
            },
            "type": "histogram"
           }
          ],
          "histogram2d": [
           {
            "colorbar": {
             "outlinewidth": 0,
             "ticks": ""
            },
            "colorscale": [
             [
              0,
              "#0d0887"
             ],
             [
              0.1111111111111111,
              "#46039f"
             ],
             [
              0.2222222222222222,
              "#7201a8"
             ],
             [
              0.3333333333333333,
              "#9c179e"
             ],
             [
              0.4444444444444444,
              "#bd3786"
             ],
             [
              0.5555555555555556,
              "#d8576b"
             ],
             [
              0.6666666666666666,
              "#ed7953"
             ],
             [
              0.7777777777777778,
              "#fb9f3a"
             ],
             [
              0.8888888888888888,
              "#fdca26"
             ],
             [
              1,
              "#f0f921"
             ]
            ],
            "type": "histogram2d"
           }
          ],
          "histogram2dcontour": [
           {
            "colorbar": {
             "outlinewidth": 0,
             "ticks": ""
            },
            "colorscale": [
             [
              0,
              "#0d0887"
             ],
             [
              0.1111111111111111,
              "#46039f"
             ],
             [
              0.2222222222222222,
              "#7201a8"
             ],
             [
              0.3333333333333333,
              "#9c179e"
             ],
             [
              0.4444444444444444,
              "#bd3786"
             ],
             [
              0.5555555555555556,
              "#d8576b"
             ],
             [
              0.6666666666666666,
              "#ed7953"
             ],
             [
              0.7777777777777778,
              "#fb9f3a"
             ],
             [
              0.8888888888888888,
              "#fdca26"
             ],
             [
              1,
              "#f0f921"
             ]
            ],
            "type": "histogram2dcontour"
           }
          ],
          "mesh3d": [
           {
            "colorbar": {
             "outlinewidth": 0,
             "ticks": ""
            },
            "type": "mesh3d"
           }
          ],
          "parcoords": [
           {
            "line": {
             "colorbar": {
              "outlinewidth": 0,
              "ticks": ""
             }
            },
            "type": "parcoords"
           }
          ],
          "pie": [
           {
            "automargin": true,
            "type": "pie"
           }
          ],
          "scatter": [
           {
            "fillpattern": {
             "fillmode": "overlay",
             "size": 10,
             "solidity": 0.2
            },
            "type": "scatter"
           }
          ],
          "scatter3d": [
           {
            "line": {
             "colorbar": {
              "outlinewidth": 0,
              "ticks": ""
             }
            },
            "marker": {
             "colorbar": {
              "outlinewidth": 0,
              "ticks": ""
             }
            },
            "type": "scatter3d"
           }
          ],
          "scattercarpet": [
           {
            "marker": {
             "colorbar": {
              "outlinewidth": 0,
              "ticks": ""
             }
            },
            "type": "scattercarpet"
           }
          ],
          "scattergeo": [
           {
            "marker": {
             "colorbar": {
              "outlinewidth": 0,
              "ticks": ""
             }
            },
            "type": "scattergeo"
           }
          ],
          "scattergl": [
           {
            "marker": {
             "colorbar": {
              "outlinewidth": 0,
              "ticks": ""
             }
            },
            "type": "scattergl"
           }
          ],
          "scattermapbox": [
           {
            "marker": {
             "colorbar": {
              "outlinewidth": 0,
              "ticks": ""
             }
            },
            "type": "scattermapbox"
           }
          ],
          "scatterpolar": [
           {
            "marker": {
             "colorbar": {
              "outlinewidth": 0,
              "ticks": ""
             }
            },
            "type": "scatterpolar"
           }
          ],
          "scatterpolargl": [
           {
            "marker": {
             "colorbar": {
              "outlinewidth": 0,
              "ticks": ""
             }
            },
            "type": "scatterpolargl"
           }
          ],
          "scatterternary": [
           {
            "marker": {
             "colorbar": {
              "outlinewidth": 0,
              "ticks": ""
             }
            },
            "type": "scatterternary"
           }
          ],
          "surface": [
           {
            "colorbar": {
             "outlinewidth": 0,
             "ticks": ""
            },
            "colorscale": [
             [
              0,
              "#0d0887"
             ],
             [
              0.1111111111111111,
              "#46039f"
             ],
             [
              0.2222222222222222,
              "#7201a8"
             ],
             [
              0.3333333333333333,
              "#9c179e"
             ],
             [
              0.4444444444444444,
              "#bd3786"
             ],
             [
              0.5555555555555556,
              "#d8576b"
             ],
             [
              0.6666666666666666,
              "#ed7953"
             ],
             [
              0.7777777777777778,
              "#fb9f3a"
             ],
             [
              0.8888888888888888,
              "#fdca26"
             ],
             [
              1,
              "#f0f921"
             ]
            ],
            "type": "surface"
           }
          ],
          "table": [
           {
            "cells": {
             "fill": {
              "color": "#EBF0F8"
             },
             "line": {
              "color": "white"
             }
            },
            "header": {
             "fill": {
              "color": "#C8D4E3"
             },
             "line": {
              "color": "white"
             }
            },
            "type": "table"
           }
          ]
         },
         "layout": {
          "annotationdefaults": {
           "arrowcolor": "#2a3f5f",
           "arrowhead": 0,
           "arrowwidth": 1
          },
          "autotypenumbers": "strict",
          "coloraxis": {
           "colorbar": {
            "outlinewidth": 0,
            "ticks": ""
           }
          },
          "colorscale": {
           "diverging": [
            [
             0,
             "#8e0152"
            ],
            [
             0.1,
             "#c51b7d"
            ],
            [
             0.2,
             "#de77ae"
            ],
            [
             0.3,
             "#f1b6da"
            ],
            [
             0.4,
             "#fde0ef"
            ],
            [
             0.5,
             "#f7f7f7"
            ],
            [
             0.6,
             "#e6f5d0"
            ],
            [
             0.7,
             "#b8e186"
            ],
            [
             0.8,
             "#7fbc41"
            ],
            [
             0.9,
             "#4d9221"
            ],
            [
             1,
             "#276419"
            ]
           ],
           "sequential": [
            [
             0,
             "#0d0887"
            ],
            [
             0.1111111111111111,
             "#46039f"
            ],
            [
             0.2222222222222222,
             "#7201a8"
            ],
            [
             0.3333333333333333,
             "#9c179e"
            ],
            [
             0.4444444444444444,
             "#bd3786"
            ],
            [
             0.5555555555555556,
             "#d8576b"
            ],
            [
             0.6666666666666666,
             "#ed7953"
            ],
            [
             0.7777777777777778,
             "#fb9f3a"
            ],
            [
             0.8888888888888888,
             "#fdca26"
            ],
            [
             1,
             "#f0f921"
            ]
           ],
           "sequentialminus": [
            [
             0,
             "#0d0887"
            ],
            [
             0.1111111111111111,
             "#46039f"
            ],
            [
             0.2222222222222222,
             "#7201a8"
            ],
            [
             0.3333333333333333,
             "#9c179e"
            ],
            [
             0.4444444444444444,
             "#bd3786"
            ],
            [
             0.5555555555555556,
             "#d8576b"
            ],
            [
             0.6666666666666666,
             "#ed7953"
            ],
            [
             0.7777777777777778,
             "#fb9f3a"
            ],
            [
             0.8888888888888888,
             "#fdca26"
            ],
            [
             1,
             "#f0f921"
            ]
           ]
          },
          "colorway": [
           "#636efa",
           "#EF553B",
           "#00cc96",
           "#ab63fa",
           "#FFA15A",
           "#19d3f3",
           "#FF6692",
           "#B6E880",
           "#FF97FF",
           "#FECB52"
          ],
          "font": {
           "color": "#2a3f5f"
          },
          "geo": {
           "bgcolor": "white",
           "lakecolor": "white",
           "landcolor": "#E5ECF6",
           "showlakes": true,
           "showland": true,
           "subunitcolor": "white"
          },
          "hoverlabel": {
           "align": "left"
          },
          "hovermode": "closest",
          "mapbox": {
           "style": "light"
          },
          "paper_bgcolor": "white",
          "plot_bgcolor": "#E5ECF6",
          "polar": {
           "angularaxis": {
            "gridcolor": "white",
            "linecolor": "white",
            "ticks": ""
           },
           "bgcolor": "#E5ECF6",
           "radialaxis": {
            "gridcolor": "white",
            "linecolor": "white",
            "ticks": ""
           }
          },
          "scene": {
           "xaxis": {
            "backgroundcolor": "#E5ECF6",
            "gridcolor": "white",
            "gridwidth": 2,
            "linecolor": "white",
            "showbackground": true,
            "ticks": "",
            "zerolinecolor": "white"
           },
           "yaxis": {
            "backgroundcolor": "#E5ECF6",
            "gridcolor": "white",
            "gridwidth": 2,
            "linecolor": "white",
            "showbackground": true,
            "ticks": "",
            "zerolinecolor": "white"
           },
           "zaxis": {
            "backgroundcolor": "#E5ECF6",
            "gridcolor": "white",
            "gridwidth": 2,
            "linecolor": "white",
            "showbackground": true,
            "ticks": "",
            "zerolinecolor": "white"
           }
          },
          "shapedefaults": {
           "line": {
            "color": "#2a3f5f"
           }
          },
          "ternary": {
           "aaxis": {
            "gridcolor": "white",
            "linecolor": "white",
            "ticks": ""
           },
           "baxis": {
            "gridcolor": "white",
            "linecolor": "white",
            "ticks": ""
           },
           "bgcolor": "#E5ECF6",
           "caxis": {
            "gridcolor": "white",
            "linecolor": "white",
            "ticks": ""
           }
          },
          "title": {
           "x": 0.05
          },
          "xaxis": {
           "automargin": true,
           "gridcolor": "white",
           "linecolor": "white",
           "ticks": "",
           "title": {
            "standoff": 15
           },
           "zerolinecolor": "white",
           "zerolinewidth": 2
          },
          "yaxis": {
           "automargin": true,
           "gridcolor": "white",
           "linecolor": "white",
           "ticks": "",
           "title": {
            "standoff": 15
           },
           "zerolinecolor": "white",
           "zerolinewidth": 2
          }
         }
        },
        "xaxis": {
         "anchor": "y",
         "domain": [
          0,
          1
         ],
         "title": {
          "text": "Duration"
         }
        },
        "yaxis": {
         "anchor": "x",
         "domain": [
          0,
          1
         ],
         "title": {
          "text": "ReturnPct"
         }
        }
       }
      }
     },
     "metadata": {},
     "output_type": "display_data"
    }
   ],
   "source": [
    "px.scatter(trades, x='Duration',y='ReturnPct',size='abs_size', color='long',trendline='ols')"
   ]
  },
  {
   "cell_type": "code",
   "execution_count": null,
   "metadata": {},
   "outputs": [
    {
     "data": {
      "application/vnd.plotly.v1+json": {
       "config": {
        "plotlyServerURL": "https://plot.ly"
       },
       "data": [
        {
         "customdata": [
          [
           0
          ],
          [
           1
          ],
          [
           2
          ],
          [
           3
          ],
          [
           4
          ],
          [
           5
          ],
          [
           6
          ],
          [
           7
          ],
          [
           8
          ],
          [
           9
          ],
          [
           10
          ],
          [
           11
          ],
          [
           12
          ],
          [
           13
          ],
          [
           14
          ],
          [
           15
          ],
          [
           16
          ],
          [
           17
          ],
          [
           18
          ],
          [
           19
          ],
          [
           20
          ],
          [
           21
          ],
          [
           22
          ],
          [
           23
          ],
          [
           24
          ],
          [
           25
          ],
          [
           26
          ],
          [
           27
          ],
          [
           28
          ],
          [
           29
          ],
          [
           30
          ],
          [
           31
          ],
          [
           32
          ],
          [
           33
          ],
          [
           34
          ],
          [
           35
          ],
          [
           36
          ],
          [
           37
          ],
          [
           38
          ],
          [
           39
          ],
          [
           40
          ],
          [
           41
          ],
          [
           42
          ],
          [
           43
          ],
          [
           44
          ],
          [
           45
          ],
          [
           46
          ],
          [
           47
          ],
          [
           48
          ],
          [
           49
          ],
          [
           50
          ],
          [
           51
          ],
          [
           52
          ],
          [
           53
          ],
          [
           54
          ],
          [
           55
          ],
          [
           56
          ],
          [
           57
          ],
          [
           58
          ],
          [
           59
          ],
          [
           60
          ],
          [
           61
          ],
          [
           62
          ],
          [
           63
          ],
          [
           64
          ],
          [
           65
          ],
          [
           66
          ],
          [
           67
          ],
          [
           68
          ],
          [
           69
          ],
          [
           70
          ],
          [
           71
          ],
          [
           72
          ],
          [
           73
          ],
          [
           74
          ],
          [
           75
          ],
          [
           76
          ],
          [
           77
          ],
          [
           78
          ],
          [
           79
          ],
          [
           80
          ],
          [
           81
          ],
          [
           82
          ],
          [
           83
          ],
          [
           84
          ],
          [
           85
          ],
          [
           86
          ],
          [
           87
          ],
          [
           88
          ],
          [
           89
          ],
          [
           90
          ],
          [
           91
          ],
          [
           92
          ],
          [
           93
          ],
          [
           94
          ],
          [
           95
          ],
          [
           96
          ],
          [
           97
          ],
          [
           98
          ],
          [
           99
          ]
         ],
         "hovertemplate": "Buy & Hold Return [%]=%{x}<br>Return [%]=%{y}<br>index=%{customdata[0]}<extra></extra>",
         "legendgroup": "",
         "marker": {
          "color": "#636efa",
          "symbol": "circle"
         },
         "mode": "markers",
         "name": "",
         "orientation": "v",
         "showlegend": false,
         "type": "scatter",
         "x": [
          2.3227004606226145,
          -4.248463866278826,
          109.13990619515187,
          61.874993170301394,
          -1.3032195414574894,
          -13.103962372553859,
          22.990359379605703,
          74.07034646715907,
          8.197816317080987,
          53.37714223319821,
          10.816163102189225,
          63.66394340894179,
          10.467126845879562,
          69.76333013543399,
          42.643244428542104,
          5.78788269196195,
          -1.2904912204531094,
          -0.7354700126964709,
          69.56521093922473,
          11.376564080099442,
          77.3689753234708,
          -4.933116092459904,
          25.863561885346993,
          -29.432549714758018,
          1.5055826306218845,
          80.69061404295412,
          65.37293286213387,
          16.51951127256966,
          33.462368544711865,
          67.28639148284356,
          28.361402462610176,
          -12.677617603031974,
          -0.36726483705964896,
          277.2271117631962,
          11.567894767846369,
          11.81567574681828,
          -0.7394999015231093,
          -11.286272583092408,
          13.492627343377933,
          85.7122518300223,
          13.284059618577986,
          18.684405590471492,
          59.13796066114754,
          40.05430887332424,
          -30.784267965956623,
          4.406779003499453,
          92.4198293529061,
          -34.76959822083611,
          43.702045320383036,
          202.54156115194743,
          20.933655803488193,
          4.456395761861192,
          9.058153420315097,
          27.766154271782543,
          7.5695970124039,
          42.7496648604475,
          24.467582970345827,
          -14.041802432602152,
          37.13783569419217,
          -43.36171788763104,
          134.6281781645633,
          -10.422502653324962,
          24.44594920043304,
          -1.7738107272353654,
          -17.43711470925608,
          100.42732634882663,
          39.93775445167889,
          39.361403067020966,
          8.481673794891197,
          -10.057882925779019,
          60.40767246398738,
          34.5760860931157,
          42.8101066869531,
          -36.7243539416573,
          27.68777614138439,
          20.031328771034055,
          12.986707880855011,
          56.484459912208806,
          -29.677415069682795,
          69.36959041596968,
          107.38588693411599,
          91.96677557046634,
          -55.319148936170215,
          30.887210530148394,
          -18.901095547518885,
          27.092370688089858,
          -12.65537494072987,
          33.82277574947453,
          -13.736838251995968,
          -7.43264241939764,
          36.15034089897378,
          -8.666665213448661,
          20.777026930274094,
          24.24483668273927,
          1.6966852327512605,
          40.342860630580354,
          32.54269751033999,
          0.9985690804375964,
          11.90276327325958,
          30.860030852086247
         ],
         "xaxis": "x",
         "y": [
          13.674675718388007,
          -10.298343360031884,
          93.85838985843196,
          37.20450524124126,
          14.040579049399355,
          -13.373734396065526,
          9.135099136542529,
          33.57880489241565,
          10.09201848856504,
          45.526153577242255,
          10.302469956996921,
          68.08358658678361,
          3.2916025978782217,
          32.575474606590255,
          16.986697176217707,
          12.237283527809941,
          16.208876670051552,
          -13.151919118173232,
          31.257177549617758,
          4.167250798139163,
          46.17848759570923,
          -4.158895159671025,
          25.27732797480545,
          -29.53016449518433,
          -6.236934445093933,
          1.5337302802536172,
          70.52878337954864,
          12.153371988545242,
          3.3973837038635275,
          69.56917752605705,
          12.738701162760169,
          -26.468782323026275,
          -5.409639773878479,
          67.07877691716065,
          10.119480506448355,
          4.478293189678958,
          0.5851372350372258,
          -14.969261708807386,
          19.79642245728071,
          31.423246660937533,
          18.634869900124286,
          9.12315771674493,
          47.37047658103181,
          37.52057500999143,
          -28.125994209514616,
          -2.4399513416633827,
          80.94243200130929,
          -22.082385700108727,
          50.35772648068888,
          219.4081720841151,
          22.32789653620529,
          8.345078624805854,
          1.6515165591682541,
          26.956972989266927,
          17.037094819351193,
          4.461879808820342,
          -9.924559091123216,
          -3.005638518376532,
          19.97069768558722,
          -15.625204498229605,
          182.00824054760946,
          -8.526728226074228,
          17.767650272482356,
          -0.10005886390381492,
          -21.02586808233948,
          84.44478209542844,
          57.61236722240143,
          16.754453966699238,
          1.6739764600112919,
          43.94810543901021,
          37.174034773529065,
          3.496440366090392,
          9.116401574723795,
          -34.6123328824951,
          56.18897008445435,
          24.86435893326185,
          -14.797622304277064,
          26.435528275601218,
          -31.623320775184656,
          72.11814986852491,
          20.02635015089591,
          98.25803403587041,
          -47.55564859235555,
          22.31550647185517,
          -8.96471910109293,
          14.994024460031138,
          -5.96674904122313,
          27.938132699490335,
          -9.144091260128771,
          5.2833519992767375,
          32.52661686723023,
          -10.145801236883948,
          22.022040264709457,
          20.657207668390264,
          -1.8161433118285726,
          17.65841470807076,
          63.75842321916463,
          -9.162632139994017,
          7.86945641919705,
          6.2585779982662055
         ],
         "yaxis": "y"
        },
        {
         "hovertemplate": "<b>OLS trendline</b><br>Return [%] = 0.648177 * Buy & Hold Return [%] + 1.63097<br>R<sup>2</sup>=0.625962<br><br>Buy & Hold Return [%]=%{x}<br>Return [%]=%{y} <b>(trend)</b><extra></extra>",
         "legendgroup": "",
         "marker": {
          "color": "#636efa",
          "symbol": "circle"
         },
         "mode": "lines",
         "name": "",
         "showlegend": false,
         "type": "scatter",
         "x": [
          -55.319148936170215,
          -43.36171788763104,
          -36.7243539416573,
          -34.76959822083611,
          -30.784267965956623,
          -29.677415069682795,
          -29.432549714758018,
          -18.901095547518885,
          -17.43711470925608,
          -14.041802432602152,
          -13.736838251995968,
          -13.103962372553859,
          -12.677617603031974,
          -12.65537494072987,
          -11.286272583092408,
          -10.422502653324962,
          -10.057882925779019,
          -8.666665213448661,
          -7.43264241939764,
          -4.933116092459904,
          -4.248463866278826,
          -1.7738107272353654,
          -1.3032195414574894,
          -1.2904912204531094,
          -0.7394999015231093,
          -0.7354700126964709,
          -0.36726483705964896,
          0.9985690804375964,
          1.5055826306218845,
          1.6966852327512605,
          2.3227004606226145,
          4.406779003499453,
          4.456395761861192,
          5.78788269196195,
          7.5695970124039,
          8.197816317080987,
          8.481673794891197,
          9.058153420315097,
          10.467126845879562,
          10.816163102189225,
          11.376564080099442,
          11.567894767846369,
          11.81567574681828,
          11.90276327325958,
          12.986707880855011,
          13.284059618577986,
          13.492627343377933,
          16.51951127256966,
          18.684405590471492,
          20.031328771034055,
          20.777026930274094,
          20.933655803488193,
          22.990359379605703,
          24.24483668273927,
          24.44594920043304,
          24.467582970345827,
          25.863561885346993,
          27.092370688089858,
          27.68777614138439,
          27.766154271782543,
          28.361402462610176,
          30.860030852086247,
          30.887210530148394,
          32.54269751033999,
          33.462368544711865,
          33.82277574947453,
          34.5760860931157,
          36.15034089897378,
          37.13783569419217,
          39.361403067020966,
          39.93775445167889,
          40.05430887332424,
          40.342860630580354,
          42.643244428542104,
          42.7496648604475,
          42.8101066869531,
          43.702045320383036,
          53.37714223319821,
          56.484459912208806,
          59.13796066114754,
          60.40767246398738,
          61.874993170301394,
          63.66394340894179,
          65.37293286213387,
          67.28639148284356,
          69.36959041596968,
          69.56521093922473,
          69.76333013543399,
          74.07034646715907,
          77.3689753234708,
          80.69061404295412,
          85.7122518300223,
          91.96677557046634,
          92.4198293529061,
          100.42732634882663,
          107.38588693411599,
          109.13990619515187,
          134.6281781645633,
          202.54156115194743,
          277.2271117631962
         ],
         "xaxis": "x",
         "y": [
          -34.2256332582189,
          -26.475099712282137,
          -22.172912084267725,
          -20.905884097500675,
          -18.322684101891774,
          -17.605247349117388,
          -17.44653122189255,
          -10.620283302975693,
          -9.671364379546006,
          -7.470600553912063,
          -7.272929741301682,
          -6.862714059177423,
          -6.586367122707508,
          -6.571949937308436,
          -5.68452907678952,
          -5.124653147799579,
          -4.8883149729538715,
          -3.986559444918848,
          -3.186694070582316,
          -1.5665582264162117,
          -1.122782299565686,
          0.48123131262714525,
          0.7862577649635921,
          0.794507971761979,
          1.1516479530465562,
          1.154260034890095,
          1.392922215251099,
          2.2782245475638483,
          2.6068591441587325,
          2.730727483646292,
          3.136496248206881,
          4.487348332853214,
          4.519508781745811,
          5.382548181749963,
          6.537414687256454,
          6.944612084033387,
          7.128602014236816,
          7.502262933313815,
          8.415527308900987,
          8.641764633815917,
          9.005003741015246,
          9.129019920387726,
          9.289625888490004,
          9.346074032943106,
          10.048662156512673,
          10.241398757611123,
          10.376587590488331,
          12.33854458088414,
          13.741779604042055,
          14.614824428835366,
          15.09816893442959,
          15.199692190652463,
          16.532800447437626,
          17.34592396712046,
          17.476280505123146,
          17.490303020390304,
          18.39514465119015,
          19.191630435514575,
          19.57755864371083,
          19.62836155668208,
          20.014187830941164,
          21.63374165256492,
          21.651358898755454,
          22.7244077269487,
          23.320517474451396,
          23.554125188296553,
          24.042403737860536,
          25.06279972702627,
          25.702871286352813,
          27.144136842875966,
          27.51771463921911,
          27.59326255174501,
          27.78029520660826,
          29.271351414438964,
          29.340330706404576,
          29.379507717085858,
          29.957641956058556,
          36.22881867274339,
          38.24291098164248,
          39.96284952741653,
          40.78584770165934,
          41.73693145123478,
          42.89648811355715,
          44.004216022072704,
          45.244476172298214,
          46.5947581140056,
          46.72155486672007,
          46.84997120214201,
          49.641680761363,
          51.77977660340948,
          53.93278691292601,
          57.187697768462186,
          61.24173712418916,
          61.535396232459064,
          66.72567279219318,
          71.23605274159773,
          72.37296794250442,
          88.89388335694179,
          132.91378620439133,
          181.32325334323457
         ],
         "yaxis": "y"
        }
       ],
       "layout": {
        "legend": {
         "tracegroupgap": 0
        },
        "template": {
         "data": {
          "bar": [
           {
            "error_x": {
             "color": "#2a3f5f"
            },
            "error_y": {
             "color": "#2a3f5f"
            },
            "marker": {
             "line": {
              "color": "#E5ECF6",
              "width": 0.5
             },
             "pattern": {
              "fillmode": "overlay",
              "size": 10,
              "solidity": 0.2
             }
            },
            "type": "bar"
           }
          ],
          "barpolar": [
           {
            "marker": {
             "line": {
              "color": "#E5ECF6",
              "width": 0.5
             },
             "pattern": {
              "fillmode": "overlay",
              "size": 10,
              "solidity": 0.2
             }
            },
            "type": "barpolar"
           }
          ],
          "carpet": [
           {
            "aaxis": {
             "endlinecolor": "#2a3f5f",
             "gridcolor": "white",
             "linecolor": "white",
             "minorgridcolor": "white",
             "startlinecolor": "#2a3f5f"
            },
            "baxis": {
             "endlinecolor": "#2a3f5f",
             "gridcolor": "white",
             "linecolor": "white",
             "minorgridcolor": "white",
             "startlinecolor": "#2a3f5f"
            },
            "type": "carpet"
           }
          ],
          "choropleth": [
           {
            "colorbar": {
             "outlinewidth": 0,
             "ticks": ""
            },
            "type": "choropleth"
           }
          ],
          "contour": [
           {
            "colorbar": {
             "outlinewidth": 0,
             "ticks": ""
            },
            "colorscale": [
             [
              0,
              "#0d0887"
             ],
             [
              0.1111111111111111,
              "#46039f"
             ],
             [
              0.2222222222222222,
              "#7201a8"
             ],
             [
              0.3333333333333333,
              "#9c179e"
             ],
             [
              0.4444444444444444,
              "#bd3786"
             ],
             [
              0.5555555555555556,
              "#d8576b"
             ],
             [
              0.6666666666666666,
              "#ed7953"
             ],
             [
              0.7777777777777778,
              "#fb9f3a"
             ],
             [
              0.8888888888888888,
              "#fdca26"
             ],
             [
              1,
              "#f0f921"
             ]
            ],
            "type": "contour"
           }
          ],
          "contourcarpet": [
           {
            "colorbar": {
             "outlinewidth": 0,
             "ticks": ""
            },
            "type": "contourcarpet"
           }
          ],
          "heatmap": [
           {
            "colorbar": {
             "outlinewidth": 0,
             "ticks": ""
            },
            "colorscale": [
             [
              0,
              "#0d0887"
             ],
             [
              0.1111111111111111,
              "#46039f"
             ],
             [
              0.2222222222222222,
              "#7201a8"
             ],
             [
              0.3333333333333333,
              "#9c179e"
             ],
             [
              0.4444444444444444,
              "#bd3786"
             ],
             [
              0.5555555555555556,
              "#d8576b"
             ],
             [
              0.6666666666666666,
              "#ed7953"
             ],
             [
              0.7777777777777778,
              "#fb9f3a"
             ],
             [
              0.8888888888888888,
              "#fdca26"
             ],
             [
              1,
              "#f0f921"
             ]
            ],
            "type": "heatmap"
           }
          ],
          "heatmapgl": [
           {
            "colorbar": {
             "outlinewidth": 0,
             "ticks": ""
            },
            "colorscale": [
             [
              0,
              "#0d0887"
             ],
             [
              0.1111111111111111,
              "#46039f"
             ],
             [
              0.2222222222222222,
              "#7201a8"
             ],
             [
              0.3333333333333333,
              "#9c179e"
             ],
             [
              0.4444444444444444,
              "#bd3786"
             ],
             [
              0.5555555555555556,
              "#d8576b"
             ],
             [
              0.6666666666666666,
              "#ed7953"
             ],
             [
              0.7777777777777778,
              "#fb9f3a"
             ],
             [
              0.8888888888888888,
              "#fdca26"
             ],
             [
              1,
              "#f0f921"
             ]
            ],
            "type": "heatmapgl"
           }
          ],
          "histogram": [
           {
            "marker": {
             "pattern": {
              "fillmode": "overlay",
              "size": 10,
              "solidity": 0.2
             }
            },
            "type": "histogram"
           }
          ],
          "histogram2d": [
           {
            "colorbar": {
             "outlinewidth": 0,
             "ticks": ""
            },
            "colorscale": [
             [
              0,
              "#0d0887"
             ],
             [
              0.1111111111111111,
              "#46039f"
             ],
             [
              0.2222222222222222,
              "#7201a8"
             ],
             [
              0.3333333333333333,
              "#9c179e"
             ],
             [
              0.4444444444444444,
              "#bd3786"
             ],
             [
              0.5555555555555556,
              "#d8576b"
             ],
             [
              0.6666666666666666,
              "#ed7953"
             ],
             [
              0.7777777777777778,
              "#fb9f3a"
             ],
             [
              0.8888888888888888,
              "#fdca26"
             ],
             [
              1,
              "#f0f921"
             ]
            ],
            "type": "histogram2d"
           }
          ],
          "histogram2dcontour": [
           {
            "colorbar": {
             "outlinewidth": 0,
             "ticks": ""
            },
            "colorscale": [
             [
              0,
              "#0d0887"
             ],
             [
              0.1111111111111111,
              "#46039f"
             ],
             [
              0.2222222222222222,
              "#7201a8"
             ],
             [
              0.3333333333333333,
              "#9c179e"
             ],
             [
              0.4444444444444444,
              "#bd3786"
             ],
             [
              0.5555555555555556,
              "#d8576b"
             ],
             [
              0.6666666666666666,
              "#ed7953"
             ],
             [
              0.7777777777777778,
              "#fb9f3a"
             ],
             [
              0.8888888888888888,
              "#fdca26"
             ],
             [
              1,
              "#f0f921"
             ]
            ],
            "type": "histogram2dcontour"
           }
          ],
          "mesh3d": [
           {
            "colorbar": {
             "outlinewidth": 0,
             "ticks": ""
            },
            "type": "mesh3d"
           }
          ],
          "parcoords": [
           {
            "line": {
             "colorbar": {
              "outlinewidth": 0,
              "ticks": ""
             }
            },
            "type": "parcoords"
           }
          ],
          "pie": [
           {
            "automargin": true,
            "type": "pie"
           }
          ],
          "scatter": [
           {
            "fillpattern": {
             "fillmode": "overlay",
             "size": 10,
             "solidity": 0.2
            },
            "type": "scatter"
           }
          ],
          "scatter3d": [
           {
            "line": {
             "colorbar": {
              "outlinewidth": 0,
              "ticks": ""
             }
            },
            "marker": {
             "colorbar": {
              "outlinewidth": 0,
              "ticks": ""
             }
            },
            "type": "scatter3d"
           }
          ],
          "scattercarpet": [
           {
            "marker": {
             "colorbar": {
              "outlinewidth": 0,
              "ticks": ""
             }
            },
            "type": "scattercarpet"
           }
          ],
          "scattergeo": [
           {
            "marker": {
             "colorbar": {
              "outlinewidth": 0,
              "ticks": ""
             }
            },
            "type": "scattergeo"
           }
          ],
          "scattergl": [
           {
            "marker": {
             "colorbar": {
              "outlinewidth": 0,
              "ticks": ""
             }
            },
            "type": "scattergl"
           }
          ],
          "scattermapbox": [
           {
            "marker": {
             "colorbar": {
              "outlinewidth": 0,
              "ticks": ""
             }
            },
            "type": "scattermapbox"
           }
          ],
          "scatterpolar": [
           {
            "marker": {
             "colorbar": {
              "outlinewidth": 0,
              "ticks": ""
             }
            },
            "type": "scatterpolar"
           }
          ],
          "scatterpolargl": [
           {
            "marker": {
             "colorbar": {
              "outlinewidth": 0,
              "ticks": ""
             }
            },
            "type": "scatterpolargl"
           }
          ],
          "scatterternary": [
           {
            "marker": {
             "colorbar": {
              "outlinewidth": 0,
              "ticks": ""
             }
            },
            "type": "scatterternary"
           }
          ],
          "surface": [
           {
            "colorbar": {
             "outlinewidth": 0,
             "ticks": ""
            },
            "colorscale": [
             [
              0,
              "#0d0887"
             ],
             [
              0.1111111111111111,
              "#46039f"
             ],
             [
              0.2222222222222222,
              "#7201a8"
             ],
             [
              0.3333333333333333,
              "#9c179e"
             ],
             [
              0.4444444444444444,
              "#bd3786"
             ],
             [
              0.5555555555555556,
              "#d8576b"
             ],
             [
              0.6666666666666666,
              "#ed7953"
             ],
             [
              0.7777777777777778,
              "#fb9f3a"
             ],
             [
              0.8888888888888888,
              "#fdca26"
             ],
             [
              1,
              "#f0f921"
             ]
            ],
            "type": "surface"
           }
          ],
          "table": [
           {
            "cells": {
             "fill": {
              "color": "#EBF0F8"
             },
             "line": {
              "color": "white"
             }
            },
            "header": {
             "fill": {
              "color": "#C8D4E3"
             },
             "line": {
              "color": "white"
             }
            },
            "type": "table"
           }
          ]
         },
         "layout": {
          "annotationdefaults": {
           "arrowcolor": "#2a3f5f",
           "arrowhead": 0,
           "arrowwidth": 1
          },
          "autotypenumbers": "strict",
          "coloraxis": {
           "colorbar": {
            "outlinewidth": 0,
            "ticks": ""
           }
          },
          "colorscale": {
           "diverging": [
            [
             0,
             "#8e0152"
            ],
            [
             0.1,
             "#c51b7d"
            ],
            [
             0.2,
             "#de77ae"
            ],
            [
             0.3,
             "#f1b6da"
            ],
            [
             0.4,
             "#fde0ef"
            ],
            [
             0.5,
             "#f7f7f7"
            ],
            [
             0.6,
             "#e6f5d0"
            ],
            [
             0.7,
             "#b8e186"
            ],
            [
             0.8,
             "#7fbc41"
            ],
            [
             0.9,
             "#4d9221"
            ],
            [
             1,
             "#276419"
            ]
           ],
           "sequential": [
            [
             0,
             "#0d0887"
            ],
            [
             0.1111111111111111,
             "#46039f"
            ],
            [
             0.2222222222222222,
             "#7201a8"
            ],
            [
             0.3333333333333333,
             "#9c179e"
            ],
            [
             0.4444444444444444,
             "#bd3786"
            ],
            [
             0.5555555555555556,
             "#d8576b"
            ],
            [
             0.6666666666666666,
             "#ed7953"
            ],
            [
             0.7777777777777778,
             "#fb9f3a"
            ],
            [
             0.8888888888888888,
             "#fdca26"
            ],
            [
             1,
             "#f0f921"
            ]
           ],
           "sequentialminus": [
            [
             0,
             "#0d0887"
            ],
            [
             0.1111111111111111,
             "#46039f"
            ],
            [
             0.2222222222222222,
             "#7201a8"
            ],
            [
             0.3333333333333333,
             "#9c179e"
            ],
            [
             0.4444444444444444,
             "#bd3786"
            ],
            [
             0.5555555555555556,
             "#d8576b"
            ],
            [
             0.6666666666666666,
             "#ed7953"
            ],
            [
             0.7777777777777778,
             "#fb9f3a"
            ],
            [
             0.8888888888888888,
             "#fdca26"
            ],
            [
             1,
             "#f0f921"
            ]
           ]
          },
          "colorway": [
           "#636efa",
           "#EF553B",
           "#00cc96",
           "#ab63fa",
           "#FFA15A",
           "#19d3f3",
           "#FF6692",
           "#B6E880",
           "#FF97FF",
           "#FECB52"
          ],
          "font": {
           "color": "#2a3f5f"
          },
          "geo": {
           "bgcolor": "white",
           "lakecolor": "white",
           "landcolor": "#E5ECF6",
           "showlakes": true,
           "showland": true,
           "subunitcolor": "white"
          },
          "hoverlabel": {
           "align": "left"
          },
          "hovermode": "closest",
          "mapbox": {
           "style": "light"
          },
          "paper_bgcolor": "white",
          "plot_bgcolor": "#E5ECF6",
          "polar": {
           "angularaxis": {
            "gridcolor": "white",
            "linecolor": "white",
            "ticks": ""
           },
           "bgcolor": "#E5ECF6",
           "radialaxis": {
            "gridcolor": "white",
            "linecolor": "white",
            "ticks": ""
           }
          },
          "scene": {
           "xaxis": {
            "backgroundcolor": "#E5ECF6",
            "gridcolor": "white",
            "gridwidth": 2,
            "linecolor": "white",
            "showbackground": true,
            "ticks": "",
            "zerolinecolor": "white"
           },
           "yaxis": {
            "backgroundcolor": "#E5ECF6",
            "gridcolor": "white",
            "gridwidth": 2,
            "linecolor": "white",
            "showbackground": true,
            "ticks": "",
            "zerolinecolor": "white"
           },
           "zaxis": {
            "backgroundcolor": "#E5ECF6",
            "gridcolor": "white",
            "gridwidth": 2,
            "linecolor": "white",
            "showbackground": true,
            "ticks": "",
            "zerolinecolor": "white"
           }
          },
          "shapedefaults": {
           "line": {
            "color": "#2a3f5f"
           }
          },
          "ternary": {
           "aaxis": {
            "gridcolor": "white",
            "linecolor": "white",
            "ticks": ""
           },
           "baxis": {
            "gridcolor": "white",
            "linecolor": "white",
            "ticks": ""
           },
           "bgcolor": "#E5ECF6",
           "caxis": {
            "gridcolor": "white",
            "linecolor": "white",
            "ticks": ""
           }
          },
          "title": {
           "x": 0.05
          },
          "xaxis": {
           "automargin": true,
           "gridcolor": "white",
           "linecolor": "white",
           "ticks": "",
           "title": {
            "standoff": 15
           },
           "zerolinecolor": "white",
           "zerolinewidth": 2
          },
          "yaxis": {
           "automargin": true,
           "gridcolor": "white",
           "linecolor": "white",
           "ticks": "",
           "title": {
            "standoff": 15
           },
           "zerolinecolor": "white",
           "zerolinewidth": 2
          }
         }
        },
        "title": {
         "text": "Relative Return"
        },
        "xaxis": {
         "anchor": "y",
         "domain": [
          0,
          1
         ],
         "title": {
          "text": "Buy & Hold Return [%]"
         }
        },
        "yaxis": {
         "anchor": "x",
         "domain": [
          0,
          1
         ],
         "title": {
          "text": "Return [%]"
         }
        }
       }
      }
     },
     "metadata": {},
     "output_type": "display_data"
    }
   ],
   "source": [
    "fig = px.scatter(performance,x='Buy & Hold Return [%]',y= 'Return [%]',range_color=[-50,50],color_continuous_scale=[\"red\", \"white\", \"green\"], trendline=\"ols\",hover_data=[performance.index],title='Relative Return')\n",
    "\n",
    "fig.show()\n",
    "fig.write_html('checkpoint\\VERY_GOOD\\graph/relative_return.html')"
   ]
  },
  {
   "cell_type": "code",
   "execution_count": null,
   "metadata": {},
   "outputs": [],
   "source": [
    "trades['long'] = trades['Size']>0"
   ]
  },
  {
   "cell_type": "code",
   "execution_count": null,
   "metadata": {},
   "outputs": [
    {
     "data": {
      "text/plain": [
       "False    1328\n",
       "True     1320\n",
       "Name: long, dtype: int64"
      ]
     },
     "execution_count": 44,
     "metadata": {},
     "output_type": "execute_result"
    }
   ],
   "source": [
    "trades['long'].value_counts()"
   ]
  },
  {
   "cell_type": "code",
   "execution_count": null,
   "metadata": {},
   "outputs": [
    {
     "data": {
      "text/html": [
       "<div>\n",
       "<style scoped>\n",
       "    .dataframe tbody tr th:only-of-type {\n",
       "        vertical-align: middle;\n",
       "    }\n",
       "\n",
       "    .dataframe tbody tr th {\n",
       "        vertical-align: top;\n",
       "    }\n",
       "\n",
       "    .dataframe thead th {\n",
       "        text-align: right;\n",
       "    }\n",
       "</style>\n",
       "<table border=\"1\" class=\"dataframe\">\n",
       "  <thead>\n",
       "    <tr style=\"text-align: right;\">\n",
       "      <th></th>\n",
       "      <th>Size</th>\n",
       "      <th>EntryBar</th>\n",
       "      <th>ExitBar</th>\n",
       "      <th>EntryPrice</th>\n",
       "      <th>ExitPrice</th>\n",
       "      <th>PnL</th>\n",
       "      <th>ReturnPct</th>\n",
       "      <th>EntryTime</th>\n",
       "      <th>ExitTime</th>\n",
       "      <th>Duration</th>\n",
       "      <th>long</th>\n",
       "    </tr>\n",
       "  </thead>\n",
       "  <tbody>\n",
       "    <tr>\n",
       "      <th>0</th>\n",
       "      <td>34228</td>\n",
       "      <td>35</td>\n",
       "      <td>82</td>\n",
       "      <td>28.577040</td>\n",
       "      <td>40.119999</td>\n",
       "      <td>395092.382621</td>\n",
       "      <td>0.403924</td>\n",
       "      <td>2016-04-06</td>\n",
       "      <td>2016-06-13</td>\n",
       "      <td>68 days</td>\n",
       "      <td>True</td>\n",
       "    </tr>\n",
       "    <tr>\n",
       "      <th>1</th>\n",
       "      <td>661</td>\n",
       "      <td>35</td>\n",
       "      <td>83</td>\n",
       "      <td>28.577040</td>\n",
       "      <td>39.470001</td>\n",
       "      <td>7200.247064</td>\n",
       "      <td>0.381179</td>\n",
       "      <td>2016-04-06</td>\n",
       "      <td>2016-06-14</td>\n",
       "      <td>69 days</td>\n",
       "      <td>True</td>\n",
       "    </tr>\n",
       "    <tr>\n",
       "      <th>4</th>\n",
       "      <td>32080</td>\n",
       "      <td>86</td>\n",
       "      <td>112</td>\n",
       "      <td>41.142121</td>\n",
       "      <td>38.610001</td>\n",
       "      <td>-81230.434163</td>\n",
       "      <td>-0.061546</td>\n",
       "      <td>2016-06-17</td>\n",
       "      <td>2016-07-26</td>\n",
       "      <td>39 days</td>\n",
       "      <td>True</td>\n",
       "    </tr>\n",
       "    <tr>\n",
       "      <th>8</th>\n",
       "      <td>33428</td>\n",
       "      <td>118</td>\n",
       "      <td>171</td>\n",
       "      <td>37.464779</td>\n",
       "      <td>47.520000</td>\n",
       "      <td>336125.929906</td>\n",
       "      <td>0.268391</td>\n",
       "      <td>2016-08-03</td>\n",
       "      <td>2016-10-18</td>\n",
       "      <td>76 days</td>\n",
       "      <td>True</td>\n",
       "    </tr>\n",
       "    <tr>\n",
       "      <th>12</th>\n",
       "      <td>32193</td>\n",
       "      <td>174</td>\n",
       "      <td>178</td>\n",
       "      <td>47.655121</td>\n",
       "      <td>47.110001</td>\n",
       "      <td>-17549.072810</td>\n",
       "      <td>-0.011439</td>\n",
       "      <td>2016-10-21</td>\n",
       "      <td>2016-10-27</td>\n",
       "      <td>6 days</td>\n",
       "      <td>True</td>\n",
       "    </tr>\n",
       "    <tr>\n",
       "      <th>...</th>\n",
       "      <td>...</td>\n",
       "      <td>...</td>\n",
       "      <td>...</td>\n",
       "      <td>...</td>\n",
       "      <td>...</td>\n",
       "      <td>...</td>\n",
       "      <td>...</td>\n",
       "      <td>...</td>\n",
       "      <td>...</td>\n",
       "      <td>...</td>\n",
       "      <td>...</td>\n",
       "    </tr>\n",
       "    <tr>\n",
       "      <th>5</th>\n",
       "      <td>22100</td>\n",
       "      <td>105</td>\n",
       "      <td>110</td>\n",
       "      <td>52.274338</td>\n",
       "      <td>50.230000</td>\n",
       "      <td>-45179.883569</td>\n",
       "      <td>-0.039108</td>\n",
       "      <td>2013-04-12</td>\n",
       "      <td>2013-04-19</td>\n",
       "      <td>7 days</td>\n",
       "      <td>True</td>\n",
       "    </tr>\n",
       "    <tr>\n",
       "      <th>6</th>\n",
       "      <td>2</td>\n",
       "      <td>105</td>\n",
       "      <td>111</td>\n",
       "      <td>52.274338</td>\n",
       "      <td>50.230000</td>\n",
       "      <td>-4.088677</td>\n",
       "      <td>-0.039108</td>\n",
       "      <td>2013-04-12</td>\n",
       "      <td>2013-04-22</td>\n",
       "      <td>10 days</td>\n",
       "      <td>True</td>\n",
       "    </tr>\n",
       "    <tr>\n",
       "      <th>9</th>\n",
       "      <td>20610</td>\n",
       "      <td>114</td>\n",
       "      <td>143</td>\n",
       "      <td>51.613018</td>\n",
       "      <td>54.480000</td>\n",
       "      <td>59088.483028</td>\n",
       "      <td>0.055548</td>\n",
       "      <td>2013-04-25</td>\n",
       "      <td>2013-06-06</td>\n",
       "      <td>42 days</td>\n",
       "      <td>True</td>\n",
       "    </tr>\n",
       "    <tr>\n",
       "      <th>11</th>\n",
       "      <td>20327</td>\n",
       "      <td>144</td>\n",
       "      <td>156</td>\n",
       "      <td>55.300379</td>\n",
       "      <td>55.389999</td>\n",
       "      <td>1821.721304</td>\n",
       "      <td>0.001621</td>\n",
       "      <td>2013-06-07</td>\n",
       "      <td>2013-06-25</td>\n",
       "      <td>18 days</td>\n",
       "      <td>True</td>\n",
       "    </tr>\n",
       "    <tr>\n",
       "      <th>13</th>\n",
       "      <td>20343</td>\n",
       "      <td>158</td>\n",
       "      <td>271</td>\n",
       "      <td>55.811401</td>\n",
       "      <td>82.260002</td>\n",
       "      <td>538043.897706</td>\n",
       "      <td>0.473892</td>\n",
       "      <td>2013-06-27</td>\n",
       "      <td>2013-12-06</td>\n",
       "      <td>162 days</td>\n",
       "      <td>True</td>\n",
       "    </tr>\n",
       "  </tbody>\n",
       "</table>\n",
       "<p>1320 rows × 11 columns</p>\n",
       "</div>"
      ],
      "text/plain": [
       "     Size  EntryBar  ExitBar  EntryPrice  ExitPrice            PnL  ReturnPct  \\\n",
       "0   34228        35       82   28.577040  40.119999  395092.382621   0.403924   \n",
       "1     661        35       83   28.577040  39.470001    7200.247064   0.381179   \n",
       "4   32080        86      112   41.142121  38.610001  -81230.434163  -0.061546   \n",
       "8   33428       118      171   37.464779  47.520000  336125.929906   0.268391   \n",
       "12  32193       174      178   47.655121  47.110001  -17549.072810  -0.011439   \n",
       "..    ...       ...      ...         ...        ...            ...        ...   \n",
       "5   22100       105      110   52.274338  50.230000  -45179.883569  -0.039108   \n",
       "6       2       105      111   52.274338  50.230000      -4.088677  -0.039108   \n",
       "9   20610       114      143   51.613018  54.480000   59088.483028   0.055548   \n",
       "11  20327       144      156   55.300379  55.389999    1821.721304   0.001621   \n",
       "13  20343       158      271   55.811401  82.260002  538043.897706   0.473892   \n",
       "\n",
       "    EntryTime   ExitTime Duration  long  \n",
       "0  2016-04-06 2016-06-13  68 days  True  \n",
       "1  2016-04-06 2016-06-14  69 days  True  \n",
       "4  2016-06-17 2016-07-26  39 days  True  \n",
       "8  2016-08-03 2016-10-18  76 days  True  \n",
       "12 2016-10-21 2016-10-27   6 days  True  \n",
       "..        ...        ...      ...   ...  \n",
       "5  2013-04-12 2013-04-19   7 days  True  \n",
       "6  2013-04-12 2013-04-22  10 days  True  \n",
       "9  2013-04-25 2013-06-06  42 days  True  \n",
       "11 2013-06-07 2013-06-25  18 days  True  \n",
       "13 2013-06-27 2013-12-06 162 days  True  \n",
       "\n",
       "[1320 rows x 11 columns]"
      ]
     },
     "execution_count": 45,
     "metadata": {},
     "output_type": "execute_result"
    }
   ],
   "source": [
    "trades[trades['long']]"
   ]
  },
  {
   "cell_type": "code",
   "execution_count": null,
   "metadata": {},
   "outputs": [
    {
     "data": {
      "text/plain": [
       "0.006779453316672259"
      ]
     },
     "execution_count": 46,
     "metadata": {},
     "output_type": "execute_result"
    }
   ],
   "source": [
    "trades[trades['long']].ReturnPct.mean()"
   ]
  },
  {
   "cell_type": "code",
   "execution_count": null,
   "metadata": {},
   "outputs": [
    {
     "data": {
      "text/plain": [
       "-0.007992831014271229"
      ]
     },
     "execution_count": 47,
     "metadata": {},
     "output_type": "execute_result"
    }
   ],
   "source": [
    "trades[~trades['long']].ReturnPct.mean()"
   ]
  },
  {
   "cell_type": "code",
   "execution_count": null,
   "metadata": {},
   "outputs": [
    {
     "data": {
      "text/plain": [
       "2648"
      ]
     },
     "execution_count": 48,
     "metadata": {},
     "output_type": "execute_result"
    }
   ],
   "source": [
    "performance['# Trades'].sum()"
   ]
  },
  {
   "cell_type": "code",
   "execution_count": null,
   "metadata": {},
   "outputs": [
    {
     "ename": "NameError",
     "evalue": "name 'compute_SQN' is not defined",
     "output_type": "error",
     "traceback": [
      "\u001b[1;31m---------------------------------------------------------------------------\u001b[0m",
      "\u001b[1;31mNameError\u001b[0m                                 Traceback (most recent call last)",
      "\u001b[1;32mc:\\Users\\USER\\OneDrive - 國立陽明交通大學\\文件\\academic\\大四上\\演化計算\\Project\\main.ipynb 儲存格 21\u001b[0m in \u001b[0;36m<cell line: 1>\u001b[1;34m()\u001b[0m\n\u001b[1;32m----> <a href='vscode-notebook-cell:/c%3A/Users/USER/OneDrive%20-%20%E5%9C%8B%E7%AB%8B%E9%99%BD%E6%98%8E%E4%BA%A4%E9%80%9A%E5%A4%A7%E5%AD%B8/%E6%96%87%E4%BB%B6/academic/%E5%A4%A7%E5%9B%9B%E4%B8%8A/%E6%BC%94%E5%8C%96%E8%A8%88%E7%AE%97/Project/main.ipynb#Y141sZmlsZQ%3D%3D?line=0'>1</a>\u001b[0m compute_SQN(performance\u001b[39m.\u001b[39mtranspose())\u001b[39m*\u001b[39mnp\u001b[39m.\u001b[39msqrt(performance[\u001b[39m'\u001b[39m\u001b[39m# Trades\u001b[39m\u001b[39m'\u001b[39m]\u001b[39m.\u001b[39msum())\n",
      "\u001b[1;31mNameError\u001b[0m: name 'compute_SQN' is not defined"
     ]
    }
   ],
   "source": [
    "compute_SQN(performance.transpose())*np.sqrt(performance['# Trades'].sum())"
   ]
  },
  {
   "cell_type": "code",
   "execution_count": null,
   "metadata": {},
   "outputs": [
    {
     "data": {
      "text/html": [
       "<div style=\"display: table;\"><div style=\"display: table-row;\"><div style=\"display: table-cell;\"><b title=\"bokeh.models.layouts.Row\">Row</b>(</div><div style=\"display: table-cell;\">id&nbsp;=&nbsp;'8539', <span id=\"9738\" style=\"cursor: pointer;\">&hellip;)</span></div></div><div class=\"9737\" style=\"display: none;\"><div style=\"display: table-cell;\"></div><div style=\"display: table-cell;\">align&nbsp;=&nbsp;'start',</div></div><div class=\"9737\" style=\"display: none;\"><div style=\"display: table-cell;\"></div><div style=\"display: table-cell;\">aspect_ratio&nbsp;=&nbsp;None,</div></div><div class=\"9737\" style=\"display: none;\"><div style=\"display: table-cell;\"></div><div style=\"display: table-cell;\">background&nbsp;=&nbsp;None,</div></div><div class=\"9737\" style=\"display: none;\"><div style=\"display: table-cell;\"></div><div style=\"display: table-cell;\">children&nbsp;=&nbsp;[GridBox(id='8536', ...), ToolbarBox(id='8538', ...)],</div></div><div class=\"9737\" style=\"display: none;\"><div style=\"display: table-cell;\"></div><div style=\"display: table-cell;\">cols&nbsp;=&nbsp;'auto',</div></div><div class=\"9737\" style=\"display: none;\"><div style=\"display: table-cell;\"></div><div style=\"display: table-cell;\">css_classes&nbsp;=&nbsp;[],</div></div><div class=\"9737\" style=\"display: none;\"><div style=\"display: table-cell;\"></div><div style=\"display: table-cell;\">disabled&nbsp;=&nbsp;False,</div></div><div class=\"9737\" style=\"display: none;\"><div style=\"display: table-cell;\"></div><div style=\"display: table-cell;\">height&nbsp;=&nbsp;None,</div></div><div class=\"9737\" style=\"display: none;\"><div style=\"display: table-cell;\"></div><div style=\"display: table-cell;\">height_policy&nbsp;=&nbsp;'auto',</div></div><div class=\"9737\" style=\"display: none;\"><div style=\"display: table-cell;\"></div><div style=\"display: table-cell;\">js_event_callbacks&nbsp;=&nbsp;{},</div></div><div class=\"9737\" style=\"display: none;\"><div style=\"display: table-cell;\"></div><div style=\"display: table-cell;\">js_property_callbacks&nbsp;=&nbsp;{},</div></div><div class=\"9737\" style=\"display: none;\"><div style=\"display: table-cell;\"></div><div style=\"display: table-cell;\">margin&nbsp;=&nbsp;(0, 0, 0, 0),</div></div><div class=\"9737\" style=\"display: none;\"><div style=\"display: table-cell;\"></div><div style=\"display: table-cell;\">max_height&nbsp;=&nbsp;None,</div></div><div class=\"9737\" style=\"display: none;\"><div style=\"display: table-cell;\"></div><div style=\"display: table-cell;\">max_width&nbsp;=&nbsp;None,</div></div><div class=\"9737\" style=\"display: none;\"><div style=\"display: table-cell;\"></div><div style=\"display: table-cell;\">min_height&nbsp;=&nbsp;None,</div></div><div class=\"9737\" style=\"display: none;\"><div style=\"display: table-cell;\"></div><div style=\"display: table-cell;\">min_width&nbsp;=&nbsp;None,</div></div><div class=\"9737\" style=\"display: none;\"><div style=\"display: table-cell;\"></div><div style=\"display: table-cell;\">name&nbsp;=&nbsp;None,</div></div><div class=\"9737\" style=\"display: none;\"><div style=\"display: table-cell;\"></div><div style=\"display: table-cell;\">sizing_mode&nbsp;=&nbsp;'stretch_width',</div></div><div class=\"9737\" style=\"display: none;\"><div style=\"display: table-cell;\"></div><div style=\"display: table-cell;\">spacing&nbsp;=&nbsp;0,</div></div><div class=\"9737\" style=\"display: none;\"><div style=\"display: table-cell;\"></div><div style=\"display: table-cell;\">subscribed_events&nbsp;=&nbsp;[],</div></div><div class=\"9737\" style=\"display: none;\"><div style=\"display: table-cell;\"></div><div style=\"display: table-cell;\">syncable&nbsp;=&nbsp;True,</div></div><div class=\"9737\" style=\"display: none;\"><div style=\"display: table-cell;\"></div><div style=\"display: table-cell;\">tags&nbsp;=&nbsp;[],</div></div><div class=\"9737\" style=\"display: none;\"><div style=\"display: table-cell;\"></div><div style=\"display: table-cell;\">visible&nbsp;=&nbsp;True,</div></div><div class=\"9737\" style=\"display: none;\"><div style=\"display: table-cell;\"></div><div style=\"display: table-cell;\">width&nbsp;=&nbsp;None,</div></div><div class=\"9737\" style=\"display: none;\"><div style=\"display: table-cell;\"></div><div style=\"display: table-cell;\">width_policy&nbsp;=&nbsp;'auto')</div></div></div>\n",
       "<script>\n",
       "(function() {\n",
       "  let expanded = false;\n",
       "  const ellipsis = document.getElementById(\"9738\");\n",
       "  ellipsis.addEventListener(\"click\", function() {\n",
       "    const rows = document.getElementsByClassName(\"9737\");\n",
       "    for (let i = 0; i < rows.length; i++) {\n",
       "      const el = rows[i];\n",
       "      el.style.display = expanded ? \"none\" : \"table-row\";\n",
       "    }\n",
       "    ellipsis.innerHTML = expanded ? \"&hellip;)\" : \"&lsaquo;&lsaquo;&lsaquo;\";\n",
       "    expanded = !expanded;\n",
       "  });\n",
       "})();\n",
       "</script>\n"
      ],
      "text/plain": [
       "Row(id='8539', ...)"
      ]
     },
     "execution_count": 50,
     "metadata": {},
     "output_type": "execute_result"
    }
   ],
   "source": [
    "bts[63].plot()"
   ]
  },
  {
   "cell_type": "code",
   "execution_count": null,
   "metadata": {},
   "outputs": [
    {
     "data": {
      "text/plain": [
       "False    73\n",
       "True     27\n",
       "Name: relative return, dtype: int64"
      ]
     },
     "execution_count": 51,
     "metadata": {},
     "output_type": "execute_result"
    }
   ],
   "source": [
    "(performance['relative return']>=0).value_counts()"
   ]
  },
  {
   "cell_type": "code",
   "execution_count": null,
   "metadata": {},
   "outputs": [
    {
     "data": {
      "text/plain": [
       "38.86051073152876"
      ]
     },
     "execution_count": 153,
     "metadata": {},
     "output_type": "execute_result"
    }
   ],
   "source": [
    "performance['Return [%]'].std()"
   ]
  },
  {
   "cell_type": "code",
   "execution_count": null,
   "metadata": {},
   "outputs": [
    {
     "data": {
      "text/plain": [
       "47.43390473719227"
      ]
     },
     "execution_count": 154,
     "metadata": {},
     "output_type": "execute_result"
    }
   ],
   "source": [
    "performance['Buy & Hold Return [%]'].std()"
   ]
  },
  {
   "cell_type": "code",
   "execution_count": null,
   "metadata": {},
   "outputs": [
    {
     "data": {
      "text/plain": [
       "19.761139856931546"
      ]
     },
     "execution_count": 152,
     "metadata": {},
     "output_type": "execute_result"
    }
   ],
   "source": [
    "performance['Return [%]'].mean()"
   ]
  },
  {
   "cell_type": "code",
   "execution_count": null,
   "metadata": {},
   "outputs": [
    {
     "data": {
      "text/plain": [
       "27.97100305549083"
      ]
     },
     "execution_count": 151,
     "metadata": {},
     "output_type": "execute_result"
    }
   ],
   "source": [
    "performance['Buy & Hold Return [%]'].mean()"
   ]
  },
  {
   "cell_type": "code",
   "execution_count": null,
   "metadata": {},
   "outputs": [
    {
     "data": {
      "text/plain": [
       "True     73\n",
       "False    27\n",
       "Name: Buy & Hold Return [%], dtype: int64"
      ]
     },
     "execution_count": 155,
     "metadata": {},
     "output_type": "execute_result"
    }
   ],
   "source": [
    "(performance['Buy & Hold Return [%]']>0).value_counts()"
   ]
  },
  {
   "cell_type": "code",
   "execution_count": null,
   "metadata": {},
   "outputs": [
    {
     "data": {
      "text/plain": [
       "True     72\n",
       "False    28\n",
       "Name: Return [%], dtype: int64"
      ]
     },
     "execution_count": 156,
     "metadata": {},
     "output_type": "execute_result"
    }
   ],
   "source": [
    "(performance['Return [%]']>0).value_counts()"
   ]
  },
  {
   "cell_type": "code",
   "execution_count": null,
   "metadata": {},
   "outputs": [
    {
     "data": {
      "text/plain": [
       "index\n",
       "0     87.179487\n",
       "1     87.037037\n",
       "2     87.132353\n",
       "3     87.226277\n",
       "4     87.272727\n",
       "        ...    \n",
       "95    86.666667\n",
       "96    87.272727\n",
       "97    87.179487\n",
       "98    86.861314\n",
       "99    87.132353\n",
       "Name: Exposure Time [%], Length: 100, dtype: object"
      ]
     },
     "execution_count": 58,
     "metadata": {},
     "output_type": "execute_result"
    }
   ],
   "source": [
    "performance['Exposure Time [%]']"
   ]
  },
  {
   "cell_type": "code",
   "execution_count": null,
   "metadata": {},
   "outputs": [
    {
     "ename": "NameError",
     "evalue": "name 'df' is not defined",
     "output_type": "error",
     "traceback": [
      "\u001b[1;31m---------------------------------------------------------------------------\u001b[0m",
      "\u001b[1;31mNameError\u001b[0m                                 Traceback (most recent call last)",
      "\u001b[1;32mc:\\Users\\USER\\OneDrive - 國立陽明交通大學\\文件\\academic\\大四上\\演化計算\\Project\\main.ipynb 儲存格 31\u001b[0m in \u001b[0;36m<cell line: 1>\u001b[1;34m()\u001b[0m\n\u001b[1;32m----> <a href='vscode-notebook-cell:/c%3A/Users/USER/OneDrive%20-%20%E5%9C%8B%E7%AB%8B%E9%99%BD%E6%98%8E%E4%BA%A4%E9%80%9A%E5%A4%A7%E5%AD%B8/%E6%96%87%E4%BB%B6/academic/%E5%A4%A7%E5%9B%9B%E4%B8%8A/%E6%BC%94%E5%8C%96%E8%A8%88%E7%AE%97/Project/main.ipynb#Y151sZmlsZQ%3D%3D?line=0'>1</a>\u001b[0m df\u001b[39m.\u001b[39mindex\n",
      "\u001b[1;31mNameError\u001b[0m: name 'df' is not defined"
     ]
    }
   ],
   "source": [
    "df.index"
   ]
  },
  {
   "cell_type": "code",
   "execution_count": null,
   "metadata": {},
   "outputs": [],
   "source": [
    "performance['Return [%]'] = pd.Series(performance['Return [%]'],dtype=float)"
   ]
  },
  {
   "cell_type": "code",
   "execution_count": null,
   "metadata": {},
   "outputs": [
    {
     "data": {
      "application/vnd.plotly.v1+json": {
       "config": {
        "plotlyServerURL": "https://plot.ly"
       },
       "data": [
        {
         "customdata": [
          [
           0
          ],
          [
           1
          ],
          [
           2
          ],
          [
           3
          ],
          [
           4
          ],
          [
           5
          ],
          [
           6
          ],
          [
           7
          ],
          [
           8
          ],
          [
           9
          ],
          [
           10
          ],
          [
           11
          ],
          [
           12
          ],
          [
           13
          ],
          [
           14
          ],
          [
           15
          ],
          [
           16
          ],
          [
           17
          ],
          [
           18
          ],
          [
           19
          ],
          [
           20
          ],
          [
           21
          ],
          [
           22
          ],
          [
           23
          ],
          [
           24
          ],
          [
           25
          ],
          [
           26
          ],
          [
           27
          ],
          [
           28
          ],
          [
           29
          ],
          [
           30
          ],
          [
           31
          ],
          [
           32
          ],
          [
           33
          ],
          [
           34
          ],
          [
           35
          ],
          [
           36
          ],
          [
           37
          ],
          [
           38
          ],
          [
           39
          ],
          [
           40
          ],
          [
           41
          ],
          [
           42
          ],
          [
           43
          ],
          [
           44
          ],
          [
           45
          ],
          [
           46
          ],
          [
           47
          ],
          [
           48
          ],
          [
           49
          ],
          [
           50
          ],
          [
           51
          ],
          [
           52
          ],
          [
           53
          ],
          [
           54
          ],
          [
           55
          ],
          [
           56
          ],
          [
           57
          ],
          [
           58
          ],
          [
           59
          ],
          [
           60
          ],
          [
           61
          ],
          [
           62
          ],
          [
           63
          ],
          [
           64
          ],
          [
           65
          ],
          [
           66
          ],
          [
           67
          ],
          [
           68
          ],
          [
           69
          ],
          [
           70
          ],
          [
           71
          ],
          [
           72
          ],
          [
           73
          ],
          [
           74
          ],
          [
           75
          ],
          [
           76
          ],
          [
           77
          ],
          [
           78
          ],
          [
           79
          ],
          [
           80
          ],
          [
           81
          ],
          [
           82
          ],
          [
           83
          ],
          [
           84
          ],
          [
           85
          ],
          [
           86
          ],
          [
           87
          ],
          [
           88
          ],
          [
           89
          ],
          [
           90
          ],
          [
           91
          ],
          [
           92
          ],
          [
           93
          ],
          [
           94
          ],
          [
           95
          ],
          [
           96
          ],
          [
           97
          ],
          [
           98
          ],
          [
           99
          ]
         ],
         "hovertemplate": "Buy & Hold Return [%]=%{x}<br>Return [%]=%{y}<br>index=%{customdata[0]}<extra></extra>",
         "legendgroup": "",
         "marker": {
          "color": "#636efa",
          "symbol": "circle"
         },
         "mode": "markers",
         "name": "",
         "orientation": "v",
         "showlegend": false,
         "type": "scatter",
         "x": [
          2.3227004606226145,
          -4.248463866278826,
          109.13990619515187,
          61.874993170301394,
          -1.3032195414574894,
          -13.103962372553859,
          22.990359379605703,
          74.07034646715907,
          8.197816317080987,
          53.37714223319821,
          10.816163102189225,
          63.66394340894179,
          10.467126845879562,
          69.76333013543399,
          42.643244428542104,
          5.78788269196195,
          -1.2904912204531094,
          -0.7354700126964709,
          69.56521093922473,
          11.376564080099442,
          77.3689753234708,
          -4.933116092459904,
          25.863561885346993,
          -29.432549714758018,
          1.5055826306218845,
          80.69061404295412,
          65.37293286213387,
          16.51951127256966,
          33.462368544711865,
          67.28639148284356,
          28.361402462610176,
          -12.677617603031974,
          -0.36726483705964896,
          277.2271117631962,
          11.567894767846369,
          11.81567574681828,
          -0.7394999015231093,
          -11.286272583092408,
          13.492627343377933,
          85.7122518300223,
          13.284059618577986,
          18.684405590471492,
          59.13796066114754,
          40.05430887332424,
          -30.784267965956623,
          4.406779003499453,
          92.4198293529061,
          -34.76959822083611,
          43.702045320383036,
          202.54156115194743,
          20.933655803488193,
          4.456395761861192,
          9.058153420315097,
          27.766154271782543,
          7.5695970124039,
          42.7496648604475,
          24.467582970345827,
          -14.041802432602152,
          37.13783569419217,
          -43.36171788763104,
          134.6281781645633,
          -10.422502653324962,
          24.44594920043304,
          -1.7738107272353654,
          -17.43711470925608,
          100.42732634882663,
          39.93775445167889,
          39.361403067020966,
          8.481673794891197,
          -10.057882925779019,
          60.40767246398738,
          34.5760860931157,
          42.8101066869531,
          -36.7243539416573,
          27.68777614138439,
          20.031328771034055,
          12.986707880855011,
          56.484459912208806,
          -29.677415069682795,
          69.36959041596968,
          107.38588693411599,
          91.96677557046634,
          -55.319148936170215,
          30.887210530148394,
          -18.901095547518885,
          27.092370688089858,
          -12.65537494072987,
          33.82277574947453,
          -13.736838251995968,
          -7.43264241939764,
          36.15034089897378,
          -8.666665213448661,
          20.777026930274094,
          24.24483668273927,
          1.6966852327512605,
          40.342860630580354,
          32.54269751033999,
          0.9985690804375964,
          11.90276327325958,
          30.860030852086247
         ],
         "xaxis": "x",
         "y": [
          13.674675718388007,
          -10.298343360031884,
          93.85838985843196,
          37.20450524124126,
          14.040579049399355,
          -13.373734396065526,
          9.135099136542529,
          33.57880489241565,
          10.09201848856504,
          45.526153577242255,
          10.302469956996921,
          68.08358658678361,
          3.2916025978782217,
          32.575474606590255,
          16.986697176217707,
          12.237283527809941,
          16.208876670051552,
          -13.151919118173232,
          31.257177549617758,
          4.167250798139163,
          46.17848759570923,
          -4.158895159671025,
          25.27732797480545,
          -29.53016449518433,
          -6.236934445093933,
          1.5337302802536172,
          70.52878337954864,
          12.153371988545242,
          3.3973837038635275,
          69.56917752605705,
          12.738701162760169,
          -26.468782323026275,
          -5.409639773878479,
          67.07877691716065,
          10.119480506448355,
          4.478293189678958,
          0.5851372350372258,
          -14.969261708807386,
          19.79642245728071,
          31.423246660937533,
          18.634869900124286,
          9.12315771674493,
          47.37047658103181,
          37.52057500999143,
          -28.125994209514616,
          -2.4399513416633827,
          80.94243200130929,
          -22.082385700108727,
          50.35772648068888,
          219.4081720841151,
          22.32789653620529,
          8.345078624805854,
          1.6515165591682541,
          26.956972989266927,
          17.037094819351193,
          4.461879808820342,
          -9.924559091123216,
          -3.005638518376532,
          19.97069768558722,
          -15.625204498229605,
          182.00824054760946,
          -8.526728226074228,
          17.767650272482356,
          -0.10005886390381492,
          -21.02586808233948,
          84.44478209542844,
          57.61236722240143,
          16.754453966699238,
          1.6739764600112919,
          43.94810543901021,
          37.174034773529065,
          3.496440366090392,
          9.116401574723795,
          -34.6123328824951,
          56.18897008445435,
          24.86435893326185,
          -14.797622304277064,
          26.435528275601218,
          -31.623320775184656,
          72.11814986852491,
          20.02635015089591,
          98.25803403587041,
          -47.55564859235555,
          22.31550647185517,
          -8.96471910109293,
          14.994024460031138,
          -5.96674904122313,
          27.938132699490335,
          -9.144091260128771,
          5.2833519992767375,
          32.52661686723023,
          -10.145801236883948,
          22.022040264709457,
          20.657207668390264,
          -1.8161433118285726,
          17.65841470807076,
          63.75842321916463,
          -9.162632139994017,
          7.86945641919705,
          6.2585779982662055
         ],
         "yaxis": "y"
        },
        {
         "alignmentgroup": "True",
         "bingroup": "x",
         "hovertemplate": "Buy & Hold Return [%]=%{x}<br>count=%{y}<extra></extra>",
         "legendgroup": "",
         "marker": {
          "color": "#636efa"
         },
         "name": "",
         "offsetgroup": "",
         "opacity": 0.5,
         "showlegend": false,
         "type": "histogram",
         "x": [
          2.3227004606226145,
          -4.248463866278826,
          109.13990619515187,
          61.874993170301394,
          -1.3032195414574894,
          -13.103962372553859,
          22.990359379605703,
          74.07034646715907,
          8.197816317080987,
          53.37714223319821,
          10.816163102189225,
          63.66394340894179,
          10.467126845879562,
          69.76333013543399,
          42.643244428542104,
          5.78788269196195,
          -1.2904912204531094,
          -0.7354700126964709,
          69.56521093922473,
          11.376564080099442,
          77.3689753234708,
          -4.933116092459904,
          25.863561885346993,
          -29.432549714758018,
          1.5055826306218845,
          80.69061404295412,
          65.37293286213387,
          16.51951127256966,
          33.462368544711865,
          67.28639148284356,
          28.361402462610176,
          -12.677617603031974,
          -0.36726483705964896,
          277.2271117631962,
          11.567894767846369,
          11.81567574681828,
          -0.7394999015231093,
          -11.286272583092408,
          13.492627343377933,
          85.7122518300223,
          13.284059618577986,
          18.684405590471492,
          59.13796066114754,
          40.05430887332424,
          -30.784267965956623,
          4.406779003499453,
          92.4198293529061,
          -34.76959822083611,
          43.702045320383036,
          202.54156115194743,
          20.933655803488193,
          4.456395761861192,
          9.058153420315097,
          27.766154271782543,
          7.5695970124039,
          42.7496648604475,
          24.467582970345827,
          -14.041802432602152,
          37.13783569419217,
          -43.36171788763104,
          134.6281781645633,
          -10.422502653324962,
          24.44594920043304,
          -1.7738107272353654,
          -17.43711470925608,
          100.42732634882663,
          39.93775445167889,
          39.361403067020966,
          8.481673794891197,
          -10.057882925779019,
          60.40767246398738,
          34.5760860931157,
          42.8101066869531,
          -36.7243539416573,
          27.68777614138439,
          20.031328771034055,
          12.986707880855011,
          56.484459912208806,
          -29.677415069682795,
          69.36959041596968,
          107.38588693411599,
          91.96677557046634,
          -55.319148936170215,
          30.887210530148394,
          -18.901095547518885,
          27.092370688089858,
          -12.65537494072987,
          33.82277574947453,
          -13.736838251995968,
          -7.43264241939764,
          36.15034089897378,
          -8.666665213448661,
          20.777026930274094,
          24.24483668273927,
          1.6966852327512605,
          40.342860630580354,
          32.54269751033999,
          0.9985690804375964,
          11.90276327325958,
          30.860030852086247
         ],
         "xaxis": "x3",
         "yaxis": "y3"
        },
        {
         "alignmentgroup": "True",
         "bingroup": "y",
         "hovertemplate": "Return [%]=%{y}<br>count=%{x}<extra></extra>",
         "legendgroup": "",
         "marker": {
          "color": "#636efa"
         },
         "name": "",
         "offsetgroup": "",
         "opacity": 0.5,
         "showlegend": false,
         "type": "histogram",
         "xaxis": "x2",
         "y": [
          13.674675718388007,
          -10.298343360031884,
          93.85838985843196,
          37.20450524124126,
          14.040579049399355,
          -13.373734396065526,
          9.135099136542529,
          33.57880489241565,
          10.09201848856504,
          45.526153577242255,
          10.302469956996921,
          68.08358658678361,
          3.2916025978782217,
          32.575474606590255,
          16.986697176217707,
          12.237283527809941,
          16.208876670051552,
          -13.151919118173232,
          31.257177549617758,
          4.167250798139163,
          46.17848759570923,
          -4.158895159671025,
          25.27732797480545,
          -29.53016449518433,
          -6.236934445093933,
          1.5337302802536172,
          70.52878337954864,
          12.153371988545242,
          3.3973837038635275,
          69.56917752605705,
          12.738701162760169,
          -26.468782323026275,
          -5.409639773878479,
          67.07877691716065,
          10.119480506448355,
          4.478293189678958,
          0.5851372350372258,
          -14.969261708807386,
          19.79642245728071,
          31.423246660937533,
          18.634869900124286,
          9.12315771674493,
          47.37047658103181,
          37.52057500999143,
          -28.125994209514616,
          -2.4399513416633827,
          80.94243200130929,
          -22.082385700108727,
          50.35772648068888,
          219.4081720841151,
          22.32789653620529,
          8.345078624805854,
          1.6515165591682541,
          26.956972989266927,
          17.037094819351193,
          4.461879808820342,
          -9.924559091123216,
          -3.005638518376532,
          19.97069768558722,
          -15.625204498229605,
          182.00824054760946,
          -8.526728226074228,
          17.767650272482356,
          -0.10005886390381492,
          -21.02586808233948,
          84.44478209542844,
          57.61236722240143,
          16.754453966699238,
          1.6739764600112919,
          43.94810543901021,
          37.174034773529065,
          3.496440366090392,
          9.116401574723795,
          -34.6123328824951,
          56.18897008445435,
          24.86435893326185,
          -14.797622304277064,
          26.435528275601218,
          -31.623320775184656,
          72.11814986852491,
          20.02635015089591,
          98.25803403587041,
          -47.55564859235555,
          22.31550647185517,
          -8.96471910109293,
          14.994024460031138,
          -5.96674904122313,
          27.938132699490335,
          -9.144091260128771,
          5.2833519992767375,
          32.52661686723023,
          -10.145801236883948,
          22.022040264709457,
          20.657207668390264,
          -1.8161433118285726,
          17.65841470807076,
          63.75842321916463,
          -9.162632139994017,
          7.86945641919705,
          6.2585779982662055
         ],
         "yaxis": "y2"
        },
        {
         "hovertemplate": "<b>OLS trendline</b><br>Return [%] = 0.648177 * Buy & Hold Return [%] + 1.63097<br>R<sup>2</sup>=0.625962<br><br>Buy & Hold Return [%]=%{x}<br>Return [%]=%{y} <b>(trend)</b><extra></extra>",
         "legendgroup": "",
         "marker": {
          "color": "#636efa",
          "symbol": "circle"
         },
         "mode": "lines",
         "name": "",
         "showlegend": false,
         "type": "scatter",
         "x": [
          -55.319148936170215,
          -43.36171788763104,
          -36.7243539416573,
          -34.76959822083611,
          -30.784267965956623,
          -29.677415069682795,
          -29.432549714758018,
          -18.901095547518885,
          -17.43711470925608,
          -14.041802432602152,
          -13.736838251995968,
          -13.103962372553859,
          -12.677617603031974,
          -12.65537494072987,
          -11.286272583092408,
          -10.422502653324962,
          -10.057882925779019,
          -8.666665213448661,
          -7.43264241939764,
          -4.933116092459904,
          -4.248463866278826,
          -1.7738107272353654,
          -1.3032195414574894,
          -1.2904912204531094,
          -0.7394999015231093,
          -0.7354700126964709,
          -0.36726483705964896,
          0.9985690804375964,
          1.5055826306218845,
          1.6966852327512605,
          2.3227004606226145,
          4.406779003499453,
          4.456395761861192,
          5.78788269196195,
          7.5695970124039,
          8.197816317080987,
          8.481673794891197,
          9.058153420315097,
          10.467126845879562,
          10.816163102189225,
          11.376564080099442,
          11.567894767846369,
          11.81567574681828,
          11.90276327325958,
          12.986707880855011,
          13.284059618577986,
          13.492627343377933,
          16.51951127256966,
          18.684405590471492,
          20.031328771034055,
          20.777026930274094,
          20.933655803488193,
          22.990359379605703,
          24.24483668273927,
          24.44594920043304,
          24.467582970345827,
          25.863561885346993,
          27.092370688089858,
          27.68777614138439,
          27.766154271782543,
          28.361402462610176,
          30.860030852086247,
          30.887210530148394,
          32.54269751033999,
          33.462368544711865,
          33.82277574947453,
          34.5760860931157,
          36.15034089897378,
          37.13783569419217,
          39.361403067020966,
          39.93775445167889,
          40.05430887332424,
          40.342860630580354,
          42.643244428542104,
          42.7496648604475,
          42.8101066869531,
          43.702045320383036,
          53.37714223319821,
          56.484459912208806,
          59.13796066114754,
          60.40767246398738,
          61.874993170301394,
          63.66394340894179,
          65.37293286213387,
          67.28639148284356,
          69.36959041596968,
          69.56521093922473,
          69.76333013543399,
          74.07034646715907,
          77.3689753234708,
          80.69061404295412,
          85.7122518300223,
          91.96677557046634,
          92.4198293529061,
          100.42732634882663,
          107.38588693411599,
          109.13990619515187,
          134.6281781645633,
          202.54156115194743,
          277.2271117631962
         ],
         "xaxis": "x",
         "y": [
          -34.2256332582189,
          -26.475099712282137,
          -22.172912084267725,
          -20.905884097500675,
          -18.322684101891774,
          -17.605247349117388,
          -17.44653122189255,
          -10.620283302975693,
          -9.671364379546006,
          -7.470600553912063,
          -7.272929741301682,
          -6.862714059177423,
          -6.586367122707508,
          -6.571949937308436,
          -5.68452907678952,
          -5.124653147799579,
          -4.8883149729538715,
          -3.986559444918848,
          -3.186694070582316,
          -1.5665582264162117,
          -1.122782299565686,
          0.48123131262714525,
          0.7862577649635921,
          0.794507971761979,
          1.1516479530465562,
          1.154260034890095,
          1.392922215251099,
          2.2782245475638483,
          2.6068591441587325,
          2.730727483646292,
          3.136496248206881,
          4.487348332853214,
          4.519508781745811,
          5.382548181749963,
          6.537414687256454,
          6.944612084033387,
          7.128602014236816,
          7.502262933313815,
          8.415527308900987,
          8.641764633815917,
          9.005003741015246,
          9.129019920387726,
          9.289625888490004,
          9.346074032943106,
          10.048662156512673,
          10.241398757611123,
          10.376587590488331,
          12.33854458088414,
          13.741779604042055,
          14.614824428835366,
          15.09816893442959,
          15.199692190652463,
          16.532800447437626,
          17.34592396712046,
          17.476280505123146,
          17.490303020390304,
          18.39514465119015,
          19.191630435514575,
          19.57755864371083,
          19.62836155668208,
          20.014187830941164,
          21.63374165256492,
          21.651358898755454,
          22.7244077269487,
          23.320517474451396,
          23.554125188296553,
          24.042403737860536,
          25.06279972702627,
          25.702871286352813,
          27.144136842875966,
          27.51771463921911,
          27.59326255174501,
          27.78029520660826,
          29.271351414438964,
          29.340330706404576,
          29.379507717085858,
          29.957641956058556,
          36.22881867274339,
          38.24291098164248,
          39.96284952741653,
          40.78584770165934,
          41.73693145123478,
          42.89648811355715,
          44.004216022072704,
          45.244476172298214,
          46.5947581140056,
          46.72155486672007,
          46.84997120214201,
          49.641680761363,
          51.77977660340948,
          53.93278691292601,
          57.187697768462186,
          61.24173712418916,
          61.535396232459064,
          66.72567279219318,
          71.23605274159773,
          72.37296794250442,
          88.89388335694179,
          132.91378620439133,
          181.32325334323457
         ],
         "yaxis": "y"
        }
       ],
       "layout": {
        "barmode": "overlay",
        "legend": {
         "tracegroupgap": 0
        },
        "margin": {
         "t": 60
        },
        "template": {
         "data": {
          "bar": [
           {
            "error_x": {
             "color": "#2a3f5f"
            },
            "error_y": {
             "color": "#2a3f5f"
            },
            "marker": {
             "line": {
              "color": "#E5ECF6",
              "width": 0.5
             },
             "pattern": {
              "fillmode": "overlay",
              "size": 10,
              "solidity": 0.2
             }
            },
            "type": "bar"
           }
          ],
          "barpolar": [
           {
            "marker": {
             "line": {
              "color": "#E5ECF6",
              "width": 0.5
             },
             "pattern": {
              "fillmode": "overlay",
              "size": 10,
              "solidity": 0.2
             }
            },
            "type": "barpolar"
           }
          ],
          "carpet": [
           {
            "aaxis": {
             "endlinecolor": "#2a3f5f",
             "gridcolor": "white",
             "linecolor": "white",
             "minorgridcolor": "white",
             "startlinecolor": "#2a3f5f"
            },
            "baxis": {
             "endlinecolor": "#2a3f5f",
             "gridcolor": "white",
             "linecolor": "white",
             "minorgridcolor": "white",
             "startlinecolor": "#2a3f5f"
            },
            "type": "carpet"
           }
          ],
          "choropleth": [
           {
            "colorbar": {
             "outlinewidth": 0,
             "ticks": ""
            },
            "type": "choropleth"
           }
          ],
          "contour": [
           {
            "colorbar": {
             "outlinewidth": 0,
             "ticks": ""
            },
            "colorscale": [
             [
              0,
              "#0d0887"
             ],
             [
              0.1111111111111111,
              "#46039f"
             ],
             [
              0.2222222222222222,
              "#7201a8"
             ],
             [
              0.3333333333333333,
              "#9c179e"
             ],
             [
              0.4444444444444444,
              "#bd3786"
             ],
             [
              0.5555555555555556,
              "#d8576b"
             ],
             [
              0.6666666666666666,
              "#ed7953"
             ],
             [
              0.7777777777777778,
              "#fb9f3a"
             ],
             [
              0.8888888888888888,
              "#fdca26"
             ],
             [
              1,
              "#f0f921"
             ]
            ],
            "type": "contour"
           }
          ],
          "contourcarpet": [
           {
            "colorbar": {
             "outlinewidth": 0,
             "ticks": ""
            },
            "type": "contourcarpet"
           }
          ],
          "heatmap": [
           {
            "colorbar": {
             "outlinewidth": 0,
             "ticks": ""
            },
            "colorscale": [
             [
              0,
              "#0d0887"
             ],
             [
              0.1111111111111111,
              "#46039f"
             ],
             [
              0.2222222222222222,
              "#7201a8"
             ],
             [
              0.3333333333333333,
              "#9c179e"
             ],
             [
              0.4444444444444444,
              "#bd3786"
             ],
             [
              0.5555555555555556,
              "#d8576b"
             ],
             [
              0.6666666666666666,
              "#ed7953"
             ],
             [
              0.7777777777777778,
              "#fb9f3a"
             ],
             [
              0.8888888888888888,
              "#fdca26"
             ],
             [
              1,
              "#f0f921"
             ]
            ],
            "type": "heatmap"
           }
          ],
          "heatmapgl": [
           {
            "colorbar": {
             "outlinewidth": 0,
             "ticks": ""
            },
            "colorscale": [
             [
              0,
              "#0d0887"
             ],
             [
              0.1111111111111111,
              "#46039f"
             ],
             [
              0.2222222222222222,
              "#7201a8"
             ],
             [
              0.3333333333333333,
              "#9c179e"
             ],
             [
              0.4444444444444444,
              "#bd3786"
             ],
             [
              0.5555555555555556,
              "#d8576b"
             ],
             [
              0.6666666666666666,
              "#ed7953"
             ],
             [
              0.7777777777777778,
              "#fb9f3a"
             ],
             [
              0.8888888888888888,
              "#fdca26"
             ],
             [
              1,
              "#f0f921"
             ]
            ],
            "type": "heatmapgl"
           }
          ],
          "histogram": [
           {
            "marker": {
             "pattern": {
              "fillmode": "overlay",
              "size": 10,
              "solidity": 0.2
             }
            },
            "type": "histogram"
           }
          ],
          "histogram2d": [
           {
            "colorbar": {
             "outlinewidth": 0,
             "ticks": ""
            },
            "colorscale": [
             [
              0,
              "#0d0887"
             ],
             [
              0.1111111111111111,
              "#46039f"
             ],
             [
              0.2222222222222222,
              "#7201a8"
             ],
             [
              0.3333333333333333,
              "#9c179e"
             ],
             [
              0.4444444444444444,
              "#bd3786"
             ],
             [
              0.5555555555555556,
              "#d8576b"
             ],
             [
              0.6666666666666666,
              "#ed7953"
             ],
             [
              0.7777777777777778,
              "#fb9f3a"
             ],
             [
              0.8888888888888888,
              "#fdca26"
             ],
             [
              1,
              "#f0f921"
             ]
            ],
            "type": "histogram2d"
           }
          ],
          "histogram2dcontour": [
           {
            "colorbar": {
             "outlinewidth": 0,
             "ticks": ""
            },
            "colorscale": [
             [
              0,
              "#0d0887"
             ],
             [
              0.1111111111111111,
              "#46039f"
             ],
             [
              0.2222222222222222,
              "#7201a8"
             ],
             [
              0.3333333333333333,
              "#9c179e"
             ],
             [
              0.4444444444444444,
              "#bd3786"
             ],
             [
              0.5555555555555556,
              "#d8576b"
             ],
             [
              0.6666666666666666,
              "#ed7953"
             ],
             [
              0.7777777777777778,
              "#fb9f3a"
             ],
             [
              0.8888888888888888,
              "#fdca26"
             ],
             [
              1,
              "#f0f921"
             ]
            ],
            "type": "histogram2dcontour"
           }
          ],
          "mesh3d": [
           {
            "colorbar": {
             "outlinewidth": 0,
             "ticks": ""
            },
            "type": "mesh3d"
           }
          ],
          "parcoords": [
           {
            "line": {
             "colorbar": {
              "outlinewidth": 0,
              "ticks": ""
             }
            },
            "type": "parcoords"
           }
          ],
          "pie": [
           {
            "automargin": true,
            "type": "pie"
           }
          ],
          "scatter": [
           {
            "fillpattern": {
             "fillmode": "overlay",
             "size": 10,
             "solidity": 0.2
            },
            "type": "scatter"
           }
          ],
          "scatter3d": [
           {
            "line": {
             "colorbar": {
              "outlinewidth": 0,
              "ticks": ""
             }
            },
            "marker": {
             "colorbar": {
              "outlinewidth": 0,
              "ticks": ""
             }
            },
            "type": "scatter3d"
           }
          ],
          "scattercarpet": [
           {
            "marker": {
             "colorbar": {
              "outlinewidth": 0,
              "ticks": ""
             }
            },
            "type": "scattercarpet"
           }
          ],
          "scattergeo": [
           {
            "marker": {
             "colorbar": {
              "outlinewidth": 0,
              "ticks": ""
             }
            },
            "type": "scattergeo"
           }
          ],
          "scattergl": [
           {
            "marker": {
             "colorbar": {
              "outlinewidth": 0,
              "ticks": ""
             }
            },
            "type": "scattergl"
           }
          ],
          "scattermapbox": [
           {
            "marker": {
             "colorbar": {
              "outlinewidth": 0,
              "ticks": ""
             }
            },
            "type": "scattermapbox"
           }
          ],
          "scatterpolar": [
           {
            "marker": {
             "colorbar": {
              "outlinewidth": 0,
              "ticks": ""
             }
            },
            "type": "scatterpolar"
           }
          ],
          "scatterpolargl": [
           {
            "marker": {
             "colorbar": {
              "outlinewidth": 0,
              "ticks": ""
             }
            },
            "type": "scatterpolargl"
           }
          ],
          "scatterternary": [
           {
            "marker": {
             "colorbar": {
              "outlinewidth": 0,
              "ticks": ""
             }
            },
            "type": "scatterternary"
           }
          ],
          "surface": [
           {
            "colorbar": {
             "outlinewidth": 0,
             "ticks": ""
            },
            "colorscale": [
             [
              0,
              "#0d0887"
             ],
             [
              0.1111111111111111,
              "#46039f"
             ],
             [
              0.2222222222222222,
              "#7201a8"
             ],
             [
              0.3333333333333333,
              "#9c179e"
             ],
             [
              0.4444444444444444,
              "#bd3786"
             ],
             [
              0.5555555555555556,
              "#d8576b"
             ],
             [
              0.6666666666666666,
              "#ed7953"
             ],
             [
              0.7777777777777778,
              "#fb9f3a"
             ],
             [
              0.8888888888888888,
              "#fdca26"
             ],
             [
              1,
              "#f0f921"
             ]
            ],
            "type": "surface"
           }
          ],
          "table": [
           {
            "cells": {
             "fill": {
              "color": "#EBF0F8"
             },
             "line": {
              "color": "white"
             }
            },
            "header": {
             "fill": {
              "color": "#C8D4E3"
             },
             "line": {
              "color": "white"
             }
            },
            "type": "table"
           }
          ]
         },
         "layout": {
          "annotationdefaults": {
           "arrowcolor": "#2a3f5f",
           "arrowhead": 0,
           "arrowwidth": 1
          },
          "autotypenumbers": "strict",
          "coloraxis": {
           "colorbar": {
            "outlinewidth": 0,
            "ticks": ""
           }
          },
          "colorscale": {
           "diverging": [
            [
             0,
             "#8e0152"
            ],
            [
             0.1,
             "#c51b7d"
            ],
            [
             0.2,
             "#de77ae"
            ],
            [
             0.3,
             "#f1b6da"
            ],
            [
             0.4,
             "#fde0ef"
            ],
            [
             0.5,
             "#f7f7f7"
            ],
            [
             0.6,
             "#e6f5d0"
            ],
            [
             0.7,
             "#b8e186"
            ],
            [
             0.8,
             "#7fbc41"
            ],
            [
             0.9,
             "#4d9221"
            ],
            [
             1,
             "#276419"
            ]
           ],
           "sequential": [
            [
             0,
             "#0d0887"
            ],
            [
             0.1111111111111111,
             "#46039f"
            ],
            [
             0.2222222222222222,
             "#7201a8"
            ],
            [
             0.3333333333333333,
             "#9c179e"
            ],
            [
             0.4444444444444444,
             "#bd3786"
            ],
            [
             0.5555555555555556,
             "#d8576b"
            ],
            [
             0.6666666666666666,
             "#ed7953"
            ],
            [
             0.7777777777777778,
             "#fb9f3a"
            ],
            [
             0.8888888888888888,
             "#fdca26"
            ],
            [
             1,
             "#f0f921"
            ]
           ],
           "sequentialminus": [
            [
             0,
             "#0d0887"
            ],
            [
             0.1111111111111111,
             "#46039f"
            ],
            [
             0.2222222222222222,
             "#7201a8"
            ],
            [
             0.3333333333333333,
             "#9c179e"
            ],
            [
             0.4444444444444444,
             "#bd3786"
            ],
            [
             0.5555555555555556,
             "#d8576b"
            ],
            [
             0.6666666666666666,
             "#ed7953"
            ],
            [
             0.7777777777777778,
             "#fb9f3a"
            ],
            [
             0.8888888888888888,
             "#fdca26"
            ],
            [
             1,
             "#f0f921"
            ]
           ]
          },
          "colorway": [
           "#636efa",
           "#EF553B",
           "#00cc96",
           "#ab63fa",
           "#FFA15A",
           "#19d3f3",
           "#FF6692",
           "#B6E880",
           "#FF97FF",
           "#FECB52"
          ],
          "font": {
           "color": "#2a3f5f"
          },
          "geo": {
           "bgcolor": "white",
           "lakecolor": "white",
           "landcolor": "#E5ECF6",
           "showlakes": true,
           "showland": true,
           "subunitcolor": "white"
          },
          "hoverlabel": {
           "align": "left"
          },
          "hovermode": "closest",
          "mapbox": {
           "style": "light"
          },
          "paper_bgcolor": "white",
          "plot_bgcolor": "#E5ECF6",
          "polar": {
           "angularaxis": {
            "gridcolor": "white",
            "linecolor": "white",
            "ticks": ""
           },
           "bgcolor": "#E5ECF6",
           "radialaxis": {
            "gridcolor": "white",
            "linecolor": "white",
            "ticks": ""
           }
          },
          "scene": {
           "xaxis": {
            "backgroundcolor": "#E5ECF6",
            "gridcolor": "white",
            "gridwidth": 2,
            "linecolor": "white",
            "showbackground": true,
            "ticks": "",
            "zerolinecolor": "white"
           },
           "yaxis": {
            "backgroundcolor": "#E5ECF6",
            "gridcolor": "white",
            "gridwidth": 2,
            "linecolor": "white",
            "showbackground": true,
            "ticks": "",
            "zerolinecolor": "white"
           },
           "zaxis": {
            "backgroundcolor": "#E5ECF6",
            "gridcolor": "white",
            "gridwidth": 2,
            "linecolor": "white",
            "showbackground": true,
            "ticks": "",
            "zerolinecolor": "white"
           }
          },
          "shapedefaults": {
           "line": {
            "color": "#2a3f5f"
           }
          },
          "ternary": {
           "aaxis": {
            "gridcolor": "white",
            "linecolor": "white",
            "ticks": ""
           },
           "baxis": {
            "gridcolor": "white",
            "linecolor": "white",
            "ticks": ""
           },
           "bgcolor": "#E5ECF6",
           "caxis": {
            "gridcolor": "white",
            "linecolor": "white",
            "ticks": ""
           }
          },
          "title": {
           "x": 0.05
          },
          "xaxis": {
           "automargin": true,
           "gridcolor": "white",
           "linecolor": "white",
           "ticks": "",
           "title": {
            "standoff": 15
           },
           "zerolinecolor": "white",
           "zerolinewidth": 2
          },
          "yaxis": {
           "automargin": true,
           "gridcolor": "white",
           "linecolor": "white",
           "ticks": "",
           "title": {
            "standoff": 15
           },
           "zerolinecolor": "white",
           "zerolinewidth": 2
          }
         }
        },
        "xaxis": {
         "anchor": "y",
         "domain": [
          0,
          0.7363
         ],
         "title": {
          "text": "Buy & Hold Return [%]"
         }
        },
        "xaxis2": {
         "anchor": "y2",
         "domain": [
          0.7413,
          1
         ],
         "matches": "x2",
         "showgrid": true,
         "showline": false,
         "showticklabels": false,
         "ticks": ""
        },
        "xaxis3": {
         "anchor": "y3",
         "domain": [
          0,
          0.7363
         ],
         "matches": "x",
         "showgrid": true,
         "showticklabels": false
        },
        "xaxis4": {
         "anchor": "y4",
         "domain": [
          0.7413,
          1
         ],
         "matches": "x2",
         "showgrid": true,
         "showline": false,
         "showticklabels": false,
         "ticks": ""
        },
        "yaxis": {
         "anchor": "x",
         "domain": [
          0,
          0.7326
         ],
         "title": {
          "text": "Return [%]"
         }
        },
        "yaxis2": {
         "anchor": "x2",
         "domain": [
          0,
          0.7326
         ],
         "matches": "y",
         "showgrid": true,
         "showticklabels": false
        },
        "yaxis3": {
         "anchor": "x3",
         "domain": [
          0.7426,
          1
         ],
         "matches": "y3",
         "showgrid": true,
         "showline": false,
         "showticklabels": false,
         "ticks": ""
        },
        "yaxis4": {
         "anchor": "x4",
         "domain": [
          0.7426,
          1
         ],
         "matches": "y3",
         "showgrid": true,
         "showline": false,
         "showticklabels": false,
         "ticks": ""
        }
       }
      }
     },
     "metadata": {},
     "output_type": "display_data"
    }
   ],
   "source": [
    "import plotly.express as px\n",
    "fig = px.scatter(performance,x='Buy & Hold Return [%]',y= 'Return [%]', marginal_x='histogram', marginal_y='histogram',range_color=[-50,50],color_continuous_scale=[\"red\", \"white\", \"green\"], trendline=\"ols\",hover_data=[performance.index])\n",
    "\n",
    "fig.show()\n",
    "fig.write_html(r'checkpoint\\VERY_GOOD\\graph\\relative_return.html')"
   ]
  },
  {
   "cell_type": "code",
   "execution_count": null,
   "metadata": {},
   "outputs": [
    {
     "data": {
      "application/vnd.plotly.v1+json": {
       "config": {
        "plotlyServerURL": "https://plot.ly"
       },
       "data": [
        {
         "hovertemplate": "# Trades=%{x}<br>Return [%]=%{y}<br>relative return=%{marker.color}<extra></extra>",
         "legendgroup": "",
         "marker": {
          "color": [
           -149.9599773154324,
           -25.508853403923194,
           18.855622590479438,
           7.046517006627887,
           26.584044754351844,
           -18.223127144248227,
           -51.785736000484334,
           -5.189698662941438,
           -65.69073390721157,
           -9.98839902182165,
           8.855556188389961,
           -23.795637360970613,
           -9.418173419322892,
           3.6192687918664492,
           -23.580033145113788,
           -30.12129566806221,
           1.1852393361577072,
           -62.36006071426719,
           -26.169604073178405,
           -35.518282596383784,
           -0.18910332519898887,
           -9.00343469108643,
           -14.6444589585757,
           -30.27370460190011,
           -20.792237982372484,
           19.149683418961327,
           -37.28193359758475,
           -67.0669623199297,
           48.547923108567815,
           -3.799038370237618,
           -11.801600820702564,
           8.369895591158992,
           -14.519314768248872,
           -40.58631958508025,
           -7.611099421181345,
           -25.067813082082964,
           2.062003483818579,
           -6.177761605890673,
           -23.473657202570873,
           -52.35002730831276,
           -54.955452386786405,
           -14.473844400899651,
           -11.007986802406576,
           -18.788450496490835,
           -17.4511121434098,
           -5.393478053614249,
           -23.88341524563819,
           -10.464464332965019,
           4.705886927806205,
           0.8957068008804336,
           8.571839574820869,
           24.452451086585388,
           -35.230775739741055,
           -15.337867572533522,
           -49.23304300507301,
           -10.5232060625302,
           -8.071158521973256,
           -31.388626214328397,
           8.546854874218083,
           25.23793967084699,
           -39.22186643424305,
           13.333342640500462,
           -21.82334761866744,
           4.108482704362693,
           4.611476372841839,
           -38.44598704876553,
           18.717073690615187,
           -50.51690764871906,
           -0.11286885788486423,
           -2.7277659007253305,
           -12.663203137572605,
           -16.809948683755266,
           -19.352752010426993,
           -41.88964782356558,
           -25.35220249574152,
           15.471042861455814,
           -98.10108832544363,
           -20.479230502684867,
           23.771454405015007,
           -8.377660108882203,
           11.860765272821546,
           -19.304501118762552,
           -18.510640386713455,
           -15.339207356138276,
           3.3366504496518914,
           -17.539401549767614,
           -10.865012086797465,
           16.555564372630002,
           1.5249564329749248,
           -23.05764674881253,
           46.86181141188175,
           -29.667359907752925,
           -26.677609566613604,
           -14.238627959152705,
           -25.086228183318454,
           -1.8842307889729208,
           -42.03724847948372,
           -22.568922178244055,
           -16.029221395741608,
           -28.07841552067231
          ],
          "coloraxis": "coloraxis",
          "symbol": "circle"
         },
         "mode": "markers",
         "name": "",
         "orientation": "v",
         "showlegend": false,
         "type": "scatter",
         "x": [
          21,
          33,
          27,
          34,
          20,
          29,
          31,
          23,
          19,
          25,
          32,
          21,
          25,
          27,
          29,
          29,
          27,
          27,
          25,
          35,
          35,
          41,
          21,
          21,
          19,
          19,
          17,
          19,
          27,
          29,
          33,
          43,
          27,
          21,
          41,
          21,
          25,
          15,
          23,
          32,
          25,
          27,
          30,
          27,
          32,
          31,
          9,
          21,
          14,
          31,
          32,
          25,
          33,
          22,
          19,
          27,
          26,
          21,
          33,
          27,
          23,
          35,
          17,
          35,
          35,
          25,
          22,
          27,
          32,
          20,
          29,
          35,
          31,
          17,
          23,
          32,
          23,
          27,
          29,
          39,
          37,
          18,
          22,
          27,
          24,
          21,
          21,
          28,
          25,
          21,
          32,
          19,
          25,
          41,
          20,
          41,
          21,
          25,
          30,
          14
         ],
         "xaxis": "x",
         "y": [
          79.6632146286346,
          -26.326880966134624,
          -9.703071645335015,
          -50.07488766513962,
          74.07649143084414,
          -8.834618408736027,
          -17.208125668310732,
          -6.294506738356792,
          2.721039301354403,
          -12.287761330351268,
          15.773535138339993,
          14.038776339666779,
          4.01482351189272,
          7.41630161044388,
          -3.6595943562645,
          -21.192720921978005,
          -34.564846376634975,
          -23.386483695181692,
          27.746365390779054,
          -25.350821492644936,
          -9.109296256945061,
          -40.693110448716716,
          16.090837403010926,
          27.213910655437086,
          32.367644756753556,
          18.705564850492102,
          -10.52197643716815,
          41.06556738957521,
          -1.9216162619014852,
          16.12073109097136,
          -9.624248358006671,
          -6.680272144955467,
          -29.23741826834107,
          14.583233177151483,
          -9.757241898664494,
          8.769838266264344,
          19.709061309669305,
          35.30661816248091,
          0.9218517628715722,
          16.30294187390066,
          1.1322767703926075,
          24.83747696859436,
          -9.510962385858154,
          27.531069859822093,
          -1.432672502924362,
          -22.28760197464904,
          37.27002497917179,
          12.797021140236616,
          88.90398990771445,
          -3.5745749946029504,
          1.9268685037186137,
          19.050741945709987,
          2.599008897060808,
          17.822579537174942,
          -16.105495571894025,
          -12.181640793536324,
          -15.546564355733503,
          -6.569668951432779,
          -2.401530345196498,
          -28.528377028135687,
          19.782380346373564,
          -35.205308442556785,
          14.455138029572275,
          -0.5568883259979542,
          8.584579027367385,
          -8.24019321018526,
          6.8920384263336185,
          -7.211255779923266,
          -13.521956203833046,
          37.32369325371396,
          -9.309801004840818,
          2.2740204399109003,
          7.180885662260837,
          32.25392253405764,
          31.283193481525405,
          26.54163433728162,
          -10.619493403143307,
          -18.661201171514893,
          8.859595448859036,
          -32.670174826036124,
          -17.657129225688916,
          4.46908570624236,
          -3.5360174420600874,
          1.2040049236080843,
          -8.525399580105814,
          -13.681834522939276,
          7.997880556191271,
          22.007247865832504,
          -35.8419899745901,
          3.780580442845146,
          -22.649841674699424,
          60.49567492594724,
          -1.48406920644762,
          -32.206674065840154,
          14.849432615220593,
          -1.9238632716877153,
          2.745482885489869,
          -8.985790205477922,
          10.910434551851521,
          71.2676627876975
         ],
         "yaxis": "y"
        },
        {
         "hovertemplate": "<b>OLS trendline</b><br>Return [%] = -2.13712 * # Trades + 60.0367<br>R<sup>2</sup>=0.323786<br><br># Trades=%{x}<br>Return [%]=%{y} <b>(trend)</b><extra></extra>",
         "legendgroup": "",
         "marker": {
          "symbol": "circle"
         },
         "mode": "lines",
         "name": "",
         "showlegend": false,
         "type": "scatter",
         "x": [
          9,
          14,
          14,
          15,
          17,
          17,
          17,
          18,
          19,
          19,
          19,
          19,
          19,
          19,
          20,
          20,
          20,
          21,
          21,
          21,
          21,
          21,
          21,
          21,
          21,
          21,
          21,
          21,
          21,
          22,
          22,
          22,
          23,
          23,
          23,
          23,
          23,
          24,
          25,
          25,
          25,
          25,
          25,
          25,
          25,
          25,
          25,
          25,
          26,
          27,
          27,
          27,
          27,
          27,
          27,
          27,
          27,
          27,
          27,
          27,
          27,
          27,
          28,
          29,
          29,
          29,
          29,
          29,
          29,
          30,
          30,
          31,
          31,
          31,
          31,
          32,
          32,
          32,
          32,
          32,
          32,
          32,
          33,
          33,
          33,
          33,
          34,
          35,
          35,
          35,
          35,
          35,
          35,
          37,
          39,
          41,
          41,
          41,
          41,
          43
         ],
         "xaxis": "x",
         "y": [
          40.80260857332449,
          30.117024041558377,
          30.117024041558377,
          27.979907135205153,
          23.70567332249871,
          23.70567332249871,
          23.70567332249871,
          21.568556416145483,
          19.431439509792263,
          19.431439509792263,
          19.431439509792263,
          19.431439509792263,
          19.431439509792263,
          19.431439509792263,
          17.294322603439042,
          17.294322603439042,
          17.294322603439042,
          15.157205697085814,
          15.157205697085814,
          15.157205697085814,
          15.157205697085814,
          15.157205697085814,
          15.157205697085814,
          15.157205697085814,
          15.157205697085814,
          15.157205697085814,
          15.157205697085814,
          15.157205697085814,
          15.157205697085814,
          13.020088790732594,
          13.020088790732594,
          13.020088790732594,
          10.882971884379373,
          10.882971884379373,
          10.882971884379373,
          10.882971884379373,
          10.882971884379373,
          8.745854978026145,
          6.608738071672924,
          6.608738071672924,
          6.608738071672924,
          6.608738071672924,
          6.608738071672924,
          6.608738071672924,
          6.608738071672924,
          6.608738071672924,
          6.608738071672924,
          6.608738071672924,
          4.4716211653197036,
          2.334504258966483,
          2.334504258966483,
          2.334504258966483,
          2.334504258966483,
          2.334504258966483,
          2.334504258966483,
          2.334504258966483,
          2.334504258966483,
          2.334504258966483,
          2.334504258966483,
          2.334504258966483,
          2.334504258966483,
          2.334504258966483,
          0.19738735261325502,
          -1.9397295537399657,
          -1.9397295537399657,
          -1.9397295537399657,
          -1.9397295537399657,
          -1.9397295537399657,
          -1.9397295537399657,
          -4.0768464600931935,
          -4.0768464600931935,
          -6.213963366446407,
          -6.213963366446407,
          -6.213963366446407,
          -6.213963366446407,
          -8.351080272799635,
          -8.351080272799635,
          -8.351080272799635,
          -8.351080272799635,
          -8.351080272799635,
          -8.351080272799635,
          -8.351080272799635,
          -10.488197179152863,
          -10.488197179152863,
          -10.488197179152863,
          -10.488197179152863,
          -12.625314085506076,
          -14.762430991859304,
          -14.762430991859304,
          -14.762430991859304,
          -14.762430991859304,
          -14.762430991859304,
          -14.762430991859304,
          -19.036664804565746,
          -23.3108986172722,
          -27.585132429978643,
          -27.585132429978643,
          -27.585132429978643,
          -27.585132429978643,
          -31.859366242685084
         ],
         "yaxis": "y"
        }
       ],
       "layout": {
        "coloraxis": {
         "cmax": 50,
         "cmin": -50,
         "colorbar": {
          "title": {
           "text": "relative return"
          }
         },
         "colorscale": [
          [
           0,
           "red"
          ],
          [
           0.5,
           "white"
          ],
          [
           1,
           "green"
          ]
         ]
        },
        "legend": {
         "tracegroupgap": 0
        },
        "margin": {
         "t": 60
        },
        "template": {
         "data": {
          "bar": [
           {
            "error_x": {
             "color": "#2a3f5f"
            },
            "error_y": {
             "color": "#2a3f5f"
            },
            "marker": {
             "line": {
              "color": "#E5ECF6",
              "width": 0.5
             },
             "pattern": {
              "fillmode": "overlay",
              "size": 10,
              "solidity": 0.2
             }
            },
            "type": "bar"
           }
          ],
          "barpolar": [
           {
            "marker": {
             "line": {
              "color": "#E5ECF6",
              "width": 0.5
             },
             "pattern": {
              "fillmode": "overlay",
              "size": 10,
              "solidity": 0.2
             }
            },
            "type": "barpolar"
           }
          ],
          "carpet": [
           {
            "aaxis": {
             "endlinecolor": "#2a3f5f",
             "gridcolor": "white",
             "linecolor": "white",
             "minorgridcolor": "white",
             "startlinecolor": "#2a3f5f"
            },
            "baxis": {
             "endlinecolor": "#2a3f5f",
             "gridcolor": "white",
             "linecolor": "white",
             "minorgridcolor": "white",
             "startlinecolor": "#2a3f5f"
            },
            "type": "carpet"
           }
          ],
          "choropleth": [
           {
            "colorbar": {
             "outlinewidth": 0,
             "ticks": ""
            },
            "type": "choropleth"
           }
          ],
          "contour": [
           {
            "colorbar": {
             "outlinewidth": 0,
             "ticks": ""
            },
            "colorscale": [
             [
              0,
              "#0d0887"
             ],
             [
              0.1111111111111111,
              "#46039f"
             ],
             [
              0.2222222222222222,
              "#7201a8"
             ],
             [
              0.3333333333333333,
              "#9c179e"
             ],
             [
              0.4444444444444444,
              "#bd3786"
             ],
             [
              0.5555555555555556,
              "#d8576b"
             ],
             [
              0.6666666666666666,
              "#ed7953"
             ],
             [
              0.7777777777777778,
              "#fb9f3a"
             ],
             [
              0.8888888888888888,
              "#fdca26"
             ],
             [
              1,
              "#f0f921"
             ]
            ],
            "type": "contour"
           }
          ],
          "contourcarpet": [
           {
            "colorbar": {
             "outlinewidth": 0,
             "ticks": ""
            },
            "type": "contourcarpet"
           }
          ],
          "heatmap": [
           {
            "colorbar": {
             "outlinewidth": 0,
             "ticks": ""
            },
            "colorscale": [
             [
              0,
              "#0d0887"
             ],
             [
              0.1111111111111111,
              "#46039f"
             ],
             [
              0.2222222222222222,
              "#7201a8"
             ],
             [
              0.3333333333333333,
              "#9c179e"
             ],
             [
              0.4444444444444444,
              "#bd3786"
             ],
             [
              0.5555555555555556,
              "#d8576b"
             ],
             [
              0.6666666666666666,
              "#ed7953"
             ],
             [
              0.7777777777777778,
              "#fb9f3a"
             ],
             [
              0.8888888888888888,
              "#fdca26"
             ],
             [
              1,
              "#f0f921"
             ]
            ],
            "type": "heatmap"
           }
          ],
          "heatmapgl": [
           {
            "colorbar": {
             "outlinewidth": 0,
             "ticks": ""
            },
            "colorscale": [
             [
              0,
              "#0d0887"
             ],
             [
              0.1111111111111111,
              "#46039f"
             ],
             [
              0.2222222222222222,
              "#7201a8"
             ],
             [
              0.3333333333333333,
              "#9c179e"
             ],
             [
              0.4444444444444444,
              "#bd3786"
             ],
             [
              0.5555555555555556,
              "#d8576b"
             ],
             [
              0.6666666666666666,
              "#ed7953"
             ],
             [
              0.7777777777777778,
              "#fb9f3a"
             ],
             [
              0.8888888888888888,
              "#fdca26"
             ],
             [
              1,
              "#f0f921"
             ]
            ],
            "type": "heatmapgl"
           }
          ],
          "histogram": [
           {
            "marker": {
             "pattern": {
              "fillmode": "overlay",
              "size": 10,
              "solidity": 0.2
             }
            },
            "type": "histogram"
           }
          ],
          "histogram2d": [
           {
            "colorbar": {
             "outlinewidth": 0,
             "ticks": ""
            },
            "colorscale": [
             [
              0,
              "#0d0887"
             ],
             [
              0.1111111111111111,
              "#46039f"
             ],
             [
              0.2222222222222222,
              "#7201a8"
             ],
             [
              0.3333333333333333,
              "#9c179e"
             ],
             [
              0.4444444444444444,
              "#bd3786"
             ],
             [
              0.5555555555555556,
              "#d8576b"
             ],
             [
              0.6666666666666666,
              "#ed7953"
             ],
             [
              0.7777777777777778,
              "#fb9f3a"
             ],
             [
              0.8888888888888888,
              "#fdca26"
             ],
             [
              1,
              "#f0f921"
             ]
            ],
            "type": "histogram2d"
           }
          ],
          "histogram2dcontour": [
           {
            "colorbar": {
             "outlinewidth": 0,
             "ticks": ""
            },
            "colorscale": [
             [
              0,
              "#0d0887"
             ],
             [
              0.1111111111111111,
              "#46039f"
             ],
             [
              0.2222222222222222,
              "#7201a8"
             ],
             [
              0.3333333333333333,
              "#9c179e"
             ],
             [
              0.4444444444444444,
              "#bd3786"
             ],
             [
              0.5555555555555556,
              "#d8576b"
             ],
             [
              0.6666666666666666,
              "#ed7953"
             ],
             [
              0.7777777777777778,
              "#fb9f3a"
             ],
             [
              0.8888888888888888,
              "#fdca26"
             ],
             [
              1,
              "#f0f921"
             ]
            ],
            "type": "histogram2dcontour"
           }
          ],
          "mesh3d": [
           {
            "colorbar": {
             "outlinewidth": 0,
             "ticks": ""
            },
            "type": "mesh3d"
           }
          ],
          "parcoords": [
           {
            "line": {
             "colorbar": {
              "outlinewidth": 0,
              "ticks": ""
             }
            },
            "type": "parcoords"
           }
          ],
          "pie": [
           {
            "automargin": true,
            "type": "pie"
           }
          ],
          "scatter": [
           {
            "fillpattern": {
             "fillmode": "overlay",
             "size": 10,
             "solidity": 0.2
            },
            "type": "scatter"
           }
          ],
          "scatter3d": [
           {
            "line": {
             "colorbar": {
              "outlinewidth": 0,
              "ticks": ""
             }
            },
            "marker": {
             "colorbar": {
              "outlinewidth": 0,
              "ticks": ""
             }
            },
            "type": "scatter3d"
           }
          ],
          "scattercarpet": [
           {
            "marker": {
             "colorbar": {
              "outlinewidth": 0,
              "ticks": ""
             }
            },
            "type": "scattercarpet"
           }
          ],
          "scattergeo": [
           {
            "marker": {
             "colorbar": {
              "outlinewidth": 0,
              "ticks": ""
             }
            },
            "type": "scattergeo"
           }
          ],
          "scattergl": [
           {
            "marker": {
             "colorbar": {
              "outlinewidth": 0,
              "ticks": ""
             }
            },
            "type": "scattergl"
           }
          ],
          "scattermapbox": [
           {
            "marker": {
             "colorbar": {
              "outlinewidth": 0,
              "ticks": ""
             }
            },
            "type": "scattermapbox"
           }
          ],
          "scatterpolar": [
           {
            "marker": {
             "colorbar": {
              "outlinewidth": 0,
              "ticks": ""
             }
            },
            "type": "scatterpolar"
           }
          ],
          "scatterpolargl": [
           {
            "marker": {
             "colorbar": {
              "outlinewidth": 0,
              "ticks": ""
             }
            },
            "type": "scatterpolargl"
           }
          ],
          "scatterternary": [
           {
            "marker": {
             "colorbar": {
              "outlinewidth": 0,
              "ticks": ""
             }
            },
            "type": "scatterternary"
           }
          ],
          "surface": [
           {
            "colorbar": {
             "outlinewidth": 0,
             "ticks": ""
            },
            "colorscale": [
             [
              0,
              "#0d0887"
             ],
             [
              0.1111111111111111,
              "#46039f"
             ],
             [
              0.2222222222222222,
              "#7201a8"
             ],
             [
              0.3333333333333333,
              "#9c179e"
             ],
             [
              0.4444444444444444,
              "#bd3786"
             ],
             [
              0.5555555555555556,
              "#d8576b"
             ],
             [
              0.6666666666666666,
              "#ed7953"
             ],
             [
              0.7777777777777778,
              "#fb9f3a"
             ],
             [
              0.8888888888888888,
              "#fdca26"
             ],
             [
              1,
              "#f0f921"
             ]
            ],
            "type": "surface"
           }
          ],
          "table": [
           {
            "cells": {
             "fill": {
              "color": "#EBF0F8"
             },
             "line": {
              "color": "white"
             }
            },
            "header": {
             "fill": {
              "color": "#C8D4E3"
             },
             "line": {
              "color": "white"
             }
            },
            "type": "table"
           }
          ]
         },
         "layout": {
          "annotationdefaults": {
           "arrowcolor": "#2a3f5f",
           "arrowhead": 0,
           "arrowwidth": 1
          },
          "autotypenumbers": "strict",
          "coloraxis": {
           "colorbar": {
            "outlinewidth": 0,
            "ticks": ""
           }
          },
          "colorscale": {
           "diverging": [
            [
             0,
             "#8e0152"
            ],
            [
             0.1,
             "#c51b7d"
            ],
            [
             0.2,
             "#de77ae"
            ],
            [
             0.3,
             "#f1b6da"
            ],
            [
             0.4,
             "#fde0ef"
            ],
            [
             0.5,
             "#f7f7f7"
            ],
            [
             0.6,
             "#e6f5d0"
            ],
            [
             0.7,
             "#b8e186"
            ],
            [
             0.8,
             "#7fbc41"
            ],
            [
             0.9,
             "#4d9221"
            ],
            [
             1,
             "#276419"
            ]
           ],
           "sequential": [
            [
             0,
             "#0d0887"
            ],
            [
             0.1111111111111111,
             "#46039f"
            ],
            [
             0.2222222222222222,
             "#7201a8"
            ],
            [
             0.3333333333333333,
             "#9c179e"
            ],
            [
             0.4444444444444444,
             "#bd3786"
            ],
            [
             0.5555555555555556,
             "#d8576b"
            ],
            [
             0.6666666666666666,
             "#ed7953"
            ],
            [
             0.7777777777777778,
             "#fb9f3a"
            ],
            [
             0.8888888888888888,
             "#fdca26"
            ],
            [
             1,
             "#f0f921"
            ]
           ],
           "sequentialminus": [
            [
             0,
             "#0d0887"
            ],
            [
             0.1111111111111111,
             "#46039f"
            ],
            [
             0.2222222222222222,
             "#7201a8"
            ],
            [
             0.3333333333333333,
             "#9c179e"
            ],
            [
             0.4444444444444444,
             "#bd3786"
            ],
            [
             0.5555555555555556,
             "#d8576b"
            ],
            [
             0.6666666666666666,
             "#ed7953"
            ],
            [
             0.7777777777777778,
             "#fb9f3a"
            ],
            [
             0.8888888888888888,
             "#fdca26"
            ],
            [
             1,
             "#f0f921"
            ]
           ]
          },
          "colorway": [
           "#636efa",
           "#EF553B",
           "#00cc96",
           "#ab63fa",
           "#FFA15A",
           "#19d3f3",
           "#FF6692",
           "#B6E880",
           "#FF97FF",
           "#FECB52"
          ],
          "font": {
           "color": "#2a3f5f"
          },
          "geo": {
           "bgcolor": "white",
           "lakecolor": "white",
           "landcolor": "#E5ECF6",
           "showlakes": true,
           "showland": true,
           "subunitcolor": "white"
          },
          "hoverlabel": {
           "align": "left"
          },
          "hovermode": "closest",
          "mapbox": {
           "style": "light"
          },
          "paper_bgcolor": "white",
          "plot_bgcolor": "#E5ECF6",
          "polar": {
           "angularaxis": {
            "gridcolor": "white",
            "linecolor": "white",
            "ticks": ""
           },
           "bgcolor": "#E5ECF6",
           "radialaxis": {
            "gridcolor": "white",
            "linecolor": "white",
            "ticks": ""
           }
          },
          "scene": {
           "xaxis": {
            "backgroundcolor": "#E5ECF6",
            "gridcolor": "white",
            "gridwidth": 2,
            "linecolor": "white",
            "showbackground": true,
            "ticks": "",
            "zerolinecolor": "white"
           },
           "yaxis": {
            "backgroundcolor": "#E5ECF6",
            "gridcolor": "white",
            "gridwidth": 2,
            "linecolor": "white",
            "showbackground": true,
            "ticks": "",
            "zerolinecolor": "white"
           },
           "zaxis": {
            "backgroundcolor": "#E5ECF6",
            "gridcolor": "white",
            "gridwidth": 2,
            "linecolor": "white",
            "showbackground": true,
            "ticks": "",
            "zerolinecolor": "white"
           }
          },
          "shapedefaults": {
           "line": {
            "color": "#2a3f5f"
           }
          },
          "ternary": {
           "aaxis": {
            "gridcolor": "white",
            "linecolor": "white",
            "ticks": ""
           },
           "baxis": {
            "gridcolor": "white",
            "linecolor": "white",
            "ticks": ""
           },
           "bgcolor": "#E5ECF6",
           "caxis": {
            "gridcolor": "white",
            "linecolor": "white",
            "ticks": ""
           }
          },
          "title": {
           "x": 0.05
          },
          "xaxis": {
           "automargin": true,
           "gridcolor": "white",
           "linecolor": "white",
           "ticks": "",
           "title": {
            "standoff": 15
           },
           "zerolinecolor": "white",
           "zerolinewidth": 2
          },
          "yaxis": {
           "automargin": true,
           "gridcolor": "white",
           "linecolor": "white",
           "ticks": "",
           "title": {
            "standoff": 15
           },
           "zerolinecolor": "white",
           "zerolinewidth": 2
          }
         }
        },
        "xaxis": {
         "anchor": "y",
         "domain": [
          0,
          1
         ],
         "title": {
          "text": "# Trades"
         }
        },
        "yaxis": {
         "anchor": "x",
         "domain": [
          0,
          1
         ],
         "title": {
          "text": "Return [%]"
         }
        }
       }
      }
     },
     "metadata": {},
     "output_type": "display_data"
    }
   ],
   "source": [
    "import plotly.express as px\n",
    "fig = px.scatter(performance,x='# Trades',y= 'Return [%]',color='relative return',range_color=[-50,50],color_continuous_scale=[\"red\", \"white\", \"green\"], trendline=\"ols\")\n",
    "\n",
    "fig.show()\n"
   ]
  },
  {
   "cell_type": "code",
   "execution_count": null,
   "metadata": {},
   "outputs": [
    {
     "data": {
      "application/vnd.plotly.v1+json": {
       "config": {
        "plotlyServerURL": "https://plot.ly"
       },
       "data": [
        {
         "hovertemplate": "# Trades=%{x}<br>SQN=%{y}<extra></extra>",
         "legendgroup": "",
         "marker": {
          "color": "#636efa",
          "symbol": "circle"
         },
         "mode": "markers",
         "name": "",
         "orientation": "v",
         "showlegend": false,
         "type": "scatter",
         "x": [
          21,
          33,
          27,
          34,
          20,
          29,
          31,
          23,
          19,
          25,
          32,
          21,
          25,
          27,
          29,
          29,
          27,
          27,
          25,
          35,
          35,
          41,
          21,
          21,
          19,
          19,
          17,
          19,
          27,
          29,
          33,
          43,
          27,
          21,
          41,
          21,
          25,
          15,
          23,
          32,
          25,
          27,
          30,
          27,
          32,
          31,
          9,
          21,
          14,
          31,
          32,
          25,
          33,
          22,
          19,
          27,
          26,
          21,
          33,
          27,
          23,
          35,
          17,
          35,
          35,
          25,
          22,
          27,
          32,
          20,
          29,
          35,
          31,
          17,
          23,
          32,
          23,
          27,
          29,
          39,
          37,
          18,
          22,
          27,
          24,
          21,
          21,
          28,
          25,
          21,
          32,
          19,
          25,
          41,
          20,
          41,
          21,
          25,
          30,
          14
         ],
         "xaxis": "x",
         "y": [
          1.2707672734244009,
          -1.5378713710923644,
          -0.30067393428670147,
          -2.0997859683618953,
          1.2938653808134917,
          -0.37438121512833183,
          -0.6102560163571146,
          -0.2458982995022134,
          0.0984596958984792,
          -0.6117159216369091,
          0.8762861626811946,
          0.7217048645605473,
          0.24231717343153855,
          0.29251242871239436,
          -0.231210541998651,
          -1.35893364527396,
          -0.7809907056326174,
          -1.1565870688324646,
          0.5591664454439916,
          -2.1161607134696756,
          -0.9335530011635276,
          -3.1290113508601336,
          0.5988263005740739,
          0.7924952839118192,
          1.0448794226926048,
          0.835251653520349,
          -0.8015472900244626,
          0.8685176973375337,
          -0.1659746617733989,
          1.0003910561378366,
          -0.8965065480544481,
          -0.342439225909983,
          -1.0804570249292427,
          0.5894842002260081,
          -0.6717399465396438,
          0.5247769242823299,
          0.5430424347211028,
          0.8767473435458485,
          0.043985288946439806,
          0.8074850882039201,
          0.10872204711336447,
          1.864134859137044,
          -0.6179296600858455,
          0.8908122798541788,
          -0.20142859706027705,
          -1.0091402952190558,
          1.3857169089861605,
          0.4915926062133165,
          1.0422066939073928,
          -0.29863983318934295,
          0.019026690036911865,
          0.8136599755224401,
          0.21485746409372025,
          1.2185345859889714,
          -0.5806699322889303,
          -0.5465161788614652,
          -0.7255816156361482,
          -0.554624090484345,
          -0.2231936732571875,
          -0.7986448266504542,
          0.46853800341932494,
          -2.7794271945954945,
          0.31682130539307185,
          0.0056066001785301635,
          0.21290041691598877,
          -0.2864937858283748,
          1.0542440740773769,
          -0.3719853395666366,
          -0.7178794886236776,
          1.0500351199469082,
          -1.2706429532591124,
          0.18400981515501708,
          0.49538057105927497,
          1.293021886096922,
          1.251509761778865,
          0.4651080127782953,
          -0.4189134853574964,
          -1.2933994739712371,
          0.8884653380735781,
          -1.7969068808543396,
          -0.8934309985633409,
          0.4550064651488796,
          -0.37897720095726295,
          0.08261602437900233,
          -0.5496110549810234,
          -1.100825502666122,
          0.3906892275421168,
          0.41614736977239686,
          -1.5292568869694212,
          0.2827810745406208,
          -0.936441163275049,
          1.8359001177452334,
          -0.1984262143534058,
          -3.1353553414902744,
          1.4987796938226192,
          -0.14421185908942635,
          0.12596106157422993,
          -0.41941872633273025,
          0.200772262350706,
          1.3025632470462758
         ],
         "yaxis": "y"
        },
        {
         "hovertemplate": "<b>OLS trendline</b><br>SQN = -0.0876216 * # Trades + 2.25005<br>R<sup>2</sup>=0.340452<br><br># Trades=%{x}<br>SQN=%{y} <b>(trend)</b><extra></extra>",
         "legendgroup": "",
         "marker": {
          "color": "#636efa",
          "symbol": "circle"
         },
         "mode": "lines",
         "name": "",
         "showlegend": false,
         "type": "scatter",
         "x": [
          9,
          14,
          14,
          15,
          17,
          17,
          17,
          18,
          19,
          19,
          19,
          19,
          19,
          19,
          20,
          20,
          20,
          21,
          21,
          21,
          21,
          21,
          21,
          21,
          21,
          21,
          21,
          21,
          21,
          22,
          22,
          22,
          23,
          23,
          23,
          23,
          23,
          24,
          25,
          25,
          25,
          25,
          25,
          25,
          25,
          25,
          25,
          25,
          26,
          27,
          27,
          27,
          27,
          27,
          27,
          27,
          27,
          27,
          27,
          27,
          27,
          27,
          28,
          29,
          29,
          29,
          29,
          29,
          29,
          30,
          30,
          31,
          31,
          31,
          31,
          32,
          32,
          32,
          32,
          32,
          32,
          32,
          33,
          33,
          33,
          33,
          34,
          35,
          35,
          35,
          35,
          35,
          35,
          37,
          39,
          41,
          41,
          41,
          41,
          43
         ],
         "xaxis": "x",
         "y": [
          1.4614597995040652,
          1.023351781838198,
          1.023351781838198,
          0.9357301783050245,
          0.7604869712386777,
          0.7604869712386777,
          0.7604869712386777,
          0.6728653677055041,
          0.5852437641723307,
          0.5852437641723307,
          0.5852437641723307,
          0.5852437641723307,
          0.5852437641723307,
          0.5852437641723307,
          0.4976221606391573,
          0.4976221606391573,
          0.4976221606391573,
          0.4100005571059837,
          0.4100005571059837,
          0.4100005571059837,
          0.4100005571059837,
          0.4100005571059837,
          0.4100005571059837,
          0.4100005571059837,
          0.4100005571059837,
          0.4100005571059837,
          0.4100005571059837,
          0.4100005571059837,
          0.4100005571059837,
          0.3223789535728103,
          0.3223789535728103,
          0.3223789535728103,
          0.23475735003963694,
          0.23475735003963694,
          0.23475735003963694,
          0.23475735003963694,
          0.23475735003963694,
          0.14713574650646333,
          0.05951414297329016,
          0.05951414297329016,
          0.05951414297329016,
          0.05951414297329016,
          0.05951414297329016,
          0.05951414297329016,
          0.05951414297329016,
          0.05951414297329016,
          0.05951414297329016,
          0.05951414297329016,
          -0.028107460559883446,
          -0.11572906409305705,
          -0.11572906409305705,
          -0.11572906409305705,
          -0.11572906409305705,
          -0.11572906409305705,
          -0.11572906409305705,
          -0.11572906409305705,
          -0.11572906409305705,
          -0.11572906409305705,
          -0.11572906409305705,
          -0.11572906409305705,
          -0.11572906409305705,
          -0.11572906409305705,
          -0.20335066762623022,
          -0.29097227115940383,
          -0.29097227115940383,
          -0.29097227115940383,
          -0.29097227115940383,
          -0.29097227115940383,
          -0.29097227115940383,
          -0.37859387469257744,
          -0.37859387469257744,
          -0.4662154782257506,
          -0.4662154782257506,
          -0.4662154782257506,
          -0.4662154782257506,
          -0.5538370817589242,
          -0.5538370817589242,
          -0.5538370817589242,
          -0.5538370817589242,
          -0.5538370817589242,
          -0.5538370817589242,
          -0.5538370817589242,
          -0.6414586852920978,
          -0.6414586852920978,
          -0.6414586852920978,
          -0.6414586852920978,
          -0.729080288825271,
          -0.8167018923584446,
          -0.8167018923584446,
          -0.8167018923584446,
          -0.8167018923584446,
          -0.8167018923584446,
          -0.8167018923584446,
          -0.9919450994247914,
          -1.1671883064911386,
          -1.3424315135574854,
          -1.3424315135574854,
          -1.3424315135574854,
          -1.3424315135574854,
          -1.5176747206238321
         ],
         "yaxis": "y"
        }
       ],
       "layout": {
        "legend": {
         "tracegroupgap": 0
        },
        "margin": {
         "t": 60
        },
        "template": {
         "data": {
          "bar": [
           {
            "error_x": {
             "color": "#2a3f5f"
            },
            "error_y": {
             "color": "#2a3f5f"
            },
            "marker": {
             "line": {
              "color": "#E5ECF6",
              "width": 0.5
             },
             "pattern": {
              "fillmode": "overlay",
              "size": 10,
              "solidity": 0.2
             }
            },
            "type": "bar"
           }
          ],
          "barpolar": [
           {
            "marker": {
             "line": {
              "color": "#E5ECF6",
              "width": 0.5
             },
             "pattern": {
              "fillmode": "overlay",
              "size": 10,
              "solidity": 0.2
             }
            },
            "type": "barpolar"
           }
          ],
          "carpet": [
           {
            "aaxis": {
             "endlinecolor": "#2a3f5f",
             "gridcolor": "white",
             "linecolor": "white",
             "minorgridcolor": "white",
             "startlinecolor": "#2a3f5f"
            },
            "baxis": {
             "endlinecolor": "#2a3f5f",
             "gridcolor": "white",
             "linecolor": "white",
             "minorgridcolor": "white",
             "startlinecolor": "#2a3f5f"
            },
            "type": "carpet"
           }
          ],
          "choropleth": [
           {
            "colorbar": {
             "outlinewidth": 0,
             "ticks": ""
            },
            "type": "choropleth"
           }
          ],
          "contour": [
           {
            "colorbar": {
             "outlinewidth": 0,
             "ticks": ""
            },
            "colorscale": [
             [
              0,
              "#0d0887"
             ],
             [
              0.1111111111111111,
              "#46039f"
             ],
             [
              0.2222222222222222,
              "#7201a8"
             ],
             [
              0.3333333333333333,
              "#9c179e"
             ],
             [
              0.4444444444444444,
              "#bd3786"
             ],
             [
              0.5555555555555556,
              "#d8576b"
             ],
             [
              0.6666666666666666,
              "#ed7953"
             ],
             [
              0.7777777777777778,
              "#fb9f3a"
             ],
             [
              0.8888888888888888,
              "#fdca26"
             ],
             [
              1,
              "#f0f921"
             ]
            ],
            "type": "contour"
           }
          ],
          "contourcarpet": [
           {
            "colorbar": {
             "outlinewidth": 0,
             "ticks": ""
            },
            "type": "contourcarpet"
           }
          ],
          "heatmap": [
           {
            "colorbar": {
             "outlinewidth": 0,
             "ticks": ""
            },
            "colorscale": [
             [
              0,
              "#0d0887"
             ],
             [
              0.1111111111111111,
              "#46039f"
             ],
             [
              0.2222222222222222,
              "#7201a8"
             ],
             [
              0.3333333333333333,
              "#9c179e"
             ],
             [
              0.4444444444444444,
              "#bd3786"
             ],
             [
              0.5555555555555556,
              "#d8576b"
             ],
             [
              0.6666666666666666,
              "#ed7953"
             ],
             [
              0.7777777777777778,
              "#fb9f3a"
             ],
             [
              0.8888888888888888,
              "#fdca26"
             ],
             [
              1,
              "#f0f921"
             ]
            ],
            "type": "heatmap"
           }
          ],
          "heatmapgl": [
           {
            "colorbar": {
             "outlinewidth": 0,
             "ticks": ""
            },
            "colorscale": [
             [
              0,
              "#0d0887"
             ],
             [
              0.1111111111111111,
              "#46039f"
             ],
             [
              0.2222222222222222,
              "#7201a8"
             ],
             [
              0.3333333333333333,
              "#9c179e"
             ],
             [
              0.4444444444444444,
              "#bd3786"
             ],
             [
              0.5555555555555556,
              "#d8576b"
             ],
             [
              0.6666666666666666,
              "#ed7953"
             ],
             [
              0.7777777777777778,
              "#fb9f3a"
             ],
             [
              0.8888888888888888,
              "#fdca26"
             ],
             [
              1,
              "#f0f921"
             ]
            ],
            "type": "heatmapgl"
           }
          ],
          "histogram": [
           {
            "marker": {
             "pattern": {
              "fillmode": "overlay",
              "size": 10,
              "solidity": 0.2
             }
            },
            "type": "histogram"
           }
          ],
          "histogram2d": [
           {
            "colorbar": {
             "outlinewidth": 0,
             "ticks": ""
            },
            "colorscale": [
             [
              0,
              "#0d0887"
             ],
             [
              0.1111111111111111,
              "#46039f"
             ],
             [
              0.2222222222222222,
              "#7201a8"
             ],
             [
              0.3333333333333333,
              "#9c179e"
             ],
             [
              0.4444444444444444,
              "#bd3786"
             ],
             [
              0.5555555555555556,
              "#d8576b"
             ],
             [
              0.6666666666666666,
              "#ed7953"
             ],
             [
              0.7777777777777778,
              "#fb9f3a"
             ],
             [
              0.8888888888888888,
              "#fdca26"
             ],
             [
              1,
              "#f0f921"
             ]
            ],
            "type": "histogram2d"
           }
          ],
          "histogram2dcontour": [
           {
            "colorbar": {
             "outlinewidth": 0,
             "ticks": ""
            },
            "colorscale": [
             [
              0,
              "#0d0887"
             ],
             [
              0.1111111111111111,
              "#46039f"
             ],
             [
              0.2222222222222222,
              "#7201a8"
             ],
             [
              0.3333333333333333,
              "#9c179e"
             ],
             [
              0.4444444444444444,
              "#bd3786"
             ],
             [
              0.5555555555555556,
              "#d8576b"
             ],
             [
              0.6666666666666666,
              "#ed7953"
             ],
             [
              0.7777777777777778,
              "#fb9f3a"
             ],
             [
              0.8888888888888888,
              "#fdca26"
             ],
             [
              1,
              "#f0f921"
             ]
            ],
            "type": "histogram2dcontour"
           }
          ],
          "mesh3d": [
           {
            "colorbar": {
             "outlinewidth": 0,
             "ticks": ""
            },
            "type": "mesh3d"
           }
          ],
          "parcoords": [
           {
            "line": {
             "colorbar": {
              "outlinewidth": 0,
              "ticks": ""
             }
            },
            "type": "parcoords"
           }
          ],
          "pie": [
           {
            "automargin": true,
            "type": "pie"
           }
          ],
          "scatter": [
           {
            "fillpattern": {
             "fillmode": "overlay",
             "size": 10,
             "solidity": 0.2
            },
            "type": "scatter"
           }
          ],
          "scatter3d": [
           {
            "line": {
             "colorbar": {
              "outlinewidth": 0,
              "ticks": ""
             }
            },
            "marker": {
             "colorbar": {
              "outlinewidth": 0,
              "ticks": ""
             }
            },
            "type": "scatter3d"
           }
          ],
          "scattercarpet": [
           {
            "marker": {
             "colorbar": {
              "outlinewidth": 0,
              "ticks": ""
             }
            },
            "type": "scattercarpet"
           }
          ],
          "scattergeo": [
           {
            "marker": {
             "colorbar": {
              "outlinewidth": 0,
              "ticks": ""
             }
            },
            "type": "scattergeo"
           }
          ],
          "scattergl": [
           {
            "marker": {
             "colorbar": {
              "outlinewidth": 0,
              "ticks": ""
             }
            },
            "type": "scattergl"
           }
          ],
          "scattermapbox": [
           {
            "marker": {
             "colorbar": {
              "outlinewidth": 0,
              "ticks": ""
             }
            },
            "type": "scattermapbox"
           }
          ],
          "scatterpolar": [
           {
            "marker": {
             "colorbar": {
              "outlinewidth": 0,
              "ticks": ""
             }
            },
            "type": "scatterpolar"
           }
          ],
          "scatterpolargl": [
           {
            "marker": {
             "colorbar": {
              "outlinewidth": 0,
              "ticks": ""
             }
            },
            "type": "scatterpolargl"
           }
          ],
          "scatterternary": [
           {
            "marker": {
             "colorbar": {
              "outlinewidth": 0,
              "ticks": ""
             }
            },
            "type": "scatterternary"
           }
          ],
          "surface": [
           {
            "colorbar": {
             "outlinewidth": 0,
             "ticks": ""
            },
            "colorscale": [
             [
              0,
              "#0d0887"
             ],
             [
              0.1111111111111111,
              "#46039f"
             ],
             [
              0.2222222222222222,
              "#7201a8"
             ],
             [
              0.3333333333333333,
              "#9c179e"
             ],
             [
              0.4444444444444444,
              "#bd3786"
             ],
             [
              0.5555555555555556,
              "#d8576b"
             ],
             [
              0.6666666666666666,
              "#ed7953"
             ],
             [
              0.7777777777777778,
              "#fb9f3a"
             ],
             [
              0.8888888888888888,
              "#fdca26"
             ],
             [
              1,
              "#f0f921"
             ]
            ],
            "type": "surface"
           }
          ],
          "table": [
           {
            "cells": {
             "fill": {
              "color": "#EBF0F8"
             },
             "line": {
              "color": "white"
             }
            },
            "header": {
             "fill": {
              "color": "#C8D4E3"
             },
             "line": {
              "color": "white"
             }
            },
            "type": "table"
           }
          ]
         },
         "layout": {
          "annotationdefaults": {
           "arrowcolor": "#2a3f5f",
           "arrowhead": 0,
           "arrowwidth": 1
          },
          "autotypenumbers": "strict",
          "coloraxis": {
           "colorbar": {
            "outlinewidth": 0,
            "ticks": ""
           }
          },
          "colorscale": {
           "diverging": [
            [
             0,
             "#8e0152"
            ],
            [
             0.1,
             "#c51b7d"
            ],
            [
             0.2,
             "#de77ae"
            ],
            [
             0.3,
             "#f1b6da"
            ],
            [
             0.4,
             "#fde0ef"
            ],
            [
             0.5,
             "#f7f7f7"
            ],
            [
             0.6,
             "#e6f5d0"
            ],
            [
             0.7,
             "#b8e186"
            ],
            [
             0.8,
             "#7fbc41"
            ],
            [
             0.9,
             "#4d9221"
            ],
            [
             1,
             "#276419"
            ]
           ],
           "sequential": [
            [
             0,
             "#0d0887"
            ],
            [
             0.1111111111111111,
             "#46039f"
            ],
            [
             0.2222222222222222,
             "#7201a8"
            ],
            [
             0.3333333333333333,
             "#9c179e"
            ],
            [
             0.4444444444444444,
             "#bd3786"
            ],
            [
             0.5555555555555556,
             "#d8576b"
            ],
            [
             0.6666666666666666,
             "#ed7953"
            ],
            [
             0.7777777777777778,
             "#fb9f3a"
            ],
            [
             0.8888888888888888,
             "#fdca26"
            ],
            [
             1,
             "#f0f921"
            ]
           ],
           "sequentialminus": [
            [
             0,
             "#0d0887"
            ],
            [
             0.1111111111111111,
             "#46039f"
            ],
            [
             0.2222222222222222,
             "#7201a8"
            ],
            [
             0.3333333333333333,
             "#9c179e"
            ],
            [
             0.4444444444444444,
             "#bd3786"
            ],
            [
             0.5555555555555556,
             "#d8576b"
            ],
            [
             0.6666666666666666,
             "#ed7953"
            ],
            [
             0.7777777777777778,
             "#fb9f3a"
            ],
            [
             0.8888888888888888,
             "#fdca26"
            ],
            [
             1,
             "#f0f921"
            ]
           ]
          },
          "colorway": [
           "#636efa",
           "#EF553B",
           "#00cc96",
           "#ab63fa",
           "#FFA15A",
           "#19d3f3",
           "#FF6692",
           "#B6E880",
           "#FF97FF",
           "#FECB52"
          ],
          "font": {
           "color": "#2a3f5f"
          },
          "geo": {
           "bgcolor": "white",
           "lakecolor": "white",
           "landcolor": "#E5ECF6",
           "showlakes": true,
           "showland": true,
           "subunitcolor": "white"
          },
          "hoverlabel": {
           "align": "left"
          },
          "hovermode": "closest",
          "mapbox": {
           "style": "light"
          },
          "paper_bgcolor": "white",
          "plot_bgcolor": "#E5ECF6",
          "polar": {
           "angularaxis": {
            "gridcolor": "white",
            "linecolor": "white",
            "ticks": ""
           },
           "bgcolor": "#E5ECF6",
           "radialaxis": {
            "gridcolor": "white",
            "linecolor": "white",
            "ticks": ""
           }
          },
          "scene": {
           "xaxis": {
            "backgroundcolor": "#E5ECF6",
            "gridcolor": "white",
            "gridwidth": 2,
            "linecolor": "white",
            "showbackground": true,
            "ticks": "",
            "zerolinecolor": "white"
           },
           "yaxis": {
            "backgroundcolor": "#E5ECF6",
            "gridcolor": "white",
            "gridwidth": 2,
            "linecolor": "white",
            "showbackground": true,
            "ticks": "",
            "zerolinecolor": "white"
           },
           "zaxis": {
            "backgroundcolor": "#E5ECF6",
            "gridcolor": "white",
            "gridwidth": 2,
            "linecolor": "white",
            "showbackground": true,
            "ticks": "",
            "zerolinecolor": "white"
           }
          },
          "shapedefaults": {
           "line": {
            "color": "#2a3f5f"
           }
          },
          "ternary": {
           "aaxis": {
            "gridcolor": "white",
            "linecolor": "white",
            "ticks": ""
           },
           "baxis": {
            "gridcolor": "white",
            "linecolor": "white",
            "ticks": ""
           },
           "bgcolor": "#E5ECF6",
           "caxis": {
            "gridcolor": "white",
            "linecolor": "white",
            "ticks": ""
           }
          },
          "title": {
           "x": 0.05
          },
          "xaxis": {
           "automargin": true,
           "gridcolor": "white",
           "linecolor": "white",
           "ticks": "",
           "title": {
            "standoff": 15
           },
           "zerolinecolor": "white",
           "zerolinewidth": 2
          },
          "yaxis": {
           "automargin": true,
           "gridcolor": "white",
           "linecolor": "white",
           "ticks": "",
           "title": {
            "standoff": 15
           },
           "zerolinecolor": "white",
           "zerolinewidth": 2
          }
         }
        },
        "xaxis": {
         "anchor": "y",
         "domain": [
          0,
          1
         ],
         "title": {
          "text": "# Trades"
         }
        },
        "yaxis": {
         "anchor": "x",
         "domain": [
          0,
          1
         ],
         "title": {
          "text": "SQN"
         }
        }
       }
      }
     },
     "metadata": {},
     "output_type": "display_data"
    }
   ],
   "source": [
    "fig = px.scatter(performance,x='# Trades',y= 'SQN',trendline=\"ols\")\n",
    "fig.show()"
   ]
  },
  {
   "cell_type": "code",
   "execution_count": null,
   "metadata": {},
   "outputs": [
    {
     "data": {
      "application/vnd.plotly.v1+json": {
       "config": {
        "plotlyServerURL": "https://plot.ly"
       },
       "data": [
        {
         "hovertemplate": "# Trades=%{x}<br>SQN=%{y}<extra></extra>",
         "legendgroup": "",
         "marker": {
          "color": "#636efa",
          "symbol": "circle"
         },
         "mode": "markers",
         "name": "",
         "orientation": "v",
         "showlegend": false,
         "type": "scatter",
         "x": [
          21,
          33,
          27,
          34,
          20,
          29,
          31,
          23,
          19,
          25,
          32,
          21,
          25,
          27,
          29,
          29,
          27,
          27,
          25,
          35,
          35,
          41,
          21,
          21,
          19,
          19,
          17,
          19,
          27,
          29,
          33,
          43,
          27,
          21,
          41,
          21,
          25,
          15,
          23,
          32,
          25,
          27,
          30,
          27,
          32,
          31,
          9,
          21,
          14,
          31,
          32,
          25,
          33,
          22,
          19,
          27,
          26,
          21,
          33,
          27,
          23,
          35,
          17,
          35,
          35,
          25,
          22,
          27,
          32,
          20,
          29,
          35,
          31,
          17,
          23,
          32,
          23,
          27,
          29,
          39,
          37,
          18,
          22,
          27,
          24,
          21,
          21,
          28,
          25,
          21,
          32,
          19,
          25,
          41,
          20,
          41,
          21,
          25,
          30,
          14
         ],
         "xaxis": "x",
         "y": [
          1.2707672734244009,
          -1.5378713710923644,
          -0.30067393428670147,
          -2.0997859683618953,
          1.2938653808134917,
          -0.37438121512833183,
          -0.6102560163571146,
          -0.2458982995022134,
          0.0984596958984792,
          -0.6117159216369091,
          0.8762861626811946,
          0.7217048645605473,
          0.24231717343153855,
          0.29251242871239436,
          -0.231210541998651,
          -1.35893364527396,
          -0.7809907056326174,
          -1.1565870688324646,
          0.5591664454439916,
          -2.1161607134696756,
          -0.9335530011635276,
          -3.1290113508601336,
          0.5988263005740739,
          0.7924952839118192,
          1.0448794226926048,
          0.835251653520349,
          -0.8015472900244626,
          0.8685176973375337,
          -0.1659746617733989,
          1.0003910561378366,
          -0.8965065480544481,
          -0.342439225909983,
          -1.0804570249292427,
          0.5894842002260081,
          -0.6717399465396438,
          0.5247769242823299,
          0.5430424347211028,
          0.8767473435458485,
          0.043985288946439806,
          0.8074850882039201,
          0.10872204711336447,
          1.864134859137044,
          -0.6179296600858455,
          0.8908122798541788,
          -0.20142859706027705,
          -1.0091402952190558,
          1.3857169089861605,
          0.4915926062133165,
          1.0422066939073928,
          -0.29863983318934295,
          0.019026690036911865,
          0.8136599755224401,
          0.21485746409372025,
          1.2185345859889714,
          -0.5806699322889303,
          -0.5465161788614652,
          -0.7255816156361482,
          -0.554624090484345,
          -0.2231936732571875,
          -0.7986448266504542,
          0.46853800341932494,
          -2.7794271945954945,
          0.31682130539307185,
          0.0056066001785301635,
          0.21290041691598877,
          -0.2864937858283748,
          1.0542440740773769,
          -0.3719853395666366,
          -0.7178794886236776,
          1.0500351199469082,
          -1.2706429532591124,
          0.18400981515501708,
          0.49538057105927497,
          1.293021886096922,
          1.251509761778865,
          0.4651080127782953,
          -0.4189134853574964,
          -1.2933994739712371,
          0.8884653380735781,
          -1.7969068808543396,
          -0.8934309985633409,
          0.4550064651488796,
          -0.37897720095726295,
          0.08261602437900233,
          -0.5496110549810234,
          -1.100825502666122,
          0.3906892275421168,
          0.41614736977239686,
          -1.5292568869694212,
          0.2827810745406208,
          -0.936441163275049,
          1.8359001177452334,
          -0.1984262143534058,
          -3.1353553414902744,
          1.4987796938226192,
          -0.14421185908942635,
          0.12596106157422993,
          -0.41941872633273025,
          0.200772262350706,
          1.3025632470462758
         ],
         "yaxis": "y"
        },
        {
         "hovertemplate": "<b>OLS trendline</b><br>SQN = -0.0876216 * # Trades + 2.25005<br>R<sup>2</sup>=0.340452<br><br># Trades=%{x}<br>SQN=%{y} <b>(trend)</b><extra></extra>",
         "legendgroup": "",
         "marker": {
          "color": "#636efa",
          "symbol": "circle"
         },
         "mode": "lines",
         "name": "",
         "showlegend": false,
         "type": "scatter",
         "x": [
          9,
          14,
          14,
          15,
          17,
          17,
          17,
          18,
          19,
          19,
          19,
          19,
          19,
          19,
          20,
          20,
          20,
          21,
          21,
          21,
          21,
          21,
          21,
          21,
          21,
          21,
          21,
          21,
          21,
          22,
          22,
          22,
          23,
          23,
          23,
          23,
          23,
          24,
          25,
          25,
          25,
          25,
          25,
          25,
          25,
          25,
          25,
          25,
          26,
          27,
          27,
          27,
          27,
          27,
          27,
          27,
          27,
          27,
          27,
          27,
          27,
          27,
          28,
          29,
          29,
          29,
          29,
          29,
          29,
          30,
          30,
          31,
          31,
          31,
          31,
          32,
          32,
          32,
          32,
          32,
          32,
          32,
          33,
          33,
          33,
          33,
          34,
          35,
          35,
          35,
          35,
          35,
          35,
          37,
          39,
          41,
          41,
          41,
          41,
          43
         ],
         "xaxis": "x",
         "y": [
          1.4614597995040652,
          1.023351781838198,
          1.023351781838198,
          0.9357301783050245,
          0.7604869712386777,
          0.7604869712386777,
          0.7604869712386777,
          0.6728653677055041,
          0.5852437641723307,
          0.5852437641723307,
          0.5852437641723307,
          0.5852437641723307,
          0.5852437641723307,
          0.5852437641723307,
          0.4976221606391573,
          0.4976221606391573,
          0.4976221606391573,
          0.4100005571059837,
          0.4100005571059837,
          0.4100005571059837,
          0.4100005571059837,
          0.4100005571059837,
          0.4100005571059837,
          0.4100005571059837,
          0.4100005571059837,
          0.4100005571059837,
          0.4100005571059837,
          0.4100005571059837,
          0.4100005571059837,
          0.3223789535728103,
          0.3223789535728103,
          0.3223789535728103,
          0.23475735003963694,
          0.23475735003963694,
          0.23475735003963694,
          0.23475735003963694,
          0.23475735003963694,
          0.14713574650646333,
          0.05951414297329016,
          0.05951414297329016,
          0.05951414297329016,
          0.05951414297329016,
          0.05951414297329016,
          0.05951414297329016,
          0.05951414297329016,
          0.05951414297329016,
          0.05951414297329016,
          0.05951414297329016,
          -0.028107460559883446,
          -0.11572906409305705,
          -0.11572906409305705,
          -0.11572906409305705,
          -0.11572906409305705,
          -0.11572906409305705,
          -0.11572906409305705,
          -0.11572906409305705,
          -0.11572906409305705,
          -0.11572906409305705,
          -0.11572906409305705,
          -0.11572906409305705,
          -0.11572906409305705,
          -0.11572906409305705,
          -0.20335066762623022,
          -0.29097227115940383,
          -0.29097227115940383,
          -0.29097227115940383,
          -0.29097227115940383,
          -0.29097227115940383,
          -0.29097227115940383,
          -0.37859387469257744,
          -0.37859387469257744,
          -0.4662154782257506,
          -0.4662154782257506,
          -0.4662154782257506,
          -0.4662154782257506,
          -0.5538370817589242,
          -0.5538370817589242,
          -0.5538370817589242,
          -0.5538370817589242,
          -0.5538370817589242,
          -0.5538370817589242,
          -0.5538370817589242,
          -0.6414586852920978,
          -0.6414586852920978,
          -0.6414586852920978,
          -0.6414586852920978,
          -0.729080288825271,
          -0.8167018923584446,
          -0.8167018923584446,
          -0.8167018923584446,
          -0.8167018923584446,
          -0.8167018923584446,
          -0.8167018923584446,
          -0.9919450994247914,
          -1.1671883064911386,
          -1.3424315135574854,
          -1.3424315135574854,
          -1.3424315135574854,
          -1.3424315135574854,
          -1.5176747206238321
         ],
         "yaxis": "y"
        }
       ],
       "layout": {
        "legend": {
         "tracegroupgap": 0
        },
        "margin": {
         "t": 60
        },
        "template": {
         "data": {
          "bar": [
           {
            "error_x": {
             "color": "#2a3f5f"
            },
            "error_y": {
             "color": "#2a3f5f"
            },
            "marker": {
             "line": {
              "color": "#E5ECF6",
              "width": 0.5
             },
             "pattern": {
              "fillmode": "overlay",
              "size": 10,
              "solidity": 0.2
             }
            },
            "type": "bar"
           }
          ],
          "barpolar": [
           {
            "marker": {
             "line": {
              "color": "#E5ECF6",
              "width": 0.5
             },
             "pattern": {
              "fillmode": "overlay",
              "size": 10,
              "solidity": 0.2
             }
            },
            "type": "barpolar"
           }
          ],
          "carpet": [
           {
            "aaxis": {
             "endlinecolor": "#2a3f5f",
             "gridcolor": "white",
             "linecolor": "white",
             "minorgridcolor": "white",
             "startlinecolor": "#2a3f5f"
            },
            "baxis": {
             "endlinecolor": "#2a3f5f",
             "gridcolor": "white",
             "linecolor": "white",
             "minorgridcolor": "white",
             "startlinecolor": "#2a3f5f"
            },
            "type": "carpet"
           }
          ],
          "choropleth": [
           {
            "colorbar": {
             "outlinewidth": 0,
             "ticks": ""
            },
            "type": "choropleth"
           }
          ],
          "contour": [
           {
            "colorbar": {
             "outlinewidth": 0,
             "ticks": ""
            },
            "colorscale": [
             [
              0,
              "#0d0887"
             ],
             [
              0.1111111111111111,
              "#46039f"
             ],
             [
              0.2222222222222222,
              "#7201a8"
             ],
             [
              0.3333333333333333,
              "#9c179e"
             ],
             [
              0.4444444444444444,
              "#bd3786"
             ],
             [
              0.5555555555555556,
              "#d8576b"
             ],
             [
              0.6666666666666666,
              "#ed7953"
             ],
             [
              0.7777777777777778,
              "#fb9f3a"
             ],
             [
              0.8888888888888888,
              "#fdca26"
             ],
             [
              1,
              "#f0f921"
             ]
            ],
            "type": "contour"
           }
          ],
          "contourcarpet": [
           {
            "colorbar": {
             "outlinewidth": 0,
             "ticks": ""
            },
            "type": "contourcarpet"
           }
          ],
          "heatmap": [
           {
            "colorbar": {
             "outlinewidth": 0,
             "ticks": ""
            },
            "colorscale": [
             [
              0,
              "#0d0887"
             ],
             [
              0.1111111111111111,
              "#46039f"
             ],
             [
              0.2222222222222222,
              "#7201a8"
             ],
             [
              0.3333333333333333,
              "#9c179e"
             ],
             [
              0.4444444444444444,
              "#bd3786"
             ],
             [
              0.5555555555555556,
              "#d8576b"
             ],
             [
              0.6666666666666666,
              "#ed7953"
             ],
             [
              0.7777777777777778,
              "#fb9f3a"
             ],
             [
              0.8888888888888888,
              "#fdca26"
             ],
             [
              1,
              "#f0f921"
             ]
            ],
            "type": "heatmap"
           }
          ],
          "heatmapgl": [
           {
            "colorbar": {
             "outlinewidth": 0,
             "ticks": ""
            },
            "colorscale": [
             [
              0,
              "#0d0887"
             ],
             [
              0.1111111111111111,
              "#46039f"
             ],
             [
              0.2222222222222222,
              "#7201a8"
             ],
             [
              0.3333333333333333,
              "#9c179e"
             ],
             [
              0.4444444444444444,
              "#bd3786"
             ],
             [
              0.5555555555555556,
              "#d8576b"
             ],
             [
              0.6666666666666666,
              "#ed7953"
             ],
             [
              0.7777777777777778,
              "#fb9f3a"
             ],
             [
              0.8888888888888888,
              "#fdca26"
             ],
             [
              1,
              "#f0f921"
             ]
            ],
            "type": "heatmapgl"
           }
          ],
          "histogram": [
           {
            "marker": {
             "pattern": {
              "fillmode": "overlay",
              "size": 10,
              "solidity": 0.2
             }
            },
            "type": "histogram"
           }
          ],
          "histogram2d": [
           {
            "colorbar": {
             "outlinewidth": 0,
             "ticks": ""
            },
            "colorscale": [
             [
              0,
              "#0d0887"
             ],
             [
              0.1111111111111111,
              "#46039f"
             ],
             [
              0.2222222222222222,
              "#7201a8"
             ],
             [
              0.3333333333333333,
              "#9c179e"
             ],
             [
              0.4444444444444444,
              "#bd3786"
             ],
             [
              0.5555555555555556,
              "#d8576b"
             ],
             [
              0.6666666666666666,
              "#ed7953"
             ],
             [
              0.7777777777777778,
              "#fb9f3a"
             ],
             [
              0.8888888888888888,
              "#fdca26"
             ],
             [
              1,
              "#f0f921"
             ]
            ],
            "type": "histogram2d"
           }
          ],
          "histogram2dcontour": [
           {
            "colorbar": {
             "outlinewidth": 0,
             "ticks": ""
            },
            "colorscale": [
             [
              0,
              "#0d0887"
             ],
             [
              0.1111111111111111,
              "#46039f"
             ],
             [
              0.2222222222222222,
              "#7201a8"
             ],
             [
              0.3333333333333333,
              "#9c179e"
             ],
             [
              0.4444444444444444,
              "#bd3786"
             ],
             [
              0.5555555555555556,
              "#d8576b"
             ],
             [
              0.6666666666666666,
              "#ed7953"
             ],
             [
              0.7777777777777778,
              "#fb9f3a"
             ],
             [
              0.8888888888888888,
              "#fdca26"
             ],
             [
              1,
              "#f0f921"
             ]
            ],
            "type": "histogram2dcontour"
           }
          ],
          "mesh3d": [
           {
            "colorbar": {
             "outlinewidth": 0,
             "ticks": ""
            },
            "type": "mesh3d"
           }
          ],
          "parcoords": [
           {
            "line": {
             "colorbar": {
              "outlinewidth": 0,
              "ticks": ""
             }
            },
            "type": "parcoords"
           }
          ],
          "pie": [
           {
            "automargin": true,
            "type": "pie"
           }
          ],
          "scatter": [
           {
            "fillpattern": {
             "fillmode": "overlay",
             "size": 10,
             "solidity": 0.2
            },
            "type": "scatter"
           }
          ],
          "scatter3d": [
           {
            "line": {
             "colorbar": {
              "outlinewidth": 0,
              "ticks": ""
             }
            },
            "marker": {
             "colorbar": {
              "outlinewidth": 0,
              "ticks": ""
             }
            },
            "type": "scatter3d"
           }
          ],
          "scattercarpet": [
           {
            "marker": {
             "colorbar": {
              "outlinewidth": 0,
              "ticks": ""
             }
            },
            "type": "scattercarpet"
           }
          ],
          "scattergeo": [
           {
            "marker": {
             "colorbar": {
              "outlinewidth": 0,
              "ticks": ""
             }
            },
            "type": "scattergeo"
           }
          ],
          "scattergl": [
           {
            "marker": {
             "colorbar": {
              "outlinewidth": 0,
              "ticks": ""
             }
            },
            "type": "scattergl"
           }
          ],
          "scattermapbox": [
           {
            "marker": {
             "colorbar": {
              "outlinewidth": 0,
              "ticks": ""
             }
            },
            "type": "scattermapbox"
           }
          ],
          "scatterpolar": [
           {
            "marker": {
             "colorbar": {
              "outlinewidth": 0,
              "ticks": ""
             }
            },
            "type": "scatterpolar"
           }
          ],
          "scatterpolargl": [
           {
            "marker": {
             "colorbar": {
              "outlinewidth": 0,
              "ticks": ""
             }
            },
            "type": "scatterpolargl"
           }
          ],
          "scatterternary": [
           {
            "marker": {
             "colorbar": {
              "outlinewidth": 0,
              "ticks": ""
             }
            },
            "type": "scatterternary"
           }
          ],
          "surface": [
           {
            "colorbar": {
             "outlinewidth": 0,
             "ticks": ""
            },
            "colorscale": [
             [
              0,
              "#0d0887"
             ],
             [
              0.1111111111111111,
              "#46039f"
             ],
             [
              0.2222222222222222,
              "#7201a8"
             ],
             [
              0.3333333333333333,
              "#9c179e"
             ],
             [
              0.4444444444444444,
              "#bd3786"
             ],
             [
              0.5555555555555556,
              "#d8576b"
             ],
             [
              0.6666666666666666,
              "#ed7953"
             ],
             [
              0.7777777777777778,
              "#fb9f3a"
             ],
             [
              0.8888888888888888,
              "#fdca26"
             ],
             [
              1,
              "#f0f921"
             ]
            ],
            "type": "surface"
           }
          ],
          "table": [
           {
            "cells": {
             "fill": {
              "color": "#EBF0F8"
             },
             "line": {
              "color": "white"
             }
            },
            "header": {
             "fill": {
              "color": "#C8D4E3"
             },
             "line": {
              "color": "white"
             }
            },
            "type": "table"
           }
          ]
         },
         "layout": {
          "annotationdefaults": {
           "arrowcolor": "#2a3f5f",
           "arrowhead": 0,
           "arrowwidth": 1
          },
          "autotypenumbers": "strict",
          "coloraxis": {
           "colorbar": {
            "outlinewidth": 0,
            "ticks": ""
           }
          },
          "colorscale": {
           "diverging": [
            [
             0,
             "#8e0152"
            ],
            [
             0.1,
             "#c51b7d"
            ],
            [
             0.2,
             "#de77ae"
            ],
            [
             0.3,
             "#f1b6da"
            ],
            [
             0.4,
             "#fde0ef"
            ],
            [
             0.5,
             "#f7f7f7"
            ],
            [
             0.6,
             "#e6f5d0"
            ],
            [
             0.7,
             "#b8e186"
            ],
            [
             0.8,
             "#7fbc41"
            ],
            [
             0.9,
             "#4d9221"
            ],
            [
             1,
             "#276419"
            ]
           ],
           "sequential": [
            [
             0,
             "#0d0887"
            ],
            [
             0.1111111111111111,
             "#46039f"
            ],
            [
             0.2222222222222222,
             "#7201a8"
            ],
            [
             0.3333333333333333,
             "#9c179e"
            ],
            [
             0.4444444444444444,
             "#bd3786"
            ],
            [
             0.5555555555555556,
             "#d8576b"
            ],
            [
             0.6666666666666666,
             "#ed7953"
            ],
            [
             0.7777777777777778,
             "#fb9f3a"
            ],
            [
             0.8888888888888888,
             "#fdca26"
            ],
            [
             1,
             "#f0f921"
            ]
           ],
           "sequentialminus": [
            [
             0,
             "#0d0887"
            ],
            [
             0.1111111111111111,
             "#46039f"
            ],
            [
             0.2222222222222222,
             "#7201a8"
            ],
            [
             0.3333333333333333,
             "#9c179e"
            ],
            [
             0.4444444444444444,
             "#bd3786"
            ],
            [
             0.5555555555555556,
             "#d8576b"
            ],
            [
             0.6666666666666666,
             "#ed7953"
            ],
            [
             0.7777777777777778,
             "#fb9f3a"
            ],
            [
             0.8888888888888888,
             "#fdca26"
            ],
            [
             1,
             "#f0f921"
            ]
           ]
          },
          "colorway": [
           "#636efa",
           "#EF553B",
           "#00cc96",
           "#ab63fa",
           "#FFA15A",
           "#19d3f3",
           "#FF6692",
           "#B6E880",
           "#FF97FF",
           "#FECB52"
          ],
          "font": {
           "color": "#2a3f5f"
          },
          "geo": {
           "bgcolor": "white",
           "lakecolor": "white",
           "landcolor": "#E5ECF6",
           "showlakes": true,
           "showland": true,
           "subunitcolor": "white"
          },
          "hoverlabel": {
           "align": "left"
          },
          "hovermode": "closest",
          "mapbox": {
           "style": "light"
          },
          "paper_bgcolor": "white",
          "plot_bgcolor": "#E5ECF6",
          "polar": {
           "angularaxis": {
            "gridcolor": "white",
            "linecolor": "white",
            "ticks": ""
           },
           "bgcolor": "#E5ECF6",
           "radialaxis": {
            "gridcolor": "white",
            "linecolor": "white",
            "ticks": ""
           }
          },
          "scene": {
           "xaxis": {
            "backgroundcolor": "#E5ECF6",
            "gridcolor": "white",
            "gridwidth": 2,
            "linecolor": "white",
            "showbackground": true,
            "ticks": "",
            "zerolinecolor": "white"
           },
           "yaxis": {
            "backgroundcolor": "#E5ECF6",
            "gridcolor": "white",
            "gridwidth": 2,
            "linecolor": "white",
            "showbackground": true,
            "ticks": "",
            "zerolinecolor": "white"
           },
           "zaxis": {
            "backgroundcolor": "#E5ECF6",
            "gridcolor": "white",
            "gridwidth": 2,
            "linecolor": "white",
            "showbackground": true,
            "ticks": "",
            "zerolinecolor": "white"
           }
          },
          "shapedefaults": {
           "line": {
            "color": "#2a3f5f"
           }
          },
          "ternary": {
           "aaxis": {
            "gridcolor": "white",
            "linecolor": "white",
            "ticks": ""
           },
           "baxis": {
            "gridcolor": "white",
            "linecolor": "white",
            "ticks": ""
           },
           "bgcolor": "#E5ECF6",
           "caxis": {
            "gridcolor": "white",
            "linecolor": "white",
            "ticks": ""
           }
          },
          "title": {
           "x": 0.05
          },
          "xaxis": {
           "automargin": true,
           "gridcolor": "white",
           "linecolor": "white",
           "ticks": "",
           "title": {
            "standoff": 15
           },
           "zerolinecolor": "white",
           "zerolinewidth": 2
          },
          "yaxis": {
           "automargin": true,
           "gridcolor": "white",
           "linecolor": "white",
           "ticks": "",
           "title": {
            "standoff": 15
           },
           "zerolinecolor": "white",
           "zerolinewidth": 2
          }
         }
        },
        "xaxis": {
         "anchor": "y",
         "domain": [
          0,
          1
         ],
         "title": {
          "text": "# Trades"
         }
        },
        "yaxis": {
         "anchor": "x",
         "domain": [
          0,
          1
         ],
         "title": {
          "text": "SQN"
         }
        }
       }
      }
     },
     "metadata": {},
     "output_type": "display_data"
    }
   ],
   "source": [
    "fig"
   ]
  },
  {
   "cell_type": "code",
   "execution_count": null,
   "metadata": {},
   "outputs": [
    {
     "data": {
      "text/html": [
       "<div>\n",
       "<style scoped>\n",
       "    .dataframe tbody tr th:only-of-type {\n",
       "        vertical-align: middle;\n",
       "    }\n",
       "\n",
       "    .dataframe tbody tr th {\n",
       "        vertical-align: top;\n",
       "    }\n",
       "\n",
       "    .dataframe thead th {\n",
       "        text-align: right;\n",
       "    }\n",
       "</style>\n",
       "<table border=\"1\" class=\"dataframe\">\n",
       "  <thead>\n",
       "    <tr style=\"text-align: right;\">\n",
       "      <th></th>\n",
       "      <th>Start</th>\n",
       "      <th>End</th>\n",
       "      <th>Duration</th>\n",
       "      <th>Exposure Time [%]</th>\n",
       "      <th>Equity Final [$]</th>\n",
       "      <th>Equity Peak [$]</th>\n",
       "      <th>Return [%]</th>\n",
       "      <th>Buy &amp; Hold Return [%]</th>\n",
       "      <th>Return (Ann.) [%]</th>\n",
       "      <th>Volatility (Ann.) [%]</th>\n",
       "      <th>...</th>\n",
       "      <th>Avg. Trade [%]</th>\n",
       "      <th>Max. Trade Duration</th>\n",
       "      <th>Avg. Trade Duration</th>\n",
       "      <th>Profit Factor</th>\n",
       "      <th>Expectancy [%]</th>\n",
       "      <th>SQN</th>\n",
       "      <th>_strategy</th>\n",
       "      <th>_equity_curve</th>\n",
       "      <th>_trades</th>\n",
       "      <th>relative return</th>\n",
       "    </tr>\n",
       "    <tr>\n",
       "      <th>index</th>\n",
       "      <th></th>\n",
       "      <th></th>\n",
       "      <th></th>\n",
       "      <th></th>\n",
       "      <th></th>\n",
       "      <th></th>\n",
       "      <th></th>\n",
       "      <th></th>\n",
       "      <th></th>\n",
       "      <th></th>\n",
       "      <th></th>\n",
       "      <th></th>\n",
       "      <th></th>\n",
       "      <th></th>\n",
       "      <th></th>\n",
       "      <th></th>\n",
       "      <th></th>\n",
       "      <th></th>\n",
       "      <th></th>\n",
       "      <th></th>\n",
       "      <th></th>\n",
       "    </tr>\n",
       "  </thead>\n",
       "  <tbody>\n",
       "    <tr>\n",
       "      <th>0</th>\n",
       "      <td>2016-02-16</td>\n",
       "      <td>2017-03-15</td>\n",
       "      <td>393 days</td>\n",
       "      <td>87.179487</td>\n",
       "      <td>1796632.146286</td>\n",
       "      <td>2012360.850244</td>\n",
       "      <td>79.663215</td>\n",
       "      <td>229.623192</td>\n",
       "      <td>71.745507</td>\n",
       "      <td>62.785588</td>\n",
       "      <td>...</td>\n",
       "      <td>3.914745</td>\n",
       "      <td>112 days</td>\n",
       "      <td>21 days</td>\n",
       "      <td>4.009737</td>\n",
       "      <td>4.695485</td>\n",
       "      <td>1.270767</td>\n",
       "      <td>NEAT_strategy</td>\n",
       "      <td>Equity  DrawdownPct Drawdown...</td>\n",
       "      <td>Size  EntryBar  ExitBar  EntryPrice  Exit...</td>\n",
       "      <td>-149.959977</td>\n",
       "    </tr>\n",
       "    <tr>\n",
       "      <th>1</th>\n",
       "      <td>2001-07-11</td>\n",
       "      <td>2002-08-09</td>\n",
       "      <td>394 days</td>\n",
       "      <td>87.037037</td>\n",
       "      <td>736731.190339</td>\n",
       "      <td>1072396.296772</td>\n",
       "      <td>-26.326881</td>\n",
       "      <td>-0.818028</td>\n",
       "      <td>-24.81086</td>\n",
       "      <td>14.552304</td>\n",
       "      <td>...</td>\n",
       "      <td>-1.60754</td>\n",
       "      <td>55 days</td>\n",
       "      <td>13 days</td>\n",
       "      <td>0.531428</td>\n",
       "      <td>-1.445683</td>\n",
       "      <td>-1.537871</td>\n",
       "      <td>NEAT_strategy</td>\n",
       "      <td>Equity  DrawdownPct Drawdo...</td>\n",
       "      <td>Size  EntryBar  ExitBar  EntryPrice  Exit...</td>\n",
       "      <td>-25.508853</td>\n",
       "    </tr>\n",
       "    <tr>\n",
       "      <th>2</th>\n",
       "      <td>2000-02-10</td>\n",
       "      <td>2001-03-09</td>\n",
       "      <td>393 days</td>\n",
       "      <td>87.132353</td>\n",
       "      <td>902969.283547</td>\n",
       "      <td>1170803.242875</td>\n",
       "      <td>-9.703072</td>\n",
       "      <td>-28.558694</td>\n",
       "      <td>-9.022852</td>\n",
       "      <td>41.220568</td>\n",
       "      <td>...</td>\n",
       "      <td>-1.517561</td>\n",
       "      <td>82 days</td>\n",
       "      <td>13 days</td>\n",
       "      <td>0.732308</td>\n",
       "      <td>-1.092815</td>\n",
       "      <td>-0.300674</td>\n",
       "      <td>NEAT_strategy</td>\n",
       "      <td>Equity  DrawdownPct Drawdo...</td>\n",
       "      <td>Size  EntryBar  ExitBar  EntryPrice  Exit...</td>\n",
       "      <td>18.855623</td>\n",
       "    </tr>\n",
       "    <tr>\n",
       "      <th>3</th>\n",
       "      <td>2007-09-26</td>\n",
       "      <td>2008-10-24</td>\n",
       "      <td>394 days</td>\n",
       "      <td>87.226277</td>\n",
       "      <td>499251.123349</td>\n",
       "      <td>1010399.415611</td>\n",
       "      <td>-50.074888</td>\n",
       "      <td>-57.121405</td>\n",
       "      <td>-47.211222</td>\n",
       "      <td>16.089311</td>\n",
       "      <td>...</td>\n",
       "      <td>-1.532602</td>\n",
       "      <td>78 days</td>\n",
       "      <td>13 days</td>\n",
       "      <td>0.737324</td>\n",
       "      <td>-1.068221</td>\n",
       "      <td>-2.099786</td>\n",
       "      <td>NEAT_strategy</td>\n",
       "      <td>Equity  DrawdownPct Drawdo...</td>\n",
       "      <td>Size  EntryBar  ExitBar  EntryPrice  Exit...</td>\n",
       "      <td>7.046517</td>\n",
       "    </tr>\n",
       "    <tr>\n",
       "      <th>4</th>\n",
       "      <td>2019-08-06</td>\n",
       "      <td>2020-09-04</td>\n",
       "      <td>395 days</td>\n",
       "      <td>87.272727</td>\n",
       "      <td>1740764.914308</td>\n",
       "      <td>1824688.826695</td>\n",
       "      <td>74.076491</td>\n",
       "      <td>47.492447</td>\n",
       "      <td>66.190233</td>\n",
       "      <td>57.704971</td>\n",
       "      <td>...</td>\n",
       "      <td>5.725099</td>\n",
       "      <td>84 days</td>\n",
       "      <td>23 days</td>\n",
       "      <td>4.954235</td>\n",
       "      <td>7.222115</td>\n",
       "      <td>1.293865</td>\n",
       "      <td>NEAT_strategy</td>\n",
       "      <td>Equity  DrawdownPct Drawdown...</td>\n",
       "      <td>Size  EntryBar  ExitBar  EntryPrice  Exit...</td>\n",
       "      <td>26.584045</td>\n",
       "    </tr>\n",
       "    <tr>\n",
       "      <th>...</th>\n",
       "      <td>...</td>\n",
       "      <td>...</td>\n",
       "      <td>...</td>\n",
       "      <td>...</td>\n",
       "      <td>...</td>\n",
       "      <td>...</td>\n",
       "      <td>...</td>\n",
       "      <td>...</td>\n",
       "      <td>...</td>\n",
       "      <td>...</td>\n",
       "      <td>...</td>\n",
       "      <td>...</td>\n",
       "      <td>...</td>\n",
       "      <td>...</td>\n",
       "      <td>...</td>\n",
       "      <td>...</td>\n",
       "      <td>...</td>\n",
       "      <td>...</td>\n",
       "      <td>...</td>\n",
       "      <td>...</td>\n",
       "      <td>...</td>\n",
       "    </tr>\n",
       "    <tr>\n",
       "      <th>95</th>\n",
       "      <td>2011-11-28</td>\n",
       "      <td>2012-12-24</td>\n",
       "      <td>392 days</td>\n",
       "      <td>86.666667</td>\n",
       "      <td>980761.367283</td>\n",
       "      <td>1038136.390491</td>\n",
       "      <td>-1.923863</td>\n",
       "      <td>-0.039632</td>\n",
       "      <td>-1.796765</td>\n",
       "      <td>18.972592</td>\n",
       "      <td>...</td>\n",
       "      <td>-0.925171</td>\n",
       "      <td>57 days</td>\n",
       "      <td>11 days</td>\n",
       "      <td>0.436546</td>\n",
       "      <td>-0.876392</td>\n",
       "      <td>-0.144212</td>\n",
       "      <td>NEAT_strategy</td>\n",
       "      <td>Equity  DrawdownPct Drawdown...</td>\n",
       "      <td>Size  EntryBar  ExitBar  EntryPrice  Exi...</td>\n",
       "      <td>-1.884231</td>\n",
       "    </tr>\n",
       "    <tr>\n",
       "      <th>96</th>\n",
       "      <td>2016-04-26</td>\n",
       "      <td>2017-05-26</td>\n",
       "      <td>395 days</td>\n",
       "      <td>87.272727</td>\n",
       "      <td>1027454.828855</td>\n",
       "      <td>1129930.891918</td>\n",
       "      <td>2.745483</td>\n",
       "      <td>44.782731</td>\n",
       "      <td>2.513</td>\n",
       "      <td>20.831748</td>\n",
       "      <td>...</td>\n",
       "      <td>-0.936058</td>\n",
       "      <td>71 days</td>\n",
       "      <td>18 days</td>\n",
       "      <td>0.710051</td>\n",
       "      <td>-0.781256</td>\n",
       "      <td>0.125961</td>\n",
       "      <td>NEAT_strategy</td>\n",
       "      <td>Equity  DrawdownPct Drawdown...</td>\n",
       "      <td>Size  EntryBar  ExitBar  EntryPrice  Exit...</td>\n",
       "      <td>-42.037248</td>\n",
       "    </tr>\n",
       "    <tr>\n",
       "      <th>97</th>\n",
       "      <td>2013-11-13</td>\n",
       "      <td>2014-12-12</td>\n",
       "      <td>394 days</td>\n",
       "      <td>87.179487</td>\n",
       "      <td>910142.097945</td>\n",
       "      <td>1031717.368801</td>\n",
       "      <td>-8.985790</td>\n",
       "      <td>13.583132</td>\n",
       "      <td>-8.324213</td>\n",
       "      <td>16.297239</td>\n",
       "      <td>...</td>\n",
       "      <td>-1.206362</td>\n",
       "      <td>120 days</td>\n",
       "      <td>15 days</td>\n",
       "      <td>0.543401</td>\n",
       "      <td>-1.024508</td>\n",
       "      <td>-0.419419</td>\n",
       "      <td>NEAT_strategy</td>\n",
       "      <td>Equity  DrawdownPct Drawdo...</td>\n",
       "      <td>Size  EntryBar  ExitBar  EntryPrice  Exit...</td>\n",
       "      <td>-22.568922</td>\n",
       "    </tr>\n",
       "    <tr>\n",
       "      <th>98</th>\n",
       "      <td>2015-12-01</td>\n",
       "      <td>2016-12-30</td>\n",
       "      <td>395 days</td>\n",
       "      <td>86.861314</td>\n",
       "      <td>1109104.345519</td>\n",
       "      <td>1624667.778003</td>\n",
       "      <td>10.910435</td>\n",
       "      <td>26.939656</td>\n",
       "      <td>9.992097</td>\n",
       "      <td>49.12288</td>\n",
       "      <td>...</td>\n",
       "      <td>1.781452</td>\n",
       "      <td>77 days</td>\n",
       "      <td>21 days</td>\n",
       "      <td>1.867039</td>\n",
       "      <td>2.391422</td>\n",
       "      <td>0.200772</td>\n",
       "      <td>NEAT_strategy</td>\n",
       "      <td>Equity  DrawdownPct Drawdown...</td>\n",
       "      <td>Size  EntryBar  ExitBar  EntryPrice  Exi...</td>\n",
       "      <td>-16.029221</td>\n",
       "    </tr>\n",
       "    <tr>\n",
       "      <th>99</th>\n",
       "      <td>2012-11-08</td>\n",
       "      <td>2013-12-06</td>\n",
       "      <td>393 days</td>\n",
       "      <td>87.132353</td>\n",
       "      <td>1712676.627877</td>\n",
       "      <td>1727730.40442</td>\n",
       "      <td>71.267663</td>\n",
       "      <td>99.346078</td>\n",
       "      <td>64.624079</td>\n",
       "      <td>27.669734</td>\n",
       "      <td>...</td>\n",
       "      <td>4.283456</td>\n",
       "      <td>162 days</td>\n",
       "      <td>28 days</td>\n",
       "      <td>5.524165</td>\n",
       "      <td>4.959358</td>\n",
       "      <td>1.302563</td>\n",
       "      <td>NEAT_strategy</td>\n",
       "      <td>Equity  DrawdownPct Drawdown...</td>\n",
       "      <td>Size  EntryBar  ExitBar  EntryPrice  Exit...</td>\n",
       "      <td>-28.078416</td>\n",
       "    </tr>\n",
       "  </tbody>\n",
       "</table>\n",
       "<p>100 rows × 31 columns</p>\n",
       "</div>"
      ],
      "text/plain": [
       "           Start        End Duration Exposure Time [%] Equity Final [$]  \\\n",
       "index                                                                     \n",
       "0     2016-02-16 2017-03-15 393 days         87.179487   1796632.146286   \n",
       "1     2001-07-11 2002-08-09 394 days         87.037037    736731.190339   \n",
       "2     2000-02-10 2001-03-09 393 days         87.132353    902969.283547   \n",
       "3     2007-09-26 2008-10-24 394 days         87.226277    499251.123349   \n",
       "4     2019-08-06 2020-09-04 395 days         87.272727   1740764.914308   \n",
       "...          ...        ...      ...               ...              ...   \n",
       "95    2011-11-28 2012-12-24 392 days         86.666667    980761.367283   \n",
       "96    2016-04-26 2017-05-26 395 days         87.272727   1027454.828855   \n",
       "97    2013-11-13 2014-12-12 394 days         87.179487    910142.097945   \n",
       "98    2015-12-01 2016-12-30 395 days         86.861314   1109104.345519   \n",
       "99    2012-11-08 2013-12-06 393 days         87.132353   1712676.627877   \n",
       "\n",
       "      Equity Peak [$]  Return [%] Buy & Hold Return [%] Return (Ann.) [%]  \\\n",
       "index                                                                       \n",
       "0      2012360.850244   79.663215            229.623192         71.745507   \n",
       "1      1072396.296772  -26.326881             -0.818028         -24.81086   \n",
       "2      1170803.242875   -9.703072            -28.558694         -9.022852   \n",
       "3      1010399.415611  -50.074888            -57.121405        -47.211222   \n",
       "4      1824688.826695   74.076491             47.492447         66.190233   \n",
       "...               ...         ...                   ...               ...   \n",
       "95     1038136.390491   -1.923863             -0.039632         -1.796765   \n",
       "96     1129930.891918    2.745483             44.782731             2.513   \n",
       "97     1031717.368801   -8.985790             13.583132         -8.324213   \n",
       "98     1624667.778003   10.910435             26.939656          9.992097   \n",
       "99      1727730.40442   71.267663             99.346078         64.624079   \n",
       "\n",
       "      Volatility (Ann.) [%]  ... Avg. Trade [%] Max. Trade Duration  \\\n",
       "index                        ...                                      \n",
       "0                 62.785588  ...       3.914745            112 days   \n",
       "1                 14.552304  ...       -1.60754             55 days   \n",
       "2                 41.220568  ...      -1.517561             82 days   \n",
       "3                 16.089311  ...      -1.532602             78 days   \n",
       "4                 57.704971  ...       5.725099             84 days   \n",
       "...                     ...  ...            ...                 ...   \n",
       "95                18.972592  ...      -0.925171             57 days   \n",
       "96                20.831748  ...      -0.936058             71 days   \n",
       "97                16.297239  ...      -1.206362            120 days   \n",
       "98                 49.12288  ...       1.781452             77 days   \n",
       "99                27.669734  ...       4.283456            162 days   \n",
       "\n",
       "      Avg. Trade Duration Profit Factor Expectancy [%]       SQN  \\\n",
       "index                                                              \n",
       "0                 21 days      4.009737       4.695485  1.270767   \n",
       "1                 13 days      0.531428      -1.445683 -1.537871   \n",
       "2                 13 days      0.732308      -1.092815 -0.300674   \n",
       "3                 13 days      0.737324      -1.068221 -2.099786   \n",
       "4                 23 days      4.954235       7.222115  1.293865   \n",
       "...                   ...           ...            ...       ...   \n",
       "95                11 days      0.436546      -0.876392 -0.144212   \n",
       "96                18 days      0.710051      -0.781256  0.125961   \n",
       "97                15 days      0.543401      -1.024508 -0.419419   \n",
       "98                21 days      1.867039       2.391422  0.200772   \n",
       "99                28 days      5.524165       4.959358  1.302563   \n",
       "\n",
       "           _strategy                                      _equity_curve  \\\n",
       "index                                                                     \n",
       "0      NEAT_strategy                    Equity  DrawdownPct Drawdown...   \n",
       "1      NEAT_strategy                      Equity  DrawdownPct Drawdo...   \n",
       "2      NEAT_strategy                      Equity  DrawdownPct Drawdo...   \n",
       "3      NEAT_strategy                      Equity  DrawdownPct Drawdo...   \n",
       "4      NEAT_strategy                    Equity  DrawdownPct Drawdown...   \n",
       "...              ...                                                ...   \n",
       "95     NEAT_strategy                    Equity  DrawdownPct Drawdown...   \n",
       "96     NEAT_strategy                    Equity  DrawdownPct Drawdown...   \n",
       "97     NEAT_strategy                      Equity  DrawdownPct Drawdo...   \n",
       "98     NEAT_strategy                    Equity  DrawdownPct Drawdown...   \n",
       "99     NEAT_strategy                    Equity  DrawdownPct Drawdown...   \n",
       "\n",
       "                                                 _trades relative return  \n",
       "index                                                                     \n",
       "0           Size  EntryBar  ExitBar  EntryPrice  Exit...     -149.959977  \n",
       "1           Size  EntryBar  ExitBar  EntryPrice  Exit...      -25.508853  \n",
       "2           Size  EntryBar  ExitBar  EntryPrice  Exit...       18.855623  \n",
       "3           Size  EntryBar  ExitBar  EntryPrice  Exit...        7.046517  \n",
       "4           Size  EntryBar  ExitBar  EntryPrice  Exit...       26.584045  \n",
       "...                                                  ...             ...  \n",
       "95           Size  EntryBar  ExitBar  EntryPrice  Exi...       -1.884231  \n",
       "96          Size  EntryBar  ExitBar  EntryPrice  Exit...      -42.037248  \n",
       "97          Size  EntryBar  ExitBar  EntryPrice  Exit...      -22.568922  \n",
       "98           Size  EntryBar  ExitBar  EntryPrice  Exi...      -16.029221  \n",
       "99          Size  EntryBar  ExitBar  EntryPrice  Exit...      -28.078416  \n",
       "\n",
       "[100 rows x 31 columns]"
      ]
     },
     "execution_count": 65,
     "metadata": {},
     "output_type": "execute_result"
    }
   ],
   "source": [
    "performance"
   ]
  },
  {
   "cell_type": "code",
   "execution_count": null,
   "metadata": {},
   "outputs": [],
   "source": [
    "node_names = {\n",
    "        -1: 'long_position', \n",
    "        -2: 'short_position',\n",
    "        -3: 'sma5',\n",
    "        -4: 'sma10',\n",
    "        -5: 'slowk',\n",
    "        -6: 'slowd',\n",
    "        -7: 'macdhist_diff',\n",
    "        -8: 'cci',\n",
    "        -9: 'willr',\n",
    "        -10: 'rsi',\n",
    "        -11: 'adosc',\n",
    "    \n",
    "        0: 'buy',\n",
    "        1: 'sell',\n",
    "        \n",
    "        2: 'volume'\n",
    "        }"
   ]
  },
  {
   "cell_type": "code",
   "execution_count": null,
   "metadata": {},
   "outputs": [
    {
     "ename": "NameError",
     "evalue": "name 'config' is not defined",
     "output_type": "error",
     "traceback": [
      "\u001b[1;31m---------------------------------------------------------------------------\u001b[0m",
      "\u001b[1;31mNameError\u001b[0m                                 Traceback (most recent call last)",
      "\u001b[1;32mc:\\Users\\USER\\OneDrive - 國立陽明交通大學\\文件\\academic\\大四上\\演化計算\\Project\\main.ipynb 儲存格 39\u001b[0m in \u001b[0;36m<cell line: 1>\u001b[1;34m()\u001b[0m\n\u001b[1;32m----> <a href='vscode-notebook-cell:/c%3A/Users/USER/OneDrive%20-%20%E5%9C%8B%E7%AB%8B%E9%99%BD%E6%98%8E%E4%BA%A4%E9%80%9A%E5%A4%A7%E5%AD%B8/%E6%96%87%E4%BB%B6/academic/%E5%A4%A7%E5%9B%9B%E4%B8%8A/%E6%BC%94%E5%8C%96%E8%A8%88%E7%AE%97/Project/main.ipynb#X52sZmlsZQ%3D%3D?line=0'>1</a>\u001b[0m visualize\u001b[39m.\u001b[39mdraw_net(config, individual, \u001b[39mTrue\u001b[39;00m\n\u001b[0;32m      <a href='vscode-notebook-cell:/c%3A/Users/USER/OneDrive%20-%20%E5%9C%8B%E7%AB%8B%E9%99%BD%E6%98%8E%E4%BA%A4%E9%80%9A%E5%A4%A7%E5%AD%B8/%E6%96%87%E4%BB%B6/academic/%E5%A4%A7%E5%9B%9B%E4%B8%8A/%E6%BC%94%E5%8C%96%E8%A8%88%E7%AE%97/Project/main.ipynb#X52sZmlsZQ%3D%3D?line=1'>2</a>\u001b[0m         , node_names\u001b[39m=\u001b[39mnode_names\n\u001b[0;32m      <a href='vscode-notebook-cell:/c%3A/Users/USER/OneDrive%20-%20%E5%9C%8B%E7%AB%8B%E9%99%BD%E6%98%8E%E4%BA%A4%E9%80%9A%E5%A4%A7%E5%AD%B8/%E6%96%87%E4%BB%B6/academic/%E5%A4%A7%E5%9B%9B%E4%B8%8A/%E6%BC%94%E5%8C%96%E8%A8%88%E7%AE%97/Project/main.ipynb#X52sZmlsZQ%3D%3D?line=2'>3</a>\u001b[0m         )\n",
      "\u001b[1;31mNameError\u001b[0m: name 'config' is not defined"
     ]
    }
   ],
   "source": [
    "visualize.draw_net(config_path, individual, True\n",
    "        , node_names=node_names\n",
    "        )"
   ]
  },
  {
   "cell_type": "code",
   "execution_count": null,
   "metadata": {},
   "outputs": [
    {
     "name": "stdout",
     "output_type": "stream",
     "text": [
      "Start                     2014-03-19 00:00:00\n",
      "End                       2015-04-13 00:00:00\n",
      "Duration                    390 days 00:00:00\n",
      "Exposure Time [%]                   86.988848\n",
      "Equity Final [$]               1133597.472228\n",
      "Equity Peak [$]                1133597.472228\n",
      "Return [%]                          13.359747\n",
      "Buy & Hold Return [%]                11.75098\n",
      "Return (Ann.) [%]                   12.464959\n",
      "Volatility (Ann.) [%]               15.942192\n",
      "Sharpe Ratio                         0.781885\n",
      "Sortino Ratio                        1.765513\n",
      "Calmar Ratio                         1.289098\n",
      "Max. Drawdown [%]                   -9.669522\n",
      "Avg. Drawdown [%]                   -2.703689\n",
      "Max. Drawdown Duration       98 days 00:00:00\n",
      "Avg. Drawdown Duration       37 days 00:00:00\n",
      "# Trades                                   37\n",
      "Win Rate [%]                        56.756757\n",
      "Best Trade [%]                       9.834014\n",
      "Worst Trade [%]                     -6.654867\n",
      "Avg. Trade [%]                        0.75725\n",
      "Max. Trade Duration          43 days 00:00:00\n",
      "Avg. Trade Duration          11 days 00:00:00\n",
      "Profit Factor                        2.317718\n",
      "Expectancy [%]                       0.802876\n",
      "SQN                                   1.06026\n",
      "_strategy                       NEAT_strategy\n",
      "_equity_curve                             ...\n",
      "_trades                        Size  Entry...\n",
      "dtype: object\n"
     ]
    }
   ],
   "source": [
    "backtesting_data = eval.generate_random_data(is_test=False, num_date=360)\n",
    "net = neat.nn.FeedForwardNetwork.create(individual, config_path)\n",
    "perfor, bt = backtest(net, backtesting_data)\n",
    "print(perfor)"
   ]
  },
  {
   "cell_type": "code",
   "execution_count": null,
   "metadata": {},
   "outputs": [
    {
     "data": {
      "text/html": [
       "<div style=\"display: table;\"><div style=\"display: table-row;\"><div style=\"display: table-cell;\"><b title=\"bokeh.models.layouts.Row\">Row</b>(</div><div style=\"display: table-cell;\">id&nbsp;=&nbsp;'26003', <span id=\"27202\" style=\"cursor: pointer;\">&hellip;)</span></div></div><div class=\"27201\" style=\"display: none;\"><div style=\"display: table-cell;\"></div><div style=\"display: table-cell;\">align&nbsp;=&nbsp;'start',</div></div><div class=\"27201\" style=\"display: none;\"><div style=\"display: table-cell;\"></div><div style=\"display: table-cell;\">aspect_ratio&nbsp;=&nbsp;None,</div></div><div class=\"27201\" style=\"display: none;\"><div style=\"display: table-cell;\"></div><div style=\"display: table-cell;\">background&nbsp;=&nbsp;None,</div></div><div class=\"27201\" style=\"display: none;\"><div style=\"display: table-cell;\"></div><div style=\"display: table-cell;\">children&nbsp;=&nbsp;[GridBox(id='26000', ...), ToolbarBox(id='26002', ...)],</div></div><div class=\"27201\" style=\"display: none;\"><div style=\"display: table-cell;\"></div><div style=\"display: table-cell;\">cols&nbsp;=&nbsp;'auto',</div></div><div class=\"27201\" style=\"display: none;\"><div style=\"display: table-cell;\"></div><div style=\"display: table-cell;\">css_classes&nbsp;=&nbsp;[],</div></div><div class=\"27201\" style=\"display: none;\"><div style=\"display: table-cell;\"></div><div style=\"display: table-cell;\">disabled&nbsp;=&nbsp;False,</div></div><div class=\"27201\" style=\"display: none;\"><div style=\"display: table-cell;\"></div><div style=\"display: table-cell;\">height&nbsp;=&nbsp;None,</div></div><div class=\"27201\" style=\"display: none;\"><div style=\"display: table-cell;\"></div><div style=\"display: table-cell;\">height_policy&nbsp;=&nbsp;'auto',</div></div><div class=\"27201\" style=\"display: none;\"><div style=\"display: table-cell;\"></div><div style=\"display: table-cell;\">js_event_callbacks&nbsp;=&nbsp;{},</div></div><div class=\"27201\" style=\"display: none;\"><div style=\"display: table-cell;\"></div><div style=\"display: table-cell;\">js_property_callbacks&nbsp;=&nbsp;{},</div></div><div class=\"27201\" style=\"display: none;\"><div style=\"display: table-cell;\"></div><div style=\"display: table-cell;\">margin&nbsp;=&nbsp;(0, 0, 0, 0),</div></div><div class=\"27201\" style=\"display: none;\"><div style=\"display: table-cell;\"></div><div style=\"display: table-cell;\">max_height&nbsp;=&nbsp;None,</div></div><div class=\"27201\" style=\"display: none;\"><div style=\"display: table-cell;\"></div><div style=\"display: table-cell;\">max_width&nbsp;=&nbsp;None,</div></div><div class=\"27201\" style=\"display: none;\"><div style=\"display: table-cell;\"></div><div style=\"display: table-cell;\">min_height&nbsp;=&nbsp;None,</div></div><div class=\"27201\" style=\"display: none;\"><div style=\"display: table-cell;\"></div><div style=\"display: table-cell;\">min_width&nbsp;=&nbsp;None,</div></div><div class=\"27201\" style=\"display: none;\"><div style=\"display: table-cell;\"></div><div style=\"display: table-cell;\">name&nbsp;=&nbsp;None,</div></div><div class=\"27201\" style=\"display: none;\"><div style=\"display: table-cell;\"></div><div style=\"display: table-cell;\">sizing_mode&nbsp;=&nbsp;None,</div></div><div class=\"27201\" style=\"display: none;\"><div style=\"display: table-cell;\"></div><div style=\"display: table-cell;\">spacing&nbsp;=&nbsp;0,</div></div><div class=\"27201\" style=\"display: none;\"><div style=\"display: table-cell;\"></div><div style=\"display: table-cell;\">subscribed_events&nbsp;=&nbsp;[],</div></div><div class=\"27201\" style=\"display: none;\"><div style=\"display: table-cell;\"></div><div style=\"display: table-cell;\">syncable&nbsp;=&nbsp;True,</div></div><div class=\"27201\" style=\"display: none;\"><div style=\"display: table-cell;\"></div><div style=\"display: table-cell;\">tags&nbsp;=&nbsp;[],</div></div><div class=\"27201\" style=\"display: none;\"><div style=\"display: table-cell;\"></div><div style=\"display: table-cell;\">visible&nbsp;=&nbsp;True,</div></div><div class=\"27201\" style=\"display: none;\"><div style=\"display: table-cell;\"></div><div style=\"display: table-cell;\">width&nbsp;=&nbsp;None,</div></div><div class=\"27201\" style=\"display: none;\"><div style=\"display: table-cell;\"></div><div style=\"display: table-cell;\">width_policy&nbsp;=&nbsp;'auto')</div></div></div>\n",
       "<script>\n",
       "(function() {\n",
       "  let expanded = false;\n",
       "  const ellipsis = document.getElementById(\"27202\");\n",
       "  ellipsis.addEventListener(\"click\", function() {\n",
       "    const rows = document.getElementsByClassName(\"27201\");\n",
       "    for (let i = 0; i < rows.length; i++) {\n",
       "      const el = rows[i];\n",
       "      el.style.display = expanded ? \"none\" : \"table-row\";\n",
       "    }\n",
       "    ellipsis.innerHTML = expanded ? \"&hellip;)\" : \"&lsaquo;&lsaquo;&lsaquo;\";\n",
       "    expanded = !expanded;\n",
       "  });\n",
       "})();\n",
       "</script>\n"
      ],
      "text/plain": [
       "Row(id='26003', ...)"
      ]
     },
     "execution_count": 93,
     "metadata": {},
     "output_type": "execute_result"
    }
   ],
   "source": [
    "bt.plot(plot_width=1500)"
   ]
  },
  {
   "cell_type": "code",
   "execution_count": null,
   "metadata": {},
   "outputs": [],
   "source": [
    " visualize.draw_net(config_path, winner, True\n",
    "        , node_names=node_names\n",
    "        )\n",
    "        print(performance)\n",
    "        bt.plot(plot_width=1500, filename=file_name+'/Performance_{}.html'.format(backtesting_data['Ticker'][0]))"
   ]
  },
  {
   "cell_type": "code",
   "execution_count": null,
   "metadata": {},
   "outputs": [],
   "source": [
    "performances = pd.DataFrame(performances)"
   ]
  },
  {
   "cell_type": "code",
   "execution_count": null,
   "metadata": {},
   "outputs": [
    {
     "data": {
      "text/html": [
       "<div>\n",
       "<style scoped>\n",
       "    .dataframe tbody tr th:only-of-type {\n",
       "        vertical-align: middle;\n",
       "    }\n",
       "\n",
       "    .dataframe tbody tr th {\n",
       "        vertical-align: top;\n",
       "    }\n",
       "\n",
       "    .dataframe thead th {\n",
       "        text-align: right;\n",
       "    }\n",
       "</style>\n",
       "<table border=\"1\" class=\"dataframe\">\n",
       "  <thead>\n",
       "    <tr style=\"text-align: right;\">\n",
       "      <th></th>\n",
       "      <th>240935</th>\n",
       "    </tr>\n",
       "  </thead>\n",
       "  <tbody>\n",
       "    <tr>\n",
       "      <th>0</th>\n",
       "      <td>Start                     2003-11-17 00:00:00\n",
       "...</td>\n",
       "    </tr>\n",
       "    <tr>\n",
       "      <th>1</th>\n",
       "      <td>Start                     2010-05-18 00:00:00\n",
       "...</td>\n",
       "    </tr>\n",
       "    <tr>\n",
       "      <th>2</th>\n",
       "      <td>Start                     2014-10-23 00:00:00\n",
       "...</td>\n",
       "    </tr>\n",
       "    <tr>\n",
       "      <th>3</th>\n",
       "      <td>Start                     2020-12-31 00:00:00\n",
       "...</td>\n",
       "    </tr>\n",
       "    <tr>\n",
       "      <th>4</th>\n",
       "      <td>Start                     2019-06-03 00:00:00\n",
       "...</td>\n",
       "    </tr>\n",
       "  </tbody>\n",
       "</table>\n",
       "</div>"
      ],
      "text/plain": [
       "                                              240935\n",
       "0  Start                     2003-11-17 00:00:00\n",
       "...\n",
       "1  Start                     2010-05-18 00:00:00\n",
       "...\n",
       "2  Start                     2014-10-23 00:00:00\n",
       "...\n",
       "3  Start                     2020-12-31 00:00:00\n",
       "...\n",
       "4  Start                     2019-06-03 00:00:00\n",
       "..."
      ]
     },
     "execution_count": 16,
     "metadata": {},
     "output_type": "execute_result"
    }
   ],
   "source": [
    "pd.DataFrame(performances.iloc[:,0])"
   ]
  },
  {
   "cell_type": "code",
   "execution_count": null,
   "metadata": {},
   "outputs": [],
   "source": [
    "with open(file_name+'winner.pkl', 'rb') as f:\n",
    "        winner = pickle.load(f)"
   ]
  },
  {
   "cell_type": "code",
   "execution_count": null,
   "metadata": {},
   "outputs": [],
   "source": [
    "config_path = neat.Config(neat.DefaultGenome, neat.DefaultReproduction,\n",
    "                         neat.DefaultSpeciesSet, neat.DefaultStagnation,\n",
    "                         'config-feedforward')"
   ]
  },
  {
   "cell_type": "code",
   "execution_count": null,
   "metadata": {},
   "outputs": [
    {
     "data": {
      "text/plain": [
       "-2.3821055662809294"
      ]
     },
     "execution_count": 6,
     "metadata": {},
     "output_type": "execute_result"
    }
   ],
   "source": [
    "evaluate().fitness_fn(performance)"
   ]
  },
  {
   "cell_type": "code",
   "execution_count": null,
   "metadata": {},
   "outputs": [
    {
     "data": {
      "image/svg+xml": [
       "<?xml version=\"1.0\" encoding=\"UTF-8\" standalone=\"no\"?>\n",
       "<!DOCTYPE svg PUBLIC \"-//W3C//DTD SVG 1.1//EN\"\n",
       " \"http://www.w3.org/Graphics/SVG/1.1/DTD/svg11.dtd\">\n",
       "<!-- Generated by graphviz version 7.0.2 (20221119.0110)\n",
       " -->\n",
       "<!-- Pages: 1 -->\n",
       "<svg width=\"469pt\" height=\"707pt\"\n",
       " viewBox=\"0.00 0.00 469.08 706.89\" xmlns=\"http://www.w3.org/2000/svg\" xmlns:xlink=\"http://www.w3.org/1999/xlink\">\n",
       "<g id=\"graph0\" class=\"graph\" transform=\"scale(1 1) rotate(0) translate(4 702.89)\">\n",
       "<polygon fill=\"white\" stroke=\"none\" points=\"-4,4 -4,-702.89 465.08,-702.89 465.08,4 -4,4\"/>\n",
       "<!-- position -->\n",
       "<g id=\"node1\" class=\"node\">\n",
       "<title>position</title>\n",
       "<polygon fill=\"lightgray\" stroke=\"black\" points=\"47,-680.31 0,-680.31 0,-662.31 47,-662.31 47,-680.31\"/>\n",
       "<text text-anchor=\"middle\" x=\"23.5\" y=\"-669.11\" font-family=\"Times New Roman,serif\" font-size=\"9.00\">position</text>\n",
       "</g>\n",
       "<!-- profit_loss -->\n",
       "<g id=\"node2\" class=\"node\">\n",
       "<title>profit_loss</title>\n",
       "<polygon fill=\"lightgray\" stroke=\"black\" points=\"121.5,-680.31 65.5,-680.31 65.5,-662.31 121.5,-662.31 121.5,-680.31\"/>\n",
       "<text text-anchor=\"middle\" x=\"93.5\" y=\"-669.11\" font-family=\"Times New Roman,serif\" font-size=\"9.00\">profit_loss</text>\n",
       "</g>\n",
       "<!-- 10369 -->\n",
       "<g id=\"node11\" class=\"node\">\n",
       "<title>10369</title>\n",
       "<ellipse fill=\"white\" stroke=\"black\" cx=\"126.5\" cy=\"-580.16\" rx=\"27.65\" ry=\"27.65\"/>\n",
       "<text text-anchor=\"middle\" x=\"126.5\" y=\"-577.96\" font-family=\"Times New Roman,serif\" font-size=\"9.00\">10369</text>\n",
       "</g>\n",
       "<!-- profit_loss&#45;&gt;10369 -->\n",
       "<g id=\"edge16\" class=\"edge\">\n",
       "<title>profit_loss&#45;&gt;10369</title>\n",
       "<path fill=\"none\" stroke=\"green\" stroke-width=\"0.26\" d=\"M96.55,-662.09C100.41,-651.64 107.33,-632.94 113.55,-616.15\"/>\n",
       "<polygon fill=\"green\" stroke=\"green\" stroke-width=\"0.26\" points=\"116.77,-617.53 116.96,-606.93 110.21,-615.1 116.77,-617.53\"/>\n",
       "</g>\n",
       "<!-- sma5 -->\n",
       "<g id=\"node3\" class=\"node\">\n",
       "<title>sma5</title>\n",
       "<polygon fill=\"lightgray\" stroke=\"black\" points=\"395,-406.85 360,-406.85 360,-388.85 395,-388.85 395,-406.85\"/>\n",
       "<text text-anchor=\"middle\" x=\"377.5\" y=\"-395.65\" font-family=\"Times New Roman,serif\" font-size=\"9.00\">sma5</text>\n",
       "</g>\n",
       "<!-- 12751 -->\n",
       "<g id=\"node17\" class=\"node\">\n",
       "<title>12751</title>\n",
       "<ellipse fill=\"white\" stroke=\"black\" cx=\"321.5\" cy=\"-306.7\" rx=\"27.65\" ry=\"27.65\"/>\n",
       "<text text-anchor=\"middle\" x=\"321.5\" y=\"-304.5\" font-family=\"Times New Roman,serif\" font-size=\"9.00\">12751</text>\n",
       "</g>\n",
       "<!-- sma5&#45;&gt;12751 -->\n",
       "<g id=\"edge19\" class=\"edge\">\n",
       "<title>sma5&#45;&gt;12751</title>\n",
       "<path fill=\"none\" stroke=\"red\" stroke-width=\"0.14\" d=\"M372.33,-388.62C365.3,-377.44 352.34,-356.8 341.26,-339.16\"/>\n",
       "<polygon fill=\"red\" stroke=\"red\" stroke-width=\"0.14\" points=\"344.41,-337.59 336.12,-330.98 338.48,-341.31 344.41,-337.59\"/>\n",
       "</g>\n",
       "<!-- 12816 -->\n",
       "<g id=\"node18\" class=\"node\">\n",
       "<title>12816</title>\n",
       "<ellipse fill=\"white\" stroke=\"black\" cx=\"304.5\" cy=\"-27.58\" rx=\"27.65\" ry=\"27.65\"/>\n",
       "<text text-anchor=\"middle\" x=\"304.5\" y=\"-25.38\" font-family=\"Times New Roman,serif\" font-size=\"9.00\">12816</text>\n",
       "</g>\n",
       "<!-- sma5&#45;&gt;12816 -->\n",
       "<g id=\"edge12\" class=\"edge\">\n",
       "<title>sma5&#45;&gt;12816</title>\n",
       "<path fill=\"none\" stroke=\"red\" stroke-width=\"0.28\" d=\"M376.3,-388.55C373.5,-369.27 366.15,-320.03 358.5,-279.12 342.8,-195.16 336.71,-174.6 318.5,-91.15 316.66,-82.73 314.65,-73.67 312.74,-65.13\"/>\n",
       "<polygon fill=\"red\" stroke=\"red\" stroke-width=\"0.28\" points=\"316.18,-64.46 310.58,-55.47 309.35,-66 316.18,-64.46\"/>\n",
       "</g>\n",
       "<!-- sma10 -->\n",
       "<g id=\"node4\" class=\"node\">\n",
       "<title>sma10</title>\n",
       "<polygon fill=\"lightgray\" stroke=\"black\" points=\"202.5,-315.7 162.5,-315.7 162.5,-297.7 202.5,-297.7 202.5,-315.7\"/>\n",
       "<text text-anchor=\"middle\" x=\"182.5\" y=\"-304.5\" font-family=\"Times New Roman,serif\" font-size=\"9.00\">sma10</text>\n",
       "</g>\n",
       "<!-- trade -->\n",
       "<g id=\"node9\" class=\"node\">\n",
       "<title>trade</title>\n",
       "<ellipse fill=\"lightblue\" stroke=\"black\" cx=\"251.5\" cy=\"-212.71\" rx=\"25\" ry=\"25\"/>\n",
       "<text text-anchor=\"middle\" x=\"251.5\" y=\"-210.51\" font-family=\"Times New Roman,serif\" font-size=\"9.00\">trade</text>\n",
       "</g>\n",
       "<!-- sma10&#45;&gt;trade -->\n",
       "<g id=\"edge4\" class=\"edge\">\n",
       "<title>sma10&#45;&gt;trade</title>\n",
       "<path fill=\"none\" stroke=\"green\" stroke-width=\"0.21\" stroke-dasharray=\"1,5\" d=\"M188.87,-297.21C198.28,-284.66 216.35,-260.57 230.67,-241.48\"/>\n",
       "<polygon fill=\"green\" stroke=\"green\" stroke-width=\"0.21\" points=\"233.35,-243.74 236.55,-233.64 227.75,-239.54 233.35,-243.74\"/>\n",
       "</g>\n",
       "<!-- volume -->\n",
       "<g id=\"node10\" class=\"node\">\n",
       "<title>volume</title>\n",
       "<ellipse fill=\"lightblue\" stroke=\"black\" cx=\"178.5\" cy=\"-212.71\" rx=\"30.31\" ry=\"30.31\"/>\n",
       "<text text-anchor=\"middle\" x=\"178.5\" y=\"-210.51\" font-family=\"Times New Roman,serif\" font-size=\"9.00\">volume</text>\n",
       "</g>\n",
       "<!-- sma10&#45;&gt;volume -->\n",
       "<g id=\"edge5\" class=\"edge\">\n",
       "<title>sma10&#45;&gt;volume</title>\n",
       "<path fill=\"none\" stroke=\"green\" stroke-width=\"0.24\" stroke-dasharray=\"1,5\" d=\"M182.13,-297.21C181.69,-287.12 180.93,-269.57 180.22,-253.16\"/>\n",
       "<polygon fill=\"green\" stroke=\"green\" stroke-width=\"0.24\" points=\"183.73,-253.37 179.8,-243.53 176.73,-253.67 183.73,-253.37\"/>\n",
       "</g>\n",
       "<!-- slowk -->\n",
       "<g id=\"node5\" class=\"node\">\n",
       "<title>slowk</title>\n",
       "<polygon fill=\"lightgray\" stroke=\"black\" points=\"243.5,-406.85 205.5,-406.85 205.5,-388.85 243.5,-388.85 243.5,-406.85\"/>\n",
       "<text text-anchor=\"middle\" x=\"224.5\" y=\"-395.65\" font-family=\"Times New Roman,serif\" font-size=\"9.00\">slowk</text>\n",
       "</g>\n",
       "<!-- 12672 -->\n",
       "<g id=\"node12\" class=\"node\">\n",
       "<title>12672</title>\n",
       "<ellipse fill=\"white\" stroke=\"black\" cx=\"248.5\" cy=\"-306.7\" rx=\"27.65\" ry=\"27.65\"/>\n",
       "<text text-anchor=\"middle\" x=\"248.5\" y=\"-304.5\" font-family=\"Times New Roman,serif\" font-size=\"9.00\">12672</text>\n",
       "</g>\n",
       "<!-- slowk&#45;&gt;12672 -->\n",
       "<g id=\"edge14\" class=\"edge\">\n",
       "<title>slowk&#45;&gt;12672</title>\n",
       "<path fill=\"none\" stroke=\"red\" stroke-width=\"0.32\" d=\"M226.71,-388.62C229.46,-378.41 234.33,-360.33 238.77,-343.85\"/>\n",
       "<polygon fill=\"red\" stroke=\"red\" stroke-width=\"0.32\" points=\"242.11,-344.91 241.33,-334.34 235.35,-343.09 242.11,-344.91\"/>\n",
       "</g>\n",
       "<!-- 11027 -->\n",
       "<g id=\"node19\" class=\"node\">\n",
       "<title>11027</title>\n",
       "<ellipse fill=\"white\" stroke=\"black\" cx=\"116.5\" cy=\"-306.7\" rx=\"27.65\" ry=\"27.65\"/>\n",
       "<text text-anchor=\"middle\" x=\"116.5\" y=\"-304.5\" font-family=\"Times New Roman,serif\" font-size=\"9.00\">11027</text>\n",
       "</g>\n",
       "<!-- slowk&#45;&gt;11027 -->\n",
       "<g id=\"edge1\" class=\"edge\">\n",
       "<title>slowk&#45;&gt;11027</title>\n",
       "<path fill=\"none\" stroke=\"red\" stroke-width=\"0.29\" d=\"M214.53,-388.62C199,-375.8 168.42,-350.56 145.53,-331.66\"/>\n",
       "<polygon fill=\"red\" stroke=\"red\" stroke-width=\"0.29\" points=\"147.76,-328.97 137.82,-325.3 143.31,-334.36 147.76,-328.97\"/>\n",
       "</g>\n",
       "<!-- slowd -->\n",
       "<g id=\"node6\" class=\"node\">\n",
       "<title>slowd</title>\n",
       "<polygon fill=\"lightgray\" stroke=\"black\" points=\"177.5,-680.31 139.5,-680.31 139.5,-662.31 177.5,-662.31 177.5,-680.31\"/>\n",
       "<text text-anchor=\"middle\" x=\"158.5\" y=\"-669.11\" font-family=\"Times New Roman,serif\" font-size=\"9.00\">slowd</text>\n",
       "</g>\n",
       "<!-- slowd&#45;&gt;10369 -->\n",
       "<g id=\"edge2\" class=\"edge\">\n",
       "<title>slowd&#45;&gt;10369</title>\n",
       "<path fill=\"none\" stroke=\"red\" stroke-width=\"0.84\" d=\"M155.55,-662.09C151.87,-651.83 145.34,-633.64 139.4,-617.09\"/>\n",
       "<polygon fill=\"red\" stroke=\"red\" stroke-width=\"0.84\" points=\"142.72,-615.99 136.05,-607.76 136.13,-618.36 142.72,-615.99\"/>\n",
       "</g>\n",
       "<!-- macdhist_diff -->\n",
       "<g id=\"node7\" class=\"node\">\n",
       "<title>macdhist_diff</title>\n",
       "<polygon fill=\"lightgray\" stroke=\"black\" points=\"341.5,-406.85 275.5,-406.85 275.5,-388.85 341.5,-388.85 341.5,-406.85\"/>\n",
       "<text text-anchor=\"middle\" x=\"308.5\" y=\"-395.65\" font-family=\"Times New Roman,serif\" font-size=\"9.00\">macdhist_diff</text>\n",
       "</g>\n",
       "<!-- macdhist_diff&#45;&gt;12751 -->\n",
       "<g id=\"edge15\" class=\"edge\">\n",
       "<title>macdhist_diff&#45;&gt;12751</title>\n",
       "<path fill=\"none\" stroke=\"red\" stroke-width=\"0.12\" d=\"M309.7,-388.62C311.18,-378.49 313.79,-360.59 316.18,-344.19\"/>\n",
       "<polygon fill=\"red\" stroke=\"red\" stroke-width=\"0.12\" points=\"319.62,-344.84 317.6,-334.44 312.69,-343.83 319.62,-344.84\"/>\n",
       "</g>\n",
       "<!-- cci -->\n",
       "<g id=\"node8\" class=\"node\">\n",
       "<title>cci</title>\n",
       "<polygon fill=\"lightgray\" stroke=\"black\" points=\"221.5,-680.31 195.5,-680.31 195.5,-662.31 221.5,-662.31 221.5,-680.31\"/>\n",
       "<text text-anchor=\"middle\" x=\"208.5\" y=\"-669.11\" font-family=\"Times New Roman,serif\" font-size=\"9.00\">cci</text>\n",
       "</g>\n",
       "<!-- volume&#45;&gt;12816 -->\n",
       "<g id=\"edge9\" class=\"edge\">\n",
       "<title>volume&#45;&gt;12816</title>\n",
       "<path fill=\"none\" stroke=\"green\" stroke-width=\"0.48\" stroke-dasharray=\"1,5\" d=\"M195.49,-187.02C218.22,-153.98 258.51,-95.42 283.23,-59.5\"/>\n",
       "<polygon fill=\"green\" stroke=\"green\" stroke-width=\"0.48\" points=\"285.96,-61.7 288.74,-51.48 280.19,-57.74 285.96,-61.7\"/>\n",
       "</g>\n",
       "<!-- 13817 -->\n",
       "<g id=\"node21\" class=\"node\">\n",
       "<title>13817</title>\n",
       "<ellipse fill=\"white\" stroke=\"black\" cx=\"186.5\" cy=\"-118.73\" rx=\"27.65\" ry=\"27.65\"/>\n",
       "<text text-anchor=\"middle\" x=\"186.5\" y=\"-116.53\" font-family=\"Times New Roman,serif\" font-size=\"9.00\">13817</text>\n",
       "</g>\n",
       "<!-- volume&#45;&gt;13817 -->\n",
       "<g id=\"edge23\" class=\"edge\">\n",
       "<title>volume&#45;&gt;13817</title>\n",
       "<path fill=\"none\" stroke=\"red\" stroke-width=\"0.27\" d=\"M181.08,-182.1C181.78,-174.05 182.54,-165.23 183.27,-156.83\"/>\n",
       "<polygon fill=\"red\" stroke=\"red\" stroke-width=\"0.27\" points=\"186.76,-157.16 184.14,-146.89 179.78,-156.55 186.76,-157.16\"/>\n",
       "</g>\n",
       "<!-- 12842 -->\n",
       "<g id=\"node15\" class=\"node\">\n",
       "<title>12842</title>\n",
       "<ellipse fill=\"white\" stroke=\"black\" cx=\"144.5\" cy=\"-397.85\" rx=\"27.65\" ry=\"27.65\"/>\n",
       "<text text-anchor=\"middle\" x=\"144.5\" y=\"-395.65\" font-family=\"Times New Roman,serif\" font-size=\"9.00\">12842</text>\n",
       "</g>\n",
       "<!-- 10369&#45;&gt;12842 -->\n",
       "<g id=\"edge10\" class=\"edge\">\n",
       "<title>10369&#45;&gt;12842</title>\n",
       "<path fill=\"none\" stroke=\"red\" stroke-width=\"0.5\" d=\"M129.19,-552.17C132.27,-521.4 137.3,-470.93 140.76,-436.36\"/>\n",
       "<polygon fill=\"red\" stroke=\"red\" stroke-width=\"0.5\" points=\"144.23,-436.79 141.74,-426.49 137.26,-436.09 144.23,-436.79\"/>\n",
       "</g>\n",
       "<!-- 10369&#45;&gt;11027 -->\n",
       "<g id=\"edge6\" class=\"edge\">\n",
       "<title>10369&#45;&gt;11027</title>\n",
       "<path fill=\"none\" stroke=\"red\" stroke-width=\"0.24\" stroke-dasharray=\"1,5\" d=\"M121.35,-552.81C114.24,-513.22 102.8,-436.02 107.5,-370.27 108.1,-361.87 109.15,-352.88 110.33,-344.4\"/>\n",
       "<polygon fill=\"red\" stroke=\"red\" stroke-width=\"0.24\" points=\"113.75,-345.17 111.75,-334.76 106.83,-344.14 113.75,-345.17\"/>\n",
       "</g>\n",
       "<!-- 13726 -->\n",
       "<g id=\"node22\" class=\"node\">\n",
       "<title>13726</title>\n",
       "<ellipse fill=\"white\" stroke=\"black\" cx=\"182.5\" cy=\"-489.01\" rx=\"27.65\" ry=\"27.65\"/>\n",
       "<text text-anchor=\"middle\" x=\"182.5\" y=\"-486.81\" font-family=\"Times New Roman,serif\" font-size=\"9.00\">13726</text>\n",
       "</g>\n",
       "<!-- 10369&#45;&gt;13726 -->\n",
       "<g id=\"edge21\" class=\"edge\">\n",
       "<title>10369&#45;&gt;13726</title>\n",
       "<path fill=\"none\" stroke=\"green\" stroke-width=\"0.21\" d=\"M140.92,-556.2C147.58,-545.59 155.6,-532.83 162.81,-521.36\"/>\n",
       "<polygon fill=\"green\" stroke=\"green\" stroke-width=\"0.21\" points=\"165.61,-523.48 167.96,-513.15 159.68,-519.76 165.61,-523.48\"/>\n",
       "</g>\n",
       "<!-- 12672&#45;&gt;trade -->\n",
       "<g id=\"edge7\" class=\"edge\">\n",
       "<title>12672&#45;&gt;trade</title>\n",
       "<path fill=\"none\" stroke=\"green\" stroke-width=\"0.55\" d=\"M249.38,-278.6C249.69,-269.28 250.03,-258.71 250.35,-248.85\"/>\n",
       "<polygon fill=\"green\" stroke=\"green\" stroke-width=\"0.55\" points=\"253.85,-249.06 250.68,-238.95 246.85,-248.83 253.85,-249.06\"/>\n",
       "</g>\n",
       "<!-- 12672&#45;&gt;12816 -->\n",
       "<g id=\"edge17\" class=\"edge\">\n",
       "<title>12672&#45;&gt;12816</title>\n",
       "<path fill=\"none\" stroke=\"red\" stroke-width=\"0.36\" stroke-dasharray=\"1,5\" d=\"M264.62,-283.97C272.3,-272.43 280.82,-257.66 285.5,-243.12 304.76,-183.23 306.91,-109.4 306.12,-65.81\"/>\n",
       "<polygon fill=\"red\" stroke=\"red\" stroke-width=\"0.36\" points=\"309.63,-65.86 305.88,-55.95 302.63,-66.04 309.63,-65.86\"/>\n",
       "</g>\n",
       "<!-- 13128 -->\n",
       "<g id=\"node13\" class=\"node\">\n",
       "<title>13128</title>\n",
       "<ellipse fill=\"white\" stroke=\"black\" cx=\"267.5\" cy=\"-580.16\" rx=\"27.65\" ry=\"27.65\"/>\n",
       "<text text-anchor=\"middle\" x=\"267.5\" y=\"-577.96\" font-family=\"Times New Roman,serif\" font-size=\"9.00\">13128</text>\n",
       "</g>\n",
       "<!-- 12905 -->\n",
       "<g id=\"node14\" class=\"node\">\n",
       "<title>12905</title>\n",
       "<ellipse fill=\"white\" stroke=\"black\" cx=\"433.5\" cy=\"-118.73\" rx=\"27.65\" ry=\"27.65\"/>\n",
       "<text text-anchor=\"middle\" x=\"433.5\" y=\"-116.53\" font-family=\"Times New Roman,serif\" font-size=\"9.00\">12905</text>\n",
       "</g>\n",
       "<!-- 12905&#45;&gt;12816 -->\n",
       "<g id=\"edge13\" class=\"edge\">\n",
       "<title>12905&#45;&gt;12816</title>\n",
       "<path fill=\"none\" stroke=\"red\" stroke-width=\"0.26\" d=\"M411.03,-102.2C390.16,-87.78 358.9,-66.17 335.63,-50.09\"/>\n",
       "<polygon fill=\"red\" stroke=\"red\" stroke-width=\"0.26\" points=\"337.68,-47.25 327.46,-44.45 333.7,-53.01 337.68,-47.25\"/>\n",
       "</g>\n",
       "<!-- 12842&#45;&gt;11027 -->\n",
       "<g id=\"edge11\" class=\"edge\">\n",
       "<title>12842&#45;&gt;11027</title>\n",
       "<path fill=\"none\" stroke=\"green\" stroke-width=\"0.21\" d=\"M136.4,-371.06C133.67,-362.38 130.58,-352.53 127.66,-343.22\"/>\n",
       "<polygon fill=\"green\" stroke=\"green\" stroke-width=\"0.21\" points=\"131.01,-342.22 124.68,-333.73 124.33,-344.32 131.01,-342.22\"/>\n",
       "</g>\n",
       "<!-- 13582 -->\n",
       "<g id=\"node16\" class=\"node\">\n",
       "<title>13582</title>\n",
       "<ellipse fill=\"white\" stroke=\"black\" cx=\"433.5\" cy=\"-212.71\" rx=\"27.65\" ry=\"27.65\"/>\n",
       "<text text-anchor=\"middle\" x=\"433.5\" y=\"-210.51\" font-family=\"Times New Roman,serif\" font-size=\"9.00\">13582</text>\n",
       "</g>\n",
       "<!-- 13582&#45;&gt;12905 -->\n",
       "<g id=\"edge18\" class=\"edge\">\n",
       "<title>13582&#45;&gt;12905</title>\n",
       "<path fill=\"none\" stroke=\"red\" stroke-width=\"0.37\" d=\"M433.5,-184.61C433.5,-176.01 433.5,-166.33 433.5,-157.13\"/>\n",
       "<polygon fill=\"red\" stroke=\"red\" stroke-width=\"0.37\" points=\"437,-157.2 433.5,-147.2 430,-157.2 437,-157.2\"/>\n",
       "</g>\n",
       "<!-- 12751&#45;&gt;trade -->\n",
       "<g id=\"edge8\" class=\"edge\">\n",
       "<title>12751&#45;&gt;trade</title>\n",
       "<path fill=\"none\" stroke=\"red\" stroke-width=\"0.18\" d=\"M305.26,-284.36C295.57,-271.62 283.14,-255.29 272.67,-241.53\"/>\n",
       "<polygon fill=\"red\" stroke=\"red\" stroke-width=\"0.18\" points=\"275.46,-239.42 266.62,-233.58 269.89,-243.66 275.46,-239.42\"/>\n",
       "</g>\n",
       "<!-- 11027&#45;&gt;volume -->\n",
       "<g id=\"edge3\" class=\"edge\">\n",
       "<title>11027&#45;&gt;volume</title>\n",
       "<path fill=\"none\" stroke=\"green\" stroke-width=\"0.17\" d=\"M131.51,-283.43C138.96,-272.37 148.12,-258.79 156.36,-246.57\"/>\n",
       "<polygon fill=\"green\" stroke=\"green\" stroke-width=\"0.17\" points=\"159.05,-248.83 161.74,-238.58 153.25,-244.92 159.05,-248.83\"/>\n",
       "</g>\n",
       "<!-- 13651 -->\n",
       "<g id=\"node20\" class=\"node\">\n",
       "<title>13651</title>\n",
       "<ellipse fill=\"white\" stroke=\"black\" cx=\"267.5\" cy=\"-671.31\" rx=\"27.65\" ry=\"27.65\"/>\n",
       "<text text-anchor=\"middle\" x=\"267.5\" y=\"-669.11\" font-family=\"Times New Roman,serif\" font-size=\"9.00\">13651</text>\n",
       "</g>\n",
       "<!-- 13651&#45;&gt;13128 -->\n",
       "<g id=\"edge20\" class=\"edge\">\n",
       "<title>13651&#45;&gt;13128</title>\n",
       "<path fill=\"none\" stroke=\"green\" stroke-width=\"0.48\" stroke-dasharray=\"1,5\" d=\"M267.5,-643.57C267.5,-635.79 267.5,-627.15 267.5,-618.84\"/>\n",
       "<polygon fill=\"green\" stroke=\"green\" stroke-width=\"0.48\" points=\"271,-618.93 267.5,-608.93 264,-618.93 271,-618.93\"/>\n",
       "</g>\n",
       "<!-- 13817&#45;&gt;12816 -->\n",
       "<g id=\"edge24\" class=\"edge\">\n",
       "<title>13817&#45;&gt;12816</title>\n",
       "<path fill=\"none\" stroke=\"green\" stroke-width=\"0.26\" d=\"M208.42,-101.17C227.05,-87.1 253.97,-66.76 274.58,-51.18\"/>\n",
       "<polygon fill=\"green\" stroke=\"green\" stroke-width=\"0.26\" points=\"276.52,-54.11 282.38,-45.29 272.3,-48.52 276.52,-54.11\"/>\n",
       "</g>\n",
       "<!-- 13726&#45;&gt;12842 -->\n",
       "<g id=\"edge22\" class=\"edge\">\n",
       "<title>13726&#45;&gt;12842</title>\n",
       "<path fill=\"none\" stroke=\"red\" stroke-width=\"0.6\" d=\"M171.91,-463.17C168.04,-454.07 163.57,-443.59 159.38,-433.77\"/>\n",
       "<polygon fill=\"red\" stroke=\"red\" stroke-width=\"0.6\" points=\"162.65,-432.52 155.51,-424.69 156.22,-435.26 162.65,-432.52\"/>\n",
       "</g>\n",
       "</g>\n",
       "</svg>\n"
      ],
      "text/plain": [
       "<graphviz.graphs.Digraph at 0x1e0e70d3040>"
      ]
     },
     "execution_count": 20,
     "metadata": {},
     "output_type": "execute_result"
    }
   ],
   "source": [
    "node_names = {\n",
    "        -1: 'long_position', \n",
    "        -2: 'short_position',\n",
    "        -3: 'sma5',\n",
    "        -4: 'sma10',\n",
    "        -5: 'slowk',\n",
    "        -6: 'slowd',\n",
    "        -7: 'macdhist_diff',\n",
    "        -8: 'cci',\n",
    "    \n",
    "        0: 'buy',\n",
    "        1: 'sell',\n",
    "        2: 'hold',\n",
    "        3: 'volume'\n",
    "        }\n",
    "visualize.draw_net(config_path, p.population[27758], True\n",
    "        , node_names=node_names\n",
    "        )"
   ]
  },
  {
   "cell_type": "code",
   "execution_count": null,
   "metadata": {},
   "outputs": [],
   "source": [
    "performance, bt = backtest(net, evaluate().generate_random_data(is_test=True))"
   ]
  },
  {
   "cell_type": "code",
   "execution_count": null,
   "metadata": {},
   "outputs": [
    {
     "data": {
      "text/html": [
       "<div style=\"display: table;\"><div style=\"display: table-row;\"><div style=\"display: table-cell;\"><b title=\"bokeh.models.layouts.Row\">Row</b>(</div><div style=\"display: table-cell;\">id&nbsp;=&nbsp;'6720', <span id=\"7685\" style=\"cursor: pointer;\">&hellip;)</span></div></div><div class=\"7684\" style=\"display: none;\"><div style=\"display: table-cell;\"></div><div style=\"display: table-cell;\">align&nbsp;=&nbsp;'start',</div></div><div class=\"7684\" style=\"display: none;\"><div style=\"display: table-cell;\"></div><div style=\"display: table-cell;\">aspect_ratio&nbsp;=&nbsp;None,</div></div><div class=\"7684\" style=\"display: none;\"><div style=\"display: table-cell;\"></div><div style=\"display: table-cell;\">background&nbsp;=&nbsp;None,</div></div><div class=\"7684\" style=\"display: none;\"><div style=\"display: table-cell;\"></div><div style=\"display: table-cell;\">children&nbsp;=&nbsp;[GridBox(id='6717', ...), ToolbarBox(id='6719', ...)],</div></div><div class=\"7684\" style=\"display: none;\"><div style=\"display: table-cell;\"></div><div style=\"display: table-cell;\">cols&nbsp;=&nbsp;'auto',</div></div><div class=\"7684\" style=\"display: none;\"><div style=\"display: table-cell;\"></div><div style=\"display: table-cell;\">css_classes&nbsp;=&nbsp;[],</div></div><div class=\"7684\" style=\"display: none;\"><div style=\"display: table-cell;\"></div><div style=\"display: table-cell;\">disabled&nbsp;=&nbsp;False,</div></div><div class=\"7684\" style=\"display: none;\"><div style=\"display: table-cell;\"></div><div style=\"display: table-cell;\">height&nbsp;=&nbsp;None,</div></div><div class=\"7684\" style=\"display: none;\"><div style=\"display: table-cell;\"></div><div style=\"display: table-cell;\">height_policy&nbsp;=&nbsp;'auto',</div></div><div class=\"7684\" style=\"display: none;\"><div style=\"display: table-cell;\"></div><div style=\"display: table-cell;\">js_event_callbacks&nbsp;=&nbsp;{},</div></div><div class=\"7684\" style=\"display: none;\"><div style=\"display: table-cell;\"></div><div style=\"display: table-cell;\">js_property_callbacks&nbsp;=&nbsp;{},</div></div><div class=\"7684\" style=\"display: none;\"><div style=\"display: table-cell;\"></div><div style=\"display: table-cell;\">margin&nbsp;=&nbsp;(0, 0, 0, 0),</div></div><div class=\"7684\" style=\"display: none;\"><div style=\"display: table-cell;\"></div><div style=\"display: table-cell;\">max_height&nbsp;=&nbsp;None,</div></div><div class=\"7684\" style=\"display: none;\"><div style=\"display: table-cell;\"></div><div style=\"display: table-cell;\">max_width&nbsp;=&nbsp;None,</div></div><div class=\"7684\" style=\"display: none;\"><div style=\"display: table-cell;\"></div><div style=\"display: table-cell;\">min_height&nbsp;=&nbsp;None,</div></div><div class=\"7684\" style=\"display: none;\"><div style=\"display: table-cell;\"></div><div style=\"display: table-cell;\">min_width&nbsp;=&nbsp;None,</div></div><div class=\"7684\" style=\"display: none;\"><div style=\"display: table-cell;\"></div><div style=\"display: table-cell;\">name&nbsp;=&nbsp;None,</div></div><div class=\"7684\" style=\"display: none;\"><div style=\"display: table-cell;\"></div><div style=\"display: table-cell;\">sizing_mode&nbsp;=&nbsp;None,</div></div><div class=\"7684\" style=\"display: none;\"><div style=\"display: table-cell;\"></div><div style=\"display: table-cell;\">spacing&nbsp;=&nbsp;0,</div></div><div class=\"7684\" style=\"display: none;\"><div style=\"display: table-cell;\"></div><div style=\"display: table-cell;\">subscribed_events&nbsp;=&nbsp;[],</div></div><div class=\"7684\" style=\"display: none;\"><div style=\"display: table-cell;\"></div><div style=\"display: table-cell;\">syncable&nbsp;=&nbsp;True,</div></div><div class=\"7684\" style=\"display: none;\"><div style=\"display: table-cell;\"></div><div style=\"display: table-cell;\">tags&nbsp;=&nbsp;[],</div></div><div class=\"7684\" style=\"display: none;\"><div style=\"display: table-cell;\"></div><div style=\"display: table-cell;\">visible&nbsp;=&nbsp;True,</div></div><div class=\"7684\" style=\"display: none;\"><div style=\"display: table-cell;\"></div><div style=\"display: table-cell;\">width&nbsp;=&nbsp;None,</div></div><div class=\"7684\" style=\"display: none;\"><div style=\"display: table-cell;\"></div><div style=\"display: table-cell;\">width_policy&nbsp;=&nbsp;'auto')</div></div></div>\n",
       "<script>\n",
       "(function() {\n",
       "  let expanded = false;\n",
       "  const ellipsis = document.getElementById(\"7685\");\n",
       "  ellipsis.addEventListener(\"click\", function() {\n",
       "    const rows = document.getElementsByClassName(\"7684\");\n",
       "    for (let i = 0; i < rows.length; i++) {\n",
       "      const el = rows[i];\n",
       "      el.style.display = expanded ? \"none\" : \"table-row\";\n",
       "    }\n",
       "    ellipsis.innerHTML = expanded ? \"&hellip;)\" : \"&lsaquo;&lsaquo;&lsaquo;\";\n",
       "    expanded = !expanded;\n",
       "  });\n",
       "})();\n",
       "</script>\n"
      ],
      "text/plain": [
       "Row(id='6720', ...)"
      ]
     },
     "execution_count": 18,
     "metadata": {},
     "output_type": "execute_result"
    }
   ],
   "source": [
    "bt.plot(plot_width=1500)"
   ]
  },
  {
   "cell_type": "code",
   "execution_count": null,
   "metadata": {},
   "outputs": [
    {
     "name": "stderr",
     "output_type": "stream",
     "text": [
      "  0%|          | 0/5 [00:00<?, ?it/s]"
     ]
    },
    {
     "name": "stdout",
     "output_type": "stream",
     "text": [
      "Start                     2001-10-30 00:00:00\n",
      "End                       2022-11-25 00:00:00\n",
      "Duration                   7696 days 00:00:00\n",
      "Exposure Time [%]                   99.321523\n",
      "Equity Final [$]                 212554.52003\n",
      "Equity Peak [$]                 228025.222575\n",
      "Return [%]                          2025.5452\n",
      "Buy & Hold Return [%]             2412.762671\n",
      "Return (Ann.) [%]                   15.623493\n",
      "Volatility (Ann.) [%]               36.573657\n",
      "Sharpe Ratio                         0.427179\n",
      "Sortino Ratio                        0.719818\n",
      "Calmar Ratio                         0.232676\n",
      "Max. Drawdown [%]                  -67.147096\n",
      "Avg. Drawdown [%]                   -4.832678\n",
      "Max. Drawdown Duration     2153 days 00:00:00\n",
      "Avg. Drawdown Duration       49 days 00:00:00\n",
      "# Trades                                    1\n",
      "Win Rate [%]                            100.0\n",
      "Best Trade [%]                    2030.036541\n",
      "Worst Trade [%]                   2030.036541\n",
      "Avg. Trade [%]                    2030.036541\n",
      "Max. Trade Duration        7645 days 00:00:00\n",
      "Avg. Trade Duration        7645 days 00:00:00\n",
      "Profit Factor                             NaN\n",
      "Expectancy [%]                    2030.036541\n",
      "SQN                                       NaN\n",
      "_strategy                       NEAT_strategy\n",
      "_equity_curve                             ...\n",
      "_trades                      Size  EntryBa...\n",
      "dtype: object\n"
     ]
    },
    {
     "name": "stderr",
     "output_type": "stream",
     "text": [
      " 20%|██        | 1/5 [00:04<00:17,  4.41s/it]"
     ]
    },
    {
     "name": "stdout",
     "output_type": "stream",
     "text": [
      "Start                     2001-12-13 00:00:00\n",
      "End                       2022-11-25 00:00:00\n",
      "Duration                   7652 days 00:00:00\n",
      "Exposure Time [%]                   99.146919\n",
      "Equity Final [$]                 35139.483898\n",
      "Equity Peak [$]                  41215.142002\n",
      "Return [%]                         251.394839\n",
      "Buy & Hold Return [%]              267.815698\n",
      "Return (Ann.) [%]                    6.187652\n",
      "Volatility (Ann.) [%]               48.827406\n",
      "Sharpe Ratio                         0.126725\n",
      "Sortino Ratio                        0.208007\n",
      "Calmar Ratio                         0.069493\n",
      "Max. Drawdown [%]                  -89.039469\n",
      "Avg. Drawdown [%]                   -4.303552\n",
      "Max. Drawdown Duration     3487 days 00:00:00\n",
      "Avg. Drawdown Duration       77 days 00:00:00\n",
      "# Trades                                    2\n",
      "Win Rate [%]                            100.0\n",
      "Best Trade [%]                     252.136449\n",
      "Worst Trade [%]                    251.559185\n",
      "Avg. Trade [%]                     251.847698\n",
      "Max. Trade Duration        7583 days 00:00:00\n",
      "Avg. Trade Duration        7583 days 00:00:00\n",
      "Profit Factor                             NaN\n",
      "Expectancy [%]                     251.847817\n",
      "SQN                                  1.006158\n",
      "_strategy                       NEAT_strategy\n",
      "_equity_curve                             ...\n",
      "_trades                      Size  EntryBa...\n",
      "dtype: object\n"
     ]
    },
    {
     "name": "stderr",
     "output_type": "stream",
     "text": [
      " 40%|████      | 2/5 [00:08<00:13,  4.34s/it]"
     ]
    },
    {
     "name": "stdout",
     "output_type": "stream",
     "text": [
      "Start                     1999-12-31 00:00:00\n",
      "End                       2022-11-25 00:00:00\n",
      "Duration                   8365 days 00:00:00\n",
      "Exposure Time [%]                   99.392783\n",
      "Equity Final [$]                125849.268963\n",
      "Equity Peak [$]                 148377.042538\n",
      "Return [%]                         1158.49269\n",
      "Buy & Hold Return [%]             1089.615406\n",
      "Return (Ann.) [%]                   11.708206\n",
      "Volatility (Ann.) [%]               41.410188\n",
      "Sharpe Ratio                         0.282737\n",
      "Sortino Ratio                        0.465094\n",
      "Calmar Ratio                         0.146041\n",
      "Max. Drawdown [%]                  -80.170821\n",
      "Avg. Drawdown [%]                   -4.688116\n",
      "Max. Drawdown Duration     1397 days 00:00:00\n",
      "Avg. Drawdown Duration       54 days 00:00:00\n",
      "# Trades                                    2\n",
      "Win Rate [%]                            100.0\n",
      "Best Trade [%]                    1158.998541\n",
      "Worst Trade [%]                   1096.205479\n",
      "Avg. Trade [%]                    1127.200453\n",
      "Max. Trade Duration        8312 days 00:00:00\n",
      "Avg. Trade Duration        8279 days 00:00:00\n",
      "Profit Factor                             NaN\n",
      "Expectancy [%]                     1127.60201\n",
      "SQN                                  1.002085\n",
      "_strategy                       NEAT_strategy\n",
      "_equity_curve                             ...\n",
      "_trades                      Size  EntryBa...\n",
      "dtype: object\n"
     ]
    },
    {
     "name": "stderr",
     "output_type": "stream",
     "text": [
      " 60%|██████    | 3/5 [00:13<00:08,  4.38s/it]"
     ]
    },
    {
     "name": "stdout",
     "output_type": "stream",
     "text": [
      "Start                     1999-12-31 00:00:00\n",
      "End                       2022-11-25 00:00:00\n",
      "Duration                   8365 days 00:00:00\n",
      "Exposure Time [%]                   99.392783\n",
      "Equity Final [$]                227052.111026\n",
      "Equity Peak [$]                  228448.40311\n",
      "Return [%]                         2170.52111\n",
      "Buy & Hold Return [%]             1935.596547\n",
      "Return (Ann.) [%]                   14.627632\n",
      "Volatility (Ann.) [%]               39.414557\n",
      "Sharpe Ratio                         0.371123\n",
      "Sortino Ratio                         0.63749\n",
      "Calmar Ratio                         0.198331\n",
      "Max. Drawdown [%]                   -73.75375\n",
      "Avg. Drawdown [%]                   -5.562828\n",
      "Max. Drawdown Duration     2060 days 00:00:00\n",
      "Avg. Drawdown Duration       63 days 00:00:00\n",
      "# Trades                                    1\n",
      "Win Rate [%]                            100.0\n",
      "Best Trade [%]                    2173.987914\n",
      "Worst Trade [%]                   2173.987914\n",
      "Avg. Trade [%]                    2173.987914\n",
      "Max. Trade Duration        8312 days 00:00:00\n",
      "Avg. Trade Duration        8312 days 00:00:00\n",
      "Profit Factor                             NaN\n",
      "Expectancy [%]                    2173.987914\n",
      "SQN                                       NaN\n",
      "_strategy                       NEAT_strategy\n",
      "_equity_curve                             ...\n",
      "_trades                      Size  EntryBa...\n",
      "dtype: object\n"
     ]
    },
    {
     "name": "stderr",
     "output_type": "stream",
     "text": [
      " 80%|████████  | 4/5 [00:17<00:04,  4.38s/it]"
     ]
    },
    {
     "name": "stdout",
     "output_type": "stream",
     "text": [
      "Start                     1999-12-31 00:00:00\n",
      "End                       2022-11-25 00:00:00\n",
      "Duration                   8365 days 00:00:00\n",
      "Exposure Time [%]                   99.392783\n",
      "Equity Final [$]                 42192.194935\n",
      "Equity Peak [$]                  56873.182484\n",
      "Return [%]                         321.921949\n",
      "Buy & Hold Return [%]              276.741559\n",
      "Return (Ann.) [%]                    6.496399\n",
      "Volatility (Ann.) [%]                40.57524\n",
      "Sharpe Ratio                         0.160107\n",
      "Sortino Ratio                        0.262292\n",
      "Calmar Ratio                         0.084284\n",
      "Max. Drawdown [%]                  -77.077792\n",
      "Avg. Drawdown [%]                   -6.151154\n",
      "Max. Drawdown Duration     2151 days 00:00:00\n",
      "Avg. Drawdown Duration       86 days 00:00:00\n",
      "# Trades                                    1\n",
      "Win Rate [%]                            100.0\n",
      "Best Trade [%]                     323.027778\n",
      "Worst Trade [%]                    323.027778\n",
      "Avg. Trade [%]                     323.027778\n",
      "Max. Trade Duration        8312 days 00:00:00\n",
      "Avg. Trade Duration        8312 days 00:00:00\n",
      "Profit Factor                             NaN\n",
      "Expectancy [%]                     323.027778\n",
      "SQN                                       NaN\n",
      "_strategy                       NEAT_strategy\n",
      "_equity_curve                             ...\n",
      "_trades                      Size  EntryBa...\n",
      "dtype: object\n"
     ]
    },
    {
     "name": "stderr",
     "output_type": "stream",
     "text": [
      "100%|██████████| 5/5 [00:21<00:00,  4.37s/it]\n"
     ]
    }
   ],
   "source": [
    "from tqdm import tqdm\n",
    "performances = []\n",
    "for _ in tqdm(range(5)) :\n",
    "    performance = test(r'checkpoint\\1209_0416\\winner/', plot=True)\n",
    "    performances.append(performance)"
   ]
  },
  {
   "cell_type": "code",
   "execution_count": null,
   "metadata": {},
   "outputs": [
    {
     "data": {
      "text/html": [
       "<div>\n",
       "<style scoped>\n",
       "    .dataframe tbody tr th:only-of-type {\n",
       "        vertical-align: middle;\n",
       "    }\n",
       "\n",
       "    .dataframe tbody tr th {\n",
       "        vertical-align: top;\n",
       "    }\n",
       "\n",
       "    .dataframe thead th {\n",
       "        text-align: right;\n",
       "    }\n",
       "</style>\n",
       "<table border=\"1\" class=\"dataframe\">\n",
       "  <thead>\n",
       "    <tr style=\"text-align: right;\">\n",
       "      <th></th>\n",
       "      <th>Start</th>\n",
       "      <th>End</th>\n",
       "      <th>Duration</th>\n",
       "      <th>Exposure Time [%]</th>\n",
       "      <th>Equity Final [$]</th>\n",
       "      <th>Equity Peak [$]</th>\n",
       "      <th>Return [%]</th>\n",
       "      <th>Buy &amp; Hold Return [%]</th>\n",
       "      <th>Return (Ann.) [%]</th>\n",
       "      <th>Volatility (Ann.) [%]</th>\n",
       "      <th>...</th>\n",
       "      <th>Worst Trade [%]</th>\n",
       "      <th>Avg. Trade [%]</th>\n",
       "      <th>Max. Trade Duration</th>\n",
       "      <th>Avg. Trade Duration</th>\n",
       "      <th>Profit Factor</th>\n",
       "      <th>Expectancy [%]</th>\n",
       "      <th>SQN</th>\n",
       "      <th>_strategy</th>\n",
       "      <th>_equity_curve</th>\n",
       "      <th>_trades</th>\n",
       "    </tr>\n",
       "  </thead>\n",
       "  <tbody>\n",
       "    <tr>\n",
       "      <th>0</th>\n",
       "      <td>2001-10-30</td>\n",
       "      <td>2022-11-25</td>\n",
       "      <td>7696 days</td>\n",
       "      <td>99.321523</td>\n",
       "      <td>212554.520030</td>\n",
       "      <td>228025.222575</td>\n",
       "      <td>2025.545200</td>\n",
       "      <td>2412.762671</td>\n",
       "      <td>15.623493</td>\n",
       "      <td>36.573657</td>\n",
       "      <td>...</td>\n",
       "      <td>2030.036541</td>\n",
       "      <td>2030.036541</td>\n",
       "      <td>7645 days</td>\n",
       "      <td>7645 days</td>\n",
       "      <td>NaN</td>\n",
       "      <td>2030.036541</td>\n",
       "      <td>NaN</td>\n",
       "      <td>NEAT_strategy</td>\n",
       "      <td>Equity  DrawdownPct Drawdow...</td>\n",
       "      <td>Size  EntryBar  ExitBar  EntryPrice   ExitP...</td>\n",
       "    </tr>\n",
       "    <tr>\n",
       "      <th>1</th>\n",
       "      <td>2001-12-13</td>\n",
       "      <td>2022-11-25</td>\n",
       "      <td>7652 days</td>\n",
       "      <td>99.146919</td>\n",
       "      <td>35139.483898</td>\n",
       "      <td>41215.142002</td>\n",
       "      <td>251.394839</td>\n",
       "      <td>267.815698</td>\n",
       "      <td>6.187652</td>\n",
       "      <td>48.827406</td>\n",
       "      <td>...</td>\n",
       "      <td>251.559185</td>\n",
       "      <td>251.847698</td>\n",
       "      <td>7583 days</td>\n",
       "      <td>7583 days</td>\n",
       "      <td>NaN</td>\n",
       "      <td>251.847817</td>\n",
       "      <td>1.006158</td>\n",
       "      <td>NEAT_strategy</td>\n",
       "      <td>Equity  DrawdownPct Drawdown...</td>\n",
       "      <td>Size  EntryBar  ExitBar  EntryPrice   ExitP...</td>\n",
       "    </tr>\n",
       "    <tr>\n",
       "      <th>2</th>\n",
       "      <td>1999-12-31</td>\n",
       "      <td>2022-11-25</td>\n",
       "      <td>8365 days</td>\n",
       "      <td>99.392783</td>\n",
       "      <td>125849.268963</td>\n",
       "      <td>148377.042538</td>\n",
       "      <td>1158.492690</td>\n",
       "      <td>1089.615406</td>\n",
       "      <td>11.708206</td>\n",
       "      <td>41.410188</td>\n",
       "      <td>...</td>\n",
       "      <td>1096.205479</td>\n",
       "      <td>1127.200453</td>\n",
       "      <td>8312 days</td>\n",
       "      <td>8279 days</td>\n",
       "      <td>NaN</td>\n",
       "      <td>1127.602010</td>\n",
       "      <td>1.002085</td>\n",
       "      <td>NEAT_strategy</td>\n",
       "      <td>Equity  DrawdownPct Drawdow...</td>\n",
       "      <td>Size  EntryBar  ExitBar  EntryPrice  ExitPr...</td>\n",
       "    </tr>\n",
       "    <tr>\n",
       "      <th>3</th>\n",
       "      <td>1999-12-31</td>\n",
       "      <td>2022-11-25</td>\n",
       "      <td>8365 days</td>\n",
       "      <td>99.392783</td>\n",
       "      <td>227052.111026</td>\n",
       "      <td>228448.403110</td>\n",
       "      <td>2170.521110</td>\n",
       "      <td>1935.596547</td>\n",
       "      <td>14.627632</td>\n",
       "      <td>39.414557</td>\n",
       "      <td>...</td>\n",
       "      <td>2173.987914</td>\n",
       "      <td>2173.987914</td>\n",
       "      <td>8312 days</td>\n",
       "      <td>8312 days</td>\n",
       "      <td>NaN</td>\n",
       "      <td>2173.987914</td>\n",
       "      <td>NaN</td>\n",
       "      <td>NEAT_strategy</td>\n",
       "      <td>Equity  DrawdownPct Drawdow...</td>\n",
       "      <td>Size  EntryBar  ExitBar  EntryPrice   ExitP...</td>\n",
       "    </tr>\n",
       "    <tr>\n",
       "      <th>4</th>\n",
       "      <td>1999-12-31</td>\n",
       "      <td>2022-11-25</td>\n",
       "      <td>8365 days</td>\n",
       "      <td>99.392783</td>\n",
       "      <td>42192.194935</td>\n",
       "      <td>56873.182484</td>\n",
       "      <td>321.921949</td>\n",
       "      <td>276.741559</td>\n",
       "      <td>6.496399</td>\n",
       "      <td>40.575240</td>\n",
       "      <td>...</td>\n",
       "      <td>323.027778</td>\n",
       "      <td>323.027778</td>\n",
       "      <td>8312 days</td>\n",
       "      <td>8312 days</td>\n",
       "      <td>NaN</td>\n",
       "      <td>323.027778</td>\n",
       "      <td>NaN</td>\n",
       "      <td>NEAT_strategy</td>\n",
       "      <td>Equity  DrawdownPct Drawdown...</td>\n",
       "      <td>Size  EntryBar  ExitBar  EntryPrice   ExitP...</td>\n",
       "    </tr>\n",
       "  </tbody>\n",
       "</table>\n",
       "<p>5 rows × 30 columns</p>\n",
       "</div>"
      ],
      "text/plain": [
       "       Start        End  Duration  Exposure Time [%]  Equity Final [$]  \\\n",
       "0 2001-10-30 2022-11-25 7696 days          99.321523     212554.520030   \n",
       "1 2001-12-13 2022-11-25 7652 days          99.146919      35139.483898   \n",
       "2 1999-12-31 2022-11-25 8365 days          99.392783     125849.268963   \n",
       "3 1999-12-31 2022-11-25 8365 days          99.392783     227052.111026   \n",
       "4 1999-12-31 2022-11-25 8365 days          99.392783      42192.194935   \n",
       "\n",
       "   Equity Peak [$]   Return [%]  Buy & Hold Return [%]  Return (Ann.) [%]  \\\n",
       "0    228025.222575  2025.545200            2412.762671          15.623493   \n",
       "1     41215.142002   251.394839             267.815698           6.187652   \n",
       "2    148377.042538  1158.492690            1089.615406          11.708206   \n",
       "3    228448.403110  2170.521110            1935.596547          14.627632   \n",
       "4     56873.182484   321.921949             276.741559           6.496399   \n",
       "\n",
       "   Volatility (Ann.) [%]  ...  Worst Trade [%]  Avg. Trade [%]  \\\n",
       "0              36.573657  ...      2030.036541     2030.036541   \n",
       "1              48.827406  ...       251.559185      251.847698   \n",
       "2              41.410188  ...      1096.205479     1127.200453   \n",
       "3              39.414557  ...      2173.987914     2173.987914   \n",
       "4              40.575240  ...       323.027778      323.027778   \n",
       "\n",
       "   Max. Trade Duration  Avg. Trade Duration  Profit Factor Expectancy [%]  \\\n",
       "0            7645 days            7645 days            NaN    2030.036541   \n",
       "1            7583 days            7583 days            NaN     251.847817   \n",
       "2            8312 days            8279 days            NaN    1127.602010   \n",
       "3            8312 days            8312 days            NaN    2173.987914   \n",
       "4            8312 days            8312 days            NaN     323.027778   \n",
       "\n",
       "        SQN      _strategy                                      _equity_curve  \\\n",
       "0       NaN  NEAT_strategy                     Equity  DrawdownPct Drawdow...   \n",
       "1  1.006158  NEAT_strategy                    Equity  DrawdownPct Drawdown...   \n",
       "2  1.002085  NEAT_strategy                     Equity  DrawdownPct Drawdow...   \n",
       "3       NaN  NEAT_strategy                     Equity  DrawdownPct Drawdow...   \n",
       "4       NaN  NEAT_strategy                    Equity  DrawdownPct Drawdown...   \n",
       "\n",
       "                                             _trades  \n",
       "0     Size  EntryBar  ExitBar  EntryPrice   ExitP...  \n",
       "1     Size  EntryBar  ExitBar  EntryPrice   ExitP...  \n",
       "2     Size  EntryBar  ExitBar  EntryPrice  ExitPr...  \n",
       "3     Size  EntryBar  ExitBar  EntryPrice   ExitP...  \n",
       "4     Size  EntryBar  ExitBar  EntryPrice   ExitP...  \n",
       "\n",
       "[5 rows x 30 columns]"
      ]
     },
     "execution_count": 3,
     "metadata": {},
     "output_type": "execute_result"
    }
   ],
   "source": [
    "performances=pd.DataFrame(performances)\n",
    "performances"
   ]
  },
  {
   "cell_type": "code",
   "execution_count": null,
   "metadata": {},
   "outputs": [
    {
     "data": {
      "text/plain": [
       "Index(['Start', 'End', 'Duration', 'Exposure Time [%]', 'Equity Final [$]',\n",
       "       'Equity Peak [$]', 'Return [%]', 'Buy & Hold Return [%]',\n",
       "       'Return (Ann.) [%]', 'Volatility (Ann.) [%]', 'Sharpe Ratio',\n",
       "       'Sortino Ratio', 'Calmar Ratio', 'Max. Drawdown [%]',\n",
       "       'Avg. Drawdown [%]', 'Max. Drawdown Duration', 'Avg. Drawdown Duration',\n",
       "       '# Trades', 'Win Rate [%]', 'Best Trade [%]', 'Worst Trade [%]',\n",
       "       'Avg. Trade [%]', 'Max. Trade Duration', 'Avg. Trade Duration',\n",
       "       'Profit Factor', 'Expectancy [%]', 'SQN', '_strategy', '_equity_curve',\n",
       "       '_trades'],\n",
       "      dtype='object')"
      ]
     },
     "execution_count": 4,
     "metadata": {},
     "output_type": "execute_result"
    }
   ],
   "source": [
    "performances.columns"
   ]
  },
  {
   "cell_type": "code",
   "execution_count": null,
   "metadata": {},
   "outputs": [
    {
     "data": {
      "text/plain": [
       "<AxesSubplot:>"
      ]
     },
     "execution_count": 5,
     "metadata": {},
     "output_type": "execute_result"
    },
    {
     "data": {
      "image/png": "[encoded data removed]",
      "text/plain": [
       "<Figure size 432x288 with 1 Axes>"
      ]
     },
     "metadata": {
      "needs_background": "light"
     },
     "output_type": "display_data"
    }
   ],
   "source": [
    "performances[['Sharpe Ratio']].plot.box()"
   ]
  },
  {
   "cell_type": "code",
   "execution_count": null,
   "metadata": {},
   "outputs": [
    {
     "data": {
      "text/plain": [
       "<AxesSubplot:>"
      ]
     },
     "execution_count": 6,
     "metadata": {},
     "output_type": "execute_result"
    },
    {
     "data": {
      "image/png": "[encoded data removed]",
      "text/plain": [
       "<Figure size 432x288 with 1 Axes>"
      ]
     },
     "metadata": {
      "needs_background": "light"
     },
     "output_type": "display_data"
    }
   ],
   "source": [
    "performances[['SQN']].plot.box()"
   ]
  },
  {
   "cell_type": "code",
   "execution_count": null,
   "metadata": {},
   "outputs": [
    {
     "data": {
      "text/plain": [
       "<AxesSubplot:>"
      ]
     },
     "execution_count": 7,
     "metadata": {},
     "output_type": "execute_result"
    },
    {
     "data": {
      "image/png": "[encoded data removed]",
      "text/plain": [
       "<Figure size 432x288 with 1 Axes>"
      ]
     },
     "metadata": {
      "needs_background": "light"
     },
     "output_type": "display_data"
    }
   ],
   "source": [
    "performances[['Return [%]','Buy & Hold Return [%]']].plot.box()\n"
   ]
  },
  {
   "cell_type": "code",
   "execution_count": null,
   "metadata": {},
   "outputs": [
    {
     "data": {
      "text/plain": [
       "<AxesSubplot:>"
      ]
     },
     "execution_count": 8,
     "metadata": {},
     "output_type": "execute_result"
    },
    {
     "data": {
      "image/png": "[encoded data removed]",
      "text/plain": [
       "<Figure size 432x288 with 1 Axes>"
      ]
     },
     "metadata": {
      "needs_background": "light"
     },
     "output_type": "display_data"
    }
   ],
   "source": [
    "performances[['Exposure Time [%]']].plot.box()"
   ]
  },
  {
   "cell_type": "code",
   "execution_count": null,
   "metadata": {},
   "outputs": [
    {
     "data": {
      "text/plain": [
       "<AxesSubplot:>"
      ]
     },
     "execution_count": 9,
     "metadata": {},
     "output_type": "execute_result"
    },
    {
     "data": {
      "image/png": "[encoded data removed]",
      "text/plain": [
       "<Figure size 432x288 with 1 Axes>"
      ]
     },
     "metadata": {
      "needs_background": "light"
     },
     "output_type": "display_data"
    }
   ],
   "source": [
    "performances['_trades'][2]['Size'].plot.box()"
   ]
  },
  {
   "cell_type": "code",
   "execution_count": null,
   "metadata": {},
   "outputs": [
    {
     "data": {
      "text/plain": [
       "1196.506376203024"
      ]
     },
     "execution_count": 10,
     "metadata": {},
     "output_type": "execute_result"
    }
   ],
   "source": [
    "performances['Buy & Hold Return [%]'].mean()"
   ]
  },
  {
   "cell_type": "code",
   "execution_count": null,
   "metadata": {},
   "outputs": [
    {
     "ename": "RuntimeError",
     "evalue": "Expected 4 inputs, got 8",
     "output_type": "error",
     "traceback": [
      "\u001b[1;31m---------------------------------------------------------------------------\u001b[0m",
      "\u001b[1;31mRuntimeError\u001b[0m                              Traceback (most recent call last)",
      "\u001b[1;32mc:\\Users\\USER\\OneDrive - 國立陽明交通大學\\文件\\academic\\大四上\\演化計算\\Project\\main.ipynb 儲存格 12\u001b[0m in \u001b[0;36m<cell line: 1>\u001b[1;34m()\u001b[0m\n\u001b[1;32m----> <a href='vscode-notebook-cell:/c%3A/Users/USER/OneDrive%20-%20%E5%9C%8B%E7%AB%8B%E9%99%BD%E6%98%8E%E4%BA%A4%E9%80%9A%E5%A4%A7%E5%AD%B8/%E6%96%87%E4%BB%B6/academic/%E5%A4%A7%E5%9B%9B%E4%B8%8A/%E6%BC%94%E5%8C%96%E8%A8%88%E7%AE%97/Project/main.ipynb#W3sZmlsZQ%3D%3D?line=0'>1</a>\u001b[0m test(\u001b[39m'\u001b[39;49m\u001b[39mcheckpoint/1129_0032\u001b[39;49m\u001b[39m\\\u001b[39;49m\u001b[39mwinner/\u001b[39;49m\u001b[39m'\u001b[39;49m)\n",
      "File \u001b[1;32mc:\\Users\\USER\\OneDrive - 國立陽明交通大學\\文件\\academic\\大四上\\演化計算\\Project\\tool.py:217\u001b[0m, in \u001b[0;36mtest\u001b[1;34m(file_name, backtesting_data, plot)\u001b[0m\n\u001b[0;32m    215\u001b[0m \u001b[39m#print(backtesting_data)\u001b[39;00m\n\u001b[0;32m    216\u001b[0m net \u001b[39m=\u001b[39m neat\u001b[39m.\u001b[39mnn\u001b[39m.\u001b[39mFeedForwardNetwork\u001b[39m.\u001b[39mcreate(winner, config)\n\u001b[1;32m--> 217\u001b[0m performance, bt \u001b[39m=\u001b[39m backtest(net, backtesting_data)\n\u001b[0;32m    218\u001b[0m \u001b[39mif\u001b[39;00m plot:\n\u001b[0;32m    219\u001b[0m     \u001b[39mprint\u001b[39m(performance)\n",
      "File \u001b[1;32mc:\\Users\\USER\\OneDrive - 國立陽明交通大學\\文件\\academic\\大四上\\演化計算\\Project\\backtest.py:89\u001b[0m, in \u001b[0;36mbacktest\u001b[1;34m(model, data)\u001b[0m\n\u001b[0;32m     83\u001b[0m new_strategy\u001b[39m.\u001b[39mmodel \u001b[39m=\u001b[39m model\n\u001b[0;32m     86\u001b[0m bt \u001b[39m=\u001b[39m Backtest(data, new_strategy,\n\u001b[0;32m     87\u001b[0m               cash\u001b[39m=\u001b[39m\u001b[39m10000\u001b[39m, commission\u001b[39m=\u001b[39m\u001b[39m.002\u001b[39m,\n\u001b[0;32m     88\u001b[0m               )\n\u001b[1;32m---> 89\u001b[0m output \u001b[39m=\u001b[39m bt\u001b[39m.\u001b[39;49mrun()\n\u001b[0;32m     90\u001b[0m \u001b[39mreturn\u001b[39;00m output, bt\n",
      "File \u001b[1;32mc:\\Users\\USER\\AppData\\Local\\Programs\\Python\\Python310\\lib\\site-packages\\backtesting\\backtesting.py:1170\u001b[0m, in \u001b[0;36mBacktest.run\u001b[1;34m(self, **kwargs)\u001b[0m\n\u001b[0;32m   1167\u001b[0m         \u001b[39mbreak\u001b[39;00m\n\u001b[0;32m   1169\u001b[0m     \u001b[39m# Next tick, a moment before bar close\u001b[39;00m\n\u001b[1;32m-> 1170\u001b[0m     strategy\u001b[39m.\u001b[39;49mnext()\n\u001b[0;32m   1171\u001b[0m \u001b[39melse\u001b[39;00m:\n\u001b[0;32m   1172\u001b[0m     \u001b[39m# Close any remaining open trades so they produce some stats\u001b[39;00m\n\u001b[0;32m   1173\u001b[0m     \u001b[39mfor\u001b[39;00m trade \u001b[39min\u001b[39;00m broker\u001b[39m.\u001b[39mtrades:\n",
      "File \u001b[1;32mc:\\Users\\USER\\OneDrive - 國立陽明交通大學\\文件\\academic\\大四上\\演化計算\\Project\\backtest.py:32\u001b[0m, in \u001b[0;36mNEAT_strategy.next\u001b[1;34m(self)\u001b[0m\n\u001b[0;32m     30\u001b[0m \u001b[39minput\u001b[39m \u001b[39m=\u001b[39m \u001b[39mself\u001b[39m\u001b[39m.\u001b[39mdata_preprocessed()\n\u001b[0;32m     31\u001b[0m \u001b[39m#print(input)\u001b[39;00m\n\u001b[1;32m---> 32\u001b[0m trade, vol \u001b[39m=\u001b[39m \u001b[39mself\u001b[39;49m\u001b[39m.\u001b[39;49mmodel\u001b[39m.\u001b[39;49mactivate(\u001b[39minput\u001b[39;49m)\n\u001b[0;32m     33\u001b[0m vol \u001b[39m=\u001b[39m \u001b[39mabs\u001b[39m(vol)\n\u001b[0;32m     34\u001b[0m \u001b[39mif\u001b[39;00m vol\u001b[39m>\u001b[39m\u001b[39m=\u001b[39m\u001b[39m1\u001b[39m:\n",
      "File \u001b[1;32mc:\\Users\\USER\\AppData\\Local\\Programs\\Python\\Python310\\lib\\site-packages\\neat\\nn\\feed_forward.py:14\u001b[0m, in \u001b[0;36mFeedForwardNetwork.activate\u001b[1;34m(self, inputs)\u001b[0m\n\u001b[0;32m     12\u001b[0m \u001b[39mdef\u001b[39;00m \u001b[39mactivate\u001b[39m(\u001b[39mself\u001b[39m, inputs):\n\u001b[0;32m     13\u001b[0m     \u001b[39mif\u001b[39;00m \u001b[39mlen\u001b[39m(\u001b[39mself\u001b[39m\u001b[39m.\u001b[39minput_nodes) \u001b[39m!=\u001b[39m \u001b[39mlen\u001b[39m(inputs):\n\u001b[1;32m---> 14\u001b[0m         \u001b[39mraise\u001b[39;00m \u001b[39mRuntimeError\u001b[39;00m(\u001b[39m\"\u001b[39m\u001b[39mExpected \u001b[39m\u001b[39m{0:n}\u001b[39;00m\u001b[39m inputs, got \u001b[39m\u001b[39m{1:n}\u001b[39;00m\u001b[39m\"\u001b[39m\u001b[39m.\u001b[39mformat(\u001b[39mlen\u001b[39m(\u001b[39mself\u001b[39m\u001b[39m.\u001b[39minput_nodes), \u001b[39mlen\u001b[39m(inputs)))\n\u001b[0;32m     16\u001b[0m     \u001b[39mfor\u001b[39;00m k, v \u001b[39min\u001b[39;00m \u001b[39mzip\u001b[39m(\u001b[39mself\u001b[39m\u001b[39m.\u001b[39minput_nodes, inputs):\n\u001b[0;32m     17\u001b[0m         \u001b[39mself\u001b[39m\u001b[39m.\u001b[39mvalues[k] \u001b[39m=\u001b[39m v\n",
      "\u001b[1;31mRuntimeError\u001b[0m: Expected 4 inputs, got 8"
     ]
    }
   ],
   "source": [
    "test('checkpoint/1129_0032\\winner/')"
   ]
  }
 ],
 "metadata": {
  "kernelspec": {
   "display_name": "Python 3",
   "language": "python",
   "name": "python3"
  },
  "language_info": {
   "codemirror_mode": {
    "name": "ipython",
    "version": 3
   },
   "file_extension": ".py",
   "mimetype": "text/x-python",
   "name": "python",
   "nbconvert_exporter": "python",
   "pygments_lexer": "ipython3",
   "version": "3.10.11"
  },
  "orig_nbformat": 4
 },
 "nbformat": 4,
 "nbformat_minor": 2
}
